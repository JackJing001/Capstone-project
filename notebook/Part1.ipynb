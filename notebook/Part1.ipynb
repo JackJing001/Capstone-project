{
 "cells": [
  {
   "cell_type": "code",
   "execution_count": 1,
   "id": "98ad7c10",
   "metadata": {},
   "outputs": [],
   "source": [
    "import os\n",
    "import io\n",
    "import json\n",
    "import re\n",
    "from tqdm import tqdm\n",
    "import pandas as pd\n",
    "import numpy as np\n",
    "import torch"
   ]
  },
  {
   "cell_type": "code",
   "execution_count": 2,
   "id": "0a90702a",
   "metadata": {},
   "outputs": [],
   "source": [
    "from sentence_transformers import SentenceTransformer"
   ]
  },
  {
   "cell_type": "code",
   "execution_count": 3,
   "id": "49c61392",
   "metadata": {},
   "outputs": [
    {
     "name": "stdout",
     "output_type": "stream",
     "text": [
      "1.10.0\n"
     ]
    }
   ],
   "source": [
    "print(torch.__version__)"
   ]
  },
  {
   "cell_type": "code",
   "execution_count": 4,
   "id": "7b54a958",
   "metadata": {},
   "outputs": [
    {
     "name": "stdout",
     "output_type": "stream",
     "text": [
      "Cuda Device Available\n",
      "Name of the Cuda Device:  GeForce GTX 1660 Ti\n",
      "GPU Computational Capablity:  (7, 5)\n"
     ]
    }
   ],
   "source": [
    "if torch.cuda.is_available():\n",
    "  device = torch.device(\"cuda:0\")\n",
    "  print(\"Cuda Device Available\")\n",
    "  print(\"Name of the Cuda Device: \", torch.cuda.get_device_name())\n",
    "  print(\"GPU Computational Capablity: \", torch.cuda.get_device_capability())"
   ]
  },
  {
   "cell_type": "code",
   "execution_count": 26,
   "id": "d947bc15",
   "metadata": {},
   "outputs": [
    {
     "name": "stdout",
     "output_type": "stream",
     "text": [
      "cuda\n"
     ]
    }
   ],
   "source": [
    "device = torch.device(\"cuda\")\n",
    "print(device)"
   ]
  },
  {
   "cell_type": "code",
   "execution_count": 6,
   "id": "f3e56b00",
   "metadata": {},
   "outputs": [],
   "source": [
    "df = pd.read_pickle('../dataset/SS/clean/filtered_data.pkl')"
   ]
  },
  {
   "cell_type": "code",
   "execution_count": 7,
   "id": "1cc96ca2",
   "metadata": {},
   "outputs": [
    {
     "data": {
      "text/html": [
       "<div>\n",
       "<style scoped>\n",
       "    .dataframe tbody tr th:only-of-type {\n",
       "        vertical-align: middle;\n",
       "    }\n",
       "\n",
       "    .dataframe tbody tr th {\n",
       "        vertical-align: top;\n",
       "    }\n",
       "\n",
       "    .dataframe thead th {\n",
       "        text-align: right;\n",
       "    }\n",
       "</style>\n",
       "<table border=\"1\" class=\"dataframe\">\n",
       "  <thead>\n",
       "    <tr style=\"text-align: right;\">\n",
       "      <th></th>\n",
       "      <th>title</th>\n",
       "      <th>abstract</th>\n",
       "      <th>full_text</th>\n",
       "      <th>body_text</th>\n",
       "      <th>related_work_text</th>\n",
       "      <th>related_work_pairs</th>\n",
       "      <th>body_pairs</th>\n",
       "    </tr>\n",
       "    <tr>\n",
       "      <th>paper_id</th>\n",
       "      <th></th>\n",
       "      <th></th>\n",
       "      <th></th>\n",
       "      <th></th>\n",
       "      <th></th>\n",
       "      <th></th>\n",
       "      <th></th>\n",
       "    </tr>\n",
       "  </thead>\n",
       "  <tbody>\n",
       "    <tr>\n",
       "      <th>214802675</th>\n",
       "      <td>Machine Translation Pre-training for Data-to-T...</td>\n",
       "      <td>While there is a large body of research studyi...</td>\n",
       "      <td>While there is a large body of research studyi...</td>\n",
       "      <td>Data-to-Text refers to the process of generati...</td>\n",
       "      <td>Earlier work on NLG was mainly studied rulebas...</td>\n",
       "      <td>{'739696': 'Earlier work on NLG was mainly stu...</td>\n",
       "      <td>{'16946362': 'Data-to-Text refers to the proce...</td>\n",
       "    </tr>\n",
       "    <tr>\n",
       "      <th>859921</th>\n",
       "      <td>Summarizing Reviews with Variable-length Synta...</td>\n",
       "      <td>Abstract. We present a novel summarization fra...</td>\n",
       "      <td>Abstract. We present a novel summarization fra...</td>\n",
       "      <td>Online reviews of products and services are an...</td>\n",
       "      <td>We first look at how text excerpts are extract...</td>\n",
       "      <td>{'2481864': 'Different forms of the excerpts i...</td>\n",
       "      <td>{'13908471': 'Many automatic systems were buil...</td>\n",
       "    </tr>\n",
       "    <tr>\n",
       "      <th>129124</th>\n",
       "      <td>Can Document Selection Help Semi-supervised Le...</td>\n",
       "      <td>Annotating training data for event extraction ...</td>\n",
       "      <td>Annotating training data for event extraction ...</td>\n",
       "      <td>The goal of event extraction is to identify in...</td>\n",
       "      <td>Self-training has been applied to several natu...</td>\n",
       "      <td>{'15894892': 'For event extraction, there are ...</td>\n",
       "      <td>{'15134572': 'We use a state-of-the-art Englis...</td>\n",
       "    </tr>\n",
       "    <tr>\n",
       "      <th>16102392</th>\n",
       "      <td>Understanding Diversity – The Impact of Person...</td>\n",
       "      <td>Technology is becoming increasingly automated,...</td>\n",
       "      <td>Technology is becoming increasingly automated,...</td>\n",
       "      <td>On the one hand, many people publish and discu...</td>\n",
       "      <td>The effect of personality on technology accept...</td>\n",
       "      <td>{'6742907': 'Especially, the use of social net...</td>\n",
       "      <td>{'14580473': 'In the beginning, research on te...</td>\n",
       "    </tr>\n",
       "    <tr>\n",
       "      <th>7205083</th>\n",
       "      <td>Overcoming bias to learn about controversial t...</td>\n",
       "      <td>Deciding whether a claim is true or false ofte...</td>\n",
       "      <td>Deciding whether a claim is true or false ofte...</td>\n",
       "      <td>The World Wide Web has become one of the prima...</td>\n",
       "      <td>Understanding which documents people read is r...</td>\n",
       "      <td>{'154693902': 'Researchers have studied variou...</td>\n",
       "      <td>{'143523312': 'Cognitive biases and their effe...</td>\n",
       "    </tr>\n",
       "  </tbody>\n",
       "</table>\n",
       "</div>"
      ],
      "text/plain": [
       "                                                       title  \\\n",
       "paper_id                                                       \n",
       "214802675  Machine Translation Pre-training for Data-to-T...   \n",
       "859921     Summarizing Reviews with Variable-length Synta...   \n",
       "129124     Can Document Selection Help Semi-supervised Le...   \n",
       "16102392   Understanding Diversity – The Impact of Person...   \n",
       "7205083    Overcoming bias to learn about controversial t...   \n",
       "\n",
       "                                                    abstract  \\\n",
       "paper_id                                                       \n",
       "214802675  While there is a large body of research studyi...   \n",
       "859921     Abstract. We present a novel summarization fra...   \n",
       "129124     Annotating training data for event extraction ...   \n",
       "16102392   Technology is becoming increasingly automated,...   \n",
       "7205083    Deciding whether a claim is true or false ofte...   \n",
       "\n",
       "                                                   full_text  \\\n",
       "paper_id                                                       \n",
       "214802675  While there is a large body of research studyi...   \n",
       "859921     Abstract. We present a novel summarization fra...   \n",
       "129124     Annotating training data for event extraction ...   \n",
       "16102392   Technology is becoming increasingly automated,...   \n",
       "7205083    Deciding whether a claim is true or false ofte...   \n",
       "\n",
       "                                                   body_text  \\\n",
       "paper_id                                                       \n",
       "214802675  Data-to-Text refers to the process of generati...   \n",
       "859921     Online reviews of products and services are an...   \n",
       "129124     The goal of event extraction is to identify in...   \n",
       "16102392   On the one hand, many people publish and discu...   \n",
       "7205083    The World Wide Web has become one of the prima...   \n",
       "\n",
       "                                           related_work_text  \\\n",
       "paper_id                                                       \n",
       "214802675  Earlier work on NLG was mainly studied rulebas...   \n",
       "859921     We first look at how text excerpts are extract...   \n",
       "129124     Self-training has been applied to several natu...   \n",
       "16102392   The effect of personality on technology accept...   \n",
       "7205083    Understanding which documents people read is r...   \n",
       "\n",
       "                                          related_work_pairs  \\\n",
       "paper_id                                                       \n",
       "214802675  {'739696': 'Earlier work on NLG was mainly stu...   \n",
       "859921     {'2481864': 'Different forms of the excerpts i...   \n",
       "129124     {'15894892': 'For event extraction, there are ...   \n",
       "16102392   {'6742907': 'Especially, the use of social net...   \n",
       "7205083    {'154693902': 'Researchers have studied variou...   \n",
       "\n",
       "                                                  body_pairs  \n",
       "paper_id                                                      \n",
       "214802675  {'16946362': 'Data-to-Text refers to the proce...  \n",
       "859921     {'13908471': 'Many automatic systems were buil...  \n",
       "129124     {'15134572': 'We use a state-of-the-art Englis...  \n",
       "16102392   {'14580473': 'In the beginning, research on te...  \n",
       "7205083    {'143523312': 'Cognitive biases and their effe...  "
      ]
     },
     "execution_count": 7,
     "metadata": {},
     "output_type": "execute_result"
    }
   ],
   "source": [
    "df.head()"
   ]
  },
  {
   "cell_type": "code",
   "execution_count": 8,
   "id": "f0d75881",
   "metadata": {},
   "outputs": [
    {
     "data": {
      "text/plain": [
       "(22866, 7)"
      ]
     },
     "execution_count": 8,
     "metadata": {},
     "output_type": "execute_result"
    }
   ],
   "source": [
    "df.shape"
   ]
  },
  {
   "cell_type": "markdown",
   "id": "76c3fa77",
   "metadata": {},
   "source": [
    "# Document embedding using Bert pre-trained model"
   ]
  },
  {
   "cell_type": "code",
   "execution_count": 10,
   "id": "c2a86fc0",
   "metadata": {},
   "outputs": [
    {
     "data": {
      "application/vnd.jupyter.widget-view+json": {
       "model_id": "55b18a64e3194a32a2f7fe704ed5449a",
       "version_major": 2,
       "version_minor": 0
      },
      "text/plain": [
       "Downloading:   0%|          | 0.00/391 [00:00<?, ?B/s]"
      ]
     },
     "metadata": {},
     "output_type": "display_data"
    },
    {
     "data": {
      "application/vnd.jupyter.widget-view+json": {
       "model_id": "39320a8c0322470fbd9fa90fe08f51f2",
       "version_major": 2,
       "version_minor": 0
      },
      "text/plain": [
       "Downloading:   0%|          | 0.00/3.95k [00:00<?, ?B/s]"
      ]
     },
     "metadata": {},
     "output_type": "display_data"
    },
    {
     "data": {
      "application/vnd.jupyter.widget-view+json": {
       "model_id": "b8da912c775e4bf6a07c92b7ea6f8c87",
       "version_major": 2,
       "version_minor": 0
      },
      "text/plain": [
       "Downloading:   0%|          | 0.00/2.00 [00:00<?, ?B/s]"
      ]
     },
     "metadata": {},
     "output_type": "display_data"
    },
    {
     "data": {
      "application/vnd.jupyter.widget-view+json": {
       "model_id": "c3a809d6080d48a6a1e190e87345481e",
       "version_major": 2,
       "version_minor": 0
      },
      "text/plain": [
       "Downloading:   0%|          | 0.00/625 [00:00<?, ?B/s]"
      ]
     },
     "metadata": {},
     "output_type": "display_data"
    },
    {
     "data": {
      "application/vnd.jupyter.widget-view+json": {
       "model_id": "f8d1272f615f4e47875a5b8eccda4f65",
       "version_major": 2,
       "version_minor": 0
      },
      "text/plain": [
       "Downloading:   0%|          | 0.00/122 [00:00<?, ?B/s]"
      ]
     },
     "metadata": {},
     "output_type": "display_data"
    },
    {
     "data": {
      "application/vnd.jupyter.widget-view+json": {
       "model_id": "17661fa84dbf4c48a60d4d2313384313",
       "version_major": 2,
       "version_minor": 0
      },
      "text/plain": [
       "Downloading:   0%|          | 0.00/229 [00:00<?, ?B/s]"
      ]
     },
     "metadata": {},
     "output_type": "display_data"
    },
    {
     "data": {
      "application/vnd.jupyter.widget-view+json": {
       "model_id": "388ee41977d94bc4a0f4e8637b8d7095",
       "version_major": 2,
       "version_minor": 0
      },
      "text/plain": [
       "Downloading:   0%|          | 0.00/438M [00:00<?, ?B/s]"
      ]
     },
     "metadata": {},
     "output_type": "display_data"
    },
    {
     "data": {
      "application/vnd.jupyter.widget-view+json": {
       "model_id": "060475a02500438983b81690510b0c3c",
       "version_major": 2,
       "version_minor": 0
      },
      "text/plain": [
       "Downloading:   0%|          | 0.00/53.0 [00:00<?, ?B/s]"
      ]
     },
     "metadata": {},
     "output_type": "display_data"
    },
    {
     "data": {
      "application/vnd.jupyter.widget-view+json": {
       "model_id": "16abd3904c974f189c49fef65bb10b23",
       "version_major": 2,
       "version_minor": 0
      },
      "text/plain": [
       "Downloading:   0%|          | 0.00/112 [00:00<?, ?B/s]"
      ]
     },
     "metadata": {},
     "output_type": "display_data"
    },
    {
     "data": {
      "application/vnd.jupyter.widget-view+json": {
       "model_id": "2636212d78684287a3c086be68b0a2b2",
       "version_major": 2,
       "version_minor": 0
      },
      "text/plain": [
       "Downloading:   0%|          | 0.00/466k [00:00<?, ?B/s]"
      ]
     },
     "metadata": {},
     "output_type": "display_data"
    },
    {
     "data": {
      "application/vnd.jupyter.widget-view+json": {
       "model_id": "8ff3199b4e994af6b64662167db93bb6",
       "version_major": 2,
       "version_minor": 0
      },
      "text/plain": [
       "Downloading:   0%|          | 0.00/399 [00:00<?, ?B/s]"
      ]
     },
     "metadata": {},
     "output_type": "display_data"
    },
    {
     "data": {
      "application/vnd.jupyter.widget-view+json": {
       "model_id": "568b6dfc2cde4f8f95e74fbfb4534d75",
       "version_major": 2,
       "version_minor": 0
      },
      "text/plain": [
       "Downloading:   0%|          | 0.00/232k [00:00<?, ?B/s]"
      ]
     },
     "metadata": {},
     "output_type": "display_data"
    },
    {
     "data": {
      "application/vnd.jupyter.widget-view+json": {
       "model_id": "e6c9c73dd38f4a80bc59bfd8f8c93666",
       "version_major": 2,
       "version_minor": 0
      },
      "text/plain": [
       "Downloading:   0%|          | 0.00/190 [00:00<?, ?B/s]"
      ]
     },
     "metadata": {},
     "output_type": "display_data"
    }
   ],
   "source": [
    "#Load pre-trained BERT model\n",
    "sbert_model = SentenceTransformer('bert-base-nli-mean-tokens')\n",
    "\n",
    "#Change the length\n",
    "sbert_model.max_seq_length = 250"
   ]
  },
  {
   "cell_type": "code",
   "execution_count": 14,
   "id": "3b69488a",
   "metadata": {},
   "outputs": [],
   "source": [
    "#Generate embeddings from text\n",
    "document_embeddings_abs = sbert_model.encode(df['abstract'].values)"
   ]
  },
  {
   "cell_type": "code",
   "execution_count": 15,
   "id": "28965506",
   "metadata": {},
   "outputs": [
    {
     "data": {
      "text/plain": [
       "(22866, 768)"
      ]
     },
     "execution_count": 15,
     "metadata": {},
     "output_type": "execute_result"
    }
   ],
   "source": [
    "document_embeddings_abs.shape"
   ]
  },
  {
   "cell_type": "code",
   "execution_count": 16,
   "id": "6c1b3c0c",
   "metadata": {},
   "outputs": [],
   "source": [
    "#Store embeddings in a dataframe column\n",
    "df['BERT_embeddings'] = ''\n",
    "\n",
    "for i in range(len(document_embeddings_abs)):\n",
    "    df['BERT_embeddings'].iloc[i] = document_embeddings_abs[i, :]"
   ]
  },
  {
   "cell_type": "code",
   "execution_count": 21,
   "id": "e20e4d18",
   "metadata": {},
   "outputs": [],
   "source": [
    "df = df.loc[:, [\"title\", \"abstract\", \"related_work_pairs\", \"body_pairs\", \"BERT_embeddings\"]]"
   ]
  },
  {
   "cell_type": "code",
   "execution_count": 49,
   "id": "132dcefa",
   "metadata": {},
   "outputs": [
    {
     "data": {
      "text/html": [
       "<div>\n",
       "<style scoped>\n",
       "    .dataframe tbody tr th:only-of-type {\n",
       "        vertical-align: middle;\n",
       "    }\n",
       "\n",
       "    .dataframe tbody tr th {\n",
       "        vertical-align: top;\n",
       "    }\n",
       "\n",
       "    .dataframe thead th {\n",
       "        text-align: right;\n",
       "    }\n",
       "</style>\n",
       "<table border=\"1\" class=\"dataframe\">\n",
       "  <thead>\n",
       "    <tr style=\"text-align: right;\">\n",
       "      <th></th>\n",
       "      <th>title</th>\n",
       "      <th>abstract</th>\n",
       "      <th>related_work_pairs</th>\n",
       "      <th>body_pairs</th>\n",
       "      <th>BERT_embeddings</th>\n",
       "    </tr>\n",
       "    <tr>\n",
       "      <th>paper_id</th>\n",
       "      <th></th>\n",
       "      <th></th>\n",
       "      <th></th>\n",
       "      <th></th>\n",
       "      <th></th>\n",
       "    </tr>\n",
       "  </thead>\n",
       "  <tbody>\n",
       "    <tr>\n",
       "      <th>214802675</th>\n",
       "      <td>Machine Translation Pre-training for Data-to-T...</td>\n",
       "      <td>While there is a large body of research studyi...</td>\n",
       "      <td>{'739696': 'Earlier work on NLG was mainly stu...</td>\n",
       "      <td>{'16946362': 'Data-to-Text refers to the proce...</td>\n",
       "      <td>[-0.89564645, 0.8250809, 0.20701012, 0.2086090...</td>\n",
       "    </tr>\n",
       "    <tr>\n",
       "      <th>859921</th>\n",
       "      <td>Summarizing Reviews with Variable-length Synta...</td>\n",
       "      <td>Abstract. We present a novel summarization fra...</td>\n",
       "      <td>{'2481864': 'Different forms of the excerpts i...</td>\n",
       "      <td>{'13908471': 'Many automatic systems were buil...</td>\n",
       "      <td>[-0.5633038, 0.9584747, 0.4700373, 0.031486005...</td>\n",
       "    </tr>\n",
       "    <tr>\n",
       "      <th>129124</th>\n",
       "      <td>Can Document Selection Help Semi-supervised Le...</td>\n",
       "      <td>Annotating training data for event extraction ...</td>\n",
       "      <td>{'15894892': 'For event extraction, there are ...</td>\n",
       "      <td>{'15134572': 'We use a state-of-the-art Englis...</td>\n",
       "      <td>[-0.61391443, 0.5914316, 0.24405357, 0.4846297...</td>\n",
       "    </tr>\n",
       "    <tr>\n",
       "      <th>16102392</th>\n",
       "      <td>Understanding Diversity – The Impact of Person...</td>\n",
       "      <td>Technology is becoming increasingly automated,...</td>\n",
       "      <td>{'6742907': 'Especially, the use of social net...</td>\n",
       "      <td>{'14580473': 'In the beginning, research on te...</td>\n",
       "      <td>[-0.4477767, 0.46768314, 1.118528, 0.33247223,...</td>\n",
       "    </tr>\n",
       "    <tr>\n",
       "      <th>7205083</th>\n",
       "      <td>Overcoming bias to learn about controversial t...</td>\n",
       "      <td>Deciding whether a claim is true or false ofte...</td>\n",
       "      <td>{'154693902': 'Researchers have studied variou...</td>\n",
       "      <td>{'143523312': 'Cognitive biases and their effe...</td>\n",
       "      <td>[-0.110704, 0.6546117, 0.49069276, 0.3391293, ...</td>\n",
       "    </tr>\n",
       "  </tbody>\n",
       "</table>\n",
       "</div>"
      ],
      "text/plain": [
       "                                                       title  \\\n",
       "paper_id                                                       \n",
       "214802675  Machine Translation Pre-training for Data-to-T...   \n",
       "859921     Summarizing Reviews with Variable-length Synta...   \n",
       "129124     Can Document Selection Help Semi-supervised Le...   \n",
       "16102392   Understanding Diversity – The Impact of Person...   \n",
       "7205083    Overcoming bias to learn about controversial t...   \n",
       "\n",
       "                                                    abstract  \\\n",
       "paper_id                                                       \n",
       "214802675  While there is a large body of research studyi...   \n",
       "859921     Abstract. We present a novel summarization fra...   \n",
       "129124     Annotating training data for event extraction ...   \n",
       "16102392   Technology is becoming increasingly automated,...   \n",
       "7205083    Deciding whether a claim is true or false ofte...   \n",
       "\n",
       "                                          related_work_pairs  \\\n",
       "paper_id                                                       \n",
       "214802675  {'739696': 'Earlier work on NLG was mainly stu...   \n",
       "859921     {'2481864': 'Different forms of the excerpts i...   \n",
       "129124     {'15894892': 'For event extraction, there are ...   \n",
       "16102392   {'6742907': 'Especially, the use of social net...   \n",
       "7205083    {'154693902': 'Researchers have studied variou...   \n",
       "\n",
       "                                                  body_pairs  \\\n",
       "paper_id                                                       \n",
       "214802675  {'16946362': 'Data-to-Text refers to the proce...   \n",
       "859921     {'13908471': 'Many automatic systems were buil...   \n",
       "129124     {'15134572': 'We use a state-of-the-art Englis...   \n",
       "16102392   {'14580473': 'In the beginning, research on te...   \n",
       "7205083    {'143523312': 'Cognitive biases and their effe...   \n",
       "\n",
       "                                             BERT_embeddings  \n",
       "paper_id                                                      \n",
       "214802675  [-0.89564645, 0.8250809, 0.20701012, 0.2086090...  \n",
       "859921     [-0.5633038, 0.9584747, 0.4700373, 0.031486005...  \n",
       "129124     [-0.61391443, 0.5914316, 0.24405357, 0.4846297...  \n",
       "16102392   [-0.4477767, 0.46768314, 1.118528, 0.33247223,...  \n",
       "7205083    [-0.110704, 0.6546117, 0.49069276, 0.3391293, ...  "
      ]
     },
     "execution_count": 49,
     "metadata": {},
     "output_type": "execute_result"
    }
   ],
   "source": [
    "df.head()"
   ]
  },
  {
   "cell_type": "code",
   "execution_count": 56,
   "id": "302960b1",
   "metadata": {},
   "outputs": [
    {
     "data": {
      "text/plain": [
       "(22866, 5)"
      ]
     },
     "execution_count": 56,
     "metadata": {},
     "output_type": "execute_result"
    }
   ],
   "source": [
    "df.shape"
   ]
  },
  {
   "cell_type": "code",
   "execution_count": 23,
   "id": "8c0e87b8",
   "metadata": {},
   "outputs": [],
   "source": [
    "# df.to_pickle('../dataset/SS/clean/bert_embeddings.pkl')"
   ]
  },
  {
   "cell_type": "markdown",
   "id": "39a8f038",
   "metadata": {},
   "source": [
    "# Cosine similarity"
   ]
  },
  {
   "cell_type": "code",
   "execution_count": 2,
   "id": "b29f56a6",
   "metadata": {},
   "outputs": [],
   "source": [
    "df = pd.read_pickle('../dataset/SS/clean/bert_embeddings.pkl')"
   ]
  },
  {
   "cell_type": "code",
   "execution_count": 3,
   "id": "d00ba1ec",
   "metadata": {},
   "outputs": [
    {
     "data": {
      "text/html": [
       "<div>\n",
       "<style scoped>\n",
       "    .dataframe tbody tr th:only-of-type {\n",
       "        vertical-align: middle;\n",
       "    }\n",
       "\n",
       "    .dataframe tbody tr th {\n",
       "        vertical-align: top;\n",
       "    }\n",
       "\n",
       "    .dataframe thead th {\n",
       "        text-align: right;\n",
       "    }\n",
       "</style>\n",
       "<table border=\"1\" class=\"dataframe\">\n",
       "  <thead>\n",
       "    <tr style=\"text-align: right;\">\n",
       "      <th></th>\n",
       "      <th>title</th>\n",
       "      <th>abstract</th>\n",
       "      <th>related_work_pairs</th>\n",
       "      <th>body_pairs</th>\n",
       "      <th>BERT_embeddings</th>\n",
       "    </tr>\n",
       "    <tr>\n",
       "      <th>paper_id</th>\n",
       "      <th></th>\n",
       "      <th></th>\n",
       "      <th></th>\n",
       "      <th></th>\n",
       "      <th></th>\n",
       "    </tr>\n",
       "  </thead>\n",
       "  <tbody>\n",
       "    <tr>\n",
       "      <th>214802675</th>\n",
       "      <td>Machine Translation Pre-training for Data-to-T...</td>\n",
       "      <td>While there is a large body of research studyi...</td>\n",
       "      <td>{'739696': 'Earlier work on NLG was mainly stu...</td>\n",
       "      <td>{'16946362': 'Data-to-Text refers to the proce...</td>\n",
       "      <td>[-0.89564645, 0.8250809, 0.20701012, 0.2086090...</td>\n",
       "    </tr>\n",
       "    <tr>\n",
       "      <th>859921</th>\n",
       "      <td>Summarizing Reviews with Variable-length Synta...</td>\n",
       "      <td>Abstract. We present a novel summarization fra...</td>\n",
       "      <td>{'2481864': 'Different forms of the excerpts i...</td>\n",
       "      <td>{'13908471': 'Many automatic systems were buil...</td>\n",
       "      <td>[-0.5633038, 0.9584747, 0.4700373, 0.031486005...</td>\n",
       "    </tr>\n",
       "    <tr>\n",
       "      <th>129124</th>\n",
       "      <td>Can Document Selection Help Semi-supervised Le...</td>\n",
       "      <td>Annotating training data for event extraction ...</td>\n",
       "      <td>{'15894892': 'For event extraction, there are ...</td>\n",
       "      <td>{'15134572': 'We use a state-of-the-art Englis...</td>\n",
       "      <td>[-0.61391443, 0.5914316, 0.24405357, 0.4846297...</td>\n",
       "    </tr>\n",
       "    <tr>\n",
       "      <th>16102392</th>\n",
       "      <td>Understanding Diversity – The Impact of Person...</td>\n",
       "      <td>Technology is becoming increasingly automated,...</td>\n",
       "      <td>{'6742907': 'Especially, the use of social net...</td>\n",
       "      <td>{'14580473': 'In the beginning, research on te...</td>\n",
       "      <td>[-0.4477767, 0.46768314, 1.118528, 0.33247223,...</td>\n",
       "    </tr>\n",
       "    <tr>\n",
       "      <th>7205083</th>\n",
       "      <td>Overcoming bias to learn about controversial t...</td>\n",
       "      <td>Deciding whether a claim is true or false ofte...</td>\n",
       "      <td>{'154693902': 'Researchers have studied variou...</td>\n",
       "      <td>{'143523312': 'Cognitive biases and their effe...</td>\n",
       "      <td>[-0.110704, 0.6546117, 0.49069276, 0.3391293, ...</td>\n",
       "    </tr>\n",
       "  </tbody>\n",
       "</table>\n",
       "</div>"
      ],
      "text/plain": [
       "                                                       title  \\\n",
       "paper_id                                                       \n",
       "214802675  Machine Translation Pre-training for Data-to-T...   \n",
       "859921     Summarizing Reviews with Variable-length Synta...   \n",
       "129124     Can Document Selection Help Semi-supervised Le...   \n",
       "16102392   Understanding Diversity – The Impact of Person...   \n",
       "7205083    Overcoming bias to learn about controversial t...   \n",
       "\n",
       "                                                    abstract  \\\n",
       "paper_id                                                       \n",
       "214802675  While there is a large body of research studyi...   \n",
       "859921     Abstract. We present a novel summarization fra...   \n",
       "129124     Annotating training data for event extraction ...   \n",
       "16102392   Technology is becoming increasingly automated,...   \n",
       "7205083    Deciding whether a claim is true or false ofte...   \n",
       "\n",
       "                                          related_work_pairs  \\\n",
       "paper_id                                                       \n",
       "214802675  {'739696': 'Earlier work on NLG was mainly stu...   \n",
       "859921     {'2481864': 'Different forms of the excerpts i...   \n",
       "129124     {'15894892': 'For event extraction, there are ...   \n",
       "16102392   {'6742907': 'Especially, the use of social net...   \n",
       "7205083    {'154693902': 'Researchers have studied variou...   \n",
       "\n",
       "                                                  body_pairs  \\\n",
       "paper_id                                                       \n",
       "214802675  {'16946362': 'Data-to-Text refers to the proce...   \n",
       "859921     {'13908471': 'Many automatic systems were buil...   \n",
       "129124     {'15134572': 'We use a state-of-the-art Englis...   \n",
       "16102392   {'14580473': 'In the beginning, research on te...   \n",
       "7205083    {'143523312': 'Cognitive biases and their effe...   \n",
       "\n",
       "                                             BERT_embeddings  \n",
       "paper_id                                                      \n",
       "214802675  [-0.89564645, 0.8250809, 0.20701012, 0.2086090...  \n",
       "859921     [-0.5633038, 0.9584747, 0.4700373, 0.031486005...  \n",
       "129124     [-0.61391443, 0.5914316, 0.24405357, 0.4846297...  \n",
       "16102392   [-0.4477767, 0.46768314, 1.118528, 0.33247223,...  \n",
       "7205083    [-0.110704, 0.6546117, 0.49069276, 0.3391293, ...  "
      ]
     },
     "execution_count": 3,
     "metadata": {},
     "output_type": "execute_result"
    }
   ],
   "source": [
    "df.head()"
   ]
  },
  {
   "cell_type": "code",
   "execution_count": 4,
   "id": "2996eff0",
   "metadata": {},
   "outputs": [],
   "source": [
    "from sklearn.metrics.pairwise import cosine_similarity"
   ]
  },
  {
   "cell_type": "code",
   "execution_count": 6,
   "id": "142fc23d",
   "metadata": {},
   "outputs": [
    {
     "name": "stdout",
     "output_type": "stream",
     "text": [
      "[[0.97463185]]\n"
     ]
    }
   ],
   "source": [
    "x = np.array([1,2,3]).reshape(1, -1)\n",
    "y = np.array([4,5,6]).reshape(1, -1)\n",
    "print(cosine_similarity(x, y))"
   ]
  },
  {
   "cell_type": "code",
   "execution_count": 5,
   "id": "0752451a",
   "metadata": {},
   "outputs": [],
   "source": [
    "def cos_check(target, df):\n",
    "    # target: the document vector of target paper\n",
    "    # df: dataframe of related papers' document vectors\n",
    "    # output: a dictionary: cosine similarity of target paper and each paper in the database\n",
    "    \n",
    "    output = {}\n",
    "    \n",
    "    for i in df.index:\n",
    "        related = df.loc[i, 'BERT_embeddings']\n",
    "        target = target.reshape(1, -1)\n",
    "        related = related.reshape(1, -1)\n",
    "        similarity = cosine_similarity(target, related)[0][0]\n",
    "        output[i] = similarity\n",
    "        \n",
    "    return output"
   ]
  },
  {
   "cell_type": "code",
   "execution_count": 6,
   "id": "0a06a713",
   "metadata": {},
   "outputs": [],
   "source": [
    "output = cos_check(df.loc['859921', 'BERT_embeddings'], df)"
   ]
  },
  {
   "cell_type": "code",
   "execution_count": 7,
   "id": "21b6d648",
   "metadata": {},
   "outputs": [],
   "source": [
    "def citation_choose(similarity_list, n):\n",
    "    # Choose citation and corresponding sentences based on cosine similarity\n",
    "    # n: int, choose n papers from database\n",
    "    sort_list = sorted(similarity_list.items(), key=lambda x: x[1], reverse=True)\n",
    "    if sort_list[0][1] == 1:\n",
    "        sort_list = sort_list[1:]\n",
    "        \n",
    "    # Choose most similar papers based on cosine similarity\n",
    "    papers = []\n",
    "    for i in range(n):\n",
    "        papers.append(sort_list[i][0])\n",
    "    \n",
    "    return papers  "
   ]
  },
  {
   "cell_type": "code",
   "execution_count": 8,
   "id": "8be7d306",
   "metadata": {},
   "outputs": [],
   "source": [
    "mylist = citation_choose(output, 50)"
   ]
  },
  {
   "cell_type": "code",
   "execution_count": 9,
   "id": "1a0513f9",
   "metadata": {},
   "outputs": [
    {
     "data": {
      "text/html": [
       "<div>\n",
       "<style scoped>\n",
       "    .dataframe tbody tr th:only-of-type {\n",
       "        vertical-align: middle;\n",
       "    }\n",
       "\n",
       "    .dataframe tbody tr th {\n",
       "        vertical-align: top;\n",
       "    }\n",
       "\n",
       "    .dataframe thead th {\n",
       "        text-align: right;\n",
       "    }\n",
       "</style>\n",
       "<table border=\"1\" class=\"dataframe\">\n",
       "  <thead>\n",
       "    <tr style=\"text-align: right;\">\n",
       "      <th></th>\n",
       "      <th>title</th>\n",
       "      <th>abstract</th>\n",
       "      <th>related_work_pairs</th>\n",
       "      <th>body_pairs</th>\n",
       "      <th>BERT_embeddings</th>\n",
       "    </tr>\n",
       "    <tr>\n",
       "      <th>paper_id</th>\n",
       "      <th></th>\n",
       "      <th></th>\n",
       "      <th></th>\n",
       "      <th></th>\n",
       "      <th></th>\n",
       "    </tr>\n",
       "  </thead>\n",
       "  <tbody>\n",
       "    <tr>\n",
       "      <th>17206181</th>\n",
       "      <td>Transliteration Alignment</td>\n",
       "      <td>This paper studies transliteration alignment, ...</td>\n",
       "      <td>{'1693404': 'Another technique is to directly ...</td>\n",
       "      <td>{'219895': 'It is also equally applicable for ...</td>\n",
       "      <td>[-0.3754018, 1.2045099, 0.19640552, 0.23203138...</td>\n",
       "    </tr>\n",
       "    <tr>\n",
       "      <th>32035477</th>\n",
       "      <td>A machine learning approach for result caching...</td>\n",
       "      <td>A commonly used technique for improving search...</td>\n",
       "      <td>{'34943': 'Baeza-Yates, Saint-Jean, and de Mou...</td>\n",
       "      <td>{'5409120': 'A commonly used technique for imp...</td>\n",
       "      <td>[-0.7328437, 0.6732816, 0.9505062, 0.24854696,...</td>\n",
       "    </tr>\n",
       "    <tr>\n",
       "      <th>52139212</th>\n",
       "      <td>Maximizing Synchronization for Aligning Observ...</td>\n",
       "      <td>Abstract. Conformance checking is a branch of ...</td>\n",
       "      <td>{'14197721': 'One of the earliest works in con...</td>\n",
       "      <td>{'114711181': 'An optimal alignment using the ...</td>\n",
       "      <td>[-0.5873668, 0.4165166, 0.6609021, 0.21944438,...</td>\n",
       "    </tr>\n",
       "    <tr>\n",
       "      <th>196177814</th>\n",
       "      <td>Optimal Transport-based Alignment of Learned C...</td>\n",
       "      <td>String similarity models are vital for record ...</td>\n",
       "      <td>{'5245012': 'We note that the most relevant pr...</td>\n",
       "      <td>{'5200733': 'We evaluate the impact of using S...</td>\n",
       "      <td>[-0.6364662, 0.7926643, 0.6266486, 0.03339096,...</td>\n",
       "    </tr>\n",
       "    <tr>\n",
       "      <th>34772098</th>\n",
       "      <td>Compressing Inverted Files using Modified LZW</td>\n",
       "      <td>In the paper, we present a compression algorit...</td>\n",
       "      <td>{'14763522': 'The most well-known methods for ...</td>\n",
       "      <td>{'10680358': 'Inverted files are considered to...</td>\n",
       "      <td>[-0.66968054, 0.90823436, 0.73623395, 0.333349...</td>\n",
       "    </tr>\n",
       "  </tbody>\n",
       "</table>\n",
       "</div>"
      ],
      "text/plain": [
       "                                                       title  \\\n",
       "paper_id                                                       \n",
       "17206181                           Transliteration Alignment   \n",
       "32035477   A machine learning approach for result caching...   \n",
       "52139212   Maximizing Synchronization for Aligning Observ...   \n",
       "196177814  Optimal Transport-based Alignment of Learned C...   \n",
       "34772098       Compressing Inverted Files using Modified LZW   \n",
       "\n",
       "                                                    abstract  \\\n",
       "paper_id                                                       \n",
       "17206181   This paper studies transliteration alignment, ...   \n",
       "32035477   A commonly used technique for improving search...   \n",
       "52139212   Abstract. Conformance checking is a branch of ...   \n",
       "196177814  String similarity models are vital for record ...   \n",
       "34772098   In the paper, we present a compression algorit...   \n",
       "\n",
       "                                          related_work_pairs  \\\n",
       "paper_id                                                       \n",
       "17206181   {'1693404': 'Another technique is to directly ...   \n",
       "32035477   {'34943': 'Baeza-Yates, Saint-Jean, and de Mou...   \n",
       "52139212   {'14197721': 'One of the earliest works in con...   \n",
       "196177814  {'5245012': 'We note that the most relevant pr...   \n",
       "34772098   {'14763522': 'The most well-known methods for ...   \n",
       "\n",
       "                                                  body_pairs  \\\n",
       "paper_id                                                       \n",
       "17206181   {'219895': 'It is also equally applicable for ...   \n",
       "32035477   {'5409120': 'A commonly used technique for imp...   \n",
       "52139212   {'114711181': 'An optimal alignment using the ...   \n",
       "196177814  {'5200733': 'We evaluate the impact of using S...   \n",
       "34772098   {'10680358': 'Inverted files are considered to...   \n",
       "\n",
       "                                             BERT_embeddings  \n",
       "paper_id                                                      \n",
       "17206181   [-0.3754018, 1.2045099, 0.19640552, 0.23203138...  \n",
       "32035477   [-0.7328437, 0.6732816, 0.9505062, 0.24854696,...  \n",
       "52139212   [-0.5873668, 0.4165166, 0.6609021, 0.21944438,...  \n",
       "196177814  [-0.6364662, 0.7926643, 0.6266486, 0.03339096,...  \n",
       "34772098   [-0.66968054, 0.90823436, 0.73623395, 0.333349...  "
      ]
     },
     "execution_count": 9,
     "metadata": {},
     "output_type": "execute_result"
    }
   ],
   "source": [
    "df.loc[df.index.isin(mylist)].head()"
   ]
  },
  {
   "cell_type": "code",
   "execution_count": 45,
   "id": "0932e42c",
   "metadata": {},
   "outputs": [
    {
     "data": {
      "text/plain": [
       "['411571',\n",
       " '1479843',\n",
       " '14295281',\n",
       " '8681118',\n",
       " '1118305',\n",
       " '207184945',\n",
       " '19258679',\n",
       " '11861526']"
      ]
     },
     "execution_count": 45,
     "metadata": {},
     "output_type": "execute_result"
    }
   ],
   "source": [
    "list(df.loc[df.index.isin(mylist)].iloc[0]['related_work_pairs'].keys())"
   ]
  },
  {
   "cell_type": "code",
   "execution_count": 10,
   "id": "51e5ff95",
   "metadata": {},
   "outputs": [],
   "source": [
    "from collections import Counter"
   ]
  },
  {
   "cell_type": "code",
   "execution_count": 11,
   "id": "c3cf3ca6",
   "metadata": {},
   "outputs": [],
   "source": [
    "def get_citations(papers):\n",
    "    citation = []\n",
    "    for p in papers:\n",
    "        cite = list(df.loc[p, 'related_work_pairs'].keys())\n",
    "        for c in cite:\n",
    "            citation.append(c)\n",
    "            \n",
    "    result = Counter(citation).most_common()[:20]\n",
    "        \n",
    "    return result"
   ]
  },
  {
   "cell_type": "code",
   "execution_count": 12,
   "id": "1324b9d3",
   "metadata": {},
   "outputs": [
    {
     "data": {
      "text/plain": [
       "[('10743717', 2),\n",
       " ('799275', 2),\n",
       " ('1001779', 2),\n",
       " ('14209216', 2),\n",
       " ('6132980', 2),\n",
       " ('5724860', 2),\n",
       " ('631855', 2),\n",
       " ('14838925', 2),\n",
       " ('6334682', 1),\n",
       " ('2710961', 1),\n",
       " ('10397964', 1),\n",
       " ('10617892', 1),\n",
       " ('228061', 1),\n",
       " ('207168261', 1),\n",
       " ('2420504', 1),\n",
       " ('15363885', 1),\n",
       " ('209396626', 1),\n",
       " ('1658773', 1),\n",
       " ('8796014', 1),\n",
       " ('15917396', 1)]"
      ]
     },
     "execution_count": 12,
     "metadata": {},
     "output_type": "execute_result"
    }
   ],
   "source": [
    "get_citations(mylist)"
   ]
  }
 ],
 "metadata": {
  "kernelspec": {
   "display_name": "Python 3 (ipykernel)",
   "language": "python",
   "name": "python3"
  },
  "language_info": {
   "codemirror_mode": {
    "name": "ipython",
    "version": 3
   },
   "file_extension": ".py",
   "mimetype": "text/x-python",
   "name": "python",
   "nbconvert_exporter": "python",
   "pygments_lexer": "ipython3",
   "version": "3.8.8"
  }
 },
 "nbformat": 4,
 "nbformat_minor": 5
}
