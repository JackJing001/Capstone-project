{
 "cells": [
  {
   "cell_type": "markdown",
   "metadata": {},
   "source": [
    "# Data process"
   ]
  },
  {
   "cell_type": "code",
   "execution_count": 2,
   "metadata": {},
   "outputs": [],
   "source": [
    "import os\n",
    "import subprocess\n",
    "import gzip\n",
    "import io\n",
    "import json\n",
    "import re\n",
    "from tqdm import tqdm\n",
    "import pandas as pd\n",
    "import numpy as np\n",
    "import nltk.data"
   ]
  },
  {
   "cell_type": "code",
   "execution_count": 4,
   "metadata": {},
   "outputs": [],
   "source": [
    "# Find sentence-citataion pairs that have more than 10 words in the sentence\n",
    "\n",
    "def find_pair(textl, bibl):\n",
    "    pair_dict = {}\n",
    "    for para in textl:\n",
    "        cite_list = para['cite_spans']\n",
    "        text = para['text']\n",
    "        for cite in cite_list:\n",
    "            start = int(cite['start'])\n",
    "            end = int(cite['end'])\n",
    "            # If cite_spans out of the sentence\n",
    "            if text[start-2] in ['.', '!', '?']:\n",
    "                i = start-3\n",
    "                while i >= 0:\n",
    "                    if text[i] in ['.', '!', '?']:\n",
    "                        break\n",
    "                    i = i - 1\n",
    "                while i <= start-2:\n",
    "                    if re.match(\"[A-Z]\", text[i]) == None:\n",
    "                        i = i + 1\n",
    "                    else:\n",
    "                        break\n",
    "                sentence = text[i:start-1]\n",
    "                sentence_len = len(sentence.split(' '))\n",
    "                ref_id = cite['ref_id']\n",
    "                bib_id = bibl.get(ref_id, 'not exist')\n",
    "                if bib_id == 'not exist':\n",
    "                    paper_id = None\n",
    "                else:\n",
    "                    paper_id = bibl[ref_id]['link']\n",
    "                if paper_id != None and sentence_len >= 10:\n",
    "                    pair_dict[paper_id] = sentence\n",
    "                    \n",
    "            # If cite_spans in the sentence\n",
    "            if end + 1 < len(text):\n",
    "                if text[end+1] in ['.', '!', '?']:\n",
    "                    i = start-1\n",
    "                    while i >= 0:\n",
    "                        if text[i] in ['.', '!', '?']:\n",
    "                            break\n",
    "                        i = i - 1\n",
    "                    while i <= start-2:\n",
    "                        if re.match(\"[A-Z]\", text[i]) == None:\n",
    "                            i = i + 1\n",
    "                        else:\n",
    "                            break\n",
    "                    sentence = text[i:end+2]\n",
    "                    sentence_len = len(sentence.split(' '))\n",
    "                    ref_id = cite['ref_id']\n",
    "                    bib_id = bibl.get(ref_id, 'not exist')\n",
    "                    if bib_id == 'not exist':\n",
    "                        paper_id = None\n",
    "                    else:\n",
    "                        paper_id = bibl[ref_id]['link']\n",
    "                    if paper_id != None and sentence_len >= 10:\n",
    "                        pair_dict[paper_id] = sentence\n",
    "    \n",
    "    return pair_dict"
   ]
  },
  {
   "cell_type": "code",
   "execution_count": 5,
   "metadata": {},
   "outputs": [],
   "source": [
    "def data_preprocessor(df_meta, df_pdf):\n",
    "    \n",
    "    # Collect title and abstract\n",
    "\n",
    "    df = pd.DataFrame(df_meta.loc[:, 'title'])\n",
    "    for i in df.index:\n",
    "        if i in df_pdf.index:\n",
    "            if df_pdf.at[i, 'abstract'] != [] and df_pdf.at[i, 'abstract'] != '':\n",
    "                df.at[i, 'abstract'] = df_pdf.at[i, 'abstract'][0]['text']\n",
    "\n",
    "    df.replace('', np.nan, inplace=True)\n",
    "    df = df.dropna()\n",
    "\n",
    "    # Collect full text\n",
    "\n",
    "    for i in df.index:\n",
    "        if i in df_pdf.index:\n",
    "            full_text = ''\n",
    "            for sec in df_pdf.loc[i,'body_text']:\n",
    "                if sec['text'] != [] and sec['text'] != '':\n",
    "                    full_text += sec['text']\n",
    "            df.at[i, 'full_text'] = df.loc[i, 'abstract'] + full_text\n",
    "            \n",
    "    # Collect body text\n",
    "\n",
    "    for i in df.index:\n",
    "        if i in df_pdf.index:\n",
    "            body_text = ''\n",
    "            for sec in df_pdf.loc[i,'body_text']:\n",
    "                if sec['text'] != [] and sec['text'] != '' and sec['section'].lower() != 'related work':\n",
    "                    body_text += sec['text']\n",
    "            df.at[i, 'body_text'] = body_text\n",
    "            \n",
    "    # Collect related work text\n",
    "    ### WARNING: REPLACE 'introduction' with 'related_work'\n",
    "\n",
    "    for i in df.index:\n",
    "        if i in df_pdf.index:\n",
    "            related_work_text = ''\n",
    "            for sec in df_pdf.loc[i,'body_text']:\n",
    "                if sec['section'].lower() == 'related work' and sec['text'] != '' and sec['text'] != []:\n",
    "                    related_work_text += sec['text']\n",
    "            df.at[i, 'related_work_text'] = related_work_text\n",
    "\n",
    "    # Remove papers that don't have related work sections  \n",
    "    df['related_work_text'].replace('', np.nan, inplace=True)\n",
    "    df = df.dropna()\n",
    "\n",
    "    # Collect sentence-citation pairs in related work text and body text\n",
    "    ### WARNING: REPLACE 'introduction' with 'related_work'\n",
    "\n",
    "    for i in df.index:\n",
    "        if i in df_pdf.index:\n",
    "            full_textl = df_pdf.at[i, 'body_text']\n",
    "            related_work_textl = []\n",
    "            body_textl = []\n",
    "            bibl = df_pdf.at[i, 'bib_entries']\n",
    "            for t in full_textl:\n",
    "                if t['section'].lower() == 'related work':\n",
    "                    related_work_textl.append(t)\n",
    "                else:\n",
    "                    body_textl.append(t)\n",
    "            related_work_pairs = find_pair(related_work_textl, bibl)\n",
    "            body_pairs = find_pair(body_textl, bibl)\n",
    "            df.at[i, 'related_work_pairs'] = i # without this line, there will be an error. But I'm not sure about the reason\n",
    "            df.at[i, 'related_work_pairs'] = related_work_pairs\n",
    "\n",
    "            df.at[i, 'body_pairs'] = i # without this line, there will be an error. But I'm not sure about the reason\n",
    "            df.at[i, 'body_pairs'] = body_pairs\n",
    "\n",
    "    # Remove papers that don't have citations in related work sections and body texts        \n",
    "    data_processed = df.loc[(df.body_pairs != {}) & (df.related_work_pairs != {})]\n",
    "    \n",
    "    pd.options.mode.chained_assignment = None\n",
    "            \n",
    "    # Remove papars that have fewer than four citation in the related work section\n",
    "    for i in data_processed.index:\n",
    "        data_processed.at[i, 'length'] = int(len(data_processed.loc[i, 'related_work_pairs']))\n",
    "    data_processed = data_processed.loc[data_processed.length > 4].iloc[:, :7]        \n",
    "            \n",
    "    return data_processed"
   ]
  },
  {
   "cell_type": "code",
   "execution_count": 11,
   "metadata": {},
   "outputs": [
    {
     "name": "stdout",
     "output_type": "stream",
     "text": [
      "pdf_parses_0.jsonl filtered\n",
      "pdf_parses_1.jsonl filtered\n",
      "pdf_parses_10.jsonl filtered\n",
      "pdf_parses_11.jsonl filtered\n",
      "pdf_parses_12.jsonl filtered\n",
      "pdf_parses_13.jsonl filtered\n",
      "pdf_parses_14.jsonl filtered\n",
      "pdf_parses_15.jsonl filtered\n",
      "pdf_parses_16.jsonl filtered\n",
      "pdf_parses_17.jsonl filtered\n",
      "pdf_parses_18.jsonl filtered\n",
      "pdf_parses_19.jsonl filtered\n",
      "pdf_parses_2.jsonl filtered\n",
      "pdf_parses_20.jsonl filtered\n",
      "pdf_parses_21.jsonl filtered\n",
      "pdf_parses_22.jsonl filtered\n",
      "pdf_parses_23.jsonl filtered\n",
      "pdf_parses_24.jsonl filtered\n",
      "pdf_parses_25.jsonl filtered\n",
      "pdf_parses_26.jsonl filtered\n",
      "pdf_parses_27.jsonl filtered\n",
      "pdf_parses_28.jsonl filtered\n",
      "pdf_parses_29.jsonl filtered\n",
      "pdf_parses_3.jsonl filtered\n",
      "pdf_parses_30.jsonl filtered\n",
      "pdf_parses_31.jsonl filtered\n",
      "pdf_parses_32.jsonl filtered\n",
      "pdf_parses_33.jsonl filtered\n",
      "pdf_parses_34.jsonl filtered\n",
      "pdf_parses_35.jsonl filtered\n",
      "pdf_parses_36.jsonl filtered\n",
      "pdf_parses_37.jsonl filtered\n",
      "pdf_parses_38.jsonl filtered\n",
      "pdf_parses_39.jsonl filtered\n",
      "pdf_parses_4.jsonl filtered\n",
      "pdf_parses_40.jsonl filtered\n",
      "pdf_parses_41.jsonl filtered\n",
      "pdf_parses_42.jsonl filtered\n",
      "pdf_parses_43.jsonl filtered\n",
      "pdf_parses_44.jsonl filtered\n",
      "pdf_parses_45.jsonl filtered\n",
      "pdf_parses_46.jsonl filtered\n",
      "pdf_parses_47.jsonl filtered\n",
      "pdf_parses_48.jsonl filtered\n",
      "pdf_parses_49.jsonl filtered\n",
      "pdf_parses_5.jsonl filtered\n",
      "pdf_parses_50.jsonl filtered\n",
      "pdf_parses_51.jsonl filtered\n",
      "pdf_parses_52.jsonl filtered\n",
      "pdf_parses_53.jsonl filtered\n",
      "pdf_parses_54.jsonl filtered\n",
      "pdf_parses_55.jsonl filtered\n",
      "pdf_parses_56.jsonl filtered\n",
      "pdf_parses_57.jsonl filtered\n",
      "pdf_parses_58.jsonl filtered\n",
      "pdf_parses_59.jsonl filtered\n",
      "pdf_parses_6.jsonl filtered\n",
      "pdf_parses_60.jsonl filtered\n",
      "pdf_parses_61.jsonl filtered\n",
      "pdf_parses_62.jsonl filtered\n",
      "pdf_parses_63.jsonl filtered\n",
      "pdf_parses_64.jsonl filtered\n",
      "pdf_parses_65.jsonl filtered\n",
      "pdf_parses_66.jsonl filtered\n",
      "pdf_parses_67.jsonl filtered\n",
      "pdf_parses_68.jsonl filtered\n",
      "pdf_parses_69.jsonl filtered\n",
      "pdf_parses_7.jsonl filtered\n",
      "pdf_parses_70.jsonl filtered\n",
      "pdf_parses_71.jsonl filtered\n",
      "pdf_parses_72.jsonl filtered\n",
      "pdf_parses_73.jsonl filtered\n",
      "pdf_parses_74.jsonl filtered\n",
      "pdf_parses_75.jsonl filtered\n",
      "pdf_parses_76.jsonl filtered\n",
      "pdf_parses_77.jsonl filtered\n",
      "pdf_parses_78.jsonl filtered\n",
      "pdf_parses_79.jsonl filtered\n",
      "pdf_parses_8.jsonl filtered\n",
      "pdf_parses_80.jsonl filtered\n",
      "pdf_parses_81.jsonl filtered\n",
      "pdf_parses_82.jsonl filtered\n",
      "pdf_parses_83.jsonl filtered\n",
      "pdf_parses_84.jsonl filtered\n",
      "pdf_parses_85.jsonl filtered\n",
      "pdf_parses_86.jsonl filtered\n",
      "pdf_parses_87.jsonl filtered\n",
      "pdf_parses_88.jsonl filtered\n",
      "pdf_parses_89.jsonl filtered\n",
      "pdf_parses_9.jsonl filtered\n",
      "pdf_parses_90.jsonl filtered\n",
      "pdf_parses_91.jsonl filtered\n",
      "pdf_parses_92.jsonl filtered\n",
      "pdf_parses_93.jsonl filtered\n",
      "pdf_parses_94.jsonl filtered\n",
      "pdf_parses_95.jsonl filtered\n",
      "pdf_parses_96.jsonl filtered\n",
      "pdf_parses_97.jsonl filtered\n",
      "pdf_parses_98.jsonl filtered\n",
      "pdf_parses_99.jsonl filtered\n"
     ]
    }
   ],
   "source": [
    "meta_dir = '../dataset/SS/metadata/CS/'\n",
    "pdf_dir = '../dataset/SS/pdf_parses/CS/'\n",
    "\n",
    "meta_files = os.listdir(meta_dir)\n",
    "pdf_files = os.listdir(pdf_dir)\n",
    "\n",
    "\n",
    "for i in np.arange(len(meta_files)):\n",
    "    \n",
    "    meta_list = []\n",
    "    \n",
    "    with open(os.path.join(meta_dir, meta_files[i]), 'r') as json_file:\n",
    "        json_list = list(json_file)\n",
    "        \n",
    "        for json_str in json_list:\n",
    "            result = json.loads(json_str)\n",
    "            meta_list.append(result)\n",
    "        \n",
    "    pdf_list = []\n",
    "\n",
    "    with open(os.path.join(pdf_dir, pdf_files[i]), 'r') as json_file:\n",
    "        json_list = list(json_file)\n",
    "        \n",
    "        for json_str in json_list:\n",
    "            result = json.loads(json_str)\n",
    "            pdf_list.append(result) \n",
    "            \n",
    "    df_meta = pd.DataFrame(meta_list)\n",
    "    df_meta = df_meta.set_index('paper_id')\n",
    "    \n",
    "    df_pdf = pd.DataFrame(pdf_list)\n",
    "    df_pdf = df_pdf.set_index('paper_id')\n",
    "    \n",
    "    data_processed = data_preprocessor(df_meta, df_pdf)\n",
    "    \n",
    "    if i == 0:\n",
    "        df = data_processed\n",
    "        print(pdf_files[i], 'filtered')\n",
    "    else:\n",
    "        df = df.append(data_processed)\n",
    "        print(pdf_files[i], 'filtered')"
   ]
  },
  {
   "cell_type": "code",
   "execution_count": 15,
   "metadata": {},
   "outputs": [],
   "source": [
    "# df.to_csv('../dataset/SS/clean/filtered_data.csv', index_label = 'paper_id')"
   ]
  },
  {
   "cell_type": "markdown",
   "metadata": {},
   "source": [
    "## Sentence Split"
   ]
  },
  {
   "cell_type": "code",
   "execution_count": null,
   "metadata": {},
   "outputs": [],
   "source": [
    "pd.options.mode.chained_assignment = None\n",
    "\n",
    "col_names = ['abstract', 'full_text', 'related_work_text']\n",
    "\n",
    "for col in col_names:\n",
    "    new_col = col + \"_split\"\n",
    "    df.at[:, new_col] = df[col]\n",
    "\n",
    "for i in data_processed.index:\n",
    "    for col in col_names:\n",
    "        new_col = col + \"_split\"\n",
    "        df.at[i, new_col] = nltk.tokenize.sent_tokenize(df.loc[i, col])"
   ]
  },
  {
   "cell_type": "markdown",
   "metadata": {},
   "source": [
    "## Data Visualization"
   ]
  },
  {
   "cell_type": "code",
   "execution_count": 3,
   "metadata": {},
   "outputs": [],
   "source": [
    "df = pd.read_csv('../dataset/SS/clean/filtered_data.csv', dtype={'paper_id':str}).set_index('paper_id')"
   ]
  },
  {
   "cell_type": "code",
   "execution_count": 5,
   "metadata": {},
   "outputs": [],
   "source": [
    "#Need to convert body_pairs and related_work_pairs from str to dictionary\n",
    "df['related_work_pairs'] = df.related_work_pairs.apply(lambda x: eval(x))\n",
    "df['body_pairs'] = df.body_pairs.apply(lambda x: eval(x))"
   ]
  },
  {
   "cell_type": "code",
   "execution_count": 6,
   "metadata": {},
   "outputs": [],
   "source": [
    "from matplotlib import pyplot as plt"
   ]
  },
  {
   "cell_type": "code",
   "execution_count": 7,
   "metadata": {},
   "outputs": [
    {
     "data": {
      "image/png": "[encoded data removed]",
      "text/plain": [
       "<Figure size 432x288 with 1 Axes>"
      ]
     },
     "metadata": {
      "needs_background": "light"
     },
     "output_type": "display_data"
    }
   ],
   "source": [
    "# number of citations in each paper from body text\n",
    "\n",
    "body_counts = []\n",
    "for paper_id in df.index:\n",
    "    current_count = len(df.loc[paper_id, 'body_pairs'])\n",
    "    body_counts.append(current_count)\n",
    "\n",
    "plt.hist(body_counts)\n",
    "plt.title('Number of citations from body text in each paper')\n",
    "plt.xlabel('Citation Cnt')\n",
    "plt.ylabel('Paper Cnt')\n",
    "plt.show()"
   ]
  },
  {
   "cell_type": "code",
   "execution_count": 8,
   "metadata": {},
   "outputs": [
    {
     "name": "stdout",
     "output_type": "stream",
     "text": [
      "The minimum of citations in body text is 1\n",
      "The maximum of citations in body text is 55\n",
      "The average of citations in body text is 7\n"
     ]
    }
   ],
   "source": [
    "print(\"The minimum of citations in body text is\", min(body_counts))\n",
    "print(\"The maximum of citations in body text is\", max(body_counts))\n",
    "print('The average of citations in body text is', round(np.mean(body_counts)))"
   ]
  },
  {
   "cell_type": "code",
   "execution_count": 9,
   "metadata": {},
   "outputs": [
    {
     "data": {
      "image/png": "[encoded data removed]",
      "text/plain": [
       "<Figure size 432x288 with 1 Axes>"
      ]
     },
     "metadata": {
      "needs_background": "light"
     },
     "output_type": "display_data"
    }
   ],
   "source": [
    "# number of citations in each paper from related work sections\n",
    "\n",
    "related_work_counts = []\n",
    "for paper_id in df.index:\n",
    "    current_count = len(df.loc[paper_id, 'related_work_pairs'])\n",
    "    related_work_counts.append(current_count)\n",
    "\n",
    "plt.hist(related_work_counts, 5)\n",
    "plt.title('Number of citations from related work section in each paper')\n",
    "plt.xlabel('Citation Cnt')\n",
    "plt.ylabel('Paper Cnt')\n",
    "plt.show()"
   ]
  },
  {
   "cell_type": "code",
   "execution_count": 10,
   "metadata": {},
   "outputs": [
    {
     "name": "stdout",
     "output_type": "stream",
     "text": [
      "The minimum of citations in related work section is 5\n",
      "The maximum of citations in related work section is 30\n",
      "The average of citations in related work is 7\n"
     ]
    }
   ],
   "source": [
    "print(\"The minimum of citations in related work section is\", min(related_work_counts))\n",
    "print(\"The maximum of citations in related work section is\", max(related_work_counts))\n",
    "print('The average of citations in related work is', round(np.mean(related_work_counts)))"
   ]
  },
  {
   "cell_type": "code",
   "execution_count": 25,
   "metadata": {},
   "outputs": [
    {
     "name": "stdout",
     "output_type": "stream",
     "text": [
      "18.78% of cited papers appear in filtered dataset\n"
     ]
    }
   ],
   "source": [
    "related_cite = [x for subset in df.related_work_pairs.apply(lambda x: list(x.keys())) for x in subset]\n",
    "body_cite = [x for subset in df.body_pairs.apply(lambda x: list(x.keys())) for x in subset]\n",
    "total_cite = set(related_cite+body_cite)\n",
    "\n",
    "cite_count = sum([True for x in list(total_cite) if x in df.index])\n",
    "        \n",
    "cite_perc = (cite_count/df.shape[0])*100\n",
    "\n",
    "print ('{0:.2f}% of cited papers appear in filtered dataset'.format(cite_perc))"
   ]
  },
  {
   "cell_type": "code",
   "execution_count": 26,
   "metadata": {},
   "outputs": [
    {
     "name": "stdout",
     "output_type": "stream",
     "text": [
      "The number of papers in filtered dataset is 22866\n",
      "The number of cited papers in filtered dataset is 4294\n"
     ]
    }
   ],
   "source": [
    "print('The number of papers in filtered dataset is', len(df))\n",
    "print('The number of cited papers in filtered dataset is', cite_count)"
   ]
  },
  {
   "cell_type": "code",
   "execution_count": null,
   "metadata": {},
   "outputs": [],
   "source": []
  }
 ],
 "metadata": {
  "kernelspec": {
   "display_name": "Python 3",
   "language": "python",
   "name": "python3"
  },
  "language_info": {
   "codemirror_mode": {
    "name": "ipython",
    "version": 3
   },
   "file_extension": ".py",
   "mimetype": "text/x-python",
   "name": "python",
   "nbconvert_exporter": "python",
   "pygments_lexer": "ipython3",
   "version": "3.7.6"
  }
 },
 "nbformat": 4,
 "nbformat_minor": 4
}
