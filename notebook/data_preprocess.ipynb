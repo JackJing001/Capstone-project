{
 "cells": [
  {
   "cell_type": "markdown",
   "metadata": {},
   "source": [
    "# Data process"
   ]
  },
  {
   "cell_type": "code",
   "execution_count": 2,
   "metadata": {},
   "outputs": [],
   "source": [
    "import os\n",
    "import subprocess\n",
    "import gzip\n",
    "import io\n",
    "import json\n",
    "import re\n",
    "from tqdm import tqdm\n",
    "import pandas as pd\n",
    "import numpy as np\n",
    "import nltk.data"
   ]
  },
  {
   "cell_type": "code",
   "execution_count": 4,
   "metadata": {},
   "outputs": [],
   "source": [
    "# Find sentence-citataion pairs that have more than 10 words in the sentence\n",
    "\n",
    "def find_pair(textl, bibl):\n",
    "    pair_dict = {}\n",
    "    for para in textl:\n",
    "        cite_list = para['cite_spans']\n",
    "        text = para['text']\n",
    "        for cite in cite_list:\n",
    "            start = int(cite['start'])\n",
    "            end = int(cite['end'])\n",
    "            # If cite_spans out of the sentence\n",
    "            if text[start-2] in ['.', '!', '?']:\n",
    "                i = start-3\n",
    "                while i >= 0:\n",
    "                    if text[i] in ['.', '!', '?']:\n",
    "                        break\n",
    "                    i = i - 1\n",
    "                while i <= start-2:\n",
    "                    if re.match(\"[A-Z]\", text[i]) == None:\n",
    "                        i = i + 1\n",
    "                    else:\n",
    "                        break\n",
    "                sentence = text[i:start-1]\n",
    "                sentence_len = len(sentence.split(' '))\n",
    "                ref_id = cite['ref_id']\n",
    "                bib_id = bibl.get(ref_id, 'not exist')\n",
    "                if bib_id == 'not exist':\n",
    "                    paper_id = None\n",
    "                else:\n",
    "                    paper_id = bibl[ref_id]['link']\n",
    "                if paper_id != None and sentence_len >= 10:\n",
    "                    pair_dict[paper_id] = sentence\n",
    "                    \n",
    "            # If cite_spans in the sentence\n",
    "            if end + 1 < len(text):\n",
    "                if text[end+1] in ['.', '!', '?']:\n",
    "                    i = start-1\n",
    "                    while i >= 0:\n",
    "                        if text[i] in ['.', '!', '?']:\n",
    "                            break\n",
    "                        i = i - 1\n",
    "                    while i <= start-2:\n",
    "                        if re.match(\"[A-Z]\", text[i]) == None:\n",
    "                            i = i + 1\n",
    "                        else:\n",
    "                            break\n",
    "                    sentence = text[i:end+2]\n",
    "                    sentence_len = len(sentence.split(' '))\n",
    "                    ref_id = cite['ref_id']\n",
    "                    bib_id = bibl.get(ref_id, 'not exist')\n",
    "                    if bib_id == 'not exist':\n",
    "                        paper_id = None\n",
    "                    else:\n",
    "                        paper_id = bibl[ref_id]['link']\n",
    "                    if paper_id != None and sentence_len >= 10:\n",
    "                        pair_dict[paper_id] = sentence\n",
    "    \n",
    "    return pair_dict\n",
    "\n",
    "def find_cite(textl, bibl):\n",
    "    citation = set()\n",
    "    for para in textl:\n",
    "        cite_list = para['cite_spans']\n",
    "        text = para['text']\n",
    "        for cite in cite_list:\n",
    "            ref_id = cite['ref_id']\n",
    "            bib_id = bibl.get(ref_id, 'not exist')\n",
    "            if bib_id == 'not exist':\n",
    "                paper_id = None\n",
    "            else:\n",
    "                paper_id = bibl[ref_id]['link']\n",
    "            if paper_id != None:\n",
    "                citation.add(paper_id)\n",
    "            \n",
    "    citation = list(citation)\n",
    "    return citation"
   ]
  },
  {
   "cell_type": "code",
   "execution_count": 9,
   "metadata": {},
   "outputs": [],
   "source": [
    "def data_preprocessor(df_meta, df_pdf):\n",
    "    \n",
    "    # Collect title and abstract\n",
    "\n",
    "    df = pd.DataFrame(df_meta.loc[:, 'title'])\n",
    "    for i in df.index:\n",
    "        if i in df_pdf.index:\n",
    "            if df_pdf.at[i, 'abstract'] != [] and df_pdf.at[i, 'abstract'] != '':\n",
    "                df.at[i, 'abstract'] = df_pdf.at[i, 'abstract'][0]['text']\n",
    "\n",
    "    df.replace('', np.nan, inplace=True)\n",
    "    df = df.dropna()\n",
    "            \n",
    "    # Collect related work text and conclusions text\n",
    "    # Collect main text by connecting abstract, introduction and conclusion\n",
    "\n",
    "    for i in df.index:\n",
    "        if i in df_pdf.index:\n",
    "            \n",
    "            relatedwork_text = ''\n",
    "            main_text = ''\n",
    "            \n",
    "            if df_pdf.at[i, 'abstract'] != [] and df_pdf.at[i, 'abstract'] != '':\n",
    "                main_text += df_pdf.at[i, 'abstract'][0]['text']\n",
    "                \n",
    "            for sec in df_pdf.loc[i,'body_text']:\n",
    "                if sec['section'].lower() == 'related work' and sec['text'] != '' and sec['text'] != []:\n",
    "                    relatedwork_text += sec['text']\n",
    "                elif sec['section'].lower()  == 'introduction' and sec['text'] != '' and sec['text'] != []:\n",
    "                    main_text += sec['text']\n",
    "                elif sec['section'].lower()  == 'conclusion' and sec['text'] != '' and sec['text'] != []:\n",
    "                    main_text += sec['text']\n",
    "                    \n",
    "            df.at[i, 'relatedwork_text'] = relatedwork_text\n",
    "            df.at[i, 'main_text'] = main_text\n",
    "\n",
    "    # Remove papers that don't have related work sections \n",
    "    df['relatedwork_text'].replace('', np.nan, inplace=True)\n",
    "    df = df.dropna()\n",
    "            \n",
    "    # collect citations in related work section\n",
    "    df['rw_citations'] = ''\n",
    "    \n",
    "    for i in df.index:\n",
    "        if i in df_pdf.index:\n",
    "            for sec in df_pdf.loc[i, 'body_text']:\n",
    "                if sec['section'].lower() == 'related work' and sec['text'] != '' and sec['text'] != []:\n",
    "                    full_textl = [sec]\n",
    "\n",
    "            bibl = df_pdf.at[i, 'bib_entries']\n",
    "            citations = find_cite(full_textl, bibl)\n",
    "            df.at[i, 'rw_citations'] = citations\n",
    "            \n",
    "    # collect citations\n",
    "    df['full_citations'] = ''\n",
    "    \n",
    "    for i in df.index:\n",
    "        if i in df_pdf.index:\n",
    "            full_textl = df_pdf.at[i, 'body_text']\n",
    "            bibl = df_pdf.at[i, 'bib_entries']\n",
    "            citations = find_cite(full_textl, bibl)\n",
    "            df.at[i, 'full_citations'] = citations\n",
    "\n",
    "    # Remove papers that don't have citations in related work sections and body texts        \n",
    "    data_processed = df.loc[(df.rw_citations != '') & (df.full_citations != '')]\n",
    "    \n",
    "    pd.options.mode.chained_assignment = None\n",
    "            \n",
    "    # Remove papars that have fewer than four citation in the related work section\n",
    "    for i in data_processed.index:\n",
    "        data_processed.at[i, 'length'] = int(len(data_processed.loc[i, 'rw_citations']))\n",
    "    data_processed = data_processed.loc[data_processed.length > 4].iloc[:, :-1]        \n",
    "            \n",
    "    return data_processed"
   ]
  },
  {
   "cell_type": "code",
   "execution_count": 21,
   "metadata": {},
   "outputs": [
    {
     "name": "stdout",
     "output_type": "stream",
     "text": [
      "pdf_parses_0.jsonl filtered\n",
      "pdf_parses_1.jsonl filtered\n",
      "pdf_parses_10.jsonl filtered\n",
      "pdf_parses_11.jsonl filtered\n",
      "pdf_parses_12.jsonl filtered\n",
      "pdf_parses_13.jsonl filtered\n",
      "pdf_parses_14.jsonl filtered\n",
      "pdf_parses_15.jsonl filtered\n",
      "pdf_parses_16.jsonl filtered\n",
      "pdf_parses_17.jsonl filtered\n",
      "pdf_parses_18.jsonl filtered\n",
      "pdf_parses_19.jsonl filtered\n",
      "pdf_parses_2.jsonl filtered\n",
      "pdf_parses_20.jsonl filtered\n",
      "pdf_parses_21.jsonl filtered\n",
      "pdf_parses_22.jsonl filtered\n",
      "pdf_parses_23.jsonl filtered\n",
      "pdf_parses_24.jsonl filtered\n",
      "pdf_parses_25.jsonl filtered\n",
      "pdf_parses_26.jsonl filtered\n",
      "pdf_parses_27.jsonl filtered\n",
      "pdf_parses_28.jsonl filtered\n",
      "pdf_parses_29.jsonl filtered\n",
      "pdf_parses_3.jsonl filtered\n",
      "pdf_parses_30.jsonl filtered\n",
      "pdf_parses_31.jsonl filtered\n",
      "pdf_parses_32.jsonl filtered\n",
      "pdf_parses_33.jsonl filtered\n",
      "pdf_parses_34.jsonl filtered\n",
      "pdf_parses_35.jsonl filtered\n",
      "pdf_parses_36.jsonl filtered\n",
      "pdf_parses_37.jsonl filtered\n",
      "pdf_parses_38.jsonl filtered\n",
      "pdf_parses_39.jsonl filtered\n",
      "pdf_parses_4.jsonl filtered\n",
      "pdf_parses_40.jsonl filtered\n",
      "pdf_parses_41.jsonl filtered\n",
      "pdf_parses_42.jsonl filtered\n",
      "pdf_parses_43.jsonl filtered\n",
      "pdf_parses_44.jsonl filtered\n",
      "pdf_parses_45.jsonl filtered\n",
      "pdf_parses_46.jsonl filtered\n",
      "pdf_parses_47.jsonl filtered\n",
      "pdf_parses_48.jsonl filtered\n",
      "pdf_parses_49.jsonl filtered\n",
      "pdf_parses_5.jsonl filtered\n",
      "pdf_parses_50.jsonl filtered\n",
      "pdf_parses_51.jsonl filtered\n",
      "pdf_parses_52.jsonl filtered\n",
      "pdf_parses_53.jsonl filtered\n",
      "pdf_parses_54.jsonl filtered\n",
      "pdf_parses_55.jsonl filtered\n",
      "pdf_parses_56.jsonl filtered\n",
      "pdf_parses_57.jsonl filtered\n",
      "pdf_parses_58.jsonl filtered\n",
      "pdf_parses_59.jsonl filtered\n",
      "pdf_parses_6.jsonl filtered\n",
      "pdf_parses_60.jsonl filtered\n",
      "pdf_parses_61.jsonl filtered\n",
      "pdf_parses_62.jsonl filtered\n",
      "pdf_parses_63.jsonl filtered\n",
      "pdf_parses_64.jsonl filtered\n",
      "pdf_parses_65.jsonl filtered\n",
      "pdf_parses_66.jsonl filtered\n",
      "pdf_parses_67.jsonl filtered\n",
      "pdf_parses_68.jsonl filtered\n",
      "pdf_parses_69.jsonl filtered\n",
      "pdf_parses_7.jsonl filtered\n",
      "pdf_parses_70.jsonl filtered\n",
      "pdf_parses_71.jsonl filtered\n",
      "pdf_parses_72.jsonl filtered\n",
      "pdf_parses_73.jsonl filtered\n",
      "pdf_parses_74.jsonl filtered\n",
      "pdf_parses_75.jsonl filtered\n",
      "pdf_parses_76.jsonl filtered\n",
      "pdf_parses_77.jsonl filtered\n",
      "pdf_parses_78.jsonl filtered\n",
      "pdf_parses_79.jsonl filtered\n",
      "pdf_parses_8.jsonl filtered\n",
      "pdf_parses_80.jsonl filtered\n",
      "pdf_parses_81.jsonl filtered\n",
      "pdf_parses_82.jsonl filtered\n",
      "pdf_parses_83.jsonl filtered\n",
      "pdf_parses_84.jsonl filtered\n",
      "pdf_parses_85.jsonl filtered\n",
      "pdf_parses_86.jsonl filtered\n",
      "pdf_parses_87.jsonl filtered\n",
      "pdf_parses_88.jsonl filtered\n",
      "pdf_parses_89.jsonl filtered\n",
      "pdf_parses_9.jsonl filtered\n",
      "pdf_parses_90.jsonl filtered\n",
      "pdf_parses_91.jsonl filtered\n",
      "pdf_parses_92.jsonl filtered\n",
      "pdf_parses_93.jsonl filtered\n",
      "pdf_parses_94.jsonl filtered\n",
      "pdf_parses_95.jsonl filtered\n",
      "pdf_parses_96.jsonl filtered\n",
      "pdf_parses_97.jsonl filtered\n",
      "pdf_parses_98.jsonl filtered\n",
      "pdf_parses_99.jsonl filtered\n"
     ]
    }
   ],
   "source": [
    "meta_dir = '../dataset/SS/metadata/CS/'\n",
    "pdf_dir = '../dataset/SS/pdf_parses/CS/'\n",
    "\n",
    "meta_files = os.listdir(meta_dir)\n",
    "pdf_files = os.listdir(pdf_dir)\n",
    "\n",
    "\n",
    "for i in np.arange(len(meta_files)):\n",
    "    \n",
    "    meta_list = []\n",
    "    \n",
    "    with open(os.path.join(meta_dir, meta_files[i]), 'r') as json_file:\n",
    "        json_list = list(json_file)\n",
    "        \n",
    "        for json_str in json_list:\n",
    "            result = json.loads(json_str)\n",
    "            meta_list.append(result)\n",
    "        \n",
    "    pdf_list = []\n",
    "\n",
    "    with open(os.path.join(pdf_dir, pdf_files[i]), 'r') as json_file:\n",
    "        json_list = list(json_file)\n",
    "        \n",
    "        for json_str in json_list:\n",
    "            result = json.loads(json_str)\n",
    "            pdf_list.append(result) \n",
    "            \n",
    "    df_meta = pd.DataFrame(meta_list)\n",
    "    df_meta = df_meta.set_index('paper_id')\n",
    "    \n",
    "    df_pdf = pd.DataFrame(pdf_list)\n",
    "    df_pdf = df_pdf.set_index('paper_id')\n",
    "    \n",
    "    data_processed = data_preprocessor(df_meta, df_pdf)\n",
    "    \n",
    "    if i == 0:\n",
    "        df = data_processed\n",
    "        print(pdf_files[i], 'filtered')\n",
    "    else:\n",
    "        df = df.append(data_processed)\n",
    "        print(pdf_files[i], 'filtered')"
   ]
  },
  {
   "cell_type": "code",
   "execution_count": 24,
   "metadata": {},
   "outputs": [],
   "source": [
    "df.to_pickle('../dataset/SS/clean/filtered_data.pkl')"
   ]
  },
  {
   "cell_type": "markdown",
   "metadata": {},
   "source": [
    "## Sentence Split"
   ]
  },
  {
   "cell_type": "code",
   "execution_count": null,
   "metadata": {},
   "outputs": [],
   "source": [
    "pd.options.mode.chained_assignment = None\n",
    "\n",
    "col_names = ['abstract', 'full_text', 'related_work_text']\n",
    "\n",
    "for col in col_names:\n",
    "    new_col = col + \"_split\"\n",
    "    df.at[:, new_col] = df[col]\n",
    "\n",
    "for i in data_processed.index:\n",
    "    for col in col_names:\n",
    "        new_col = col + \"_split\"\n",
    "        df.at[i, new_col] = nltk.tokenize.sent_tokenize(df.loc[i, col])"
   ]
  },
  {
   "cell_type": "markdown",
   "metadata": {},
   "source": [
    "## Data Visualization"
   ]
  },
  {
   "cell_type": "code",
   "execution_count": 3,
   "metadata": {},
   "outputs": [],
   "source": [
    "df = pd.read_pickle('../dataset/SS/clean/filtered_data.pkl')"
   ]
  },
  {
   "cell_type": "code",
   "execution_count": 4,
   "metadata": {},
   "outputs": [
    {
     "data": {
      "text/plain": [
       "27417"
      ]
     },
     "execution_count": 4,
     "metadata": {},
     "output_type": "execute_result"
    }
   ],
   "source": [
    "len(df)"
   ]
  },
  {
   "cell_type": "code",
   "execution_count": 5,
   "metadata": {},
   "outputs": [
    {
     "data": {
      "text/html": [
       "<div>\n",
       "<style scoped>\n",
       "    .dataframe tbody tr th:only-of-type {\n",
       "        vertical-align: middle;\n",
       "    }\n",
       "\n",
       "    .dataframe tbody tr th {\n",
       "        vertical-align: top;\n",
       "    }\n",
       "\n",
       "    .dataframe thead th {\n",
       "        text-align: right;\n",
       "    }\n",
       "</style>\n",
       "<table border=\"1\" class=\"dataframe\">\n",
       "  <thead>\n",
       "    <tr style=\"text-align: right;\">\n",
       "      <th></th>\n",
       "      <th>title</th>\n",
       "      <th>abstract</th>\n",
       "      <th>relatedwork_text</th>\n",
       "      <th>main_text</th>\n",
       "      <th>rw_citations</th>\n",
       "      <th>full_citations</th>\n",
       "    </tr>\n",
       "    <tr>\n",
       "      <th>paper_id</th>\n",
       "      <th></th>\n",
       "      <th></th>\n",
       "      <th></th>\n",
       "      <th></th>\n",
       "      <th></th>\n",
       "      <th></th>\n",
       "    </tr>\n",
       "  </thead>\n",
       "  <tbody>\n",
       "    <tr>\n",
       "      <th>859921</th>\n",
       "      <td>Summarizing Reviews with Variable-length Synta...</td>\n",
       "      <td>Abstract. We present a novel summarization fra...</td>\n",
       "      <td>We first look at how text excerpts are extract...</td>\n",
       "      <td>Abstract. We present a novel summarization fra...</td>\n",
       "      <td>[5965756, 1599046, 3177797, 444032, 6884774]</td>\n",
       "      <td>[1599046, 11055565, 16393334, 2481864, 5965756...</td>\n",
       "    </tr>\n",
       "    <tr>\n",
       "      <th>129124</th>\n",
       "      <td>Can Document Selection Help Semi-supervised Le...</td>\n",
       "      <td>Annotating training data for event extraction ...</td>\n",
       "      <td>Self-training has been applied to several natu...</td>\n",
       "      <td>Annotating training data for event extraction ...</td>\n",
       "      <td>[1398439, 7419156, 11187670, 8336242, 15894892...</td>\n",
       "      <td>[1398439, 7419156, 7579604, 11187670, 8336242,...</td>\n",
       "    </tr>\n",
       "    <tr>\n",
       "      <th>1345235</th>\n",
       "      <td>Optimizing Sparse Matrix–Vector Product Comput...</td>\n",
       "      <td>Large-scale scientific applications frequently...</td>\n",
       "      <td>A variety of different data and computation re...</td>\n",
       "      <td>Large-scale scientific applications frequently...</td>\n",
       "      <td>[1794629, 9580801, 120335238, 15090599, 208582...</td>\n",
       "      <td>[1794629, 9580801, 120335238, 15090599, 208582...</td>\n",
       "    </tr>\n",
       "    <tr>\n",
       "      <th>2624639</th>\n",
       "      <td>Enhanced Chosen-Ciphertext Security and Applic...</td>\n",
       "      <td>We introduce and study a new notion of enhance...</td>\n",
       "      <td>ECCA is similar in spirit to coin-revealing se...</td>\n",
       "      <td>We introduce and study a new notion of enhance...</td>\n",
       "      <td>[41204165, 19655, 235427, 226828, 3148885]</td>\n",
       "      <td>[443317, 41204165, 7113862, 10098664, 226828, ...</td>\n",
       "    </tr>\n",
       "    <tr>\n",
       "      <th>146120525</th>\n",
       "      <td>ARSM: Augment-REINFORCE-Swap-Merge Estimator f...</td>\n",
       "      <td>To address the challenge of backpropagating th...</td>\n",
       "      <td>For optimizing (1) for categorical z, the diff...</td>\n",
       "      <td>To address the challenge of backpropagating th...</td>\n",
       "      <td>[3535369, 5859948, 1758804, 10756562, 19115634...</td>\n",
       "      <td>[121929631, 4043645, 5859948, 7195970, 1075656...</td>\n",
       "    </tr>\n",
       "  </tbody>\n",
       "</table>\n",
       "</div>"
      ],
      "text/plain": [
       "                                                       title  \\\n",
       "paper_id                                                       \n",
       "859921     Summarizing Reviews with Variable-length Synta...   \n",
       "129124     Can Document Selection Help Semi-supervised Le...   \n",
       "1345235    Optimizing Sparse Matrix–Vector Product Comput...   \n",
       "2624639    Enhanced Chosen-Ciphertext Security and Applic...   \n",
       "146120525  ARSM: Augment-REINFORCE-Swap-Merge Estimator f...   \n",
       "\n",
       "                                                    abstract  \\\n",
       "paper_id                                                       \n",
       "859921     Abstract. We present a novel summarization fra...   \n",
       "129124     Annotating training data for event extraction ...   \n",
       "1345235    Large-scale scientific applications frequently...   \n",
       "2624639    We introduce and study a new notion of enhance...   \n",
       "146120525  To address the challenge of backpropagating th...   \n",
       "\n",
       "                                            relatedwork_text  \\\n",
       "paper_id                                                       \n",
       "859921     We first look at how text excerpts are extract...   \n",
       "129124     Self-training has been applied to several natu...   \n",
       "1345235    A variety of different data and computation re...   \n",
       "2624639    ECCA is similar in spirit to coin-revealing se...   \n",
       "146120525  For optimizing (1) for categorical z, the diff...   \n",
       "\n",
       "                                                   main_text  \\\n",
       "paper_id                                                       \n",
       "859921     Abstract. We present a novel summarization fra...   \n",
       "129124     Annotating training data for event extraction ...   \n",
       "1345235    Large-scale scientific applications frequently...   \n",
       "2624639    We introduce and study a new notion of enhance...   \n",
       "146120525  To address the challenge of backpropagating th...   \n",
       "\n",
       "                                                rw_citations  \\\n",
       "paper_id                                                       \n",
       "859921          [5965756, 1599046, 3177797, 444032, 6884774]   \n",
       "129124     [1398439, 7419156, 11187670, 8336242, 15894892...   \n",
       "1345235    [1794629, 9580801, 120335238, 15090599, 208582...   \n",
       "2624639           [41204165, 19655, 235427, 226828, 3148885]   \n",
       "146120525  [3535369, 5859948, 1758804, 10756562, 19115634...   \n",
       "\n",
       "                                              full_citations  \n",
       "paper_id                                                      \n",
       "859921     [1599046, 11055565, 16393334, 2481864, 5965756...  \n",
       "129124     [1398439, 7419156, 7579604, 11187670, 8336242,...  \n",
       "1345235    [1794629, 9580801, 120335238, 15090599, 208582...  \n",
       "2624639    [443317, 41204165, 7113862, 10098664, 226828, ...  \n",
       "146120525  [121929631, 4043645, 5859948, 7195970, 1075656...  "
      ]
     },
     "execution_count": 5,
     "metadata": {},
     "output_type": "execute_result"
    }
   ],
   "source": [
    "df.head()"
   ]
  },
  {
   "cell_type": "code",
   "execution_count": 6,
   "metadata": {},
   "outputs": [],
   "source": [
    "from matplotlib import pyplot as plt"
   ]
  },
  {
   "cell_type": "code",
   "execution_count": 8,
   "metadata": {},
   "outputs": [
    {
     "data": {
      "image/png": "[encoded data removed]",
      "text/plain": [
       "<Figure size 432x288 with 1 Axes>"
      ]
     },
     "metadata": {
      "needs_background": "light"
     },
     "output_type": "display_data"
    }
   ],
   "source": [
    "# number of citations in each paper from full text\n",
    "\n",
    "body_counts = []\n",
    "for paper_id in df.index:\n",
    "    current_count = len(df.loc[paper_id, 'full_citations'])\n",
    "    body_counts.append(current_count)\n",
    "\n",
    "plt.hist(body_counts)\n",
    "plt.title('Number of citations from full text in each paper')\n",
    "plt.xlabel('Citation Cnt')\n",
    "plt.ylabel('Paper Cnt')\n",
    "plt.show()"
   ]
  },
  {
   "cell_type": "code",
   "execution_count": 9,
   "metadata": {},
   "outputs": [
    {
     "name": "stdout",
     "output_type": "stream",
     "text": [
      "The minimum of citations in body text is 5\n",
      "The maximum of citations in body text is 225\n",
      "The average of citations in body text is 27\n"
     ]
    }
   ],
   "source": [
    "print(\"The minimum of citations in body text is\", min(body_counts))\n",
    "print(\"The maximum of citations in body text is\", max(body_counts))\n",
    "print('The average of citations in body text is', round(np.mean(body_counts)))"
   ]
  },
  {
   "cell_type": "code",
   "execution_count": 10,
   "metadata": {},
   "outputs": [
    {
     "data": {
      "image/png": "[encoded data removed]",
      "text/plain": [
       "<Figure size 432x288 with 1 Axes>"
      ]
     },
     "metadata": {
      "needs_background": "light"
     },
     "output_type": "display_data"
    }
   ],
   "source": [
    "# number of citations in each paper from related work sections\n",
    "\n",
    "related_work_counts = []\n",
    "for paper_id in df.index:\n",
    "    current_count = len(df.loc[paper_id, 'rw_citations'])\n",
    "    related_work_counts.append(current_count)\n",
    "\n",
    "plt.hist(related_work_counts, 5)\n",
    "plt.title('Number of citations from related work section in each paper')\n",
    "plt.xlabel('Citation Cnt')\n",
    "plt.ylabel('Paper Cnt')\n",
    "plt.show()"
   ]
  },
  {
   "cell_type": "code",
   "execution_count": 11,
   "metadata": {},
   "outputs": [
    {
     "name": "stdout",
     "output_type": "stream",
     "text": [
      "The minimum of citations in related work section is 5\n",
      "The maximum of citations in related work section is 107\n",
      "The average of citations in related work is 8\n"
     ]
    }
   ],
   "source": [
    "print(\"The minimum of citations in related work section is\", min(related_work_counts))\n",
    "print(\"The maximum of citations in related work section is\", max(related_work_counts))\n",
    "print('The average of citations in related work is', round(np.mean(related_work_counts)))"
   ]
  },
  {
   "cell_type": "code",
   "execution_count": 15,
   "metadata": {},
   "outputs": [
    {
     "name": "stdout",
     "output_type": "stream",
     "text": [
      "29.74% of cited papers appear in filtered dataset\n"
     ]
    }
   ],
   "source": [
    "full_cite = [x for subset in df.full_citations for x in subset]\n",
    "total_cite = set(full_cite)\n",
    "\n",
    "cite_count = sum([True for x in list(total_cite) if x in df.index])\n",
    "        \n",
    "cite_perc = (cite_count/df.shape[0])*100\n",
    "\n",
    "print ('{0:.2f}% of cited papers appear in filtered dataset'.format(cite_perc))"
   ]
  },
  {
   "cell_type": "code",
   "execution_count": 16,
   "metadata": {},
   "outputs": [
    {
     "name": "stdout",
     "output_type": "stream",
     "text": [
      "The number of papers in filtered dataset is 27417\n",
      "The number of cited papers in filtered dataset is 8154\n"
     ]
    }
   ],
   "source": [
    "print('The number of papers in filtered dataset is', len(df))\n",
    "print('The number of cited papers in filtered dataset is', cite_count)"
   ]
  },
  {
   "cell_type": "code",
   "execution_count": null,
   "metadata": {},
   "outputs": [],
   "source": []
  }
 ],
 "metadata": {
  "kernelspec": {
   "display_name": "Python 3 (ipykernel)",
   "language": "python",
   "name": "python3"
  },
  "language_info": {
   "codemirror_mode": {
    "name": "ipython",
    "version": 3
   },
   "file_extension": ".py",
   "mimetype": "text/x-python",
   "name": "python",
   "nbconvert_exporter": "python",
   "pygments_lexer": "ipython3",
   "version": "3.8.8"
  }
 },
 "nbformat": 4,
 "nbformat_minor": 4
}
