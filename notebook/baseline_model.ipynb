{
 "cells": [
  {
   "cell_type": "markdown",
   "id": "67982fc4",
   "metadata": {},
   "source": [
    "# Lex Rank"
   ]
  },
  {
   "cell_type": "code",
   "execution_count": 1,
   "id": "d7459db2",
   "metadata": {},
   "outputs": [],
   "source": [
    "### run this cell at first time\n",
    "# !pip install sumy\n",
    "# import nltk\n",
    "# nltk.download('punkt')"
   ]
  },
  {
   "cell_type": "code",
   "execution_count": 2,
   "id": "5baf2dd6",
   "metadata": {},
   "outputs": [],
   "source": [
    "from sumy.parsers.plaintext import PlaintextParser\n",
    "from sumy.nlp.tokenizers import Tokenizer\n",
    "from sumy.summarizers.lex_rank import LexRankSummarizer"
   ]
  },
  {
   "cell_type": "code",
   "execution_count": 3,
   "id": "3b72efbd",
   "metadata": {},
   "outputs": [],
   "source": [
    "def lexrank(text, n):\n",
    "    # text: a plaintext to generate summary of\n",
    "    # n: number of sentences in the summary\n",
    "    my_parser = PlaintextParser.from_string(text, Tokenizer('english'))\n",
    "    lexrank_summarizer = LexRankSummarizer()\n",
    "    lexrank_summary = lexrank_summarizer(my_parser.document, sentences_count=n)\n",
    "    \n",
    "    res = ''\n",
    "    for sentence in lexrank_summary:\n",
    "        res = res + ' ' + str(sentence)\n",
    "        \n",
    "    return res"
   ]
  },
  {
   "cell_type": "code",
   "execution_count": 4,
   "id": "3efdc97a",
   "metadata": {},
   "outputs": [],
   "source": [
    "test_text='Junk foods taste good that’s why it is mostly liked by everyone of any age group especially kids and school going children. They generally ask for the junk food daily because they have been trend so by their parents from the childhood. They never have been discussed by their parents about the harmful effects of junk foods over health. According to the research by scientists, it has been found that junk foods have negative effects on the health in many ways. They are generally fried food found in the market in the packets. They become high in calories, high in cholesterol, low in healthy nutrients, high in sodium mineral, high in sugar, starch, unhealthy fat, lack of protein and lack of dietary fibers. Processed and junk foods are the means of rapid and unhealthy weight gain and negatively impact the whole body throughout the life. It makes able a person to gain excessive weight which is called as obesity. Junk foods tastes good and looks good however do not fulfil the healthy calorie requirement of the body. Some of the foods like french fries, fried foods, pizza, burgers, candy, soft drinks, baked goods, ice cream, cookies, etc are the example of high-sugar and high-fat containing foods. It is found according to the Centres for Disease Control and Prevention that Kids and children eating junk food are more prone to the type-2 diabetes. In type-2 diabetes our body become unable to regulate blood sugar level. Risk of getting this disease is increasing as one become more obese or overweight. It increases the risk of kidney failure. Eating junk food daily lead us to the nutritional deficiencies in the body because it is lack of essential nutrients, vitamins, iron, minerals and dietary fibers. It increases risk of cardiovascular diseases because it is rich in saturated fat, sodium and bad cholesterol. High sodium and bad cholesterol diet increases blood pressure and overloads the heart functioning. One who like junk food develop more risk to put on extra weight and become fatter and unhealthier. Junk foods contain high level carbohydrate which spike blood sugar level and make person more lethargic, sleepy and less active and alert. Reflexes and senses of the people eating this food become dull day by day thus they live more sedentary life. Junk foods are the source of constipation and other disease like diabetes, heart ailments, clogged arteries, heart attack, strokes, etc because of being poor in nutrition. Junk food is the easiest way to gain unhealthy weight. The amount of fats and sugar in the food makes you gain weight rapidly. However, this is not a healthy weight. It is more of fats and cholesterol which will have a harmful impact on your health. Junk food is also one of the main reasons for the increase in obesity nowadays.This food only looks and tastes good, other than that, it has no positive points. The amount of calorie your body requires to stay fit is not fulfilled by this food. For instance, foods like French fries, burgers, candy, and cookies, all have high amounts of sugar and fats. Therefore, this can result in long-term illnesses like diabetes and high blood pressure. This may also result in kidney failure. Above all, you can get various nutritional deficiencies when you don’t consume the essential nutrients, vitamins, minerals and more. You become prone to cardiovascular diseases due to the consumption of bad cholesterol and fat plus sodium. In other words, all this interferes with the functioning of your heart. Furthermore, junk food contains a higher level of carbohydrates. It will instantly spike your blood sugar levels. This will result in lethargy, inactiveness, and sleepiness. A person reflex becomes dull overtime and they lead an inactive life. To make things worse, junk food also clogs your arteries and increases the risk of a heart attack. Therefore, it must be avoided at the first instance to save your life from becoming ruined.The main problem with junk food is that people don’t realize its ill effects now. When the time comes, it is too late. Most importantly, the issue is that it does not impact you instantly. It works on your overtime; you will face the consequences sooner or later. Thus, it is better to stop now.You can avoid junk food by encouraging your children from an early age to eat green vegetables. Their taste buds must be developed as such that they find healthy food tasty. Moreover, try to mix things up. Do not serve the same green vegetable daily in the same style. Incorporate different types of healthy food in their diet following different recipes. This will help them to try foods at home rather than being attracted to junk food.In short, do not deprive them completely of it as that will not help. Children will find one way or the other to have it. Make sure you give them junk food in limited quantities and at healthy periods of time. '"
   ]
  },
  {
   "cell_type": "code",
   "execution_count": 5,
   "id": "2a0a351d",
   "metadata": {},
   "outputs": [
    {
     "name": "stdout",
     "output_type": "stream",
     "text": [
      " Junk foods tastes good and looks good however do not fulfil the healthy calorie requirement of the body. It is found according to the Centres for Disease Control and Prevention that Kids and children eating junk food are more prone to the type-2 diabetes. It is more of fats and cholesterol which will have a harmful impact on your health. To make things worse, junk food also clogs your arteries and increases the risk of a heart attack. Children will find one way or the other to have it.\n"
     ]
    }
   ],
   "source": [
    "print(lexrank(test_text, 5))"
   ]
  },
  {
   "cell_type": "markdown",
   "id": "3c026f8e",
   "metadata": {},
   "source": [
    "# Bart"
   ]
  },
  {
   "cell_type": "code",
   "execution_count": 6,
   "id": "cff2ab23",
   "metadata": {},
   "outputs": [],
   "source": [
    "### run this cell at first time\n",
    "### Bart requires the PyTorch library, you can use Anaconda to install one that matches your environment\n",
    "# !pip install transformers"
   ]
  },
  {
   "cell_type": "code",
   "execution_count": 7,
   "id": "500aa249",
   "metadata": {},
   "outputs": [],
   "source": [
    "from transformers import BartForConditionalGeneration, BartTokenizer, BartConfig"
   ]
  },
  {
   "cell_type": "code",
   "execution_count": 8,
   "id": "20129105",
   "metadata": {},
   "outputs": [],
   "source": [
    "tokenizer = BartTokenizer.from_pretrained('facebook/bart-large-cnn')\n",
    "model = BartForConditionalGeneration.from_pretrained('facebook/bart-large-cnn')\n",
    "\n",
    "def bart(text):\n",
    "    inputs = tokenizer.batch_encode_plus([text],return_tensors='pt')\n",
    "    summary_ids = model.generate(inputs['input_ids'], early_stopping=True)\n",
    "    bart_summary = tokenizer.decode(summary_ids[0], skip_special_tokens=True)\n",
    "    return bart_summary"
   ]
  },
  {
   "cell_type": "code",
   "execution_count": 9,
   "id": "82898f5e",
   "metadata": {},
   "outputs": [],
   "source": [
    "test_text='Junk foods taste good that’s why it is mostly liked by everyone of any age group especially kids and school going children. They generally ask for the junk food daily because they have been trend so by their parents from the childhood. They never have been discussed by their parents about the harmful effects of junk foods over health. According to the research by scientists, it has been found that junk foods have negative effects on the health in many ways. They are generally fried food found in the market in the packets. They become high in calories, high in cholesterol, low in healthy nutrients, high in sodium mineral, high in sugar, starch, unhealthy fat, lack of protein and lack of dietary fibers. Processed and junk foods are the means of rapid and unhealthy weight gain and negatively impact the whole body throughout the life. It makes able a person to gain excessive weight which is called as obesity. Junk foods tastes good and looks good however do not fulfil the healthy calorie requirement of the body. Some of the foods like french fries, fried foods, pizza, burgers, candy, soft drinks, baked goods, ice cream, cookies, etc are the example of high-sugar and high-fat containing foods. It is found according to the Centres for Disease Control and Prevention that Kids and children eating junk food are more prone to the type-2 diabetes. In type-2 diabetes our body become unable to regulate blood sugar level. Risk of getting this disease is increasing as one become more obese or overweight. It increases the risk of kidney failure. Eating junk food daily lead us to the nutritional deficiencies in the body because it is lack of essential nutrients, vitamins, iron, minerals and dietary fibers. It increases risk of cardiovascular diseases because it is rich in saturated fat, sodium and bad cholesterol. High sodium and bad cholesterol diet increases blood pressure and overloads the heart functioning. One who like junk food develop more risk to put on extra weight and become fatter and unhealthier. Junk foods contain high level carbohydrate which spike blood sugar level and make person more lethargic, sleepy and less active and alert. Reflexes and senses of the people eating this food become dull day by day thus they live more sedentary life. Junk foods are the source of constipation and other disease like diabetes, heart ailments, clogged arteries, heart attack, strokes, etc because of being poor in nutrition. Junk food is the easiest way to gain unhealthy weight. The amount of fats and sugar in the food makes you gain weight rapidly. However, this is not a healthy weight. It is more of fats and cholesterol which will have a harmful impact on your health. Junk food is also one of the main reasons for the increase in obesity nowadays.This food only looks and tastes good, other than that, it has no positive points. The amount of calorie your body requires to stay fit is not fulfilled by this food. For instance, foods like French fries, burgers, candy, and cookies, all have high amounts of sugar and fats. Therefore, this can result in long-term illnesses like diabetes and high blood pressure. This may also result in kidney failure. Above all, you can get various nutritional deficiencies when you don’t consume the essential nutrients, vitamins, minerals and more. You become prone to cardiovascular diseases due to the consumption of bad cholesterol and fat plus sodium. In other words, all this interferes with the functioning of your heart. Furthermore, junk food contains a higher level of carbohydrates. It will instantly spike your blood sugar levels. This will result in lethargy, inactiveness, and sleepiness. A person reflex becomes dull overtime and they lead an inactive life. To make things worse, junk food also clogs your arteries and increases the risk of a heart attack. Therefore, it must be avoided at the first instance to save your life from becoming ruined.The main problem with junk food is that people don’t realize its ill effects now. When the time comes, it is too late. Most importantly, the issue is that it does not impact you instantly. It works on your overtime; you will face the consequences sooner or later. Thus, it is better to stop now.You can avoid junk food by encouraging your children from an early age to eat green vegetables. Their taste buds must be developed as such that they find healthy food tasty. Moreover, try to mix things up. Do not serve the same green vegetable daily in the same style. Incorporate different types of healthy food in their diet following different recipes. This will help them to try foods at home rather than being attracted to junk food.In short, do not deprive them completely of it as that will not help. Children will find one way or the other to have it. Make sure you give them junk food in limited quantities and at healthy periods of time. '"
   ]
  },
  {
   "cell_type": "code",
   "execution_count": 10,
   "id": "a63f912d",
   "metadata": {},
   "outputs": [
    {
     "name": "stdout",
     "output_type": "stream",
     "text": [
      "Junk foods taste good that’s why it is mostly liked by everyone of any age group especially kids and school going children. They generally ask for the junk food daily because they have been trend so by their parents from the childhood. According to the research by scientists, it has been found that junk foods have negative effects on the health.\n"
     ]
    }
   ],
   "source": [
    "print(bart(test_text))"
   ]
  },
  {
   "cell_type": "markdown",
   "id": "4d07d81f",
   "metadata": {},
   "source": [
    "# ROUGE"
   ]
  },
  {
   "cell_type": "code",
   "execution_count": 11,
   "id": "ebb4a665",
   "metadata": {},
   "outputs": [],
   "source": [
    "### run this cell at first time\n",
    "# !pip install rouge"
   ]
  },
  {
   "cell_type": "code",
   "execution_count": 12,
   "id": "3caf60c4",
   "metadata": {},
   "outputs": [],
   "source": [
    "from rouge import Rouge"
   ]
  },
  {
   "cell_type": "code",
   "execution_count": 13,
   "id": "429040af",
   "metadata": {},
   "outputs": [],
   "source": [
    "t1 = lexrank(test_text, 5)\n",
    "t2 = bart(test_text)"
   ]
  },
  {
   "cell_type": "code",
   "execution_count": 14,
   "id": "31e57097",
   "metadata": {},
   "outputs": [],
   "source": [
    "def rouge_score(t1, t2):\n",
    "    # t1, t2: generated text and original text\n",
    "    my_rouge = Rouge()\n",
    "    score = my_rouge.get_scores(t1, t2)\n",
    "    rouge_1 = score[0]['rouge-1']['r']\n",
    "    rouge_2 = score[0]['rouge-2']['r']\n",
    "    rouge_l = score[0]['rouge-l']['r']\n",
    "    \n",
    "    return {'R1': rouge_1, 'R2': rouge_2, 'RL': rouge_l}"
   ]
  },
  {
   "cell_type": "code",
   "execution_count": 15,
   "id": "ddddb9c9",
   "metadata": {},
   "outputs": [
    {
     "data": {
      "text/plain": [
       "{'R1': 0.35294117647058826, 'R2': 0.05, 'RL': 0.3137254901960784}"
      ]
     },
     "execution_count": 15,
     "metadata": {},
     "output_type": "execute_result"
    }
   ],
   "source": [
    "rouge_score(t1, t2)"
   ]
  },
  {
   "cell_type": "markdown",
   "id": "9d080d69",
   "metadata": {},
   "source": [
    "# Combination"
   ]
  },
  {
   "cell_type": "markdown",
   "id": "19088157",
   "metadata": {},
   "source": [
    "### Workflow\n",
    "\n",
    "**Input:** (bodytext, related work section) <br><br>\n",
    "**->** (generated related work section, related work section) <br><br>\n",
    "**Output:** ROUGE score"
   ]
  },
  {
   "cell_type": "code",
   "execution_count": 16,
   "id": "a005f379",
   "metadata": {},
   "outputs": [],
   "source": [
    "def generate_score(bodytext, rwtext, n=10):\n",
    "    # bodytext: bodytext of the paper except related work section\n",
    "    # rwtext: related work section\n",
    "    # n: number of sentences for lexrank algorithm, default = 10\n",
    "    \n",
    "    lexrank_res = lexrank(bodytext, n)\n",
    "    bart_res = bart(bodytext)\n",
    "    \n",
    "    lexrank_score = rouge_score(rwtext, lexrank_res)\n",
    "    bart_score = rouge_score(rwtext, bart_res)\n",
    "    \n",
    "    return {'LexRank': lexrank_score, 'Bart': bart_score}"
   ]
  }
 ],
 "metadata": {
  "kernelspec": {
   "display_name": "Python 3 (ipykernel)",
   "language": "python",
   "name": "python3"
  },
  "language_info": {
   "codemirror_mode": {
    "name": "ipython",
    "version": 3
   },
   "file_extension": ".py",
   "mimetype": "text/x-python",
   "name": "python",
   "nbconvert_exporter": "python",
   "pygments_lexer": "ipython3",
   "version": "3.8.11"
  }
 },
 "nbformat": 4,
 "nbformat_minor": 5
}
