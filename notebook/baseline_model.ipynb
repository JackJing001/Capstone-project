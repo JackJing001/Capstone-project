{
 "cells": [
  {
   "cell_type": "markdown",
   "id": "7802a0eb",
   "metadata": {},
   "source": [
    "# Data loaded"
   ]
  },
  {
   "cell_type": "code",
   "execution_count": 1,
   "id": "e1728243",
   "metadata": {},
   "outputs": [],
   "source": [
    "import numpy as np\n",
    "import pandas as pd"
   ]
  },
  {
   "cell_type": "code",
   "execution_count": 2,
   "id": "f2ac2d52",
   "metadata": {},
   "outputs": [],
   "source": [
    "df = pd.read_pickle('../dataset/SS/clean/filtered_data.pkl')"
   ]
  },
  {
   "cell_type": "code",
   "execution_count": 39,
   "id": "b44dd90b",
   "metadata": {},
   "outputs": [],
   "source": [
    "data_sample = df.sample(frac=0.01, random_state=1)"
   ]
  },
  {
   "cell_type": "code",
   "execution_count": 40,
   "id": "3b8ab8e6",
   "metadata": {},
   "outputs": [
    {
     "data": {
      "text/html": [
       "<div>\n",
       "<style scoped>\n",
       "    .dataframe tbody tr th:only-of-type {\n",
       "        vertical-align: middle;\n",
       "    }\n",
       "\n",
       "    .dataframe tbody tr th {\n",
       "        vertical-align: top;\n",
       "    }\n",
       "\n",
       "    .dataframe thead th {\n",
       "        text-align: right;\n",
       "    }\n",
       "</style>\n",
       "<table border=\"1\" class=\"dataframe\">\n",
       "  <thead>\n",
       "    <tr style=\"text-align: right;\">\n",
       "      <th></th>\n",
       "      <th>title</th>\n",
       "      <th>abstract</th>\n",
       "      <th>full_text</th>\n",
       "      <th>body_text</th>\n",
       "      <th>related_work_text</th>\n",
       "      <th>related_work_pairs</th>\n",
       "      <th>body_pairs</th>\n",
       "    </tr>\n",
       "    <tr>\n",
       "      <th>paper_id</th>\n",
       "      <th></th>\n",
       "      <th></th>\n",
       "      <th></th>\n",
       "      <th></th>\n",
       "      <th></th>\n",
       "      <th></th>\n",
       "      <th></th>\n",
       "    </tr>\n",
       "  </thead>\n",
       "  <tbody>\n",
       "    <tr>\n",
       "      <th>7786925</th>\n",
       "      <td>Temporal reachability graphs</td>\n",
       "      <td>While a natural fit for modeling and understan...</td>\n",
       "      <td>While a natural fit for modeling and understan...</td>\n",
       "      <td>Permission to make digital or hard copies of a...</td>\n",
       "      <td>Adaptations of traditional static graph distan...</td>\n",
       "      <td>{'2910521': 'TVGs based on different waiting p...</td>\n",
       "      <td>{'4429113': 'Alternatively called temporal net...</td>\n",
       "    </tr>\n",
       "    <tr>\n",
       "      <th>7231337</th>\n",
       "      <td>Enhancing Language Models in Statistical Machi...</td>\n",
       "      <td>In this paper, with a belief that a language m...</td>\n",
       "      <td>In this paper, with a belief that a language m...</td>\n",
       "      <td>Language model is one of the most important kn...</td>\n",
       "      <td>Previous work devoted to improving language mo...</td>\n",
       "      <td>{'1345384': 'Since the context \"history\" in th...</td>\n",
       "      <td>{'13259913': 'Language model is one of the mos...</td>\n",
       "    </tr>\n",
       "    <tr>\n",
       "      <th>18372073</th>\n",
       "      <td>Bundle recommendation in ecommerce</td>\n",
       "      <td>Recommender system has become an important com...</td>\n",
       "      <td>Recommender system has become an important com...</td>\n",
       "      <td>Recommender system is one of the key component...</td>\n",
       "      <td>Recommender system has attracted a lot of atte...</td>\n",
       "      <td>{'207178809': 'Recommender system has attracte...</td>\n",
       "      <td>{'12438860': \"It allows eCommerce company to p...</td>\n",
       "    </tr>\n",
       "    <tr>\n",
       "      <th>17857735</th>\n",
       "      <td>Extending Recognition in a Changing Environment</td>\n",
       "      <td>We consider the task of visual recognition of ...</td>\n",
       "      <td>We consider the task of visual recognition of ...</td>\n",
       "      <td>The world around us is a dynamic environment, ...</td>\n",
       "      <td>We follow the paradigm of detecting and locali...</td>\n",
       "      <td>{'5264115': 'Epshtein and Ullman, 2007; Felzen...</td>\n",
       "      <td>{'1143910': 'For efficiency we use approximate...</td>\n",
       "    </tr>\n",
       "    <tr>\n",
       "      <th>14145146</th>\n",
       "      <td>Type-driven Development of Concurrent Communic...</td>\n",
       "      <td>Abstract Modern software systems rely on commu...</td>\n",
       "      <td>Abstract Modern software systems rely on commu...</td>\n",
       "      <td>Implementing communicating concurrent systems ...</td>\n",
       "      <td>The Idris virtual machine has message passing ...</td>\n",
       "      <td>{'2328392': 'The Idris virtual machine has mes...</td>\n",
       "      <td>{'6038950': \"In this paper, I describe a type-...</td>\n",
       "    </tr>\n",
       "  </tbody>\n",
       "</table>\n",
       "</div>"
      ],
      "text/plain": [
       "                                                      title  \\\n",
       "paper_id                                                      \n",
       "7786925                        Temporal reachability graphs   \n",
       "7231337   Enhancing Language Models in Statistical Machi...   \n",
       "18372073                 Bundle recommendation in ecommerce   \n",
       "17857735    Extending Recognition in a Changing Environment   \n",
       "14145146  Type-driven Development of Concurrent Communic...   \n",
       "\n",
       "                                                   abstract  \\\n",
       "paper_id                                                      \n",
       "7786925   While a natural fit for modeling and understan...   \n",
       "7231337   In this paper, with a belief that a language m...   \n",
       "18372073  Recommender system has become an important com...   \n",
       "17857735  We consider the task of visual recognition of ...   \n",
       "14145146  Abstract Modern software systems rely on commu...   \n",
       "\n",
       "                                                  full_text  \\\n",
       "paper_id                                                      \n",
       "7786925   While a natural fit for modeling and understan...   \n",
       "7231337   In this paper, with a belief that a language m...   \n",
       "18372073  Recommender system has become an important com...   \n",
       "17857735  We consider the task of visual recognition of ...   \n",
       "14145146  Abstract Modern software systems rely on commu...   \n",
       "\n",
       "                                                  body_text  \\\n",
       "paper_id                                                      \n",
       "7786925   Permission to make digital or hard copies of a...   \n",
       "7231337   Language model is one of the most important kn...   \n",
       "18372073  Recommender system is one of the key component...   \n",
       "17857735  The world around us is a dynamic environment, ...   \n",
       "14145146  Implementing communicating concurrent systems ...   \n",
       "\n",
       "                                          related_work_text  \\\n",
       "paper_id                                                      \n",
       "7786925   Adaptations of traditional static graph distan...   \n",
       "7231337   Previous work devoted to improving language mo...   \n",
       "18372073  Recommender system has attracted a lot of atte...   \n",
       "17857735  We follow the paradigm of detecting and locali...   \n",
       "14145146  The Idris virtual machine has message passing ...   \n",
       "\n",
       "                                         related_work_pairs  \\\n",
       "paper_id                                                      \n",
       "7786925   {'2910521': 'TVGs based on different waiting p...   \n",
       "7231337   {'1345384': 'Since the context \"history\" in th...   \n",
       "18372073  {'207178809': 'Recommender system has attracte...   \n",
       "17857735  {'5264115': 'Epshtein and Ullman, 2007; Felzen...   \n",
       "14145146  {'2328392': 'The Idris virtual machine has mes...   \n",
       "\n",
       "                                                 body_pairs  \n",
       "paper_id                                                     \n",
       "7786925   {'4429113': 'Alternatively called temporal net...  \n",
       "7231337   {'13259913': 'Language model is one of the mos...  \n",
       "18372073  {'12438860': \"It allows eCommerce company to p...  \n",
       "17857735  {'1143910': 'For efficiency we use approximate...  \n",
       "14145146  {'6038950': \"In this paper, I describe a type-...  "
      ]
     },
     "execution_count": 40,
     "metadata": {},
     "output_type": "execute_result"
    }
   ],
   "source": [
    "data_sample.head()"
   ]
  },
  {
   "cell_type": "code",
   "execution_count": 41,
   "id": "44c88fe2",
   "metadata": {},
   "outputs": [
    {
     "data": {
      "text/plain": [
       "229"
      ]
     },
     "execution_count": 41,
     "metadata": {},
     "output_type": "execute_result"
    }
   ],
   "source": [
    "len(data_sample)"
   ]
  },
  {
   "cell_type": "markdown",
   "id": "67982fc4",
   "metadata": {},
   "source": [
    "# Lex Rank"
   ]
  },
  {
   "cell_type": "code",
   "execution_count": null,
   "id": "d7459db2",
   "metadata": {},
   "outputs": [],
   "source": [
    "### run this cell at first time\n",
    "# !pip install sumy\n",
    "# import nltk\n",
    "# nltk.download('punkt')"
   ]
  },
  {
   "cell_type": "code",
   "execution_count": 6,
   "id": "5baf2dd6",
   "metadata": {},
   "outputs": [],
   "source": [
    "from sumy.parsers.plaintext import PlaintextParser\n",
    "from sumy.nlp.tokenizers import Tokenizer\n",
    "from sumy.summarizers.lex_rank import LexRankSummarizer"
   ]
  },
  {
   "cell_type": "code",
   "execution_count": 7,
   "id": "3b72efbd",
   "metadata": {},
   "outputs": [],
   "source": [
    "def lexrank(text, n):\n",
    "    # text: a plaintext to generate summary of\n",
    "    # n: number of sentences in the summary\n",
    "    my_parser = PlaintextParser.from_string(text, Tokenizer('english'))\n",
    "    lexrank_summarizer = LexRankSummarizer()\n",
    "    lexrank_summary = lexrank_summarizer(my_parser.document, sentences_count=n)\n",
    "    \n",
    "    res = ''\n",
    "    for sentence in lexrank_summary:\n",
    "        res = res + ' ' + str(sentence)\n",
    "        \n",
    "    return res"
   ]
  },
  {
   "cell_type": "code",
   "execution_count": null,
   "id": "3efdc97a",
   "metadata": {},
   "outputs": [],
   "source": [
    "test_text='Junk foods taste good that’s why it is mostly liked by everyone of any age group especially kids and school going children. They generally ask for the junk food daily because they have been trend so by their parents from the childhood. They never have been discussed by their parents about the harmful effects of junk foods over health. According to the research by scientists, it has been found that junk foods have negative effects on the health in many ways. They are generally fried food found in the market in the packets. They become high in calories, high in cholesterol, low in healthy nutrients, high in sodium mineral, high in sugar, starch, unhealthy fat, lack of protein and lack of dietary fibers. Processed and junk foods are the means of rapid and unhealthy weight gain and negatively impact the whole body throughout the life. It makes able a person to gain excessive weight which is called as obesity. Junk foods tastes good and looks good however do not fulfil the healthy calorie requirement of the body. Some of the foods like french fries, fried foods, pizza, burgers, candy, soft drinks, baked goods, ice cream, cookies, etc are the example of high-sugar and high-fat containing foods. It is found according to the Centres for Disease Control and Prevention that Kids and children eating junk food are more prone to the type-2 diabetes. In type-2 diabetes our body become unable to regulate blood sugar level. Risk of getting this disease is increasing as one become more obese or overweight. It increases the risk of kidney failure. Eating junk food daily lead us to the nutritional deficiencies in the body because it is lack of essential nutrients, vitamins, iron, minerals and dietary fibers. It increases risk of cardiovascular diseases because it is rich in saturated fat, sodium and bad cholesterol. High sodium and bad cholesterol diet increases blood pressure and overloads the heart functioning. One who like junk food develop more risk to put on extra weight and become fatter and unhealthier. Junk foods contain high level carbohydrate which spike blood sugar level and make person more lethargic, sleepy and less active and alert. Reflexes and senses of the people eating this food become dull day by day thus they live more sedentary life. Junk foods are the source of constipation and other disease like diabetes, heart ailments, clogged arteries, heart attack, strokes, etc because of being poor in nutrition. Junk food is the easiest way to gain unhealthy weight. The amount of fats and sugar in the food makes you gain weight rapidly. However, this is not a healthy weight. It is more of fats and cholesterol which will have a harmful impact on your health. Junk food is also one of the main reasons for the increase in obesity nowadays.This food only looks and tastes good, other than that, it has no positive points. The amount of calorie your body requires to stay fit is not fulfilled by this food. For instance, foods like French fries, burgers, candy, and cookies, all have high amounts of sugar and fats. Therefore, this can result in long-term illnesses like diabetes and high blood pressure. This may also result in kidney failure. Above all, you can get various nutritional deficiencies when you don’t consume the essential nutrients, vitamins, minerals and more. You become prone to cardiovascular diseases due to the consumption of bad cholesterol and fat plus sodium. In other words, all this interferes with the functioning of your heart. Furthermore, junk food contains a higher level of carbohydrates. It will instantly spike your blood sugar levels. This will result in lethargy, inactiveness, and sleepiness. A person reflex becomes dull overtime and they lead an inactive life. To make things worse, junk food also clogs your arteries and increases the risk of a heart attack. Therefore, it must be avoided at the first instance to save your life from becoming ruined.The main problem with junk food is that people don’t realize its ill effects now. When the time comes, it is too late. Most importantly, the issue is that it does not impact you instantly. It works on your overtime; you will face the consequences sooner or later. Thus, it is better to stop now.You can avoid junk food by encouraging your children from an early age to eat green vegetables. Their taste buds must be developed as such that they find healthy food tasty. Moreover, try to mix things up. Do not serve the same green vegetable daily in the same style. Incorporate different types of healthy food in their diet following different recipes. This will help them to try foods at home rather than being attracted to junk food.In short, do not deprive them completely of it as that will not help. Children will find one way or the other to have it. Make sure you give them junk food in limited quantities and at healthy periods of time. '"
   ]
  },
  {
   "cell_type": "code",
   "execution_count": 29,
   "id": "2a0a351d",
   "metadata": {},
   "outputs": [
    {
     "name": "stdout",
     "output_type": "stream",
     "text": [
      " Junk foods tastes good and looks good however do not fulfil the healthy calorie requirement of the body. It is found according to the Centres for Disease Control and Prevention that Kids and children eating junk food are more prone to the type-2 diabetes. The amount of fats and sugar in the food makes you gain weight rapidly. However, this is not a healthy weight. It is more of fats and cholesterol which will have a harmful impact on your health. To make things worse, junk food also clogs your arteries and increases the risk of a heart attack. This will help them to try foods at home rather than being attracted to junk food.In short, do not deprive them completely of it as that will not help. Children will find one way or the other to have it.\n"
     ]
    }
   ],
   "source": [
    "print(lexrank(test_text, 8))"
   ]
  },
  {
   "cell_type": "markdown",
   "id": "3c026f8e",
   "metadata": {},
   "source": [
    "# Bart"
   ]
  },
  {
   "cell_type": "code",
   "execution_count": null,
   "id": "cff2ab23",
   "metadata": {},
   "outputs": [],
   "source": [
    "### run this cell at first time\n",
    "### Bart requires the PyTorch library, you can use Anaconda to install one that matches your environment\n",
    "# !pip install transformers"
   ]
  },
  {
   "cell_type": "code",
   "execution_count": 8,
   "id": "500aa249",
   "metadata": {},
   "outputs": [],
   "source": [
    "from transformers import BartForConditionalGeneration, BartTokenizer, BartConfig"
   ]
  },
  {
   "cell_type": "code",
   "execution_count": 9,
   "id": "20129105",
   "metadata": {},
   "outputs": [],
   "source": [
    "tokenizer = BartTokenizer.from_pretrained('facebook/bart-large-cnn')\n",
    "model = BartForConditionalGeneration.from_pretrained('facebook/bart-large-cnn')"
   ]
  },
  {
   "cell_type": "code",
   "execution_count": 26,
   "id": "19ead823",
   "metadata": {},
   "outputs": [],
   "source": [
    "def bart(text):\n",
    "    inputs = tokenizer.batch_encode_plus([text], max_length=1024, return_tensors='pt', truncation=True)\n",
    "    summary_ids = model.generate(inputs['input_ids'], early_stopping=True, min_length = 200)\n",
    "    bart_summary = tokenizer.decode(summary_ids[0], skip_special_tokens=True)\n",
    "    return bart_summary"
   ]
  },
  {
   "cell_type": "code",
   "execution_count": 27,
   "id": "82898f5e",
   "metadata": {},
   "outputs": [],
   "source": [
    "test_text='Junk foods taste good that’s why it is mostly liked by everyone of any age group especially kids and school going children. They generally ask for the junk food daily because they have been trend so by their parents from the childhood. They never have been discussed by their parents about the harmful effects of junk foods over health. According to the research by scientists, it has been found that junk foods have negative effects on the health in many ways. They are generally fried food found in the market in the packets. They become high in calories, high in cholesterol, low in healthy nutrients, high in sodium mineral, high in sugar, starch, unhealthy fat, lack of protein and lack of dietary fibers. Processed and junk foods are the means of rapid and unhealthy weight gain and negatively impact the whole body throughout the life. It makes able a person to gain excessive weight which is called as obesity. Junk foods tastes good and looks good however do not fulfil the healthy calorie requirement of the body. Some of the foods like french fries, fried foods, pizza, burgers, candy, soft drinks, baked goods, ice cream, cookies, etc are the example of high-sugar and high-fat containing foods. It is found according to the Centres for Disease Control and Prevention that Kids and children eating junk food are more prone to the type-2 diabetes. In type-2 diabetes our body become unable to regulate blood sugar level. Risk of getting this disease is increasing as one become more obese or overweight. It increases the risk of kidney failure. Eating junk food daily lead us to the nutritional deficiencies in the body because it is lack of essential nutrients, vitamins, iron, minerals and dietary fibers. It increases risk of cardiovascular diseases because it is rich in saturated fat, sodium and bad cholesterol. High sodium and bad cholesterol diet increases blood pressure and overloads the heart functioning. One who like junk food develop more risk to put on extra weight and become fatter and unhealthier. Junk foods contain high level carbohydrate which spike blood sugar level and make person more lethargic, sleepy and less active and alert. Reflexes and senses of the people eating this food become dull day by day thus they live more sedentary life. Junk foods are the source of constipation and other disease like diabetes, heart ailments, clogged arteries, heart attack, strokes, etc because of being poor in nutrition. Junk food is the easiest way to gain unhealthy weight. The amount of fats and sugar in the food makes you gain weight rapidly. However, this is not a healthy weight. It is more of fats and cholesterol which will have a harmful impact on your health. Junk food is also one of the main reasons for the increase in obesity nowadays.This food only looks and tastes good, other than that, it has no positive points. The amount of calorie your body requires to stay fit is not fulfilled by this food. For instance, foods like French fries, burgers, candy, and cookies, all have high amounts of sugar and fats. Therefore, this can result in long-term illnesses like diabetes and high blood pressure. This may also result in kidney failure. Above all, you can get various nutritional deficiencies when you don’t consume the essential nutrients, vitamins, minerals and more. You become prone to cardiovascular diseases due to the consumption of bad cholesterol and fat plus sodium. In other words, all this interferes with the functioning of your heart. Furthermore, junk food contains a higher level of carbohydrates. It will instantly spike your blood sugar levels. This will result in lethargy, inactiveness, and sleepiness. A person reflex becomes dull overtime and they lead an inactive life. To make things worse, junk food also clogs your arteries and increases the risk of a heart attack. Therefore, it must be avoided at the first instance to save your life from becoming ruined.The main problem with junk food is that people don’t realize its ill effects now. When the time comes, it is too late. Most importantly, the issue is that it does not impact you instantly. It works on your overtime; you will face the consequences sooner or later. Thus, it is better to stop now.You can avoid junk food by encouraging your children from an early age to eat green vegetables. Their taste buds must be developed as such that they find healthy food tasty. Moreover, try to mix things up. Do not serve the same green vegetable daily in the same style. Incorporate different types of healthy food in their diet following different recipes. This will help them to try foods at home rather than being attracted to junk food.In short, do not deprive them completely of it as that will not help. Children will find one way or the other to have it. Make sure you give them junk food in limited quantities and at healthy periods of time. '"
   ]
  },
  {
   "cell_type": "code",
   "execution_count": 28,
   "id": "a63f912d",
   "metadata": {},
   "outputs": [
    {
     "name": "stdout",
     "output_type": "stream",
     "text": [
      "Junk foods taste good that’s why it is mostly liked by everyone of any age group especially kids and school going children. They generally ask for the junk food daily because they have been trend so by their parents from the childhood. According to the research by scientists, it has been found that junk foods have negative effects on the health in many ways. They are generally fried food found in the market in the packets. They become high in calories, high in cholesterol, low in healthy nutrients and high in sodium mineral. They also contain sugar, starch, unhealthy fat, lack of protein and lack of dietary fibers. Kids and children eating junk food are more prone to the type-2 diabetes\n"
     ]
    }
   ],
   "source": [
    "print(bart(test_text))"
   ]
  },
  {
   "cell_type": "markdown",
   "id": "4d07d81f",
   "metadata": {},
   "source": [
    "# ROUGE"
   ]
  },
  {
   "cell_type": "code",
   "execution_count": null,
   "id": "ebb4a665",
   "metadata": {},
   "outputs": [],
   "source": [
    "### run this cell at first time\n",
    "# !pip install rouge"
   ]
  },
  {
   "cell_type": "code",
   "execution_count": 30,
   "id": "3caf60c4",
   "metadata": {},
   "outputs": [],
   "source": [
    "from rouge import Rouge"
   ]
  },
  {
   "cell_type": "code",
   "execution_count": 31,
   "id": "31e57097",
   "metadata": {},
   "outputs": [],
   "source": [
    "def rouge_score(t1, t2):\n",
    "    # t1, t2: generated text and original text\n",
    "    my_rouge = Rouge()\n",
    "    score = my_rouge.get_scores(t1, t2)\n",
    "    rouge_1 = score[0]['rouge-1']['r']\n",
    "    rouge_2 = score[0]['rouge-2']['r']\n",
    "    rouge_l = score[0]['rouge-l']['r']\n",
    "    \n",
    "    return [rouge_1, rouge_2, rouge_l]"
   ]
  },
  {
   "cell_type": "code",
   "execution_count": null,
   "id": "429040af",
   "metadata": {},
   "outputs": [],
   "source": [
    "t1 = lexrank(test_text, 10)\n",
    "t2 = bart(test_text)"
   ]
  },
  {
   "cell_type": "code",
   "execution_count": null,
   "id": "ddddb9c9",
   "metadata": {},
   "outputs": [],
   "source": [
    "rouge_score(t1, t2)"
   ]
  },
  {
   "cell_type": "markdown",
   "id": "9d080d69",
   "metadata": {},
   "source": [
    "# Combination"
   ]
  },
  {
   "cell_type": "markdown",
   "id": "19088157",
   "metadata": {},
   "source": [
    "### Workflow\n",
    "\n",
    "**Input:** (bodytext, related work section) <br><br>\n",
    "**->** (generated related work section, related work section) <br><br>\n",
    "**Output:** ROUGE score"
   ]
  },
  {
   "cell_type": "code",
   "execution_count": 32,
   "id": "a005f379",
   "metadata": {},
   "outputs": [],
   "source": [
    "def generate_score(bodytext, rwtext, n=5):\n",
    "    # bodytext: bodytext of the paper except related work section\n",
    "    # rwtext: related work section\n",
    "    # n: number of sentences for lexrank algorithm, default = 5\n",
    "    \n",
    "    lexrank_res = lexrank(bodytext, n)\n",
    "    bart_res = bart(bodytext)\n",
    "    \n",
    "    lexrank_score = rouge_score(lexrank_res, rwtext)\n",
    "    bart_score = rouge_score(bart_res, rwtext)\n",
    "    \n",
    "    return {'LexRank': lexrank_score, 'Bart': bart_score}"
   ]
  },
  {
   "cell_type": "markdown",
   "id": "3d88cdac",
   "metadata": {},
   "source": [
    "# Use body text to generate related work section"
   ]
  },
  {
   "cell_type": "code",
   "execution_count": 42,
   "id": "e75c34c5",
   "metadata": {},
   "outputs": [
    {
     "name": "stdout",
     "output_type": "stream",
     "text": [
      "10 samples done!\n",
      "20 samples done!\n",
      "30 samples done!\n",
      "40 samples done!\n",
      "50 samples done!\n",
      "60 samples done!\n",
      "70 samples done!\n",
      "80 samples done!\n",
      "90 samples done!\n",
      "100 samples done!\n",
      "110 samples done!\n",
      "120 samples done!\n",
      "130 samples done!\n",
      "140 samples done!\n",
      "150 samples done!\n",
      "160 samples done!\n",
      "170 samples done!\n",
      "180 samples done!\n",
      "190 samples done!\n",
      "200 samples done!\n",
      "210 samples done!\n",
      "220 samples done!\n"
     ]
    }
   ],
   "source": [
    "lexrank_scorel = []\n",
    "bart_scorel = []\n",
    "\n",
    "k = 0\n",
    "\n",
    "for i in data_sample.index:\n",
    "    rwtext = data_sample.at[i, 'related_work_text']\n",
    "    bodytext = data_sample.at[i, 'body_text']\n",
    "    score = generate_score(bodytext, rwtext, 8)\n",
    "    \n",
    "    lexrank_scorel.append(score['LexRank'])\n",
    "    bart_scorel.append(score['Bart'])\n",
    "    \n",
    "    k = k + 1\n",
    "    \n",
    "    if k%10 == 0:\n",
    "        print(k, 'samples done!')"
   ]
  },
  {
   "cell_type": "code",
   "execution_count": 43,
   "id": "c93d284c",
   "metadata": {},
   "outputs": [
    {
     "data": {
      "text/plain": [
       "array([0.22420388, 0.05813858, 0.20297181])"
      ]
     },
     "execution_count": 43,
     "metadata": {},
     "output_type": "execute_result"
    }
   ],
   "source": [
    "np.array(lexrank_scorel).mean(axis=0)"
   ]
  },
  {
   "cell_type": "code",
   "execution_count": 44,
   "id": "c0c40c5b",
   "metadata": {},
   "outputs": [
    {
     "data": {
      "text/plain": [
       "array([0.1198745 , 0.02390298, 0.11110143])"
      ]
     },
     "execution_count": 44,
     "metadata": {},
     "output_type": "execute_result"
    }
   ],
   "source": [
    "np.array(bart_scorel).mean(axis=0)"
   ]
  },
  {
   "cell_type": "markdown",
   "id": "2717686a",
   "metadata": {},
   "source": [
    "# Use abstract to generate related work section"
   ]
  },
  {
   "cell_type": "code",
   "execution_count": 57,
   "id": "45cf2433",
   "metadata": {},
   "outputs": [
    {
     "name": "stdout",
     "output_type": "stream",
     "text": [
      "10 samples done!\n",
      "20 samples done!\n",
      "30 samples done!\n",
      "40 samples done!\n",
      "50 samples done!\n",
      "60 samples done!\n",
      "70 samples done!\n",
      "80 samples done!\n",
      "90 samples done!\n",
      "100 samples done!\n",
      "110 samples done!\n",
      "120 samples done!\n",
      "130 samples done!\n",
      "140 samples done!\n",
      "150 samples done!\n",
      "160 samples done!\n",
      "170 samples done!\n",
      "180 samples done!\n",
      "190 samples done!\n",
      "200 samples done!\n",
      "210 samples done!\n",
      "220 samples done!\n"
     ]
    }
   ],
   "source": [
    "lexrank_scorel_1 = []\n",
    "bart_scorel_1 = []\n",
    "\n",
    "k = 0\n",
    "\n",
    "for i in data_sample.index:\n",
    "    rwtext = data_sample.at[i, 'related_work_text']\n",
    "    abstract = data_sample.at[i, 'abstract']\n",
    "    if len(abstract) > 500:\n",
    "        score = generate_score(abstract, rwtext, 8)\n",
    "        lexrank_scorel_1.append(score['LexRank'])\n",
    "        bart_scorel_1.append(score['Bart'])\n",
    "    \n",
    "    k = k + 1\n",
    "    \n",
    "    if k%10 == 0:\n",
    "        print(k, 'samples done!')"
   ]
  },
  {
   "cell_type": "code",
   "execution_count": 58,
   "id": "21e0683e",
   "metadata": {},
   "outputs": [
    {
     "data": {
      "text/plain": [
       "array([0.14780519, 0.03266594, 0.13481983])"
      ]
     },
     "execution_count": 58,
     "metadata": {},
     "output_type": "execute_result"
    }
   ],
   "source": [
    "np.array(lexrank_scorel_1).mean(axis=0)"
   ]
  },
  {
   "cell_type": "code",
   "execution_count": 59,
   "id": "9801a2c3",
   "metadata": {},
   "outputs": [
    {
     "data": {
      "text/plain": [
       "array([0.11945076, 0.0236271 , 0.1105354 ])"
      ]
     },
     "execution_count": 59,
     "metadata": {},
     "output_type": "execute_result"
    }
   ],
   "source": [
    "np.array(bart_scorel_1).mean(axis=0)"
   ]
  }
 ],
 "metadata": {
  "kernelspec": {
   "display_name": "Python 3 (ipykernel)",
   "language": "python",
   "name": "python3"
  },
  "language_info": {
   "codemirror_mode": {
    "name": "ipython",
    "version": 3
   },
   "file_extension": ".py",
   "mimetype": "text/x-python",
   "name": "python",
   "nbconvert_exporter": "python",
   "pygments_lexer": "ipython3",
   "version": "3.8.8"
  }
 },
 "nbformat": 4,
 "nbformat_minor": 5
}
