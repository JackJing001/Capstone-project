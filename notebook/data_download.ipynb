{
 "cells": [
  {
   "cell_type": "markdown",
   "id": "8fc264b5",
   "metadata": {},
   "source": [
    "# Download the S2ORC Dataset"
   ]
  },
  {
   "cell_type": "markdown",
   "id": "b55e6890",
   "metadata": {},
   "source": [
    "This notebook processes the latest release (2020-07-05) of the [Semantic Scholar Open Research Corpus](https://www.aclweb.org/anthology/2020.acl-main.447). It is split into 100 uniformly shuffled shards. \n",
    "\n",
    "The script will download each shard, filter computer science papers from it and extract the required data, then delete the superfluous data files."
   ]
  },
  {
   "cell_type": "code",
   "execution_count": 1,
   "id": "54a18d0a",
   "metadata": {},
   "outputs": [],
   "source": [
    "import os\n",
    "import subprocess\n",
    "import urllib\n",
    "import gzip\n",
    "import io\n",
    "import json\n",
    "import re\n",
    "from tqdm import tqdm\n",
    "import pandas as pd\n",
    "import numpy as np"
   ]
  },
  {
   "cell_type": "code",
   "execution_count": 2,
   "id": "0c8eb66b",
   "metadata": {},
   "outputs": [],
   "source": [
    "# # Open raw file\n",
    "# with open(\"../dataset/full_urls.txt\") as f:\n",
    "#     lines = f.readlines()\n",
    "# \n",
    "# getlines = [line[:-1] for line in lines if line.startswith('wget')]\n",
    "# getlines = getlines[2:]\n",
    "# metalines = [str(line.split()[-1]) for line in getlines if line.find('meta') != -1]\n",
    "# metalines = [line[1:-1] for line in metalines]\n",
    "# pdflines = [str(line.split()[-1]) for line in getlines if line.find('meta') == -1]\n",
    "# pdflines = [line[1:-1] for line in pdflines]\n",
    "\n",
    "# df = pd.DataFrame(list(zip(metalines, pdflines)), columns=['metadata', 'pdf_parses'])\n",
    "# df.to_csv('../dataset/ss_urls.csv', index=None)\n",
    "# df.head()"
   ]
  },
  {
   "cell_type": "code",
   "execution_count": 2,
   "id": "60bad67c",
   "metadata": {},
   "outputs": [
    {
     "data": {
      "text/html": [
       "<div>\n",
       "<style scoped>\n",
       "    .dataframe tbody tr th:only-of-type {\n",
       "        vertical-align: middle;\n",
       "    }\n",
       "\n",
       "    .dataframe tbody tr th {\n",
       "        vertical-align: top;\n",
       "    }\n",
       "\n",
       "    .dataframe thead th {\n",
       "        text-align: right;\n",
       "    }\n",
       "</style>\n",
       "<table border=\"1\" class=\"dataframe\">\n",
       "  <thead>\n",
       "    <tr style=\"text-align: right;\">\n",
       "      <th></th>\n",
       "      <th>metadata</th>\n",
       "      <th>pdf_parses</th>\n",
       "    </tr>\n",
       "  </thead>\n",
       "  <tbody>\n",
       "    <tr>\n",
       "      <th>0</th>\n",
       "      <td>https://ai2-s2-s2orc.s3.amazonaws.com/20200705...</td>\n",
       "      <td>https://ai2-s2-s2orc.s3.amazonaws.com/20200705...</td>\n",
       "    </tr>\n",
       "    <tr>\n",
       "      <th>1</th>\n",
       "      <td>https://ai2-s2-s2orc.s3.amazonaws.com/20200705...</td>\n",
       "      <td>https://ai2-s2-s2orc.s3.amazonaws.com/20200705...</td>\n",
       "    </tr>\n",
       "    <tr>\n",
       "      <th>2</th>\n",
       "      <td>https://ai2-s2-s2orc.s3.amazonaws.com/20200705...</td>\n",
       "      <td>https://ai2-s2-s2orc.s3.amazonaws.com/20200705...</td>\n",
       "    </tr>\n",
       "    <tr>\n",
       "      <th>3</th>\n",
       "      <td>https://ai2-s2-s2orc.s3.amazonaws.com/20200705...</td>\n",
       "      <td>https://ai2-s2-s2orc.s3.amazonaws.com/20200705...</td>\n",
       "    </tr>\n",
       "    <tr>\n",
       "      <th>4</th>\n",
       "      <td>https://ai2-s2-s2orc.s3.amazonaws.com/20200705...</td>\n",
       "      <td>https://ai2-s2-s2orc.s3.amazonaws.com/20200705...</td>\n",
       "    </tr>\n",
       "  </tbody>\n",
       "</table>\n",
       "</div>"
      ],
      "text/plain": [
       "                                            metadata  \\\n",
       "0  https://ai2-s2-s2orc.s3.amazonaws.com/20200705...   \n",
       "1  https://ai2-s2-s2orc.s3.amazonaws.com/20200705...   \n",
       "2  https://ai2-s2-s2orc.s3.amazonaws.com/20200705...   \n",
       "3  https://ai2-s2-s2orc.s3.amazonaws.com/20200705...   \n",
       "4  https://ai2-s2-s2orc.s3.amazonaws.com/20200705...   \n",
       "\n",
       "                                          pdf_parses  \n",
       "0  https://ai2-s2-s2orc.s3.amazonaws.com/20200705...  \n",
       "1  https://ai2-s2-s2orc.s3.amazonaws.com/20200705...  \n",
       "2  https://ai2-s2-s2orc.s3.amazonaws.com/20200705...  \n",
       "3  https://ai2-s2-s2orc.s3.amazonaws.com/20200705...  \n",
       "4  https://ai2-s2-s2orc.s3.amazonaws.com/20200705...  "
      ]
     },
     "execution_count": 2,
     "metadata": {},
     "output_type": "execute_result"
    }
   ],
   "source": [
    "data_url = pd.read_csv(\"../dataset/ss_urls.csv\")\n",
    "data_url.head()"
   ]
  },
  {
   "cell_type": "code",
   "execution_count": 3,
   "id": "cd719582",
   "metadata": {},
   "outputs": [
    {
     "data": {
      "text/plain": [
       "100"
      ]
     },
     "execution_count": 3,
     "metadata": {},
     "output_type": "execute_result"
    }
   ],
   "source": [
    "len(data_url)"
   ]
  },
  {
   "cell_type": "markdown",
   "id": "13cfa204",
   "metadata": {},
   "source": [
    "### Download the data that we need"
   ]
  },
  {
   "cell_type": "markdown",
   "id": "3135cff8",
   "metadata": {},
   "source": [
    "This part of codes are from HESCapstone"
   ]
  },
  {
   "cell_type": "code",
   "execution_count": 4,
   "id": "ff7fde86",
   "metadata": {},
   "outputs": [],
   "source": [
    "# Create required folder structure\n",
    "ROOT = '../dataset'\n",
    "CLEAN_DATA = os.path.join(ROOT, 'SS/clean')\n",
    "METADATA_INPUT_DIR = os.path.join(ROOT,'SS/metadata/raw/') \n",
    "METADATA_OUTPUT_DIR = os.path.join(ROOT,'SS/metadata/CS/')\n",
    "PDF_PARSES_INPUT_DIR = os.path.join(ROOT,'SS/pdf_parses/raw/')\n",
    "PDF_PARSES_OUTPUT_DIR = os.path.join(ROOT,'SS/pdf_parses/CS/')\n",
    "\n",
    "os.makedirs(CLEAN_DATA, exist_ok=True)\n",
    "os.makedirs(METADATA_INPUT_DIR, exist_ok=True)\n",
    "os.makedirs(METADATA_OUTPUT_DIR, exist_ok=True)\n",
    "os.makedirs(PDF_PARSES_INPUT_DIR, exist_ok=True)\n",
    "os.makedirs(PDF_PARSES_OUTPUT_DIR, exist_ok=True)"
   ]
  },
  {
   "cell_type": "code",
   "execution_count": 5,
   "id": "a3ef0546",
   "metadata": {},
   "outputs": [],
   "source": [
    "class DownloadBatch:\n",
    "    \"\"\"Filter raw SS dataset to extract only the papers we need\"\"\"\n",
    "\n",
    "    field = \"Computer Science\"\n",
    "\n",
    "    def __init__(self, df):\n",
    "        self.df = df\n",
    "\n",
    "    @staticmethod\n",
    "    def get_filename(url):\n",
    "        return os.path.basename(url.split(\"?\")[0])\n",
    "\n",
    "    def get_basename(self, url):\n",
    "        filename = self.get_filename(url).split(\".\")[0]\n",
    "        return filename\n",
    "    \n",
    "    \n",
    "    def create_batch(self, row):\n",
    "        \"\"\"Create links for each row.\"\"\"\n",
    "        input_metadata_url = row[1][\"metadata\"]\n",
    "        input_pdf_parses_url = row[1][\"pdf_parses\"]\n",
    "        batch = dict(\n",
    "            number=self.get_basename(input_metadata_url)[-1],\n",
    "            input_metadata_url=input_metadata_url,\n",
    "            input_metadata_path=os.path.join(\n",
    "                METADATA_INPUT_DIR, self.get_filename(input_metadata_url)\n",
    "            ),\n",
    "            output_metadata_path=os.path.join(\n",
    "                METADATA_OUTPUT_DIR, self.get_filename(input_metadata_url)\n",
    "            )[:-3],\n",
    "            input_pdf_parses_url=input_pdf_parses_url,\n",
    "            input_pdf_parses_path=os.path.join(\n",
    "                PDF_PARSES_INPUT_DIR, self.get_filename(input_pdf_parses_url)\n",
    "            ),\n",
    "            output_pdf_parses_path=os.path.join(\n",
    "                PDF_PARSES_OUTPUT_DIR,\n",
    "                self.get_filename(input_pdf_parses_url),\n",
    "            )[:-3],\n",
    "        )\n",
    "        return batch\n",
    "\n",
    "    def download_data(self, batch: dict):\n",
    "        \"\"\"Download the metadata and the pdf parses for the shard\"\"\"\n",
    "\n",
    "        # Download metadata\n",
    "        print(f\"Downloading raw data:\")\n",
    "        \n",
    "        if not os.path.isfile(batch[\"input_metadata_path\"]):\n",
    "            print('    Downloading metadata...')\n",
    "            urllib.request.urlretrieve(batch[\"input_metadata_url\"], batch[\"input_metadata_path\"])\n",
    "            print('    Done')\n",
    "        else:\n",
    "            print('    Metadata already downloaded')\n",
    "        \n",
    "        # Download pdf parse\n",
    "        if not os.path.isfile(batch[\"input_pdf_parses_path\"]):\n",
    "            print('    Downloading pdf parses...')\n",
    "            urllib.request.urlretrieve(batch[\"input_pdf_parses_url\"], batch[\"input_pdf_parses_path\"])\n",
    "            print('    Done')\n",
    "        else:\n",
    "            print('    PDF data already downloaded')\n",
    "        \n",
    "\n",
    "    def check_pdf_parse(self, metadata_dict):\n",
    "        \"\"\"Only keep files that have a corresponding pdf parse\"\"\"\n",
    "        if metadata_dict.get(\"has_pdf_parsed_body_text\"):\n",
    "            return True\n",
    "        return False\n",
    "\n",
    "    def find_topics(self, metadata_dict: dict):\n",
    "        \"\"\"Return papers that are in the field of interest\"\"\"\n",
    "        mag_field_of_study = metadata_dict[\"mag_field_of_study\"]\n",
    "        if mag_field_of_study and self.field in mag_field_of_study:\n",
    "            return True\n",
    "        return False\n",
    "\n",
    "    def filter_metadata(self, metadata_dict):\n",
    "        \"\"\"Filter papers of interest\"\"\"\n",
    "        # Filter papers with no pdf parse\n",
    "        if self.check_pdf_parse(metadata_dict):\n",
    "            # Filter to selected topic\n",
    "            if self.find_topics(metadata_dict):\n",
    "                return True    \n",
    "        return False\n",
    "\n",
    "    def filter_batch(self, batch: dict):\n",
    "        \"\"\"Download raw data and filter papers of interest\"\"\"\n",
    "        number = batch['number']\n",
    "        print(f'\\nProcessing shard {number}')\n",
    "        self.download_data(batch)\n",
    "\n",
    "        print(\"Filtering metadata:\")\n",
    "        paper_ids_to_keep = set()\n",
    "        with gzip.open(batch[\"input_metadata_path\"], \"rb\") as gz, open(batch[\"output_metadata_path\"], \"wb\") as f_out:\n",
    "            f = io.BufferedReader(gz)\n",
    "            for line in tqdm(f.readlines()):\n",
    "                metadata_dict = json.loads(line)\n",
    "                if self.filter_metadata(metadata_dict):\n",
    "                    paper_id = metadata_dict.get(\"paper_id\")\n",
    "                    paper_ids_to_keep.add(paper_id)\n",
    "                    f_out.write(line)                \n",
    "                \n",
    "        print(f'    {len(paper_ids_to_keep)} parsed papers found')\n",
    "        \n",
    "        print(\"Parsing pdfs:\")\n",
    "        with gzip.open(batch['input_pdf_parses_path'], 'rb') as gz, open(batch['output_pdf_parses_path'], 'wb') as f_out:\n",
    "            f = io.BufferedReader(gz)\n",
    "            for line in tqdm(f.readlines()):\n",
    "                metadata_dict = json.loads(line)\n",
    "                paper_id = metadata_dict['paper_id']\n",
    "                if paper_id in paper_ids_to_keep:\n",
    "                    f_out.write(line)\n",
    "        print('Done')\n",
    "                 \n",
    "    def cleanup(self, batch):\n",
    "        \"\"\"Delete the raw files to clear up space for other shards\"\"\"\n",
    "        os.remove(batch['input_metadata_path'])\n",
    "        os.remove(batch['input_pdf_parses_path'])\n",
    "\n",
    "    def __call__(self, cleanup=True):\n",
    "        for row in self.df.iterrows():\n",
    "            batch = self.create_batch(row)\n",
    "            self.filter_batch(batch)\n",
    "            if cleanup:\n",
    "                self.cleanup(batch)"
   ]
  },
  {
   "cell_type": "code",
   "execution_count": 6,
   "id": "69f4026d",
   "metadata": {},
   "outputs": [
    {
     "name": "stdout",
     "output_type": "stream",
     "text": [
      "\n",
      "Processing shard 0\n",
      "Downloading raw data:\n",
      "    Downloading metadata...\n",
      "    Done\n",
      "    Downloading pdf parses...\n",
      "    Done\n",
      "Filtering metadata:\n"
     ]
    },
    {
     "name": "stderr",
     "output_type": "stream",
     "text": [
      "100%|██████████| 1366661/1366661 [00:21<00:00, 63337.03it/s]\n"
     ]
    },
    {
     "name": "stdout",
     "output_type": "stream",
     "text": [
      "    15018 parsed papers found\n",
      "Parsing pdfs:\n"
     ]
    },
    {
     "name": "stderr",
     "output_type": "stream",
     "text": [
      "100%|██████████| 310736/310736 [00:57<00:00, 5436.78it/s]\n"
     ]
    },
    {
     "name": "stdout",
     "output_type": "stream",
     "text": [
      "Done\n",
      "\n",
      "Processing shard 1\n",
      "Downloading raw data:\n",
      "    Downloading metadata...\n",
      "    Done\n",
      "    Downloading pdf parses...\n",
      "    Done\n",
      "Filtering metadata:\n"
     ]
    },
    {
     "name": "stderr",
     "output_type": "stream",
     "text": [
      "100%|██████████| 1365929/1365929 [00:22<00:00, 61647.38it/s]\n"
     ]
    },
    {
     "name": "stdout",
     "output_type": "stream",
     "text": [
      "    14997 parsed papers found\n",
      "Parsing pdfs:\n"
     ]
    },
    {
     "name": "stderr",
     "output_type": "stream",
     "text": [
      "100%|██████████| 310316/310316 [00:57<00:00, 5430.22it/s]\n"
     ]
    },
    {
     "name": "stdout",
     "output_type": "stream",
     "text": [
      "Done\n",
      "\n",
      "Processing shard 0\n",
      "Downloading raw data:\n",
      "    Downloading metadata...\n",
      "    Done\n",
      "    Downloading pdf parses...\n",
      "    Done\n",
      "Filtering metadata:\n"
     ]
    },
    {
     "name": "stderr",
     "output_type": "stream",
     "text": [
      "100%|██████████| 1365724/1365724 [00:22<00:00, 61661.75it/s]\n"
     ]
    },
    {
     "name": "stdout",
     "output_type": "stream",
     "text": [
      "    14824 parsed papers found\n",
      "Parsing pdfs:\n"
     ]
    },
    {
     "name": "stderr",
     "output_type": "stream",
     "text": [
      "100%|██████████| 311205/311205 [00:56<00:00, 5468.01it/s]\n"
     ]
    },
    {
     "name": "stdout",
     "output_type": "stream",
     "text": [
      "Done\n",
      "\n",
      "Processing shard 1\n",
      "Downloading raw data:\n",
      "    Downloading metadata...\n",
      "    Done\n",
      "    Downloading pdf parses...\n",
      "    Done\n",
      "Filtering metadata:\n"
     ]
    },
    {
     "name": "stderr",
     "output_type": "stream",
     "text": [
      "100%|██████████| 1364981/1364981 [00:22<00:00, 61522.91it/s]\n"
     ]
    },
    {
     "name": "stdout",
     "output_type": "stream",
     "text": [
      "    14784 parsed papers found\n",
      "Parsing pdfs:\n"
     ]
    },
    {
     "name": "stderr",
     "output_type": "stream",
     "text": [
      "100%|██████████| 309634/309634 [00:56<00:00, 5443.42it/s]\n"
     ]
    },
    {
     "name": "stdout",
     "output_type": "stream",
     "text": [
      "Done\n",
      "\n",
      "Processing shard 2\n",
      "Downloading raw data:\n",
      "    Downloading metadata...\n",
      "    Done\n",
      "    Downloading pdf parses...\n",
      "    Done\n",
      "Filtering metadata:\n"
     ]
    },
    {
     "name": "stderr",
     "output_type": "stream",
     "text": [
      "100%|██████████| 1368337/1368337 [00:22<00:00, 59549.41it/s]\n"
     ]
    },
    {
     "name": "stdout",
     "output_type": "stream",
     "text": [
      "    14745 parsed papers found\n",
      "Parsing pdfs:\n"
     ]
    },
    {
     "name": "stderr",
     "output_type": "stream",
     "text": [
      "100%|██████████| 310881/310881 [00:57<00:00, 5434.30it/s]\n"
     ]
    },
    {
     "name": "stdout",
     "output_type": "stream",
     "text": [
      "Done\n",
      "\n",
      "Processing shard 3\n",
      "Downloading raw data:\n",
      "    Downloading metadata...\n",
      "    Done\n",
      "    Downloading pdf parses...\n",
      "    Done\n",
      "Filtering metadata:\n"
     ]
    },
    {
     "name": "stderr",
     "output_type": "stream",
     "text": [
      "100%|██████████| 1365293/1365293 [00:22<00:00, 60702.21it/s]\n"
     ]
    },
    {
     "name": "stdout",
     "output_type": "stream",
     "text": [
      "    14704 parsed papers found\n",
      "Parsing pdfs:\n"
     ]
    },
    {
     "name": "stderr",
     "output_type": "stream",
     "text": [
      "100%|██████████| 310782/310782 [00:56<00:00, 5474.81it/s]\n"
     ]
    },
    {
     "name": "stdout",
     "output_type": "stream",
     "text": [
      "Done\n",
      "\n",
      "Processing shard 4\n",
      "Downloading raw data:\n",
      "    Downloading metadata...\n",
      "    Done\n",
      "    Downloading pdf parses...\n",
      "    Done\n",
      "Filtering metadata:\n"
     ]
    },
    {
     "name": "stderr",
     "output_type": "stream",
     "text": [
      "100%|██████████| 1366174/1366174 [00:22<00:00, 61183.06it/s]\n"
     ]
    },
    {
     "name": "stdout",
     "output_type": "stream",
     "text": [
      "    14640 parsed papers found\n",
      "Parsing pdfs:\n"
     ]
    },
    {
     "name": "stderr",
     "output_type": "stream",
     "text": [
      "100%|██████████| 310864/310864 [00:57<00:00, 5453.42it/s]\n"
     ]
    },
    {
     "name": "stdout",
     "output_type": "stream",
     "text": [
      "Done\n",
      "\n",
      "Processing shard 5\n",
      "Downloading raw data:\n",
      "    Downloading metadata...\n",
      "    Done\n",
      "    Downloading pdf parses...\n",
      "    Done\n",
      "Filtering metadata:\n"
     ]
    },
    {
     "name": "stderr",
     "output_type": "stream",
     "text": [
      "100%|██████████| 1365392/1365392 [00:23<00:00, 58500.89it/s]\n"
     ]
    },
    {
     "name": "stdout",
     "output_type": "stream",
     "text": [
      "    14880 parsed papers found\n",
      "Parsing pdfs:\n"
     ]
    },
    {
     "name": "stderr",
     "output_type": "stream",
     "text": [
      "100%|██████████| 310734/310734 [01:00<00:00, 5165.10it/s]\n"
     ]
    },
    {
     "name": "stdout",
     "output_type": "stream",
     "text": [
      "Done\n",
      "\n",
      "Processing shard 6\n",
      "Downloading raw data:\n",
      "    Downloading metadata...\n",
      "    Done\n",
      "    Downloading pdf parses...\n",
      "    Done\n",
      "Filtering metadata:\n"
     ]
    },
    {
     "name": "stderr",
     "output_type": "stream",
     "text": [
      "100%|██████████| 1365591/1365591 [00:23<00:00, 58334.70it/s]\n"
     ]
    },
    {
     "name": "stdout",
     "output_type": "stream",
     "text": [
      "    14945 parsed papers found\n",
      "Parsing pdfs:\n"
     ]
    },
    {
     "name": "stderr",
     "output_type": "stream",
     "text": [
      "100%|██████████| 310129/310129 [00:59<00:00, 5180.28it/s]\n"
     ]
    },
    {
     "name": "stdout",
     "output_type": "stream",
     "text": [
      "Done\n",
      "\n",
      "Processing shard 7\n",
      "Downloading raw data:\n",
      "    Downloading metadata...\n",
      "    Done\n",
      "    Downloading pdf parses...\n",
      "    Done\n",
      "Filtering metadata:\n"
     ]
    },
    {
     "name": "stderr",
     "output_type": "stream",
     "text": [
      "100%|██████████| 1365273/1365273 [00:23<00:00, 58972.36it/s]\n"
     ]
    },
    {
     "name": "stdout",
     "output_type": "stream",
     "text": [
      "    14699 parsed papers found\n",
      "Parsing pdfs:\n"
     ]
    },
    {
     "name": "stderr",
     "output_type": "stream",
     "text": [
      "100%|██████████| 309474/309474 [01:00<00:00, 5091.10it/s]\n"
     ]
    },
    {
     "name": "stdout",
     "output_type": "stream",
     "text": [
      "Done\n",
      "\n",
      "Processing shard 8\n",
      "Downloading raw data:\n",
      "    Downloading metadata...\n",
      "    Done\n",
      "    Downloading pdf parses...\n",
      "    Done\n",
      "Filtering metadata:\n"
     ]
    },
    {
     "name": "stderr",
     "output_type": "stream",
     "text": [
      "100%|██████████| 1366666/1366666 [00:23<00:00, 57610.51it/s]\n"
     ]
    },
    {
     "name": "stdout",
     "output_type": "stream",
     "text": [
      "    14963 parsed papers found\n",
      "Parsing pdfs:\n"
     ]
    },
    {
     "name": "stderr",
     "output_type": "stream",
     "text": [
      "100%|██████████| 310604/310604 [00:59<00:00, 5187.06it/s]\n"
     ]
    },
    {
     "name": "stdout",
     "output_type": "stream",
     "text": [
      "Done\n",
      "\n",
      "Processing shard 9\n",
      "Downloading raw data:\n",
      "    Downloading metadata...\n",
      "    Done\n",
      "    Downloading pdf parses...\n",
      "    Done\n",
      "Filtering metadata:\n"
     ]
    },
    {
     "name": "stderr",
     "output_type": "stream",
     "text": [
      "100%|██████████| 1365681/1365681 [00:23<00:00, 57086.16it/s]\n"
     ]
    },
    {
     "name": "stdout",
     "output_type": "stream",
     "text": [
      "    14887 parsed papers found\n",
      "Parsing pdfs:\n"
     ]
    },
    {
     "name": "stderr",
     "output_type": "stream",
     "text": [
      "100%|██████████| 310565/310565 [01:00<00:00, 5098.33it/s]\n"
     ]
    },
    {
     "name": "stdout",
     "output_type": "stream",
     "text": [
      "Done\n",
      "\n",
      "Processing shard 2\n",
      "Downloading raw data:\n",
      "    Downloading metadata...\n",
      "    Done\n",
      "    Downloading pdf parses...\n",
      "    Done\n",
      "Filtering metadata:\n"
     ]
    },
    {
     "name": "stderr",
     "output_type": "stream",
     "text": [
      "100%|██████████| 1365718/1365718 [00:23<00:00, 58046.71it/s]\n"
     ]
    },
    {
     "name": "stdout",
     "output_type": "stream",
     "text": [
      "    14866 parsed papers found\n",
      "Parsing pdfs:\n"
     ]
    },
    {
     "name": "stderr",
     "output_type": "stream",
     "text": [
      "100%|██████████| 310539/310539 [00:59<00:00, 5203.56it/s]\n"
     ]
    },
    {
     "name": "stdout",
     "output_type": "stream",
     "text": [
      "Done\n",
      "\n",
      "Processing shard 0\n",
      "Downloading raw data:\n",
      "    Downloading metadata...\n",
      "    Done\n",
      "    Downloading pdf parses...\n",
      "    Done\n",
      "Filtering metadata:\n"
     ]
    },
    {
     "name": "stderr",
     "output_type": "stream",
     "text": [
      "100%|██████████| 1364615/1364615 [00:23<00:00, 58108.83it/s]\n"
     ]
    },
    {
     "name": "stdout",
     "output_type": "stream",
     "text": [
      "    15016 parsed papers found\n",
      "Parsing pdfs:\n"
     ]
    },
    {
     "name": "stderr",
     "output_type": "stream",
     "text": [
      "100%|██████████| 310218/310218 [01:01<00:00, 5058.49it/s]\n"
     ]
    },
    {
     "name": "stdout",
     "output_type": "stream",
     "text": [
      "Done\n",
      "\n",
      "Processing shard 1\n",
      "Downloading raw data:\n",
      "    Downloading metadata...\n",
      "    Done\n",
      "    Downloading pdf parses...\n",
      "    Done\n",
      "Filtering metadata:\n"
     ]
    },
    {
     "name": "stderr",
     "output_type": "stream",
     "text": [
      "100%|██████████| 1366657/1366657 [00:23<00:00, 58566.22it/s]\n"
     ]
    },
    {
     "name": "stdout",
     "output_type": "stream",
     "text": [
      "    15079 parsed papers found\n",
      "Parsing pdfs:\n"
     ]
    },
    {
     "name": "stderr",
     "output_type": "stream",
     "text": [
      "100%|██████████| 311241/311241 [01:01<00:00, 5038.87it/s]\n"
     ]
    },
    {
     "name": "stdout",
     "output_type": "stream",
     "text": [
      "Done\n",
      "\n",
      "Processing shard 2\n",
      "Downloading raw data:\n",
      "    Downloading metadata...\n",
      "    Done\n",
      "    Downloading pdf parses...\n",
      "    Done\n",
      "Filtering metadata:\n"
     ]
    },
    {
     "name": "stderr",
     "output_type": "stream",
     "text": [
      "100%|██████████| 1364853/1364853 [00:24<00:00, 56334.81it/s]\n"
     ]
    },
    {
     "name": "stdout",
     "output_type": "stream",
     "text": [
      "    15076 parsed papers found\n",
      "Parsing pdfs:\n"
     ]
    },
    {
     "name": "stderr",
     "output_type": "stream",
     "text": [
      "100%|██████████| 310683/310683 [01:02<00:00, 4997.06it/s]\n"
     ]
    },
    {
     "name": "stdout",
     "output_type": "stream",
     "text": [
      "Done\n",
      "\n",
      "Processing shard 3\n",
      "Downloading raw data:\n",
      "    Downloading metadata...\n",
      "    Done\n",
      "    Downloading pdf parses...\n",
      "    Done\n",
      "Filtering metadata:\n"
     ]
    },
    {
     "name": "stderr",
     "output_type": "stream",
     "text": [
      "100%|██████████| 1364882/1364882 [00:22<00:00, 59430.83it/s]\n"
     ]
    },
    {
     "name": "stdout",
     "output_type": "stream",
     "text": [
      "    14890 parsed papers found\n",
      "Parsing pdfs:\n"
     ]
    },
    {
     "name": "stderr",
     "output_type": "stream",
     "text": [
      "100%|██████████| 310258/310258 [01:00<00:00, 5158.77it/s]\n"
     ]
    },
    {
     "name": "stdout",
     "output_type": "stream",
     "text": [
      "Done\n",
      "\n",
      "Processing shard 4\n",
      "Downloading raw data:\n",
      "    Downloading metadata...\n",
      "    Done\n",
      "    Downloading pdf parses...\n",
      "    Done\n",
      "Filtering metadata:\n"
     ]
    },
    {
     "name": "stderr",
     "output_type": "stream",
     "text": [
      "100%|██████████| 1365496/1365496 [00:23<00:00, 58345.54it/s]\n"
     ]
    },
    {
     "name": "stdout",
     "output_type": "stream",
     "text": [
      "    14779 parsed papers found\n",
      "Parsing pdfs:\n"
     ]
    },
    {
     "name": "stderr",
     "output_type": "stream",
     "text": [
      "100%|██████████| 310260/310260 [00:59<00:00, 5201.34it/s]\n"
     ]
    },
    {
     "name": "stdout",
     "output_type": "stream",
     "text": [
      "Done\n",
      "\n",
      "Processing shard 5\n",
      "Downloading raw data:\n",
      "    Downloading metadata...\n",
      "    Done\n",
      "    Downloading pdf parses...\n",
      "    Done\n",
      "Filtering metadata:\n"
     ]
    },
    {
     "name": "stderr",
     "output_type": "stream",
     "text": [
      "100%|██████████| 1365958/1365958 [00:24<00:00, 56327.65it/s]\n"
     ]
    },
    {
     "name": "stdout",
     "output_type": "stream",
     "text": [
      "    14964 parsed papers found\n",
      "Parsing pdfs:\n"
     ]
    },
    {
     "name": "stderr",
     "output_type": "stream",
     "text": [
      "100%|██████████| 310222/310222 [01:02<00:00, 4974.85it/s]\n"
     ]
    },
    {
     "name": "stdout",
     "output_type": "stream",
     "text": [
      "Done\n",
      "\n",
      "Processing shard 6\n",
      "Downloading raw data:\n",
      "    Downloading metadata...\n",
      "    Done\n",
      "    Downloading pdf parses...\n",
      "    Done\n",
      "Filtering metadata:\n"
     ]
    },
    {
     "name": "stderr",
     "output_type": "stream",
     "text": [
      "100%|██████████| 1365290/1365290 [00:23<00:00, 58418.05it/s]\n"
     ]
    },
    {
     "name": "stdout",
     "output_type": "stream",
     "text": [
      "    14743 parsed papers found\n",
      "Parsing pdfs:\n"
     ]
    },
    {
     "name": "stderr",
     "output_type": "stream",
     "text": [
      "100%|██████████| 309829/309829 [00:59<00:00, 5198.54it/s]\n"
     ]
    },
    {
     "name": "stdout",
     "output_type": "stream",
     "text": [
      "Done\n"
     ]
    }
   ],
   "source": [
    "# Full dataset\n",
    "download = DownloadBatch(data_url[:20])\n",
    "download(cleanup=True)"
   ]
  },
  {
   "cell_type": "code",
   "execution_count": 7,
   "id": "a19f5e94",
   "metadata": {},
   "outputs": [
    {
     "name": "stdout",
     "output_type": "stream",
     "text": [
      "\n",
      "Processing shard 7\n",
      "Downloading raw data:\n",
      "    Downloading metadata...\n",
      "    Done\n",
      "    Downloading pdf parses...\n",
      "    Done\n",
      "Filtering metadata:\n"
     ]
    },
    {
     "name": "stderr",
     "output_type": "stream",
     "text": [
      "100%|██████████| 1365957/1365957 [00:23<00:00, 58546.24it/s]\n"
     ]
    },
    {
     "name": "stdout",
     "output_type": "stream",
     "text": [
      "    14879 parsed papers found\n",
      "Parsing pdfs:\n"
     ]
    },
    {
     "name": "stderr",
     "output_type": "stream",
     "text": [
      "100%|██████████| 310716/310716 [01:00<00:00, 5124.88it/s]\n"
     ]
    },
    {
     "name": "stdout",
     "output_type": "stream",
     "text": [
      "Done\n",
      "\n",
      "Processing shard 8\n",
      "Downloading raw data:\n",
      "    Downloading metadata...\n",
      "    Done\n",
      "    Downloading pdf parses...\n",
      "    Done\n",
      "Filtering metadata:\n"
     ]
    },
    {
     "name": "stderr",
     "output_type": "stream",
     "text": [
      "100%|██████████| 1367851/1367851 [00:23<00:00, 58556.33it/s]\n"
     ]
    },
    {
     "name": "stdout",
     "output_type": "stream",
     "text": [
      "    15098 parsed papers found\n",
      "Parsing pdfs:\n"
     ]
    },
    {
     "name": "stderr",
     "output_type": "stream",
     "text": [
      "100%|██████████| 311314/311314 [01:00<00:00, 5182.65it/s]\n"
     ]
    },
    {
     "name": "stdout",
     "output_type": "stream",
     "text": [
      "Done\n",
      "\n",
      "Processing shard 9\n",
      "Downloading raw data:\n",
      "    Downloading metadata...\n",
      "    Done\n",
      "    Downloading pdf parses...\n",
      "    Done\n",
      "Filtering metadata:\n"
     ]
    },
    {
     "name": "stderr",
     "output_type": "stream",
     "text": [
      "100%|██████████| 1364650/1364650 [00:23<00:00, 57976.44it/s]\n"
     ]
    },
    {
     "name": "stdout",
     "output_type": "stream",
     "text": [
      "    14800 parsed papers found\n",
      "Parsing pdfs:\n"
     ]
    },
    {
     "name": "stderr",
     "output_type": "stream",
     "text": [
      "100%|██████████| 311174/311174 [01:00<00:00, 5141.70it/s]\n"
     ]
    },
    {
     "name": "stdout",
     "output_type": "stream",
     "text": [
      "Done\n",
      "\n",
      "Processing shard 3\n",
      "Downloading raw data:\n",
      "    Downloading metadata...\n",
      "    Done\n",
      "    Downloading pdf parses...\n",
      "    Done\n",
      "Filtering metadata:\n"
     ]
    },
    {
     "name": "stderr",
     "output_type": "stream",
     "text": [
      "100%|██████████| 1365344/1365344 [00:23<00:00, 57652.67it/s]\n"
     ]
    },
    {
     "name": "stdout",
     "output_type": "stream",
     "text": [
      "    14581 parsed papers found\n",
      "Parsing pdfs:\n"
     ]
    },
    {
     "name": "stderr",
     "output_type": "stream",
     "text": [
      "100%|██████████| 309277/309277 [01:00<00:00, 5141.22it/s]\n"
     ]
    },
    {
     "name": "stdout",
     "output_type": "stream",
     "text": [
      "Done\n",
      "\n",
      "Processing shard 0\n",
      "Downloading raw data:\n",
      "    Downloading metadata...\n",
      "    Done\n",
      "    Downloading pdf parses...\n",
      "    Done\n",
      "Filtering metadata:\n"
     ]
    },
    {
     "name": "stderr",
     "output_type": "stream",
     "text": [
      "100%|██████████| 1366402/1366402 [00:23<00:00, 57854.63it/s]\n"
     ]
    },
    {
     "name": "stdout",
     "output_type": "stream",
     "text": [
      "    14901 parsed papers found\n",
      "Parsing pdfs:\n"
     ]
    },
    {
     "name": "stderr",
     "output_type": "stream",
     "text": [
      "100%|██████████| 310504/310504 [00:59<00:00, 5213.55it/s]\n"
     ]
    },
    {
     "name": "stdout",
     "output_type": "stream",
     "text": [
      "Done\n",
      "\n",
      "Processing shard 1\n",
      "Downloading raw data:\n",
      "    Downloading metadata...\n",
      "    Done\n",
      "    Downloading pdf parses...\n",
      "    Done\n",
      "Filtering metadata:\n"
     ]
    },
    {
     "name": "stderr",
     "output_type": "stream",
     "text": [
      "100%|██████████| 1364991/1364991 [00:23<00:00, 58540.80it/s]\n"
     ]
    },
    {
     "name": "stdout",
     "output_type": "stream",
     "text": [
      "    14842 parsed papers found\n",
      "Parsing pdfs:\n"
     ]
    },
    {
     "name": "stderr",
     "output_type": "stream",
     "text": [
      "100%|██████████| 309424/309424 [00:59<00:00, 5206.10it/s]\n"
     ]
    },
    {
     "name": "stdout",
     "output_type": "stream",
     "text": [
      "Done\n",
      "\n",
      "Processing shard 2\n",
      "Downloading raw data:\n",
      "    Downloading metadata...\n",
      "    Done\n",
      "    Downloading pdf parses...\n",
      "    Done\n",
      "Filtering metadata:\n"
     ]
    },
    {
     "name": "stderr",
     "output_type": "stream",
     "text": [
      "100%|██████████| 1366240/1366240 [00:23<00:00, 58246.40it/s]\n"
     ]
    },
    {
     "name": "stdout",
     "output_type": "stream",
     "text": [
      "    14869 parsed papers found\n",
      "Parsing pdfs:\n"
     ]
    },
    {
     "name": "stderr",
     "output_type": "stream",
     "text": [
      "100%|██████████| 311452/311452 [01:00<00:00, 5177.31it/s]\n"
     ]
    },
    {
     "name": "stdout",
     "output_type": "stream",
     "text": [
      "Done\n",
      "\n",
      "Processing shard 3\n",
      "Downloading raw data:\n",
      "    Downloading metadata...\n",
      "    Done\n",
      "    Downloading pdf parses...\n",
      "    Done\n",
      "Filtering metadata:\n"
     ]
    },
    {
     "name": "stderr",
     "output_type": "stream",
     "text": [
      "100%|██████████| 1364205/1364205 [00:22<00:00, 59317.16it/s]\n"
     ]
    },
    {
     "name": "stdout",
     "output_type": "stream",
     "text": [
      "    14790 parsed papers found\n",
      "Parsing pdfs:\n"
     ]
    },
    {
     "name": "stderr",
     "output_type": "stream",
     "text": [
      "100%|██████████| 309855/309855 [00:57<00:00, 5421.72it/s]\n"
     ]
    },
    {
     "name": "stdout",
     "output_type": "stream",
     "text": [
      "Done\n",
      "\n",
      "Processing shard 4\n",
      "Downloading raw data:\n",
      "    Downloading metadata...\n",
      "    Done\n",
      "    Downloading pdf parses...\n",
      "    Done\n",
      "Filtering metadata:\n"
     ]
    },
    {
     "name": "stderr",
     "output_type": "stream",
     "text": [
      "100%|██████████| 1366174/1366174 [00:22<00:00, 60253.15it/s]\n"
     ]
    },
    {
     "name": "stdout",
     "output_type": "stream",
     "text": [
      "    14983 parsed papers found\n",
      "Parsing pdfs:\n"
     ]
    },
    {
     "name": "stderr",
     "output_type": "stream",
     "text": [
      "100%|██████████| 310380/310380 [00:57<00:00, 5431.54it/s]\n"
     ]
    },
    {
     "name": "stdout",
     "output_type": "stream",
     "text": [
      "Done\n",
      "\n",
      "Processing shard 5\n",
      "Downloading raw data:\n",
      "    Downloading metadata...\n",
      "    Done\n",
      "    Downloading pdf parses...\n",
      "    Done\n",
      "Filtering metadata:\n"
     ]
    },
    {
     "name": "stderr",
     "output_type": "stream",
     "text": [
      "100%|██████████| 1365819/1365819 [00:22<00:00, 60680.59it/s]\n"
     ]
    },
    {
     "name": "stdout",
     "output_type": "stream",
     "text": [
      "    14901 parsed papers found\n",
      "Parsing pdfs:\n"
     ]
    },
    {
     "name": "stderr",
     "output_type": "stream",
     "text": [
      "100%|██████████| 310060/310060 [00:56<00:00, 5445.86it/s]\n"
     ]
    },
    {
     "name": "stdout",
     "output_type": "stream",
     "text": [
      "Done\n",
      "\n",
      "Processing shard 6\n",
      "Downloading raw data:\n",
      "    Downloading metadata...\n",
      "    Done\n",
      "    Downloading pdf parses...\n",
      "    Done\n",
      "Filtering metadata:\n"
     ]
    },
    {
     "name": "stderr",
     "output_type": "stream",
     "text": [
      "100%|██████████| 1364712/1364712 [00:22<00:00, 59504.08it/s]\n"
     ]
    },
    {
     "name": "stdout",
     "output_type": "stream",
     "text": [
      "    14743 parsed papers found\n",
      "Parsing pdfs:\n"
     ]
    },
    {
     "name": "stderr",
     "output_type": "stream",
     "text": [
      "100%|██████████| 309894/309894 [00:57<00:00, 5352.73it/s]\n"
     ]
    },
    {
     "name": "stdout",
     "output_type": "stream",
     "text": [
      "Done\n",
      "\n",
      "Processing shard 7\n",
      "Downloading raw data:\n",
      "    Downloading metadata...\n",
      "    Done\n",
      "    Downloading pdf parses...\n",
      "    Done\n",
      "Filtering metadata:\n"
     ]
    },
    {
     "name": "stderr",
     "output_type": "stream",
     "text": [
      "100%|██████████| 1366882/1366882 [00:23<00:00, 58933.09it/s]\n"
     ]
    },
    {
     "name": "stdout",
     "output_type": "stream",
     "text": [
      "    14833 parsed papers found\n",
      "Parsing pdfs:\n"
     ]
    },
    {
     "name": "stderr",
     "output_type": "stream",
     "text": [
      "100%|██████████| 311391/311391 [00:58<00:00, 5321.76it/s]\n"
     ]
    },
    {
     "name": "stdout",
     "output_type": "stream",
     "text": [
      "Done\n",
      "\n",
      "Processing shard 8\n",
      "Downloading raw data:\n",
      "    Downloading metadata...\n",
      "    Done\n",
      "    Downloading pdf parses...\n",
      "    Done\n",
      "Filtering metadata:\n"
     ]
    },
    {
     "name": "stderr",
     "output_type": "stream",
     "text": [
      "100%|██████████| 1366304/1366304 [00:23<00:00, 59308.08it/s]\n"
     ]
    },
    {
     "name": "stdout",
     "output_type": "stream",
     "text": [
      "    14638 parsed papers found\n",
      "Parsing pdfs:\n"
     ]
    },
    {
     "name": "stderr",
     "output_type": "stream",
     "text": [
      "100%|██████████| 310803/310803 [00:58<00:00, 5292.03it/s]\n"
     ]
    },
    {
     "name": "stdout",
     "output_type": "stream",
     "text": [
      "Done\n",
      "\n",
      "Processing shard 9\n",
      "Downloading raw data:\n",
      "    Downloading metadata...\n",
      "    Done\n",
      "    Downloading pdf parses...\n",
      "    Done\n",
      "Filtering metadata:\n"
     ]
    },
    {
     "name": "stderr",
     "output_type": "stream",
     "text": [
      "100%|██████████| 1365752/1365752 [00:22<00:00, 59475.90it/s]\n"
     ]
    },
    {
     "name": "stdout",
     "output_type": "stream",
     "text": [
      "    15027 parsed papers found\n",
      "Parsing pdfs:\n"
     ]
    },
    {
     "name": "stderr",
     "output_type": "stream",
     "text": [
      "100%|██████████| 310858/310858 [00:58<00:00, 5327.49it/s]\n"
     ]
    },
    {
     "name": "stdout",
     "output_type": "stream",
     "text": [
      "Done\n",
      "\n",
      "Processing shard 4\n",
      "Downloading raw data:\n",
      "    Downloading metadata...\n",
      "    Done\n",
      "    Downloading pdf parses...\n",
      "    Done\n",
      "Filtering metadata:\n"
     ]
    },
    {
     "name": "stderr",
     "output_type": "stream",
     "text": [
      "100%|██████████| 1365708/1365708 [00:22<00:00, 59669.81it/s]\n"
     ]
    },
    {
     "name": "stdout",
     "output_type": "stream",
     "text": [
      "    14980 parsed papers found\n",
      "Parsing pdfs:\n"
     ]
    },
    {
     "name": "stderr",
     "output_type": "stream",
     "text": [
      "100%|██████████| 309825/309825 [00:58<00:00, 5307.15it/s]\n"
     ]
    },
    {
     "name": "stdout",
     "output_type": "stream",
     "text": [
      "Done\n",
      "\n",
      "Processing shard 0\n",
      "Downloading raw data:\n",
      "    Downloading metadata...\n",
      "    Done\n",
      "    Downloading pdf parses...\n",
      "    Done\n",
      "Filtering metadata:\n"
     ]
    },
    {
     "name": "stderr",
     "output_type": "stream",
     "text": [
      "100%|██████████| 1366284/1366284 [00:22<00:00, 60053.25it/s]\n"
     ]
    },
    {
     "name": "stdout",
     "output_type": "stream",
     "text": [
      "    14926 parsed papers found\n",
      "Parsing pdfs:\n"
     ]
    },
    {
     "name": "stderr",
     "output_type": "stream",
     "text": [
      "100%|██████████| 311292/311292 [00:58<00:00, 5352.17it/s]\n"
     ]
    },
    {
     "name": "stdout",
     "output_type": "stream",
     "text": [
      "Done\n",
      "\n",
      "Processing shard 1\n",
      "Downloading raw data:\n",
      "    Downloading metadata...\n",
      "    Done\n",
      "    Downloading pdf parses...\n",
      "    Done\n",
      "Filtering metadata:\n"
     ]
    },
    {
     "name": "stderr",
     "output_type": "stream",
     "text": [
      "100%|██████████| 1365538/1365538 [00:22<00:00, 59527.72it/s]\n"
     ]
    },
    {
     "name": "stdout",
     "output_type": "stream",
     "text": [
      "    14862 parsed papers found\n",
      "Parsing pdfs:\n"
     ]
    },
    {
     "name": "stderr",
     "output_type": "stream",
     "text": [
      "100%|██████████| 309633/309633 [00:57<00:00, 5350.33it/s]\n"
     ]
    },
    {
     "name": "stdout",
     "output_type": "stream",
     "text": [
      "Done\n",
      "\n",
      "Processing shard 2\n",
      "Downloading raw data:\n",
      "    Downloading metadata...\n",
      "    Done\n",
      "    Downloading pdf parses...\n",
      "    Done\n",
      "Filtering metadata:\n"
     ]
    },
    {
     "name": "stderr",
     "output_type": "stream",
     "text": [
      "100%|██████████| 1366943/1366943 [00:22<00:00, 59880.18it/s]\n"
     ]
    },
    {
     "name": "stdout",
     "output_type": "stream",
     "text": [
      "    14934 parsed papers found\n",
      "Parsing pdfs:\n"
     ]
    },
    {
     "name": "stderr",
     "output_type": "stream",
     "text": [
      "100%|██████████| 312126/312126 [00:58<00:00, 5323.68it/s]\n"
     ]
    },
    {
     "name": "stdout",
     "output_type": "stream",
     "text": [
      "Done\n",
      "\n",
      "Processing shard 3\n",
      "Downloading raw data:\n",
      "    Downloading metadata...\n",
      "    Done\n",
      "    Downloading pdf parses...\n",
      "    Done\n",
      "Filtering metadata:\n"
     ]
    },
    {
     "name": "stderr",
     "output_type": "stream",
     "text": [
      "100%|██████████| 1364493/1364493 [00:22<00:00, 59685.35it/s]\n"
     ]
    },
    {
     "name": "stdout",
     "output_type": "stream",
     "text": [
      "    14828 parsed papers found\n",
      "Parsing pdfs:\n"
     ]
    },
    {
     "name": "stderr",
     "output_type": "stream",
     "text": [
      "100%|██████████| 309773/309773 [00:58<00:00, 5330.67it/s]\n"
     ]
    },
    {
     "name": "stdout",
     "output_type": "stream",
     "text": [
      "Done\n",
      "\n",
      "Processing shard 4\n",
      "Downloading raw data:\n",
      "    Downloading metadata...\n",
      "    Done\n",
      "    Downloading pdf parses...\n",
      "    Done\n",
      "Filtering metadata:\n"
     ]
    },
    {
     "name": "stderr",
     "output_type": "stream",
     "text": [
      "100%|██████████| 1368071/1368071 [00:22<00:00, 59786.06it/s]\n"
     ]
    },
    {
     "name": "stdout",
     "output_type": "stream",
     "text": [
      "    14707 parsed papers found\n",
      "Parsing pdfs:\n"
     ]
    },
    {
     "name": "stderr",
     "output_type": "stream",
     "text": [
      "100%|██████████| 310154/310154 [00:58<00:00, 5315.43it/s]\n"
     ]
    },
    {
     "name": "stdout",
     "output_type": "stream",
     "text": [
      "Done\n"
     ]
    }
   ],
   "source": [
    "# Full dataset\n",
    "download = DownloadBatch(data_url[20:40]) # For test, use data_url to get full dataset\n",
    "download(cleanup=True)"
   ]
  },
  {
   "cell_type": "code",
   "execution_count": 8,
   "id": "05a56bc8",
   "metadata": {},
   "outputs": [
    {
     "name": "stdout",
     "output_type": "stream",
     "text": [
      "\n",
      "Processing shard 5\n",
      "Downloading raw data:\n",
      "    Downloading metadata...\n",
      "    Done\n",
      "    Downloading pdf parses...\n",
      "    Done\n",
      "Filtering metadata:\n"
     ]
    },
    {
     "name": "stderr",
     "output_type": "stream",
     "text": [
      "100%|██████████| 1364806/1364806 [00:22<00:00, 59688.42it/s]\n"
     ]
    },
    {
     "name": "stdout",
     "output_type": "stream",
     "text": [
      "    14877 parsed papers found\n",
      "Parsing pdfs:\n"
     ]
    },
    {
     "name": "stderr",
     "output_type": "stream",
     "text": [
      "100%|██████████| 310657/310657 [00:58<00:00, 5326.30it/s]\n"
     ]
    },
    {
     "name": "stdout",
     "output_type": "stream",
     "text": [
      "Done\n",
      "\n",
      "Processing shard 6\n",
      "Downloading raw data:\n",
      "    Downloading metadata...\n",
      "    Done\n",
      "    Downloading pdf parses...\n",
      "    Done\n",
      "Filtering metadata:\n"
     ]
    },
    {
     "name": "stderr",
     "output_type": "stream",
     "text": [
      "100%|██████████| 1363787/1363787 [00:22<00:00, 59576.87it/s]\n"
     ]
    },
    {
     "name": "stdout",
     "output_type": "stream",
     "text": [
      "    14796 parsed papers found\n",
      "Parsing pdfs:\n"
     ]
    },
    {
     "name": "stderr",
     "output_type": "stream",
     "text": [
      "100%|██████████| 310226/310226 [00:56<00:00, 5472.21it/s]\n"
     ]
    },
    {
     "name": "stdout",
     "output_type": "stream",
     "text": [
      "Done\n",
      "\n",
      "Processing shard 7\n",
      "Downloading raw data:\n",
      "    Downloading metadata...\n",
      "    Done\n",
      "    Downloading pdf parses...\n",
      "    Done\n",
      "Filtering metadata:\n"
     ]
    },
    {
     "name": "stderr",
     "output_type": "stream",
     "text": [
      "100%|██████████| 1367766/1367766 [00:22<00:00, 60755.65it/s]\n"
     ]
    },
    {
     "name": "stdout",
     "output_type": "stream",
     "text": [
      "    14824 parsed papers found\n",
      "Parsing pdfs:\n"
     ]
    },
    {
     "name": "stderr",
     "output_type": "stream",
     "text": [
      "100%|██████████| 310199/310199 [00:57<00:00, 5370.75it/s]\n"
     ]
    },
    {
     "name": "stdout",
     "output_type": "stream",
     "text": [
      "Done\n",
      "\n",
      "Processing shard 8\n",
      "Downloading raw data:\n",
      "    Downloading metadata...\n",
      "    Done\n",
      "    Downloading pdf parses...\n",
      "    Done\n",
      "Filtering metadata:\n"
     ]
    },
    {
     "name": "stderr",
     "output_type": "stream",
     "text": [
      "100%|██████████| 1366701/1366701 [00:22<00:00, 61099.14it/s]\n"
     ]
    },
    {
     "name": "stdout",
     "output_type": "stream",
     "text": [
      "    15008 parsed papers found\n",
      "Parsing pdfs:\n"
     ]
    },
    {
     "name": "stderr",
     "output_type": "stream",
     "text": [
      "100%|██████████| 311127/311127 [00:57<00:00, 5456.77it/s]\n"
     ]
    },
    {
     "name": "stdout",
     "output_type": "stream",
     "text": [
      "Done\n",
      "\n",
      "Processing shard 9\n",
      "Downloading raw data:\n",
      "    Downloading metadata...\n",
      "    Done\n",
      "    Downloading pdf parses...\n",
      "    Done\n",
      "Filtering metadata:\n"
     ]
    },
    {
     "name": "stderr",
     "output_type": "stream",
     "text": [
      "100%|██████████| 1364986/1364986 [00:22<00:00, 60136.94it/s]\n"
     ]
    },
    {
     "name": "stdout",
     "output_type": "stream",
     "text": [
      "    14863 parsed papers found\n",
      "Parsing pdfs:\n"
     ]
    },
    {
     "name": "stderr",
     "output_type": "stream",
     "text": [
      "100%|██████████| 310460/310460 [00:56<00:00, 5479.25it/s]\n"
     ]
    },
    {
     "name": "stdout",
     "output_type": "stream",
     "text": [
      "Done\n",
      "\n",
      "Processing shard 5\n",
      "Downloading raw data:\n",
      "    Downloading metadata...\n",
      "    Done\n",
      "    Downloading pdf parses...\n",
      "    Done\n",
      "Filtering metadata:\n"
     ]
    },
    {
     "name": "stderr",
     "output_type": "stream",
     "text": [
      "100%|██████████| 1368101/1368101 [00:22<00:00, 60540.74it/s]\n"
     ]
    },
    {
     "name": "stdout",
     "output_type": "stream",
     "text": [
      "    14948 parsed papers found\n",
      "Parsing pdfs:\n"
     ]
    },
    {
     "name": "stderr",
     "output_type": "stream",
     "text": [
      "100%|██████████| 310763/310763 [00:57<00:00, 5405.80it/s]\n"
     ]
    },
    {
     "name": "stdout",
     "output_type": "stream",
     "text": [
      "Done\n",
      "\n",
      "Processing shard 0\n",
      "Downloading raw data:\n",
      "    Downloading metadata...\n",
      "    Done\n",
      "    Downloading pdf parses...\n",
      "    Done\n",
      "Filtering metadata:\n"
     ]
    },
    {
     "name": "stderr",
     "output_type": "stream",
     "text": [
      "100%|██████████| 1365328/1365328 [00:22<00:00, 60481.70it/s]\n"
     ]
    },
    {
     "name": "stdout",
     "output_type": "stream",
     "text": [
      "    14833 parsed papers found\n",
      "Parsing pdfs:\n"
     ]
    },
    {
     "name": "stderr",
     "output_type": "stream",
     "text": [
      "100%|██████████| 310409/310409 [00:56<00:00, 5477.06it/s]\n"
     ]
    },
    {
     "name": "stdout",
     "output_type": "stream",
     "text": [
      "Done\n",
      "\n",
      "Processing shard 1\n",
      "Downloading raw data:\n",
      "    Downloading metadata...\n",
      "    Done\n",
      "    Downloading pdf parses...\n",
      "    Done\n",
      "Filtering metadata:\n"
     ]
    },
    {
     "name": "stderr",
     "output_type": "stream",
     "text": [
      "100%|██████████| 1364619/1364619 [00:22<00:00, 60592.16it/s]\n"
     ]
    },
    {
     "name": "stdout",
     "output_type": "stream",
     "text": [
      "    14992 parsed papers found\n",
      "Parsing pdfs:\n"
     ]
    },
    {
     "name": "stderr",
     "output_type": "stream",
     "text": [
      "100%|██████████| 309849/309849 [00:56<00:00, 5468.19it/s]\n"
     ]
    },
    {
     "name": "stdout",
     "output_type": "stream",
     "text": [
      "Done\n",
      "\n",
      "Processing shard 2\n",
      "Downloading raw data:\n",
      "    Downloading metadata...\n",
      "    Done\n",
      "    Downloading pdf parses...\n",
      "    Done\n",
      "Filtering metadata:\n"
     ]
    },
    {
     "name": "stderr",
     "output_type": "stream",
     "text": [
      "100%|██████████| 1366986/1366986 [00:22<00:00, 60741.18it/s]\n"
     ]
    },
    {
     "name": "stdout",
     "output_type": "stream",
     "text": [
      "    14845 parsed papers found\n",
      "Parsing pdfs:\n"
     ]
    },
    {
     "name": "stderr",
     "output_type": "stream",
     "text": [
      "100%|██████████| 310533/310533 [00:56<00:00, 5479.18it/s]\n"
     ]
    },
    {
     "name": "stdout",
     "output_type": "stream",
     "text": [
      "Done\n",
      "\n",
      "Processing shard 3\n",
      "Downloading raw data:\n",
      "    Downloading metadata...\n",
      "    Done\n",
      "    Downloading pdf parses...\n",
      "    Done\n",
      "Filtering metadata:\n"
     ]
    },
    {
     "name": "stderr",
     "output_type": "stream",
     "text": [
      "100%|██████████| 1365501/1365501 [00:22<00:00, 61104.57it/s]\n"
     ]
    },
    {
     "name": "stdout",
     "output_type": "stream",
     "text": [
      "    14769 parsed papers found\n",
      "Parsing pdfs:\n"
     ]
    },
    {
     "name": "stderr",
     "output_type": "stream",
     "text": [
      "100%|██████████| 310481/310481 [00:56<00:00, 5471.72it/s]\n"
     ]
    },
    {
     "name": "stdout",
     "output_type": "stream",
     "text": [
      "Done\n",
      "\n",
      "Processing shard 4\n",
      "Downloading raw data:\n",
      "    Downloading metadata...\n",
      "    Done\n",
      "    Downloading pdf parses...\n",
      "    Done\n",
      "Filtering metadata:\n"
     ]
    },
    {
     "name": "stderr",
     "output_type": "stream",
     "text": [
      "100%|██████████| 1368897/1368897 [00:22<00:00, 61452.31it/s]\n"
     ]
    },
    {
     "name": "stdout",
     "output_type": "stream",
     "text": [
      "    15015 parsed papers found\n",
      "Parsing pdfs:\n"
     ]
    },
    {
     "name": "stderr",
     "output_type": "stream",
     "text": [
      "100%|██████████| 312397/312397 [00:56<00:00, 5498.34it/s]\n"
     ]
    },
    {
     "name": "stdout",
     "output_type": "stream",
     "text": [
      "Done\n",
      "\n",
      "Processing shard 5\n",
      "Downloading raw data:\n",
      "    Downloading metadata...\n",
      "    Done\n",
      "    Downloading pdf parses...\n",
      "    Done\n",
      "Filtering metadata:\n"
     ]
    },
    {
     "name": "stderr",
     "output_type": "stream",
     "text": [
      "100%|██████████| 1366229/1366229 [00:22<00:00, 61338.89it/s]\n"
     ]
    },
    {
     "name": "stdout",
     "output_type": "stream",
     "text": [
      "    15323 parsed papers found\n",
      "Parsing pdfs:\n"
     ]
    },
    {
     "name": "stderr",
     "output_type": "stream",
     "text": [
      "100%|██████████| 310917/310917 [00:56<00:00, 5467.99it/s]\n"
     ]
    },
    {
     "name": "stdout",
     "output_type": "stream",
     "text": [
      "Done\n",
      "\n",
      "Processing shard 6\n",
      "Downloading raw data:\n",
      "    Downloading metadata...\n",
      "    Done\n",
      "    Downloading pdf parses...\n",
      "    Done\n",
      "Filtering metadata:\n"
     ]
    },
    {
     "name": "stderr",
     "output_type": "stream",
     "text": [
      "100%|██████████| 1366634/1366634 [00:22<00:00, 61383.59it/s]\n"
     ]
    },
    {
     "name": "stdout",
     "output_type": "stream",
     "text": [
      "    15120 parsed papers found\n",
      "Parsing pdfs:\n"
     ]
    },
    {
     "name": "stderr",
     "output_type": "stream",
     "text": [
      "100%|██████████| 310667/310667 [00:56<00:00, 5487.28it/s]\n"
     ]
    },
    {
     "name": "stdout",
     "output_type": "stream",
     "text": [
      "Done\n",
      "\n",
      "Processing shard 7\n",
      "Downloading raw data:\n",
      "    Downloading metadata...\n",
      "    Done\n",
      "    Downloading pdf parses...\n",
      "    Done\n",
      "Filtering metadata:\n"
     ]
    },
    {
     "name": "stderr",
     "output_type": "stream",
     "text": [
      "100%|██████████| 1366568/1366568 [00:22<00:00, 61458.42it/s]\n"
     ]
    },
    {
     "name": "stdout",
     "output_type": "stream",
     "text": [
      "    14827 parsed papers found\n",
      "Parsing pdfs:\n"
     ]
    },
    {
     "name": "stderr",
     "output_type": "stream",
     "text": [
      "100%|██████████| 310224/310224 [00:56<00:00, 5508.18it/s]\n"
     ]
    },
    {
     "name": "stdout",
     "output_type": "stream",
     "text": [
      "Done\n",
      "\n",
      "Processing shard 8\n",
      "Downloading raw data:\n",
      "    Downloading metadata...\n",
      "    Done\n",
      "    Downloading pdf parses...\n",
      "    Done\n",
      "Filtering metadata:\n"
     ]
    },
    {
     "name": "stderr",
     "output_type": "stream",
     "text": [
      "100%|██████████| 1366043/1366043 [00:22<00:00, 61420.58it/s]\n"
     ]
    },
    {
     "name": "stdout",
     "output_type": "stream",
     "text": [
      "    15071 parsed papers found\n",
      "Parsing pdfs:\n"
     ]
    },
    {
     "name": "stderr",
     "output_type": "stream",
     "text": [
      "100%|██████████| 310018/310018 [00:56<00:00, 5498.44it/s]\n"
     ]
    },
    {
     "name": "stdout",
     "output_type": "stream",
     "text": [
      "Done\n",
      "\n",
      "Processing shard 9\n",
      "Downloading raw data:\n",
      "    Downloading metadata...\n",
      "    Done\n",
      "    Downloading pdf parses...\n",
      "    Done\n",
      "Filtering metadata:\n"
     ]
    },
    {
     "name": "stderr",
     "output_type": "stream",
     "text": [
      "100%|██████████| 1365926/1365926 [00:22<00:00, 61107.26it/s]\n"
     ]
    },
    {
     "name": "stdout",
     "output_type": "stream",
     "text": [
      "    14966 parsed papers found\n",
      "Parsing pdfs:\n"
     ]
    },
    {
     "name": "stderr",
     "output_type": "stream",
     "text": [
      "100%|██████████| 310333/310333 [00:56<00:00, 5471.19it/s]\n"
     ]
    },
    {
     "name": "stdout",
     "output_type": "stream",
     "text": [
      "Done\n",
      "\n",
      "Processing shard 6\n",
      "Downloading raw data:\n",
      "    Downloading metadata...\n",
      "    Done\n",
      "    Downloading pdf parses...\n",
      "    Done\n",
      "Filtering metadata:\n"
     ]
    },
    {
     "name": "stderr",
     "output_type": "stream",
     "text": [
      "100%|██████████| 1363968/1363968 [00:22<00:00, 61167.04it/s]\n"
     ]
    },
    {
     "name": "stdout",
     "output_type": "stream",
     "text": [
      "    14832 parsed papers found\n",
      "Parsing pdfs:\n"
     ]
    },
    {
     "name": "stderr",
     "output_type": "stream",
     "text": [
      "100%|██████████| 310014/310014 [00:56<00:00, 5496.58it/s]\n"
     ]
    },
    {
     "name": "stdout",
     "output_type": "stream",
     "text": [
      "Done\n",
      "\n",
      "Processing shard 0\n",
      "Downloading raw data:\n",
      "    Downloading metadata...\n",
      "    Done\n",
      "    Downloading pdf parses...\n",
      "    Done\n",
      "Filtering metadata:\n"
     ]
    },
    {
     "name": "stderr",
     "output_type": "stream",
     "text": [
      "100%|██████████| 1366304/1366304 [00:22<00:00, 60255.90it/s]\n"
     ]
    },
    {
     "name": "stdout",
     "output_type": "stream",
     "text": [
      "    14722 parsed papers found\n",
      "Parsing pdfs:\n"
     ]
    },
    {
     "name": "stderr",
     "output_type": "stream",
     "text": [
      "100%|██████████| 310793/310793 [00:58<00:00, 5315.81it/s]\n"
     ]
    },
    {
     "name": "stdout",
     "output_type": "stream",
     "text": [
      "Done\n",
      "\n",
      "Processing shard 1\n",
      "Downloading raw data:\n",
      "    Downloading metadata...\n",
      "    Done\n",
      "    Downloading pdf parses...\n",
      "    Done\n",
      "Filtering metadata:\n"
     ]
    },
    {
     "name": "stderr",
     "output_type": "stream",
     "text": [
      "100%|██████████| 1367750/1367750 [00:22<00:00, 59959.77it/s]\n"
     ]
    },
    {
     "name": "stdout",
     "output_type": "stream",
     "text": [
      "    14834 parsed papers found\n",
      "Parsing pdfs:\n"
     ]
    },
    {
     "name": "stderr",
     "output_type": "stream",
     "text": [
      "100%|██████████| 310838/310838 [00:58<00:00, 5348.59it/s]\n"
     ]
    },
    {
     "name": "stdout",
     "output_type": "stream",
     "text": [
      "Done\n",
      "\n",
      "Processing shard 2\n",
      "Downloading raw data:\n",
      "    Downloading metadata...\n",
      "    Done\n",
      "    Downloading pdf parses...\n",
      "    Done\n",
      "Filtering metadata:\n"
     ]
    },
    {
     "name": "stderr",
     "output_type": "stream",
     "text": [
      "100%|██████████| 1364545/1364545 [00:22<00:00, 59767.87it/s]\n"
     ]
    },
    {
     "name": "stdout",
     "output_type": "stream",
     "text": [
      "    14911 parsed papers found\n",
      "Parsing pdfs:\n"
     ]
    },
    {
     "name": "stderr",
     "output_type": "stream",
     "text": [
      "100%|██████████| 311346/311346 [00:58<00:00, 5364.38it/s]\n"
     ]
    },
    {
     "name": "stdout",
     "output_type": "stream",
     "text": [
      "Done\n"
     ]
    }
   ],
   "source": [
    "# Full dataset\n",
    "download = DownloadBatch(data_url[40:60]) # For test, use data_url to get full dataset\n",
    "download(cleanup=True)"
   ]
  },
  {
   "cell_type": "code",
   "execution_count": 9,
   "id": "a632fa53",
   "metadata": {},
   "outputs": [
    {
     "name": "stdout",
     "output_type": "stream",
     "text": [
      "\n",
      "Processing shard 3\n",
      "Downloading raw data:\n",
      "    Downloading metadata...\n",
      "    Done\n",
      "    Downloading pdf parses...\n",
      "    Done\n",
      "Filtering metadata:\n"
     ]
    },
    {
     "name": "stderr",
     "output_type": "stream",
     "text": [
      "100%|██████████| 1364259/1364259 [00:22<00:00, 59682.05it/s]\n"
     ]
    },
    {
     "name": "stdout",
     "output_type": "stream",
     "text": [
      "    14857 parsed papers found\n",
      "Parsing pdfs:\n"
     ]
    },
    {
     "name": "stderr",
     "output_type": "stream",
     "text": [
      "100%|██████████| 310521/310521 [00:58<00:00, 5333.52it/s]\n"
     ]
    },
    {
     "name": "stdout",
     "output_type": "stream",
     "text": [
      "Done\n",
      "\n",
      "Processing shard 4\n",
      "Downloading raw data:\n",
      "    Downloading metadata...\n",
      "    Done\n",
      "    Downloading pdf parses...\n",
      "    Done\n",
      "Filtering metadata:\n"
     ]
    },
    {
     "name": "stderr",
     "output_type": "stream",
     "text": [
      "100%|██████████| 1366142/1366142 [00:22<00:00, 59469.14it/s]\n"
     ]
    },
    {
     "name": "stdout",
     "output_type": "stream",
     "text": [
      "    14822 parsed papers found\n",
      "Parsing pdfs:\n"
     ]
    },
    {
     "name": "stderr",
     "output_type": "stream",
     "text": [
      "100%|██████████| 310379/310379 [00:56<00:00, 5459.00it/s]\n"
     ]
    },
    {
     "name": "stdout",
     "output_type": "stream",
     "text": [
      "Done\n",
      "\n",
      "Processing shard 5\n",
      "Downloading raw data:\n",
      "    Downloading metadata...\n",
      "    Done\n",
      "    Downloading pdf parses...\n",
      "    Done\n",
      "Filtering metadata:\n"
     ]
    },
    {
     "name": "stderr",
     "output_type": "stream",
     "text": [
      "100%|██████████| 1368220/1368220 [00:22<00:00, 61445.72it/s]\n"
     ]
    },
    {
     "name": "stdout",
     "output_type": "stream",
     "text": [
      "    15022 parsed papers found\n",
      "Parsing pdfs:\n"
     ]
    },
    {
     "name": "stderr",
     "output_type": "stream",
     "text": [
      "100%|██████████| 310904/310904 [00:57<00:00, 5404.53it/s]\n"
     ]
    },
    {
     "name": "stdout",
     "output_type": "stream",
     "text": [
      "Done\n",
      "\n",
      "Processing shard 6\n",
      "Downloading raw data:\n",
      "    Downloading metadata...\n",
      "    Done\n",
      "    Downloading pdf parses...\n",
      "    Done\n",
      "Filtering metadata:\n"
     ]
    },
    {
     "name": "stderr",
     "output_type": "stream",
     "text": [
      "100%|██████████| 1367162/1367162 [00:22<00:00, 60828.58it/s]\n"
     ]
    },
    {
     "name": "stdout",
     "output_type": "stream",
     "text": [
      "    14978 parsed papers found\n",
      "Parsing pdfs:\n"
     ]
    },
    {
     "name": "stderr",
     "output_type": "stream",
     "text": [
      "100%|██████████| 309975/309975 [00:57<00:00, 5390.36it/s]\n"
     ]
    },
    {
     "name": "stdout",
     "output_type": "stream",
     "text": [
      "Done\n",
      "\n",
      "Processing shard 7\n",
      "Downloading raw data:\n",
      "    Downloading metadata...\n",
      "    Done\n",
      "    Downloading pdf parses...\n",
      "    Done\n",
      "Filtering metadata:\n"
     ]
    },
    {
     "name": "stderr",
     "output_type": "stream",
     "text": [
      "100%|██████████| 1365948/1365948 [00:22<00:00, 61143.99it/s]\n"
     ]
    },
    {
     "name": "stdout",
     "output_type": "stream",
     "text": [
      "    14784 parsed papers found\n",
      "Parsing pdfs:\n"
     ]
    },
    {
     "name": "stderr",
     "output_type": "stream",
     "text": [
      "100%|██████████| 311073/311073 [00:57<00:00, 5436.52it/s]\n"
     ]
    },
    {
     "name": "stdout",
     "output_type": "stream",
     "text": [
      "Done\n",
      "\n",
      "Processing shard 8\n",
      "Downloading raw data:\n",
      "    Downloading metadata...\n",
      "    Done\n",
      "    Downloading pdf parses...\n",
      "    Done\n",
      "Filtering metadata:\n"
     ]
    },
    {
     "name": "stderr",
     "output_type": "stream",
     "text": [
      "100%|██████████| 1364858/1364858 [00:22<00:00, 61133.59it/s]\n"
     ]
    },
    {
     "name": "stdout",
     "output_type": "stream",
     "text": [
      "    14783 parsed papers found\n",
      "Parsing pdfs:\n"
     ]
    },
    {
     "name": "stderr",
     "output_type": "stream",
     "text": [
      "100%|██████████| 310443/310443 [00:57<00:00, 5435.09it/s]\n"
     ]
    },
    {
     "name": "stdout",
     "output_type": "stream",
     "text": [
      "Done\n",
      "\n",
      "Processing shard 9\n",
      "Downloading raw data:\n",
      "    Downloading metadata...\n",
      "    Done\n",
      "    Downloading pdf parses...\n",
      "    Done\n",
      "Filtering metadata:\n"
     ]
    },
    {
     "name": "stderr",
     "output_type": "stream",
     "text": [
      "100%|██████████| 1366646/1366646 [00:22<00:00, 60870.19it/s]\n"
     ]
    },
    {
     "name": "stdout",
     "output_type": "stream",
     "text": [
      "    15076 parsed papers found\n",
      "Parsing pdfs:\n"
     ]
    },
    {
     "name": "stderr",
     "output_type": "stream",
     "text": [
      "100%|██████████| 310376/310376 [00:57<00:00, 5427.92it/s]\n"
     ]
    },
    {
     "name": "stdout",
     "output_type": "stream",
     "text": [
      "Done\n",
      "\n",
      "Processing shard 7\n",
      "Downloading raw data:\n",
      "    Downloading metadata...\n",
      "    Done\n",
      "    Downloading pdf parses...\n",
      "    Done\n",
      "Filtering metadata:\n"
     ]
    },
    {
     "name": "stderr",
     "output_type": "stream",
     "text": [
      "100%|██████████| 1363902/1363902 [00:22<00:00, 60985.36it/s]\n"
     ]
    },
    {
     "name": "stdout",
     "output_type": "stream",
     "text": [
      "    14759 parsed papers found\n",
      "Parsing pdfs:\n"
     ]
    },
    {
     "name": "stderr",
     "output_type": "stream",
     "text": [
      "100%|██████████| 310371/310371 [00:56<00:00, 5449.99it/s]\n"
     ]
    },
    {
     "name": "stdout",
     "output_type": "stream",
     "text": [
      "Done\n",
      "\n",
      "Processing shard 0\n",
      "Downloading raw data:\n",
      "    Downloading metadata...\n",
      "    Done\n",
      "    Downloading pdf parses...\n",
      "    Done\n",
      "Filtering metadata:\n"
     ]
    },
    {
     "name": "stderr",
     "output_type": "stream",
     "text": [
      "100%|██████████| 1365028/1365028 [00:22<00:00, 60730.56it/s]\n"
     ]
    },
    {
     "name": "stdout",
     "output_type": "stream",
     "text": [
      "    14779 parsed papers found\n",
      "Parsing pdfs:\n"
     ]
    },
    {
     "name": "stderr",
     "output_type": "stream",
     "text": [
      "100%|██████████| 310230/310230 [00:57<00:00, 5368.56it/s]\n"
     ]
    },
    {
     "name": "stdout",
     "output_type": "stream",
     "text": [
      "Done\n",
      "\n",
      "Processing shard 1\n",
      "Downloading raw data:\n",
      "    Downloading metadata...\n",
      "    Done\n",
      "    Downloading pdf parses...\n",
      "    Done\n",
      "Filtering metadata:\n"
     ]
    },
    {
     "name": "stderr",
     "output_type": "stream",
     "text": [
      "100%|██████████| 1368314/1368314 [00:22<00:00, 60489.02it/s]\n"
     ]
    },
    {
     "name": "stdout",
     "output_type": "stream",
     "text": [
      "    14955 parsed papers found\n",
      "Parsing pdfs:\n"
     ]
    },
    {
     "name": "stderr",
     "output_type": "stream",
     "text": [
      "100%|██████████| 311580/311580 [00:57<00:00, 5464.77it/s]\n"
     ]
    },
    {
     "name": "stdout",
     "output_type": "stream",
     "text": [
      "Done\n",
      "\n",
      "Processing shard 2\n",
      "Downloading raw data:\n",
      "    Downloading metadata...\n",
      "    Done\n",
      "    Downloading pdf parses...\n",
      "    Done\n",
      "Filtering metadata:\n"
     ]
    },
    {
     "name": "stderr",
     "output_type": "stream",
     "text": [
      "100%|██████████| 1365873/1365873 [00:22<00:00, 61056.99it/s]\n"
     ]
    },
    {
     "name": "stdout",
     "output_type": "stream",
     "text": [
      "    14961 parsed papers found\n",
      "Parsing pdfs:\n"
     ]
    },
    {
     "name": "stderr",
     "output_type": "stream",
     "text": [
      "100%|██████████| 310252/310252 [00:56<00:00, 5455.71it/s]\n"
     ]
    },
    {
     "name": "stdout",
     "output_type": "stream",
     "text": [
      "Done\n",
      "\n",
      "Processing shard 3\n",
      "Downloading raw data:\n",
      "    Downloading metadata...\n",
      "    Done\n",
      "    Downloading pdf parses...\n",
      "    Done\n",
      "Filtering metadata:\n"
     ]
    },
    {
     "name": "stderr",
     "output_type": "stream",
     "text": [
      "100%|██████████| 1366562/1366562 [00:22<00:00, 61301.60it/s]\n"
     ]
    },
    {
     "name": "stdout",
     "output_type": "stream",
     "text": [
      "    14882 parsed papers found\n",
      "Parsing pdfs:\n"
     ]
    },
    {
     "name": "stderr",
     "output_type": "stream",
     "text": [
      "100%|██████████| 311205/311205 [00:56<00:00, 5465.71it/s]\n"
     ]
    },
    {
     "name": "stdout",
     "output_type": "stream",
     "text": [
      "Done\n",
      "\n",
      "Processing shard 4\n",
      "Downloading raw data:\n",
      "    Downloading metadata...\n",
      "    Done\n",
      "    Downloading pdf parses...\n",
      "    Done\n",
      "Filtering metadata:\n"
     ]
    },
    {
     "name": "stderr",
     "output_type": "stream",
     "text": [
      "100%|██████████| 1365774/1365774 [00:22<00:00, 61243.86it/s]\n"
     ]
    },
    {
     "name": "stdout",
     "output_type": "stream",
     "text": [
      "    14783 parsed papers found\n",
      "Parsing pdfs:\n"
     ]
    },
    {
     "name": "stderr",
     "output_type": "stream",
     "text": [
      "100%|██████████| 310169/310169 [00:56<00:00, 5478.36it/s]\n"
     ]
    },
    {
     "name": "stdout",
     "output_type": "stream",
     "text": [
      "Done\n",
      "\n",
      "Processing shard 5\n",
      "Downloading raw data:\n",
      "    Downloading metadata...\n",
      "    Done\n",
      "    Downloading pdf parses...\n",
      "    Done\n",
      "Filtering metadata:\n"
     ]
    },
    {
     "name": "stderr",
     "output_type": "stream",
     "text": [
      "100%|██████████| 1364113/1364113 [00:22<00:00, 61033.14it/s]\n"
     ]
    },
    {
     "name": "stdout",
     "output_type": "stream",
     "text": [
      "    14988 parsed papers found\n",
      "Parsing pdfs:\n"
     ]
    },
    {
     "name": "stderr",
     "output_type": "stream",
     "text": [
      "100%|██████████| 310368/310368 [00:56<00:00, 5450.90it/s]\n"
     ]
    },
    {
     "name": "stdout",
     "output_type": "stream",
     "text": [
      "Done\n",
      "\n",
      "Processing shard 6\n",
      "Downloading raw data:\n",
      "    Downloading metadata...\n",
      "    Done\n",
      "    Downloading pdf parses...\n",
      "    Done\n",
      "Filtering metadata:\n"
     ]
    },
    {
     "name": "stderr",
     "output_type": "stream",
     "text": [
      "100%|██████████| 1363330/1363330 [00:23<00:00, 58617.46it/s]\n"
     ]
    },
    {
     "name": "stdout",
     "output_type": "stream",
     "text": [
      "    14813 parsed papers found\n",
      "Parsing pdfs:\n"
     ]
    },
    {
     "name": "stderr",
     "output_type": "stream",
     "text": [
      "100%|██████████| 310117/310117 [00:57<00:00, 5389.44it/s]\n"
     ]
    },
    {
     "name": "stdout",
     "output_type": "stream",
     "text": [
      "Done\n",
      "\n",
      "Processing shard 7\n",
      "Downloading raw data:\n",
      "    Downloading metadata...\n",
      "    Done\n",
      "    Downloading pdf parses...\n",
      "    Done\n",
      "Filtering metadata:\n"
     ]
    },
    {
     "name": "stderr",
     "output_type": "stream",
     "text": [
      "100%|██████████| 1366721/1366721 [00:22<00:00, 60858.66it/s]\n"
     ]
    },
    {
     "name": "stdout",
     "output_type": "stream",
     "text": [
      "    14856 parsed papers found\n",
      "Parsing pdfs:\n"
     ]
    },
    {
     "name": "stderr",
     "output_type": "stream",
     "text": [
      "100%|██████████| 310957/310957 [00:56<00:00, 5489.57it/s]\n"
     ]
    },
    {
     "name": "stdout",
     "output_type": "stream",
     "text": [
      "Done\n",
      "\n",
      "Processing shard 8\n",
      "Downloading raw data:\n",
      "    Downloading metadata...\n",
      "    Done\n",
      "    Downloading pdf parses...\n",
      "    Done\n",
      "Filtering metadata:\n"
     ]
    },
    {
     "name": "stderr",
     "output_type": "stream",
     "text": [
      "100%|██████████| 1364952/1364952 [00:22<00:00, 61195.52it/s]\n"
     ]
    },
    {
     "name": "stdout",
     "output_type": "stream",
     "text": [
      "    14805 parsed papers found\n",
      "Parsing pdfs:\n"
     ]
    },
    {
     "name": "stderr",
     "output_type": "stream",
     "text": [
      "100%|██████████| 309261/309261 [00:56<00:00, 5443.75it/s]\n"
     ]
    },
    {
     "name": "stdout",
     "output_type": "stream",
     "text": [
      "Done\n",
      "\n",
      "Processing shard 9\n",
      "Downloading raw data:\n",
      "    Downloading metadata...\n",
      "    Done\n",
      "    Downloading pdf parses...\n",
      "    Done\n",
      "Filtering metadata:\n"
     ]
    },
    {
     "name": "stderr",
     "output_type": "stream",
     "text": [
      "100%|██████████| 1364563/1364563 [00:22<00:00, 61314.50it/s]\n"
     ]
    },
    {
     "name": "stdout",
     "output_type": "stream",
     "text": [
      "    14855 parsed papers found\n",
      "Parsing pdfs:\n"
     ]
    },
    {
     "name": "stderr",
     "output_type": "stream",
     "text": [
      "100%|██████████| 310149/310149 [00:57<00:00, 5421.14it/s]\n"
     ]
    },
    {
     "name": "stdout",
     "output_type": "stream",
     "text": [
      "Done\n",
      "\n",
      "Processing shard 8\n",
      "Downloading raw data:\n",
      "    Downloading metadata...\n",
      "    Done\n",
      "    Downloading pdf parses...\n",
      "    Done\n",
      "Filtering metadata:\n"
     ]
    },
    {
     "name": "stderr",
     "output_type": "stream",
     "text": [
      "100%|██████████| 1366518/1366518 [00:22<00:00, 60120.03it/s]\n"
     ]
    },
    {
     "name": "stdout",
     "output_type": "stream",
     "text": [
      "    14969 parsed papers found\n",
      "Parsing pdfs:\n"
     ]
    },
    {
     "name": "stderr",
     "output_type": "stream",
     "text": [
      "100%|██████████| 310043/310043 [00:56<00:00, 5447.02it/s]\n"
     ]
    },
    {
     "name": "stdout",
     "output_type": "stream",
     "text": [
      "Done\n",
      "\n",
      "Processing shard 0\n",
      "Downloading raw data:\n",
      "    Downloading metadata...\n",
      "    Done\n",
      "    Downloading pdf parses...\n",
      "    Done\n",
      "Filtering metadata:\n"
     ]
    },
    {
     "name": "stderr",
     "output_type": "stream",
     "text": [
      "100%|██████████| 1365523/1365523 [00:23<00:00, 58688.20it/s]\n"
     ]
    },
    {
     "name": "stdout",
     "output_type": "stream",
     "text": [
      "    14762 parsed papers found\n",
      "Parsing pdfs:\n"
     ]
    },
    {
     "name": "stderr",
     "output_type": "stream",
     "text": [
      "100%|██████████| 310695/310695 [00:57<00:00, 5403.44it/s]\n"
     ]
    },
    {
     "name": "stdout",
     "output_type": "stream",
     "text": [
      "Done\n"
     ]
    }
   ],
   "source": [
    "# Full dataset\n",
    "download = DownloadBatch(data_url[60:80]) # For test, use data_url to get full dataset\n",
    "download(cleanup=True)"
   ]
  },
  {
   "cell_type": "code",
   "execution_count": 10,
   "id": "1cad85dd",
   "metadata": {},
   "outputs": [
    {
     "name": "stdout",
     "output_type": "stream",
     "text": [
      "\n",
      "Processing shard 1\n",
      "Downloading raw data:\n",
      "    Downloading metadata...\n",
      "    Done\n",
      "    Downloading pdf parses...\n",
      "    Done\n",
      "Filtering metadata:\n"
     ]
    },
    {
     "name": "stderr",
     "output_type": "stream",
     "text": [
      "100%|██████████| 1365028/1365028 [00:22<00:00, 60676.44it/s]\n"
     ]
    },
    {
     "name": "stdout",
     "output_type": "stream",
     "text": [
      "    14803 parsed papers found\n",
      "Parsing pdfs:\n"
     ]
    },
    {
     "name": "stderr",
     "output_type": "stream",
     "text": [
      "100%|██████████| 309423/309423 [00:56<00:00, 5453.79it/s]\n"
     ]
    },
    {
     "name": "stdout",
     "output_type": "stream",
     "text": [
      "Done\n",
      "\n",
      "Processing shard 2\n",
      "Downloading raw data:\n",
      "    Downloading metadata...\n",
      "    Done\n",
      "    Downloading pdf parses...\n",
      "    Done\n",
      "Filtering metadata:\n"
     ]
    },
    {
     "name": "stderr",
     "output_type": "stream",
     "text": [
      "100%|██████████| 1366906/1366906 [00:22<00:00, 60833.73it/s]\n"
     ]
    },
    {
     "name": "stdout",
     "output_type": "stream",
     "text": [
      "    14754 parsed papers found\n",
      "Parsing pdfs:\n"
     ]
    },
    {
     "name": "stderr",
     "output_type": "stream",
     "text": [
      "100%|██████████| 312067/312067 [00:57<00:00, 5439.19it/s]\n"
     ]
    },
    {
     "name": "stdout",
     "output_type": "stream",
     "text": [
      "Done\n",
      "\n",
      "Processing shard 3\n",
      "Downloading raw data:\n",
      "    Downloading metadata...\n",
      "    Done\n",
      "    Downloading pdf parses...\n",
      "    Done\n",
      "Filtering metadata:\n"
     ]
    },
    {
     "name": "stderr",
     "output_type": "stream",
     "text": [
      "100%|██████████| 1367460/1367460 [00:22<00:00, 60782.71it/s]\n"
     ]
    },
    {
     "name": "stdout",
     "output_type": "stream",
     "text": [
      "    14870 parsed papers found\n",
      "Parsing pdfs:\n"
     ]
    },
    {
     "name": "stderr",
     "output_type": "stream",
     "text": [
      "100%|██████████| 310768/310768 [00:57<00:00, 5443.53it/s]\n"
     ]
    },
    {
     "name": "stdout",
     "output_type": "stream",
     "text": [
      "Done\n",
      "\n",
      "Processing shard 4\n",
      "Downloading raw data:\n",
      "    Downloading metadata...\n",
      "    Done\n",
      "    Downloading pdf parses...\n",
      "    Done\n",
      "Filtering metadata:\n"
     ]
    },
    {
     "name": "stderr",
     "output_type": "stream",
     "text": [
      "100%|██████████| 1366204/1366204 [00:22<00:00, 61326.32it/s]\n"
     ]
    },
    {
     "name": "stdout",
     "output_type": "stream",
     "text": [
      "    14842 parsed papers found\n",
      "Parsing pdfs:\n"
     ]
    },
    {
     "name": "stderr",
     "output_type": "stream",
     "text": [
      "100%|██████████| 310740/310740 [00:56<00:00, 5465.15it/s]\n"
     ]
    },
    {
     "name": "stdout",
     "output_type": "stream",
     "text": [
      "Done\n",
      "\n",
      "Processing shard 5\n",
      "Downloading raw data:\n",
      "    Downloading metadata...\n",
      "    Done\n",
      "    Downloading pdf parses...\n",
      "    Done\n",
      "Filtering metadata:\n"
     ]
    },
    {
     "name": "stderr",
     "output_type": "stream",
     "text": [
      "100%|██████████| 1363977/1363977 [00:22<00:00, 61449.21it/s]\n"
     ]
    },
    {
     "name": "stdout",
     "output_type": "stream",
     "text": [
      "    14936 parsed papers found\n",
      "Parsing pdfs:\n"
     ]
    },
    {
     "name": "stderr",
     "output_type": "stream",
     "text": [
      "100%|██████████| 310006/310006 [00:56<00:00, 5473.19it/s]\n"
     ]
    },
    {
     "name": "stdout",
     "output_type": "stream",
     "text": [
      "Done\n",
      "\n",
      "Processing shard 6\n",
      "Downloading raw data:\n",
      "    Downloading metadata...\n",
      "    Done\n",
      "    Downloading pdf parses...\n",
      "    Done\n",
      "Filtering metadata:\n"
     ]
    },
    {
     "name": "stderr",
     "output_type": "stream",
     "text": [
      "100%|██████████| 1368014/1368014 [00:22<00:00, 60538.22it/s]\n"
     ]
    },
    {
     "name": "stdout",
     "output_type": "stream",
     "text": [
      "    14992 parsed papers found\n",
      "Parsing pdfs:\n"
     ]
    },
    {
     "name": "stderr",
     "output_type": "stream",
     "text": [
      "100%|██████████| 310315/310315 [00:56<00:00, 5446.90it/s]\n"
     ]
    },
    {
     "name": "stdout",
     "output_type": "stream",
     "text": [
      "Done\n",
      "\n",
      "Processing shard 7\n",
      "Downloading raw data:\n",
      "    Downloading metadata...\n",
      "    Done\n",
      "    Downloading pdf parses...\n",
      "    Done\n",
      "Filtering metadata:\n"
     ]
    },
    {
     "name": "stderr",
     "output_type": "stream",
     "text": [
      "100%|██████████| 1364573/1364573 [00:22<00:00, 60159.51it/s]\n"
     ]
    },
    {
     "name": "stdout",
     "output_type": "stream",
     "text": [
      "    14928 parsed papers found\n",
      "Parsing pdfs:\n"
     ]
    },
    {
     "name": "stderr",
     "output_type": "stream",
     "text": [
      "100%|██████████| 310670/310670 [00:56<00:00, 5476.36it/s]\n"
     ]
    },
    {
     "name": "stdout",
     "output_type": "stream",
     "text": [
      "Done\n",
      "\n",
      "Processing shard 8\n",
      "Downloading raw data:\n",
      "    Downloading metadata...\n",
      "    Done\n",
      "    Downloading pdf parses...\n",
      "    Done\n",
      "Filtering metadata:\n"
     ]
    },
    {
     "name": "stderr",
     "output_type": "stream",
     "text": [
      "100%|██████████| 1366777/1366777 [00:22<00:00, 61255.83it/s]\n"
     ]
    },
    {
     "name": "stdout",
     "output_type": "stream",
     "text": [
      "    14971 parsed papers found\n",
      "Parsing pdfs:\n"
     ]
    },
    {
     "name": "stderr",
     "output_type": "stream",
     "text": [
      "100%|██████████| 310565/310565 [00:56<00:00, 5469.41it/s]\n"
     ]
    },
    {
     "name": "stdout",
     "output_type": "stream",
     "text": [
      "Done\n",
      "\n",
      "Processing shard 9\n",
      "Downloading raw data:\n",
      "    Downloading metadata...\n",
      "    Done\n",
      "    Downloading pdf parses...\n",
      "    Done\n",
      "Filtering metadata:\n"
     ]
    },
    {
     "name": "stderr",
     "output_type": "stream",
     "text": [
      "100%|██████████| 1366421/1366421 [00:22<00:00, 60405.98it/s]\n"
     ]
    },
    {
     "name": "stdout",
     "output_type": "stream",
     "text": [
      "    14776 parsed papers found\n",
      "Parsing pdfs:\n"
     ]
    },
    {
     "name": "stderr",
     "output_type": "stream",
     "text": [
      "100%|██████████| 310581/310581 [00:56<00:00, 5479.36it/s]\n"
     ]
    },
    {
     "name": "stdout",
     "output_type": "stream",
     "text": [
      "Done\n",
      "\n",
      "Processing shard 9\n",
      "Downloading raw data:\n",
      "    Downloading metadata...\n",
      "    Done\n",
      "    Downloading pdf parses...\n",
      "    Done\n",
      "Filtering metadata:\n"
     ]
    },
    {
     "name": "stderr",
     "output_type": "stream",
     "text": [
      "100%|██████████| 1366131/1366131 [00:22<00:00, 60847.91it/s]\n"
     ]
    },
    {
     "name": "stdout",
     "output_type": "stream",
     "text": [
      "    14843 parsed papers found\n",
      "Parsing pdfs:\n"
     ]
    },
    {
     "name": "stderr",
     "output_type": "stream",
     "text": [
      "100%|██████████| 310297/310297 [00:56<00:00, 5490.01it/s]\n"
     ]
    },
    {
     "name": "stdout",
     "output_type": "stream",
     "text": [
      "Done\n",
      "\n",
      "Processing shard 0\n",
      "Downloading raw data:\n",
      "    Downloading metadata...\n",
      "    Done\n",
      "    Downloading pdf parses...\n",
      "    Done\n",
      "Filtering metadata:\n"
     ]
    },
    {
     "name": "stderr",
     "output_type": "stream",
     "text": [
      "100%|██████████| 1365306/1365306 [00:22<00:00, 60215.71it/s]\n"
     ]
    },
    {
     "name": "stdout",
     "output_type": "stream",
     "text": [
      "    14973 parsed papers found\n",
      "Parsing pdfs:\n"
     ]
    },
    {
     "name": "stderr",
     "output_type": "stream",
     "text": [
      "100%|██████████| 310532/310532 [00:57<00:00, 5437.79it/s]\n"
     ]
    },
    {
     "name": "stdout",
     "output_type": "stream",
     "text": [
      "Done\n",
      "\n",
      "Processing shard 1\n",
      "Downloading raw data:\n",
      "    Downloading metadata...\n",
      "    Done\n",
      "    Downloading pdf parses...\n",
      "    Done\n",
      "Filtering metadata:\n"
     ]
    },
    {
     "name": "stderr",
     "output_type": "stream",
     "text": [
      "100%|██████████| 1365782/1365782 [00:22<00:00, 60808.74it/s]\n"
     ]
    },
    {
     "name": "stdout",
     "output_type": "stream",
     "text": [
      "    14713 parsed papers found\n",
      "Parsing pdfs:\n"
     ]
    },
    {
     "name": "stderr",
     "output_type": "stream",
     "text": [
      "100%|██████████| 309868/309868 [00:56<00:00, 5436.69it/s]\n"
     ]
    },
    {
     "name": "stdout",
     "output_type": "stream",
     "text": [
      "Done\n",
      "\n",
      "Processing shard 2\n",
      "Downloading raw data:\n",
      "    Downloading metadata...\n",
      "    Done\n",
      "    Downloading pdf parses...\n",
      "    Done\n",
      "Filtering metadata:\n"
     ]
    },
    {
     "name": "stderr",
     "output_type": "stream",
     "text": [
      "100%|██████████| 1367685/1367685 [00:22<00:00, 60891.96it/s]\n"
     ]
    },
    {
     "name": "stdout",
     "output_type": "stream",
     "text": [
      "    14907 parsed papers found\n",
      "Parsing pdfs:\n"
     ]
    },
    {
     "name": "stderr",
     "output_type": "stream",
     "text": [
      "100%|██████████| 310975/310975 [00:56<00:00, 5500.64it/s]\n"
     ]
    },
    {
     "name": "stdout",
     "output_type": "stream",
     "text": [
      "Done\n",
      "\n",
      "Processing shard 3\n",
      "Downloading raw data:\n",
      "    Downloading metadata...\n",
      "    Done\n",
      "    Downloading pdf parses...\n",
      "    Done\n",
      "Filtering metadata:\n"
     ]
    },
    {
     "name": "stderr",
     "output_type": "stream",
     "text": [
      "100%|██████████| 1365016/1365016 [00:22<00:00, 61006.31it/s]\n"
     ]
    },
    {
     "name": "stdout",
     "output_type": "stream",
     "text": [
      "    14642 parsed papers found\n",
      "Parsing pdfs:\n"
     ]
    },
    {
     "name": "stderr",
     "output_type": "stream",
     "text": [
      "100%|██████████| 309525/309525 [00:56<00:00, 5483.32it/s]\n"
     ]
    },
    {
     "name": "stdout",
     "output_type": "stream",
     "text": [
      "Done\n",
      "\n",
      "Processing shard 4\n",
      "Downloading raw data:\n",
      "    Downloading metadata...\n",
      "    Done\n",
      "    Downloading pdf parses...\n",
      "    Done\n",
      "Filtering metadata:\n"
     ]
    },
    {
     "name": "stderr",
     "output_type": "stream",
     "text": [
      "100%|██████████| 1366596/1366596 [00:22<00:00, 61365.62it/s]\n"
     ]
    },
    {
     "name": "stdout",
     "output_type": "stream",
     "text": [
      "    14866 parsed papers found\n",
      "Parsing pdfs:\n"
     ]
    },
    {
     "name": "stderr",
     "output_type": "stream",
     "text": [
      "100%|██████████| 310024/310024 [00:56<00:00, 5448.21it/s]\n"
     ]
    },
    {
     "name": "stdout",
     "output_type": "stream",
     "text": [
      "Done\n",
      "\n",
      "Processing shard 5\n",
      "Downloading raw data:\n",
      "    Downloading metadata...\n",
      "    Done\n",
      "    Downloading pdf parses...\n",
      "    Done\n",
      "Filtering metadata:\n"
     ]
    },
    {
     "name": "stderr",
     "output_type": "stream",
     "text": [
      "100%|██████████| 1369090/1369090 [00:22<00:00, 61490.67it/s]\n"
     ]
    },
    {
     "name": "stdout",
     "output_type": "stream",
     "text": [
      "    15054 parsed papers found\n",
      "Parsing pdfs:\n"
     ]
    },
    {
     "name": "stderr",
     "output_type": "stream",
     "text": [
      "100%|██████████| 311381/311381 [00:56<00:00, 5496.67it/s]\n"
     ]
    },
    {
     "name": "stdout",
     "output_type": "stream",
     "text": [
      "Done\n",
      "\n",
      "Processing shard 6\n",
      "Downloading raw data:\n",
      "    Downloading metadata...\n",
      "    Done\n",
      "    Downloading pdf parses...\n",
      "    Done\n",
      "Filtering metadata:\n"
     ]
    },
    {
     "name": "stderr",
     "output_type": "stream",
     "text": [
      "100%|██████████| 1366006/1366006 [00:22<00:00, 60704.70it/s]\n"
     ]
    },
    {
     "name": "stdout",
     "output_type": "stream",
     "text": [
      "    14856 parsed papers found\n",
      "Parsing pdfs:\n"
     ]
    },
    {
     "name": "stderr",
     "output_type": "stream",
     "text": [
      "100%|██████████| 310298/310298 [00:56<00:00, 5473.04it/s]\n"
     ]
    },
    {
     "name": "stdout",
     "output_type": "stream",
     "text": [
      "Done\n",
      "\n",
      "Processing shard 7\n",
      "Downloading raw data:\n",
      "    Downloading metadata...\n",
      "    Done\n",
      "    Downloading pdf parses...\n",
      "    Done\n",
      "Filtering metadata:\n"
     ]
    },
    {
     "name": "stderr",
     "output_type": "stream",
     "text": [
      "100%|██████████| 1364969/1364969 [00:22<00:00, 60754.63it/s]\n"
     ]
    },
    {
     "name": "stdout",
     "output_type": "stream",
     "text": [
      "    14601 parsed papers found\n",
      "Parsing pdfs:\n"
     ]
    },
    {
     "name": "stderr",
     "output_type": "stream",
     "text": [
      "100%|██████████| 309381/309381 [00:56<00:00, 5452.24it/s]\n"
     ]
    },
    {
     "name": "stdout",
     "output_type": "stream",
     "text": [
      "Done\n",
      "\n",
      "Processing shard 8\n",
      "Downloading raw data:\n",
      "    Downloading metadata...\n",
      "    Done\n",
      "    Downloading pdf parses...\n",
      "    Done\n",
      "Filtering metadata:\n"
     ]
    },
    {
     "name": "stderr",
     "output_type": "stream",
     "text": [
      "100%|██████████| 1367399/1367399 [00:22<00:00, 61042.15it/s]\n"
     ]
    },
    {
     "name": "stdout",
     "output_type": "stream",
     "text": [
      "    14835 parsed papers found\n",
      "Parsing pdfs:\n"
     ]
    },
    {
     "name": "stderr",
     "output_type": "stream",
     "text": [
      "100%|██████████| 310827/310827 [00:56<00:00, 5476.56it/s]\n"
     ]
    },
    {
     "name": "stdout",
     "output_type": "stream",
     "text": [
      "Done\n",
      "\n",
      "Processing shard 9\n",
      "Downloading raw data:\n",
      "    Downloading metadata...\n",
      "    Done\n",
      "    Downloading pdf parses...\n",
      "    Done\n",
      "Filtering metadata:\n"
     ]
    },
    {
     "name": "stderr",
     "output_type": "stream",
     "text": [
      "100%|██████████| 1367311/1367311 [00:22<00:00, 61100.86it/s]\n"
     ]
    },
    {
     "name": "stdout",
     "output_type": "stream",
     "text": [
      "    15064 parsed papers found\n",
      "Parsing pdfs:\n"
     ]
    },
    {
     "name": "stderr",
     "output_type": "stream",
     "text": [
      "100%|██████████| 311466/311466 [00:57<00:00, 5432.60it/s]\n"
     ]
    },
    {
     "name": "stdout",
     "output_type": "stream",
     "text": [
      "Done\n"
     ]
    }
   ],
   "source": [
    "# Full dataset\n",
    "download = DownloadBatch(data_url[80:]) # For test, use data_url to get full dataset\n",
    "download(cleanup=True)"
   ]
  }
 ],
 "metadata": {
  "kernelspec": {
   "display_name": "Python 3 (ipykernel)",
   "language": "python",
   "name": "python3"
  },
  "language_info": {
   "codemirror_mode": {
    "name": "ipython",
    "version": 3
   },
   "file_extension": ".py",
   "mimetype": "text/x-python",
   "name": "python",
   "nbconvert_exporter": "python",
   "pygments_lexer": "ipython3",
   "version": "3.8.8"
  }
 },
 "nbformat": 4,
 "nbformat_minor": 5
}
