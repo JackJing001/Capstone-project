{
 "cells": [
  {
   "cell_type": "code",
   "execution_count": 1,
   "id": "eda039c8",
   "metadata": {},
   "outputs": [],
   "source": [
    "import pandas as pd\n",
    "import numpy as np\n",
    "\n",
    "from sklearn.model_selection import train_test_split\n",
    "from collections import Counter\n",
    "\n",
    "from sklearn.cluster import KMeans\n",
    "from sklearn.decomposition import PCA\n",
    "import joblib"
   ]
  },
  {
   "cell_type": "code",
   "execution_count": 2,
   "id": "189e5b9b",
   "metadata": {},
   "outputs": [
    {
     "data": {
      "text/html": [
       "<div>\n",
       "<style scoped>\n",
       "    .dataframe tbody tr th:only-of-type {\n",
       "        vertical-align: middle;\n",
       "    }\n",
       "\n",
       "    .dataframe tbody tr th {\n",
       "        vertical-align: top;\n",
       "    }\n",
       "\n",
       "    .dataframe thead th {\n",
       "        text-align: right;\n",
       "    }\n",
       "</style>\n",
       "<table border=\"1\" class=\"dataframe\">\n",
       "  <thead>\n",
       "    <tr style=\"text-align: right;\">\n",
       "      <th></th>\n",
       "      <th>title</th>\n",
       "      <th>abstract</th>\n",
       "      <th>relatedwork_text</th>\n",
       "      <th>main_text</th>\n",
       "      <th>rw_citations</th>\n",
       "      <th>full_citations</th>\n",
       "      <th>BERT_embeddings</th>\n",
       "    </tr>\n",
       "    <tr>\n",
       "      <th>paper_id</th>\n",
       "      <th></th>\n",
       "      <th></th>\n",
       "      <th></th>\n",
       "      <th></th>\n",
       "      <th></th>\n",
       "      <th></th>\n",
       "      <th></th>\n",
       "    </tr>\n",
       "  </thead>\n",
       "  <tbody>\n",
       "    <tr>\n",
       "      <th>859921</th>\n",
       "      <td>Summarizing Reviews with Variable-length Synta...</td>\n",
       "      <td>Abstract. We present a novel summarization fra...</td>\n",
       "      <td>We first look at how text excerpts are extract...</td>\n",
       "      <td>Abstract. We present a novel summarization fra...</td>\n",
       "      <td>[5965756, 1599046, 3177797, 444032, 6884774]</td>\n",
       "      <td>[1599046, 11055565, 16393334, 2481864, 5965756...</td>\n",
       "      <td>[-0.5292661, 0.96171594, 0.7239495, 0.09007428...</td>\n",
       "    </tr>\n",
       "    <tr>\n",
       "      <th>129124</th>\n",
       "      <td>Can Document Selection Help Semi-supervised Le...</td>\n",
       "      <td>Annotating training data for event extraction ...</td>\n",
       "      <td>Self-training has been applied to several natu...</td>\n",
       "      <td>Annotating training data for event extraction ...</td>\n",
       "      <td>[1398439, 7419156, 11187670, 8336242, 15894892...</td>\n",
       "      <td>[1398439, 7419156, 7579604, 11187670, 8336242,...</td>\n",
       "      <td>[-0.7070601, 0.5793047, 0.30019873, 0.451895, ...</td>\n",
       "    </tr>\n",
       "    <tr>\n",
       "      <th>1345235</th>\n",
       "      <td>Optimizing Sparse Matrix–Vector Product Comput...</td>\n",
       "      <td>Large-scale scientific applications frequently...</td>\n",
       "      <td>A variety of different data and computation re...</td>\n",
       "      <td>Large-scale scientific applications frequently...</td>\n",
       "      <td>[1794629, 9580801, 120335238, 15090599, 208582...</td>\n",
       "      <td>[1794629, 9580801, 120335238, 15090599, 208582...</td>\n",
       "      <td>[-0.72422814, 0.38941112, 0.50098884, -0.02656...</td>\n",
       "    </tr>\n",
       "  </tbody>\n",
       "</table>\n",
       "</div>"
      ],
      "text/plain": [
       "                                                      title  \\\n",
       "paper_id                                                      \n",
       "859921    Summarizing Reviews with Variable-length Synta...   \n",
       "129124    Can Document Selection Help Semi-supervised Le...   \n",
       "1345235   Optimizing Sparse Matrix–Vector Product Comput...   \n",
       "\n",
       "                                                   abstract  \\\n",
       "paper_id                                                      \n",
       "859921    Abstract. We present a novel summarization fra...   \n",
       "129124    Annotating training data for event extraction ...   \n",
       "1345235   Large-scale scientific applications frequently...   \n",
       "\n",
       "                                           relatedwork_text  \\\n",
       "paper_id                                                      \n",
       "859921    We first look at how text excerpts are extract...   \n",
       "129124    Self-training has been applied to several natu...   \n",
       "1345235   A variety of different data and computation re...   \n",
       "\n",
       "                                                  main_text  \\\n",
       "paper_id                                                      \n",
       "859921    Abstract. We present a novel summarization fra...   \n",
       "129124    Annotating training data for event extraction ...   \n",
       "1345235   Large-scale scientific applications frequently...   \n",
       "\n",
       "                                               rw_citations  \\\n",
       "paper_id                                                      \n",
       "859921         [5965756, 1599046, 3177797, 444032, 6884774]   \n",
       "129124    [1398439, 7419156, 11187670, 8336242, 15894892...   \n",
       "1345235   [1794629, 9580801, 120335238, 15090599, 208582...   \n",
       "\n",
       "                                             full_citations  \\\n",
       "paper_id                                                      \n",
       "859921    [1599046, 11055565, 16393334, 2481864, 5965756...   \n",
       "129124    [1398439, 7419156, 7579604, 11187670, 8336242,...   \n",
       "1345235   [1794629, 9580801, 120335238, 15090599, 208582...   \n",
       "\n",
       "                                            BERT_embeddings  \n",
       "paper_id                                                     \n",
       "859921    [-0.5292661, 0.96171594, 0.7239495, 0.09007428...  \n",
       "129124    [-0.7070601, 0.5793047, 0.30019873, 0.451895, ...  \n",
       "1345235   [-0.72422814, 0.38941112, 0.50098884, -0.02656...  "
      ]
     },
     "execution_count": 2,
     "metadata": {},
     "output_type": "execute_result"
    }
   ],
   "source": [
    "df = pd.read_pickle('bert_embeddings.pkl')\n",
    "df.head(3)"
   ]
  },
  {
   "cell_type": "code",
   "execution_count": 16,
   "id": "5921532c",
   "metadata": {},
   "outputs": [],
   "source": [
    "# Split data to 80% trainset and 20% testset\n",
    "df_train, df_test = train_test_split(df, test_size=0.2, random_state=1)\n",
    "\n",
    "train_labels = pd.read_csv('train_mod.csv', index_col=0)"
   ]
  },
  {
   "cell_type": "code",
   "execution_count": 17,
   "id": "ea22b690",
   "metadata": {},
   "outputs": [],
   "source": [
    "def model_eval(model, train_labels):\n",
    "    \n",
    "    result = pd.DataFrame(train_labels.loc[:, 'label'], dtype=np.int8)\n",
    "    result['model_label'] = 0\n",
    "    \n",
    "    df_train_new = df_train.copy()\n",
    "    df_train_new.reset_index(inplace=True)\n",
    "    \n",
    "    for i in train_labels.index:\n",
    "        id1 = train_labels.loc[i, 'paper1_id']\n",
    "        id2 = train_labels.loc[i, 'paper2_id']\n",
    "        #c1 = model.predict(df_train.loc[str(id1), 'BERT_embeddings'].reshape(1, -1))[0]\n",
    "        #c2 = model.predict(df_train.loc[str(id2), 'BERT_embeddings'].reshape(1, -1))[0]\n",
    "        c1 = model.predict(embeddings_test[int(df_train_new[df_train_new.paper_id == str(id1)].index[0])].reshape(1, -1))[0]\n",
    "        c2 = model.predict(embeddings_test[int(df_train_new[df_train_new.paper_id == str(id2)].index[0])].reshape(1, -1))[0]\n",
    "        \n",
    "        result.loc[i, 'model_label'] = int(c1 == c2)\n",
    "        \n",
    "    fn = len(result.loc[(result.label == 1) & (result.model_label == 0)])\n",
    "    tp = len(result.loc[(result.label == 1) & (result.model_label == 1)])\n",
    "    tn = len(result.loc[(result.label == 0) & (result.model_label == 0)])\n",
    "    fp = len(result.loc[(result.label == 0) & (result.model_label == 1)])\n",
    "    \n",
    "    acc = (tp+tn)/(tp+fp+tn+fn)\n",
    "    recall = tp/(tp+fn)\n",
    "        \n",
    "    return acc, recall"
   ]
  },
  {
   "cell_type": "code",
   "execution_count": 18,
   "id": "91e746f3",
   "metadata": {},
   "outputs": [
    {
     "data": {
      "text/plain": [
       "(21933, 768)"
      ]
     },
     "execution_count": 18,
     "metadata": {},
     "output_type": "execute_result"
    }
   ],
   "source": [
    "embeddings = []\n",
    "for i in df_train.index:\n",
    "    emb = df_train.loc[i, 'BERT_embeddings']\n",
    "    embeddings.append(emb)\n",
    "\n",
    "embeddings = np.array(embeddings)\n",
    "embeddings.shape"
   ]
  },
  {
   "cell_type": "code",
   "execution_count": 19,
   "id": "3644915e",
   "metadata": {},
   "outputs": [
    {
     "name": "stderr",
     "output_type": "stream",
     "text": [
      "100%|█████████████████████████████████████████████| 8/8 [04:58<00:00, 37.34s/it]\n"
     ]
    }
   ],
   "source": [
    "from tqdm import tqdm\n",
    "\n",
    "recall_result = []\n",
    "acc_result = []\n",
    "for n1 in tqdm(range(7,15)):\n",
    "    recs = []\n",
    "    accs = []\n",
    "    for n2 in range(5,11):\n",
    "        embeddings_test = PCA(n_components = n1).fit_transform(embeddings)\n",
    "        kmeans_model = KMeans(n_clusters=n2).fit(embeddings_test)\n",
    "        rec = model_eval(kmeans_model, train_labels)[1]\n",
    "        recs.append(rec)\n",
    "        acc = model_eval(kmeans_model, train_labels)[0]\n",
    "        accs.append(acc)\n",
    "    recall_result.append(recs)    \n",
    "    acc_result.append(accs)"
   ]
  },
  {
   "cell_type": "code",
   "execution_count": 20,
   "id": "f58b97a0",
   "metadata": {},
   "outputs": [
    {
     "data": {
      "text/plain": [
       "[<matplotlib.lines.Line2D at 0x7ff0b641e0a0>]"
      ]
     },
     "execution_count": 20,
     "metadata": {},
     "output_type": "execute_result"
    },
    {
     "data": {
      "image/png": "[encoded data removed]",
      "text/plain": [
       "<Figure size 432x288 with 1 Axes>"
      ]
     },
     "metadata": {
      "needs_background": "light"
     },
     "output_type": "display_data"
    }
   ],
   "source": [
    "import matplotlib.pyplot as plt\n",
    "\n",
    "x = np.array(range(7,15))\n",
    "y_recall = []\n",
    "for result in recall_result:\n",
    "    y_recall.append(max(result))\n",
    "y_acc = []\n",
    "for result in acc_result:\n",
    "    y_acc.append(max(result))\n",
    "\n",
    "plt.plot(x, y_recall)"
   ]
  },
  {
   "cell_type": "code",
   "execution_count": 21,
   "id": "d821bbaa",
   "metadata": {},
   "outputs": [
    {
     "data": {
      "text/plain": [
       "[<matplotlib.lines.Line2D at 0x7ff0401360d0>]"
      ]
     },
     "execution_count": 21,
     "metadata": {},
     "output_type": "execute_result"
    },
    {
     "data": {
      "image/png": "[encoded data removed]",
      "text/plain": [
       "<Figure size 432x288 with 1 Axes>"
      ]
     },
     "metadata": {
      "needs_background": "light"
     },
     "output_type": "display_data"
    }
   ],
   "source": [
    "plt.plot(x, y_acc)"
   ]
  },
  {
   "cell_type": "code",
   "execution_count": 28,
   "id": "f1fc54ea",
   "metadata": {},
   "outputs": [
    {
     "data": {
      "text/plain": [
       "[<matplotlib.lines.Line2D at 0x7ff0b664bf40>]"
      ]
     },
     "execution_count": 28,
     "metadata": {},
     "output_type": "execute_result"
    },
    {
     "data": {
      "image/png": "[encoded data removed]",
      "text/plain": [
       "<Figure size 432x288 with 1 Axes>"
      ]
     },
     "metadata": {
      "needs_background": "light"
     },
     "output_type": "display_data"
    }
   ],
   "source": [
    "x1 = range(5,11)\n",
    "plt.plot(x1, recall_result[6])"
   ]
  },
  {
   "cell_type": "code",
   "execution_count": 30,
   "id": "77913a25",
   "metadata": {},
   "outputs": [
    {
     "data": {
      "text/plain": [
       "[<matplotlib.lines.Line2D at 0x7ff0a11509d0>]"
      ]
     },
     "execution_count": 30,
     "metadata": {},
     "output_type": "execute_result"
    },
    {
     "data": {
      "image/png": "[encoded data removed]",
      "text/plain": [
       "<Figure size 432x288 with 1 Axes>"
      ]
     },
     "metadata": {
      "needs_background": "light"
     },
     "output_type": "display_data"
    }
   ],
   "source": [
    "x1 = range(5,11)\n",
    "plt.plot(x1, acc_result[6])"
   ]
  },
  {
   "cell_type": "code",
   "execution_count": 32,
   "id": "25df75b2",
   "metadata": {},
   "outputs": [
    {
     "data": {
      "text/plain": [
       "65"
      ]
     },
     "execution_count": 32,
     "metadata": {},
     "output_type": "execute_result"
    }
   ],
   "source": [
    "train_labels['label'].sum()"
   ]
  },
  {
   "cell_type": "code",
   "execution_count": null,
   "id": "9739406d",
   "metadata": {},
   "outputs": [],
   "source": []
  }
 ],
 "metadata": {
  "kernelspec": {
   "display_name": "Python 3 (ipykernel)",
   "language": "python",
   "name": "python3"
  },
  "language_info": {
   "codemirror_mode": {
    "name": "ipython",
    "version": 3
   },
   "file_extension": ".py",
   "mimetype": "text/x-python",
   "name": "python",
   "nbconvert_exporter": "python",
   "pygments_lexer": "ipython3",
   "version": "3.8.12"
  }
 },
 "nbformat": 4,
 "nbformat_minor": 5
}
