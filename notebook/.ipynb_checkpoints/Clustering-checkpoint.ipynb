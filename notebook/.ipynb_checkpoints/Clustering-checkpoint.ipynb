{
 "cells": [
  {
   "cell_type": "code",
   "execution_count": 1,
   "id": "3b805541",
   "metadata": {},
   "outputs": [],
   "source": [
    "import os\n",
    "import io\n",
    "import json\n",
    "import pandas as pd\n",
    "import numpy as np\n",
    "import torch\n",
    "import joblib\n",
    "\n",
    "from sklearn.model_selection import train_test_split\n",
    "from collections import Counter\n",
    "from sklearn.cluster import KMeans\n",
    "from sklearn.decomposition import PCA"
   ]
  },
  {
   "cell_type": "markdown",
   "id": "54506fa4",
   "metadata": {},
   "source": [
    "# Train/test split"
   ]
  },
  {
   "cell_type": "code",
   "execution_count": 2,
   "id": "aeb00e79",
   "metadata": {},
   "outputs": [
    {
     "data": {
      "text/html": [
       "<div>\n",
       "<style scoped>\n",
       "    .dataframe tbody tr th:only-of-type {\n",
       "        vertical-align: middle;\n",
       "    }\n",
       "\n",
       "    .dataframe tbody tr th {\n",
       "        vertical-align: top;\n",
       "    }\n",
       "\n",
       "    .dataframe thead th {\n",
       "        text-align: right;\n",
       "    }\n",
       "</style>\n",
       "<table border=\"1\" class=\"dataframe\">\n",
       "  <thead>\n",
       "    <tr style=\"text-align: right;\">\n",
       "      <th></th>\n",
       "      <th>title</th>\n",
       "      <th>abstract</th>\n",
       "      <th>relatedwork_text</th>\n",
       "      <th>main_text</th>\n",
       "      <th>rw_citations</th>\n",
       "      <th>full_citations</th>\n",
       "      <th>BERT_embeddings</th>\n",
       "    </tr>\n",
       "    <tr>\n",
       "      <th>paper_id</th>\n",
       "      <th></th>\n",
       "      <th></th>\n",
       "      <th></th>\n",
       "      <th></th>\n",
       "      <th></th>\n",
       "      <th></th>\n",
       "      <th></th>\n",
       "    </tr>\n",
       "  </thead>\n",
       "  <tbody>\n",
       "    <tr>\n",
       "      <th>859921</th>\n",
       "      <td>Summarizing Reviews with Variable-length Synta...</td>\n",
       "      <td>Abstract. We present a novel summarization fra...</td>\n",
       "      <td>We first look at how text excerpts are extract...</td>\n",
       "      <td>Abstract. We present a novel summarization fra...</td>\n",
       "      <td>[5965756, 1599046, 3177797, 444032, 6884774]</td>\n",
       "      <td>[1599046, 11055565, 16393334, 2481864, 5965756...</td>\n",
       "      <td>[-0.5292661, 0.96171594, 0.7239495, 0.09007428...</td>\n",
       "    </tr>\n",
       "    <tr>\n",
       "      <th>129124</th>\n",
       "      <td>Can Document Selection Help Semi-supervised Le...</td>\n",
       "      <td>Annotating training data for event extraction ...</td>\n",
       "      <td>Self-training has been applied to several natu...</td>\n",
       "      <td>Annotating training data for event extraction ...</td>\n",
       "      <td>[1398439, 7419156, 11187670, 8336242, 15894892...</td>\n",
       "      <td>[1398439, 7419156, 7579604, 11187670, 8336242,...</td>\n",
       "      <td>[-0.7070601, 0.5793047, 0.30019873, 0.451895, ...</td>\n",
       "    </tr>\n",
       "    <tr>\n",
       "      <th>1345235</th>\n",
       "      <td>Optimizing Sparse Matrix–Vector Product Comput...</td>\n",
       "      <td>Large-scale scientific applications frequently...</td>\n",
       "      <td>A variety of different data and computation re...</td>\n",
       "      <td>Large-scale scientific applications frequently...</td>\n",
       "      <td>[1794629, 9580801, 120335238, 15090599, 208582...</td>\n",
       "      <td>[1794629, 9580801, 120335238, 15090599, 208582...</td>\n",
       "      <td>[-0.72422814, 0.38941112, 0.50098884, -0.02656...</td>\n",
       "    </tr>\n",
       "    <tr>\n",
       "      <th>2624639</th>\n",
       "      <td>Enhanced Chosen-Ciphertext Security and Applic...</td>\n",
       "      <td>We introduce and study a new notion of enhance...</td>\n",
       "      <td>ECCA is similar in spirit to coin-revealing se...</td>\n",
       "      <td>We introduce and study a new notion of enhance...</td>\n",
       "      <td>[41204165, 19655, 235427, 226828, 3148885]</td>\n",
       "      <td>[443317, 41204165, 7113862, 10098664, 226828, ...</td>\n",
       "      <td>[-0.59993136, 0.84347814, 0.1958661, 0.2972666...</td>\n",
       "    </tr>\n",
       "    <tr>\n",
       "      <th>146120525</th>\n",
       "      <td>ARSM: Augment-REINFORCE-Swap-Merge Estimator f...</td>\n",
       "      <td>To address the challenge of backpropagating th...</td>\n",
       "      <td>For optimizing (1) for categorical z, the diff...</td>\n",
       "      <td>To address the challenge of backpropagating th...</td>\n",
       "      <td>[3535369, 5859948, 1758804, 10756562, 19115634...</td>\n",
       "      <td>[121929631, 4043645, 5859948, 7195970, 1075656...</td>\n",
       "      <td>[-0.78408253, 0.022130227, 0.31313884, 0.46616...</td>\n",
       "    </tr>\n",
       "  </tbody>\n",
       "</table>\n",
       "</div>"
      ],
      "text/plain": [
       "                                                       title  \\\n",
       "paper_id                                                       \n",
       "859921     Summarizing Reviews with Variable-length Synta...   \n",
       "129124     Can Document Selection Help Semi-supervised Le...   \n",
       "1345235    Optimizing Sparse Matrix–Vector Product Comput...   \n",
       "2624639    Enhanced Chosen-Ciphertext Security and Applic...   \n",
       "146120525  ARSM: Augment-REINFORCE-Swap-Merge Estimator f...   \n",
       "\n",
       "                                                    abstract  \\\n",
       "paper_id                                                       \n",
       "859921     Abstract. We present a novel summarization fra...   \n",
       "129124     Annotating training data for event extraction ...   \n",
       "1345235    Large-scale scientific applications frequently...   \n",
       "2624639    We introduce and study a new notion of enhance...   \n",
       "146120525  To address the challenge of backpropagating th...   \n",
       "\n",
       "                                            relatedwork_text  \\\n",
       "paper_id                                                       \n",
       "859921     We first look at how text excerpts are extract...   \n",
       "129124     Self-training has been applied to several natu...   \n",
       "1345235    A variety of different data and computation re...   \n",
       "2624639    ECCA is similar in spirit to coin-revealing se...   \n",
       "146120525  For optimizing (1) for categorical z, the diff...   \n",
       "\n",
       "                                                   main_text  \\\n",
       "paper_id                                                       \n",
       "859921     Abstract. We present a novel summarization fra...   \n",
       "129124     Annotating training data for event extraction ...   \n",
       "1345235    Large-scale scientific applications frequently...   \n",
       "2624639    We introduce and study a new notion of enhance...   \n",
       "146120525  To address the challenge of backpropagating th...   \n",
       "\n",
       "                                                rw_citations  \\\n",
       "paper_id                                                       \n",
       "859921          [5965756, 1599046, 3177797, 444032, 6884774]   \n",
       "129124     [1398439, 7419156, 11187670, 8336242, 15894892...   \n",
       "1345235    [1794629, 9580801, 120335238, 15090599, 208582...   \n",
       "2624639           [41204165, 19655, 235427, 226828, 3148885]   \n",
       "146120525  [3535369, 5859948, 1758804, 10756562, 19115634...   \n",
       "\n",
       "                                              full_citations  \\\n",
       "paper_id                                                       \n",
       "859921     [1599046, 11055565, 16393334, 2481864, 5965756...   \n",
       "129124     [1398439, 7419156, 7579604, 11187670, 8336242,...   \n",
       "1345235    [1794629, 9580801, 120335238, 15090599, 208582...   \n",
       "2624639    [443317, 41204165, 7113862, 10098664, 226828, ...   \n",
       "146120525  [121929631, 4043645, 5859948, 7195970, 1075656...   \n",
       "\n",
       "                                             BERT_embeddings  \n",
       "paper_id                                                      \n",
       "859921     [-0.5292661, 0.96171594, 0.7239495, 0.09007428...  \n",
       "129124     [-0.7070601, 0.5793047, 0.30019873, 0.451895, ...  \n",
       "1345235    [-0.72422814, 0.38941112, 0.50098884, -0.02656...  \n",
       "2624639    [-0.59993136, 0.84347814, 0.1958661, 0.2972666...  \n",
       "146120525  [-0.78408253, 0.022130227, 0.31313884, 0.46616...  "
      ]
     },
     "execution_count": 2,
     "metadata": {},
     "output_type": "execute_result"
    }
   ],
   "source": [
    "df = pd.read_pickle('../dataset/SS/clean/bert_embeddings.pkl')\n",
    "df.head()"
   ]
  },
  {
   "cell_type": "code",
   "execution_count": 3,
   "id": "c7f786f6",
   "metadata": {},
   "outputs": [],
   "source": [
    "# Split data to 80% trainset and 20% testset\n",
    "df_train, df_test = train_test_split(df, test_size=0.2, random_state=1)"
   ]
  },
  {
   "cell_type": "markdown",
   "id": "fe4f994b",
   "metadata": {},
   "source": [
    "# Clusters"
   ]
  },
  {
   "cell_type": "code",
   "execution_count": 4,
   "id": "61152086",
   "metadata": {},
   "outputs": [
    {
     "data": {
      "text/plain": [
       "(21933, 768)"
      ]
     },
     "execution_count": 4,
     "metadata": {},
     "output_type": "execute_result"
    }
   ],
   "source": [
    "embeddings = []\n",
    "for i in df_train.index:\n",
    "    emb = df_train.loc[i, 'BERT_embeddings']\n",
    "    embeddings.append(emb)\n",
    "\n",
    "embeddings = np.array(embeddings)\n",
    "embeddings.shape"
   ]
  },
  {
   "cell_type": "code",
   "execution_count": 5,
   "id": "25d08f05",
   "metadata": {},
   "outputs": [],
   "source": [
    "os.makedirs('../model', exist_ok=True)"
   ]
  },
  {
   "cell_type": "code",
   "execution_count": 6,
   "id": "d3203212",
   "metadata": {},
   "outputs": [
    {
     "data": {
      "text/plain": [
       "(21933, 12)"
      ]
     },
     "execution_count": 6,
     "metadata": {},
     "output_type": "execute_result"
    }
   ],
   "source": [
    "embeddings_test = PCA(n_components=12).fit_transform(embeddings)\n",
    "embeddings_test.shape"
   ]
  },
  {
   "cell_type": "code",
   "execution_count": 7,
   "id": "2c724815",
   "metadata": {},
   "outputs": [],
   "source": [
    "# kmeans_5 = KMeans(n_clusters=5).fit(embeddings_test)\n",
    "# joblib.dump(kmeans_5, '../model/kmeans_5.model')"
   ]
  },
  {
   "cell_type": "markdown",
   "id": "fa9f1cc8",
   "metadata": {},
   "source": [
    "# Evaluation"
   ]
  },
  {
   "cell_type": "code",
   "execution_count": 8,
   "id": "a7667838",
   "metadata": {},
   "outputs": [
    {
     "data": {
      "text/plain": [
       "Counter({1: 3644, 4: 3418, 3: 4883, 0: 5591, 2: 4397})"
      ]
     },
     "execution_count": 8,
     "metadata": {},
     "output_type": "execute_result"
    }
   ],
   "source": [
    "kmeans_5 = joblib.load('../model/kmeans_5.model')\n",
    "Counter(kmeans_5.predict(embeddings_test))"
   ]
  },
  {
   "cell_type": "code",
   "execution_count": 9,
   "id": "e94a8990",
   "metadata": {},
   "outputs": [
    {
     "data": {
      "text/html": [
       "<div>\n",
       "<style scoped>\n",
       "    .dataframe tbody tr th:only-of-type {\n",
       "        vertical-align: middle;\n",
       "    }\n",
       "\n",
       "    .dataframe tbody tr th {\n",
       "        vertical-align: top;\n",
       "    }\n",
       "\n",
       "    .dataframe thead th {\n",
       "        text-align: right;\n",
       "    }\n",
       "</style>\n",
       "<table border=\"1\" class=\"dataframe\">\n",
       "  <thead>\n",
       "    <tr style=\"text-align: right;\">\n",
       "      <th></th>\n",
       "      <th>paper1_id</th>\n",
       "      <th>paper2_id</th>\n",
       "      <th>label_1</th>\n",
       "      <th>label_2</th>\n",
       "      <th>label_3</th>\n",
       "      <th>label_4</th>\n",
       "      <th>label</th>\n",
       "    </tr>\n",
       "  </thead>\n",
       "  <tbody>\n",
       "    <tr>\n",
       "      <th>0</th>\n",
       "      <td>7828885</td>\n",
       "      <td>208310034</td>\n",
       "      <td>0.0</td>\n",
       "      <td>NaN</td>\n",
       "      <td>0.0</td>\n",
       "      <td>0.0</td>\n",
       "      <td>0</td>\n",
       "    </tr>\n",
       "    <tr>\n",
       "      <th>1</th>\n",
       "      <td>4837028</td>\n",
       "      <td>16155532</td>\n",
       "      <td>0.0</td>\n",
       "      <td>NaN</td>\n",
       "      <td>1.0</td>\n",
       "      <td>1.0</td>\n",
       "      <td>1</td>\n",
       "    </tr>\n",
       "    <tr>\n",
       "      <th>2</th>\n",
       "      <td>18475456</td>\n",
       "      <td>17445278</td>\n",
       "      <td>0.0</td>\n",
       "      <td>NaN</td>\n",
       "      <td>0.0</td>\n",
       "      <td>0.0</td>\n",
       "      <td>0</td>\n",
       "    </tr>\n",
       "    <tr>\n",
       "      <th>3</th>\n",
       "      <td>202775562</td>\n",
       "      <td>70299115</td>\n",
       "      <td>0.0</td>\n",
       "      <td>NaN</td>\n",
       "      <td>1.0</td>\n",
       "      <td>0.0</td>\n",
       "      <td>0</td>\n",
       "    </tr>\n",
       "    <tr>\n",
       "      <th>4</th>\n",
       "      <td>4899384</td>\n",
       "      <td>182952605</td>\n",
       "      <td>0.0</td>\n",
       "      <td>NaN</td>\n",
       "      <td>0.0</td>\n",
       "      <td>0.0</td>\n",
       "      <td>0</td>\n",
       "    </tr>\n",
       "  </tbody>\n",
       "</table>\n",
       "</div>"
      ],
      "text/plain": [
       "   paper1_id  paper2_id  label_1  label_2  label_3  label_4  label\n",
       "0    7828885  208310034      0.0      NaN      0.0      0.0      0\n",
       "1    4837028   16155532      0.0      NaN      1.0      1.0      1\n",
       "2   18475456   17445278      0.0      NaN      0.0      0.0      0\n",
       "3  202775562   70299115      0.0      NaN      1.0      0.0      0\n",
       "4    4899384  182952605      0.0      NaN      0.0      0.0      0"
      ]
     },
     "execution_count": 9,
     "metadata": {},
     "output_type": "execute_result"
    }
   ],
   "source": [
    "train_labels = pd.read_csv('train.csv', index_col=0)\n",
    "train_labels.head()"
   ]
  },
  {
   "cell_type": "code",
   "execution_count": 10,
   "id": "c67dab69",
   "metadata": {},
   "outputs": [
    {
     "data": {
      "text/html": [
       "<div>\n",
       "<style scoped>\n",
       "    .dataframe tbody tr th:only-of-type {\n",
       "        vertical-align: middle;\n",
       "    }\n",
       "\n",
       "    .dataframe tbody tr th {\n",
       "        vertical-align: top;\n",
       "    }\n",
       "\n",
       "    .dataframe thead th {\n",
       "        text-align: right;\n",
       "    }\n",
       "</style>\n",
       "<table border=\"1\" class=\"dataframe\">\n",
       "  <thead>\n",
       "    <tr style=\"text-align: right;\">\n",
       "      <th></th>\n",
       "      <th>paper1_id</th>\n",
       "      <th>paper2_id</th>\n",
       "      <th>label_1</th>\n",
       "      <th>label_2</th>\n",
       "      <th>label_3</th>\n",
       "      <th>label_4</th>\n",
       "      <th>label</th>\n",
       "    </tr>\n",
       "  </thead>\n",
       "  <tbody>\n",
       "    <tr>\n",
       "      <th>0</th>\n",
       "      <td>53829365</td>\n",
       "      <td>5392739</td>\n",
       "      <td>0.0</td>\n",
       "      <td>NaN</td>\n",
       "      <td>0.0</td>\n",
       "      <td>0.0</td>\n",
       "      <td>0</td>\n",
       "    </tr>\n",
       "    <tr>\n",
       "      <th>1</th>\n",
       "      <td>3743029</td>\n",
       "      <td>9713252</td>\n",
       "      <td>0.0</td>\n",
       "      <td>NaN</td>\n",
       "      <td>0.0</td>\n",
       "      <td>0.0</td>\n",
       "      <td>0</td>\n",
       "    </tr>\n",
       "    <tr>\n",
       "      <th>2</th>\n",
       "      <td>8459419</td>\n",
       "      <td>30644086</td>\n",
       "      <td>0.0</td>\n",
       "      <td>NaN</td>\n",
       "      <td>0.0</td>\n",
       "      <td>0.0</td>\n",
       "      <td>0</td>\n",
       "    </tr>\n",
       "    <tr>\n",
       "      <th>3</th>\n",
       "      <td>11970283</td>\n",
       "      <td>6317007</td>\n",
       "      <td>0.0</td>\n",
       "      <td>NaN</td>\n",
       "      <td>0.0</td>\n",
       "      <td>0.0</td>\n",
       "      <td>0</td>\n",
       "    </tr>\n",
       "    <tr>\n",
       "      <th>4</th>\n",
       "      <td>2859455</td>\n",
       "      <td>16124390</td>\n",
       "      <td>0.0</td>\n",
       "      <td>NaN</td>\n",
       "      <td>0.0</td>\n",
       "      <td>0.0</td>\n",
       "      <td>0</td>\n",
       "    </tr>\n",
       "  </tbody>\n",
       "</table>\n",
       "</div>"
      ],
      "text/plain": [
       "   paper1_id  paper2_id  label_1  label_2  label_3  label_4  label\n",
       "0   53829365    5392739      0.0      NaN      0.0      0.0      0\n",
       "1    3743029    9713252      0.0      NaN      0.0      0.0      0\n",
       "2    8459419   30644086      0.0      NaN      0.0      0.0      0\n",
       "3   11970283    6317007      0.0      NaN      0.0      0.0      0\n",
       "4    2859455   16124390      0.0      NaN      0.0      0.0      0"
      ]
     },
     "execution_count": 10,
     "metadata": {},
     "output_type": "execute_result"
    }
   ],
   "source": [
    "test_labels = pd.read_csv('test.csv', index_col=0)\n",
    "test_labels.head()"
   ]
  },
  {
   "cell_type": "code",
   "execution_count": 11,
   "id": "880af7dd",
   "metadata": {},
   "outputs": [],
   "source": [
    "def model_eval(model, train_labels, df_train):\n",
    "    \n",
    "    result = pd.DataFrame(train_labels.loc[:, 'label'], dtype=np.int8)\n",
    "    result['model_label'] = 0\n",
    "    \n",
    "    df_train_new = df_train.copy()\n",
    "    df_train_new.reset_index(inplace=True)\n",
    "    \n",
    "    for i in train_labels.index:\n",
    "        id1 = train_labels.loc[i, 'paper1_id']\n",
    "        id2 = train_labels.loc[i, 'paper2_id']\n",
    "        c1 = model.predict(embeddings_test[int(df_train_new[df_train_new.paper_id == str(id1)].index[0])].reshape(1, -1))[0]\n",
    "        c2 = model.predict(embeddings_test[int(df_train_new[df_train_new.paper_id == str(id2)].index[0])].reshape(1, -1))[0]\n",
    "        \n",
    "        result.loc[i, 'model_label'] = int(c1 == c2)\n",
    "        \n",
    "    fn = len(result.loc[(result.label == 1) & (result.model_label == 0)])\n",
    "    tp = len(result.loc[(result.label == 1) & (result.model_label == 1)])\n",
    "    tn = len(result.loc[(result.label == 0) & (result.model_label == 0)])\n",
    "    fp = len(result.loc[(result.label == 0) & (result.model_label == 1)])\n",
    "    \n",
    "    acc = (tp+tn)/(tp+fp+tn+fn)\n",
    "    recall = tp/(tp+fn)\n",
    "        \n",
    "    return acc, recall"
   ]
  },
  {
   "cell_type": "code",
   "execution_count": 12,
   "id": "af32832d",
   "metadata": {},
   "outputs": [
    {
     "data": {
      "text/plain": [
       "(0.8075, 0.5076923076923077)"
      ]
     },
     "execution_count": 12,
     "metadata": {},
     "output_type": "execute_result"
    }
   ],
   "source": [
    "model_eval(kmeans_5, train_labels, df_train)"
   ]
  },
  {
   "cell_type": "code",
   "execution_count": 13,
   "id": "cb2422b2",
   "metadata": {},
   "outputs": [
    {
     "data": {
      "text/plain": [
       "(0.79, 0.38461538461538464)"
      ]
     },
     "execution_count": 13,
     "metadata": {},
     "output_type": "execute_result"
    }
   ],
   "source": [
    "model_eval(kmeans_5, test_labels, df_test)"
   ]
  },
  {
   "cell_type": "code",
   "execution_count": 14,
   "id": "45ab21bf",
   "metadata": {},
   "outputs": [],
   "source": [
    "embeddings = []\n",
    "for i in df.index:\n",
    "    emb = df.loc[i, 'BERT_embeddings']\n",
    "    embeddings.append(emb)\n",
    "\n",
    "embeddings = np.array(embeddings)\n",
    "embeddings_test = PCA(n_components=12).fit_transform(embeddings)"
   ]
  },
  {
   "cell_type": "code",
   "execution_count": 15,
   "id": "d6003b49",
   "metadata": {},
   "outputs": [
    {
     "data": {
      "text/html": [
       "<div>\n",
       "<style scoped>\n",
       "    .dataframe tbody tr th:only-of-type {\n",
       "        vertical-align: middle;\n",
       "    }\n",
       "\n",
       "    .dataframe tbody tr th {\n",
       "        vertical-align: top;\n",
       "    }\n",
       "\n",
       "    .dataframe thead th {\n",
       "        text-align: right;\n",
       "    }\n",
       "</style>\n",
       "<table border=\"1\" class=\"dataframe\">\n",
       "  <thead>\n",
       "    <tr style=\"text-align: right;\">\n",
       "      <th></th>\n",
       "      <th>title</th>\n",
       "      <th>abstract</th>\n",
       "      <th>relatedwork_text</th>\n",
       "      <th>main_text</th>\n",
       "      <th>rw_citations</th>\n",
       "      <th>full_citations</th>\n",
       "      <th>BERT_embeddings</th>\n",
       "      <th>label</th>\n",
       "    </tr>\n",
       "    <tr>\n",
       "      <th>paper_id</th>\n",
       "      <th></th>\n",
       "      <th></th>\n",
       "      <th></th>\n",
       "      <th></th>\n",
       "      <th></th>\n",
       "      <th></th>\n",
       "      <th></th>\n",
       "      <th></th>\n",
       "    </tr>\n",
       "  </thead>\n",
       "  <tbody>\n",
       "    <tr>\n",
       "      <th>859921</th>\n",
       "      <td>Summarizing Reviews with Variable-length Synta...</td>\n",
       "      <td>Abstract. We present a novel summarization fra...</td>\n",
       "      <td>We first look at how text excerpts are extract...</td>\n",
       "      <td>Abstract. We present a novel summarization fra...</td>\n",
       "      <td>[5965756, 1599046, 3177797, 444032, 6884774]</td>\n",
       "      <td>[1599046, 11055565, 16393334, 2481864, 5965756...</td>\n",
       "      <td>[-0.5292661, 0.96171594, 0.7239495, 0.09007428...</td>\n",
       "      <td>1</td>\n",
       "    </tr>\n",
       "    <tr>\n",
       "      <th>129124</th>\n",
       "      <td>Can Document Selection Help Semi-supervised Le...</td>\n",
       "      <td>Annotating training data for event extraction ...</td>\n",
       "      <td>Self-training has been applied to several natu...</td>\n",
       "      <td>Annotating training data for event extraction ...</td>\n",
       "      <td>[1398439, 7419156, 11187670, 8336242, 15894892...</td>\n",
       "      <td>[1398439, 7419156, 7579604, 11187670, 8336242,...</td>\n",
       "      <td>[-0.7070601, 0.5793047, 0.30019873, 0.451895, ...</td>\n",
       "      <td>1</td>\n",
       "    </tr>\n",
       "    <tr>\n",
       "      <th>1345235</th>\n",
       "      <td>Optimizing Sparse Matrix–Vector Product Comput...</td>\n",
       "      <td>Large-scale scientific applications frequently...</td>\n",
       "      <td>A variety of different data and computation re...</td>\n",
       "      <td>Large-scale scientific applications frequently...</td>\n",
       "      <td>[1794629, 9580801, 120335238, 15090599, 208582...</td>\n",
       "      <td>[1794629, 9580801, 120335238, 15090599, 208582...</td>\n",
       "      <td>[-0.72422814, 0.38941112, 0.50098884, -0.02656...</td>\n",
       "      <td>1</td>\n",
       "    </tr>\n",
       "    <tr>\n",
       "      <th>2624639</th>\n",
       "      <td>Enhanced Chosen-Ciphertext Security and Applic...</td>\n",
       "      <td>We introduce and study a new notion of enhance...</td>\n",
       "      <td>ECCA is similar in spirit to coin-revealing se...</td>\n",
       "      <td>We introduce and study a new notion of enhance...</td>\n",
       "      <td>[41204165, 19655, 235427, 226828, 3148885]</td>\n",
       "      <td>[443317, 41204165, 7113862, 10098664, 226828, ...</td>\n",
       "      <td>[-0.59993136, 0.84347814, 0.1958661, 0.2972666...</td>\n",
       "      <td>2</td>\n",
       "    </tr>\n",
       "    <tr>\n",
       "      <th>146120525</th>\n",
       "      <td>ARSM: Augment-REINFORCE-Swap-Merge Estimator f...</td>\n",
       "      <td>To address the challenge of backpropagating th...</td>\n",
       "      <td>For optimizing (1) for categorical z, the diff...</td>\n",
       "      <td>To address the challenge of backpropagating th...</td>\n",
       "      <td>[3535369, 5859948, 1758804, 10756562, 19115634...</td>\n",
       "      <td>[121929631, 4043645, 5859948, 7195970, 1075656...</td>\n",
       "      <td>[-0.78408253, 0.022130227, 0.31313884, 0.46616...</td>\n",
       "      <td>0</td>\n",
       "    </tr>\n",
       "  </tbody>\n",
       "</table>\n",
       "</div>"
      ],
      "text/plain": [
       "                                                       title  \\\n",
       "paper_id                                                       \n",
       "859921     Summarizing Reviews with Variable-length Synta...   \n",
       "129124     Can Document Selection Help Semi-supervised Le...   \n",
       "1345235    Optimizing Sparse Matrix–Vector Product Comput...   \n",
       "2624639    Enhanced Chosen-Ciphertext Security and Applic...   \n",
       "146120525  ARSM: Augment-REINFORCE-Swap-Merge Estimator f...   \n",
       "\n",
       "                                                    abstract  \\\n",
       "paper_id                                                       \n",
       "859921     Abstract. We present a novel summarization fra...   \n",
       "129124     Annotating training data for event extraction ...   \n",
       "1345235    Large-scale scientific applications frequently...   \n",
       "2624639    We introduce and study a new notion of enhance...   \n",
       "146120525  To address the challenge of backpropagating th...   \n",
       "\n",
       "                                            relatedwork_text  \\\n",
       "paper_id                                                       \n",
       "859921     We first look at how text excerpts are extract...   \n",
       "129124     Self-training has been applied to several natu...   \n",
       "1345235    A variety of different data and computation re...   \n",
       "2624639    ECCA is similar in spirit to coin-revealing se...   \n",
       "146120525  For optimizing (1) for categorical z, the diff...   \n",
       "\n",
       "                                                   main_text  \\\n",
       "paper_id                                                       \n",
       "859921     Abstract. We present a novel summarization fra...   \n",
       "129124     Annotating training data for event extraction ...   \n",
       "1345235    Large-scale scientific applications frequently...   \n",
       "2624639    We introduce and study a new notion of enhance...   \n",
       "146120525  To address the challenge of backpropagating th...   \n",
       "\n",
       "                                                rw_citations  \\\n",
       "paper_id                                                       \n",
       "859921          [5965756, 1599046, 3177797, 444032, 6884774]   \n",
       "129124     [1398439, 7419156, 11187670, 8336242, 15894892...   \n",
       "1345235    [1794629, 9580801, 120335238, 15090599, 208582...   \n",
       "2624639           [41204165, 19655, 235427, 226828, 3148885]   \n",
       "146120525  [3535369, 5859948, 1758804, 10756562, 19115634...   \n",
       "\n",
       "                                              full_citations  \\\n",
       "paper_id                                                       \n",
       "859921     [1599046, 11055565, 16393334, 2481864, 5965756...   \n",
       "129124     [1398439, 7419156, 7579604, 11187670, 8336242,...   \n",
       "1345235    [1794629, 9580801, 120335238, 15090599, 208582...   \n",
       "2624639    [443317, 41204165, 7113862, 10098664, 226828, ...   \n",
       "146120525  [121929631, 4043645, 5859948, 7195970, 1075656...   \n",
       "\n",
       "                                             BERT_embeddings label  \n",
       "paper_id                                                            \n",
       "859921     [-0.5292661, 0.96171594, 0.7239495, 0.09007428...     1  \n",
       "129124     [-0.7070601, 0.5793047, 0.30019873, 0.451895, ...     1  \n",
       "1345235    [-0.72422814, 0.38941112, 0.50098884, -0.02656...     1  \n",
       "2624639    [-0.59993136, 0.84347814, 0.1958661, 0.2972666...     2  \n",
       "146120525  [-0.78408253, 0.022130227, 0.31313884, 0.46616...     0  "
      ]
     },
     "execution_count": 15,
     "metadata": {},
     "output_type": "execute_result"
    }
   ],
   "source": [
    "df_new = df.copy()\n",
    "df_new['label'] = '0'\n",
    "\n",
    "for i in range(len(df_new)):\n",
    "    index = df_new.index[i]\n",
    "    df_new.at[index, 'label'] = kmeans_5.predict(embeddings_test[i].reshape(1, -1))[0]\n",
    "    \n",
    "df_new.head()"
   ]
  },
  {
   "cell_type": "code",
   "execution_count": 18,
   "id": "2a52a4a8",
   "metadata": {},
   "outputs": [],
   "source": [
    "# df_new.to_pickle('withlabel.pkl')"
   ]
  }
 ],
 "metadata": {
  "kernelspec": {
   "display_name": "Python 3 (ipykernel)",
   "language": "python",
   "name": "python3"
  },
  "language_info": {
   "codemirror_mode": {
    "name": "ipython",
    "version": 3
   },
   "file_extension": ".py",
   "mimetype": "text/x-python",
   "name": "python",
   "nbconvert_exporter": "python",
   "pygments_lexer": "ipython3",
   "version": "3.8.8"
  }
 },
 "nbformat": 4,
 "nbformat_minor": 5
}
