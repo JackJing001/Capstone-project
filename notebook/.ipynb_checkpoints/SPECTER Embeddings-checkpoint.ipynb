{
 "cells": [
  {
   "cell_type": "code",
   "execution_count": 1,
   "id": "98ad7c10",
   "metadata": {},
   "outputs": [],
   "source": [
    "import os\n",
    "import io\n",
    "import json\n",
    "import pandas as pd\n",
    "import numpy as np\n",
    "import torch\n",
    "import joblib\n",
    "\n",
    "from sentence_transformers import SentenceTransformer\n",
    "from sklearn.model_selection import train_test_split\n",
    "from collections import Counter"
   ]
  },
  {
   "cell_type": "markdown",
   "id": "56807ad2",
   "metadata": {},
   "source": [
    "# Maintext for embedding"
   ]
  },
  {
   "cell_type": "code",
   "execution_count": 2,
   "id": "f3e56b00",
   "metadata": {},
   "outputs": [],
   "source": [
    "df = pd.read_pickle('../dataset/SS/clean/filtered_data.pkl')"
   ]
  },
  {
   "cell_type": "code",
   "execution_count": 3,
   "id": "1cc96ca2",
   "metadata": {},
   "outputs": [
    {
     "data": {
      "text/html": [
       "<div>\n",
       "<style scoped>\n",
       "    .dataframe tbody tr th:only-of-type {\n",
       "        vertical-align: middle;\n",
       "    }\n",
       "\n",
       "    .dataframe tbody tr th {\n",
       "        vertical-align: top;\n",
       "    }\n",
       "\n",
       "    .dataframe thead th {\n",
       "        text-align: right;\n",
       "    }\n",
       "</style>\n",
       "<table border=\"1\" class=\"dataframe\">\n",
       "  <thead>\n",
       "    <tr style=\"text-align: right;\">\n",
       "      <th></th>\n",
       "      <th>title</th>\n",
       "      <th>abstract</th>\n",
       "      <th>relatedwork_text</th>\n",
       "      <th>main_text</th>\n",
       "      <th>rw_citations</th>\n",
       "      <th>full_citations</th>\n",
       "    </tr>\n",
       "    <tr>\n",
       "      <th>paper_id</th>\n",
       "      <th></th>\n",
       "      <th></th>\n",
       "      <th></th>\n",
       "      <th></th>\n",
       "      <th></th>\n",
       "      <th></th>\n",
       "    </tr>\n",
       "  </thead>\n",
       "  <tbody>\n",
       "    <tr>\n",
       "      <th>859921</th>\n",
       "      <td>Summarizing Reviews with Variable-length Synta...</td>\n",
       "      <td>Abstract. We present a novel summarization fra...</td>\n",
       "      <td>We first look at how text excerpts are extract...</td>\n",
       "      <td>Abstract. We present a novel summarization fra...</td>\n",
       "      <td>[5965756, 1599046, 3177797, 444032, 6884774]</td>\n",
       "      <td>[1599046, 11055565, 16393334, 2481864, 5965756...</td>\n",
       "    </tr>\n",
       "    <tr>\n",
       "      <th>129124</th>\n",
       "      <td>Can Document Selection Help Semi-supervised Le...</td>\n",
       "      <td>Annotating training data for event extraction ...</td>\n",
       "      <td>Self-training has been applied to several natu...</td>\n",
       "      <td>Annotating training data for event extraction ...</td>\n",
       "      <td>[1398439, 7419156, 11187670, 8336242, 15894892...</td>\n",
       "      <td>[1398439, 7419156, 7579604, 11187670, 8336242,...</td>\n",
       "    </tr>\n",
       "    <tr>\n",
       "      <th>1345235</th>\n",
       "      <td>Optimizing Sparse Matrix–Vector Product Comput...</td>\n",
       "      <td>Large-scale scientific applications frequently...</td>\n",
       "      <td>A variety of different data and computation re...</td>\n",
       "      <td>Large-scale scientific applications frequently...</td>\n",
       "      <td>[1794629, 9580801, 120335238, 15090599, 208582...</td>\n",
       "      <td>[1794629, 9580801, 120335238, 15090599, 208582...</td>\n",
       "    </tr>\n",
       "    <tr>\n",
       "      <th>2624639</th>\n",
       "      <td>Enhanced Chosen-Ciphertext Security and Applic...</td>\n",
       "      <td>We introduce and study a new notion of enhance...</td>\n",
       "      <td>ECCA is similar in spirit to coin-revealing se...</td>\n",
       "      <td>We introduce and study a new notion of enhance...</td>\n",
       "      <td>[41204165, 19655, 235427, 226828, 3148885]</td>\n",
       "      <td>[443317, 41204165, 7113862, 10098664, 226828, ...</td>\n",
       "    </tr>\n",
       "    <tr>\n",
       "      <th>146120525</th>\n",
       "      <td>ARSM: Augment-REINFORCE-Swap-Merge Estimator f...</td>\n",
       "      <td>To address the challenge of backpropagating th...</td>\n",
       "      <td>For optimizing (1) for categorical z, the diff...</td>\n",
       "      <td>To address the challenge of backpropagating th...</td>\n",
       "      <td>[3535369, 5859948, 1758804, 10756562, 19115634...</td>\n",
       "      <td>[121929631, 4043645, 5859948, 7195970, 1075656...</td>\n",
       "    </tr>\n",
       "  </tbody>\n",
       "</table>\n",
       "</div>"
      ],
      "text/plain": [
       "                                                       title  \\\n",
       "paper_id                                                       \n",
       "859921     Summarizing Reviews with Variable-length Synta...   \n",
       "129124     Can Document Selection Help Semi-supervised Le...   \n",
       "1345235    Optimizing Sparse Matrix–Vector Product Comput...   \n",
       "2624639    Enhanced Chosen-Ciphertext Security and Applic...   \n",
       "146120525  ARSM: Augment-REINFORCE-Swap-Merge Estimator f...   \n",
       "\n",
       "                                                    abstract  \\\n",
       "paper_id                                                       \n",
       "859921     Abstract. We present a novel summarization fra...   \n",
       "129124     Annotating training data for event extraction ...   \n",
       "1345235    Large-scale scientific applications frequently...   \n",
       "2624639    We introduce and study a new notion of enhance...   \n",
       "146120525  To address the challenge of backpropagating th...   \n",
       "\n",
       "                                            relatedwork_text  \\\n",
       "paper_id                                                       \n",
       "859921     We first look at how text excerpts are extract...   \n",
       "129124     Self-training has been applied to several natu...   \n",
       "1345235    A variety of different data and computation re...   \n",
       "2624639    ECCA is similar in spirit to coin-revealing se...   \n",
       "146120525  For optimizing (1) for categorical z, the diff...   \n",
       "\n",
       "                                                   main_text  \\\n",
       "paper_id                                                       \n",
       "859921     Abstract. We present a novel summarization fra...   \n",
       "129124     Annotating training data for event extraction ...   \n",
       "1345235    Large-scale scientific applications frequently...   \n",
       "2624639    We introduce and study a new notion of enhance...   \n",
       "146120525  To address the challenge of backpropagating th...   \n",
       "\n",
       "                                                rw_citations  \\\n",
       "paper_id                                                       \n",
       "859921          [5965756, 1599046, 3177797, 444032, 6884774]   \n",
       "129124     [1398439, 7419156, 11187670, 8336242, 15894892...   \n",
       "1345235    [1794629, 9580801, 120335238, 15090599, 208582...   \n",
       "2624639           [41204165, 19655, 235427, 226828, 3148885]   \n",
       "146120525  [3535369, 5859948, 1758804, 10756562, 19115634...   \n",
       "\n",
       "                                              full_citations  \n",
       "paper_id                                                      \n",
       "859921     [1599046, 11055565, 16393334, 2481864, 5965756...  \n",
       "129124     [1398439, 7419156, 7579604, 11187670, 8336242,...  \n",
       "1345235    [1794629, 9580801, 120335238, 15090599, 208582...  \n",
       "2624639    [443317, 41204165, 7113862, 10098664, 226828, ...  \n",
       "146120525  [121929631, 4043645, 5859948, 7195970, 1075656...  "
      ]
     },
     "execution_count": 3,
     "metadata": {},
     "output_type": "execute_result"
    }
   ],
   "source": [
    "df.head()"
   ]
  },
  {
   "cell_type": "code",
   "execution_count": 4,
   "id": "f0d75881",
   "metadata": {},
   "outputs": [
    {
     "data": {
      "text/plain": [
       "(27417, 6)"
      ]
     },
     "execution_count": 4,
     "metadata": {},
     "output_type": "execute_result"
    }
   ],
   "source": [
    "df.shape"
   ]
  },
  {
   "cell_type": "markdown",
   "id": "76c3fa77",
   "metadata": {},
   "source": [
    "# Document embedding using Bert pre-trained model"
   ]
  },
  {
   "cell_type": "code",
   "execution_count": 5,
   "id": "c2a86fc0",
   "metadata": {},
   "outputs": [
    {
     "data": {
      "application/vnd.jupyter.widget-view+json": {
       "model_id": "ec4b967ee5194e0ea49586dc21ee837f",
       "version_major": 2,
       "version_minor": 0
      },
      "text/plain": [
       "Downloading:   0%|          | 0.00/690 [00:00<?, ?B/s]"
      ]
     },
     "metadata": {},
     "output_type": "display_data"
    },
    {
     "data": {
      "application/vnd.jupyter.widget-view+json": {
       "model_id": "d332b8f5f07e4a4680db8cc3a04e28fe",
       "version_major": 2,
       "version_minor": 0
      },
      "text/plain": [
       "Downloading:   0%|          | 0.00/2.71k [00:00<?, ?B/s]"
      ]
     },
     "metadata": {},
     "output_type": "display_data"
    },
    {
     "data": {
      "application/vnd.jupyter.widget-view+json": {
       "model_id": "9816aaf4dda34e7a9118a9fe31314c7c",
       "version_major": 2,
       "version_minor": 0
      },
      "text/plain": [
       "Downloading:   0%|          | 0.00/622 [00:00<?, ?B/s]"
      ]
     },
     "metadata": {},
     "output_type": "display_data"
    },
    {
     "data": {
      "application/vnd.jupyter.widget-view+json": {
       "model_id": "9dfdeb3ab4864a71bc232f9eedec2ee0",
       "version_major": 2,
       "version_minor": 0
      },
      "text/plain": [
       "Downloading:   0%|          | 0.00/122 [00:00<?, ?B/s]"
      ]
     },
     "metadata": {},
     "output_type": "display_data"
    },
    {
     "data": {
      "application/vnd.jupyter.widget-view+json": {
       "model_id": "0ad1577249164a9dad28afbe3e0ada6b",
       "version_major": 2,
       "version_minor": 0
      },
      "text/plain": [
       "Downloading:   0%|          | 0.00/229 [00:00<?, ?B/s]"
      ]
     },
     "metadata": {},
     "output_type": "display_data"
    },
    {
     "data": {
      "application/vnd.jupyter.widget-view+json": {
       "model_id": "22e6a3ba063b461dbe03f38577204783",
       "version_major": 2,
       "version_minor": 0
      },
      "text/plain": [
       "Downloading:   0%|          | 0.00/440M [00:00<?, ?B/s]"
      ]
     },
     "metadata": {},
     "output_type": "display_data"
    },
    {
     "data": {
      "application/vnd.jupyter.widget-view+json": {
       "model_id": "9c45c9c016684a22bc121f23e69ee17f",
       "version_major": 2,
       "version_minor": 0
      },
      "text/plain": [
       "Downloading:   0%|          | 0.00/53.0 [00:00<?, ?B/s]"
      ]
     },
     "metadata": {},
     "output_type": "display_data"
    },
    {
     "data": {
      "application/vnd.jupyter.widget-view+json": {
       "model_id": "1fdbb2cede78498989a954f8fa4a90ad",
       "version_major": 2,
       "version_minor": 0
      },
      "text/plain": [
       "Downloading:   0%|          | 0.00/112 [00:00<?, ?B/s]"
      ]
     },
     "metadata": {},
     "output_type": "display_data"
    },
    {
     "data": {
      "application/vnd.jupyter.widget-view+json": {
       "model_id": "9ba570fb829e497fb8aee0fd203260ee",
       "version_major": 2,
       "version_minor": 0
      },
      "text/plain": [
       "Downloading:   0%|          | 0.00/462k [00:00<?, ?B/s]"
      ]
     },
     "metadata": {},
     "output_type": "display_data"
    },
    {
     "data": {
      "application/vnd.jupyter.widget-view+json": {
       "model_id": "6c80d1d4ed314b219a6bc2cd0952ee6a",
       "version_major": 2,
       "version_minor": 0
      },
      "text/plain": [
       "Downloading:   0%|          | 0.00/331 [00:00<?, ?B/s]"
      ]
     },
     "metadata": {},
     "output_type": "display_data"
    },
    {
     "data": {
      "application/vnd.jupyter.widget-view+json": {
       "model_id": "e53d32337636447e9ca62b474437007b",
       "version_major": 2,
       "version_minor": 0
      },
      "text/plain": [
       "Downloading:   0%|          | 0.00/222k [00:00<?, ?B/s]"
      ]
     },
     "metadata": {},
     "output_type": "display_data"
    },
    {
     "data": {
      "application/vnd.jupyter.widget-view+json": {
       "model_id": "38a97c7eaf9c487197d34fb4c6e8dbdd",
       "version_major": 2,
       "version_minor": 0
      },
      "text/plain": [
       "Downloading:   0%|          | 0.00/190 [00:00<?, ?B/s]"
      ]
     },
     "metadata": {},
     "output_type": "display_data"
    }
   ],
   "source": [
    "#Load pre-trained BERT model\n",
    "sbert_model = SentenceTransformer('allenai-specter')\n",
    "\n",
    "#Change the length\n",
    "sbert_model.max_seq_length = 250"
   ]
  },
  {
   "cell_type": "code",
   "execution_count": 6,
   "id": "3b69488a",
   "metadata": {},
   "outputs": [],
   "source": [
    "#Generate embeddings from main_text\n",
    "document_embeddings_abs = sbert_model.encode(df['main_text'].values)"
   ]
  },
  {
   "cell_type": "code",
   "execution_count": 7,
   "id": "28965506",
   "metadata": {},
   "outputs": [
    {
     "data": {
      "text/plain": [
       "(27417, 768)"
      ]
     },
     "execution_count": 7,
     "metadata": {},
     "output_type": "execute_result"
    }
   ],
   "source": [
    "document_embeddings_abs.shape"
   ]
  },
  {
   "cell_type": "code",
   "execution_count": 8,
   "id": "6c1b3c0c",
   "metadata": {},
   "outputs": [],
   "source": [
    "#Store embeddings in a dataframe column\n",
    "df['SPECTER_embeddings'] = ''\n",
    "\n",
    "for i in range(len(document_embeddings_abs)):\n",
    "    df['SPECTER_embeddings'].iloc[i] = document_embeddings_abs[i, :]"
   ]
  },
  {
   "cell_type": "code",
   "execution_count": 9,
   "id": "132dcefa",
   "metadata": {},
   "outputs": [
    {
     "data": {
      "text/html": [
       "<div>\n",
       "<style scoped>\n",
       "    .dataframe tbody tr th:only-of-type {\n",
       "        vertical-align: middle;\n",
       "    }\n",
       "\n",
       "    .dataframe tbody tr th {\n",
       "        vertical-align: top;\n",
       "    }\n",
       "\n",
       "    .dataframe thead th {\n",
       "        text-align: right;\n",
       "    }\n",
       "</style>\n",
       "<table border=\"1\" class=\"dataframe\">\n",
       "  <thead>\n",
       "    <tr style=\"text-align: right;\">\n",
       "      <th></th>\n",
       "      <th>title</th>\n",
       "      <th>abstract</th>\n",
       "      <th>relatedwork_text</th>\n",
       "      <th>main_text</th>\n",
       "      <th>rw_citations</th>\n",
       "      <th>full_citations</th>\n",
       "      <th>SPECTER_embeddings</th>\n",
       "    </tr>\n",
       "    <tr>\n",
       "      <th>paper_id</th>\n",
       "      <th></th>\n",
       "      <th></th>\n",
       "      <th></th>\n",
       "      <th></th>\n",
       "      <th></th>\n",
       "      <th></th>\n",
       "      <th></th>\n",
       "    </tr>\n",
       "  </thead>\n",
       "  <tbody>\n",
       "    <tr>\n",
       "      <th>859921</th>\n",
       "      <td>Summarizing Reviews with Variable-length Synta...</td>\n",
       "      <td>Abstract. We present a novel summarization fra...</td>\n",
       "      <td>We first look at how text excerpts are extract...</td>\n",
       "      <td>Abstract. We present a novel summarization fra...</td>\n",
       "      <td>[5965756, 1599046, 3177797, 444032, 6884774]</td>\n",
       "      <td>[1599046, 11055565, 16393334, 2481864, 5965756...</td>\n",
       "      <td>[-0.7218136, 0.99761677, -0.27647057, 0.235195...</td>\n",
       "    </tr>\n",
       "    <tr>\n",
       "      <th>129124</th>\n",
       "      <td>Can Document Selection Help Semi-supervised Le...</td>\n",
       "      <td>Annotating training data for event extraction ...</td>\n",
       "      <td>Self-training has been applied to several natu...</td>\n",
       "      <td>Annotating training data for event extraction ...</td>\n",
       "      <td>[1398439, 7419156, 11187670, 8336242, 15894892...</td>\n",
       "      <td>[1398439, 7419156, 7579604, 11187670, 8336242,...</td>\n",
       "      <td>[-0.46521527, 0.17172785, 0.27331015, 0.088347...</td>\n",
       "    </tr>\n",
       "    <tr>\n",
       "      <th>1345235</th>\n",
       "      <td>Optimizing Sparse Matrix–Vector Product Comput...</td>\n",
       "      <td>Large-scale scientific applications frequently...</td>\n",
       "      <td>A variety of different data and computation re...</td>\n",
       "      <td>Large-scale scientific applications frequently...</td>\n",
       "      <td>[1794629, 9580801, 120335238, 15090599, 208582...</td>\n",
       "      <td>[1794629, 9580801, 120335238, 15090599, 208582...</td>\n",
       "      <td>[-0.16910633, 0.8334114, 0.039647657, -0.09229...</td>\n",
       "    </tr>\n",
       "    <tr>\n",
       "      <th>2624639</th>\n",
       "      <td>Enhanced Chosen-Ciphertext Security and Applic...</td>\n",
       "      <td>We introduce and study a new notion of enhance...</td>\n",
       "      <td>ECCA is similar in spirit to coin-revealing se...</td>\n",
       "      <td>We introduce and study a new notion of enhance...</td>\n",
       "      <td>[41204165, 19655, 235427, 226828, 3148885]</td>\n",
       "      <td>[443317, 41204165, 7113862, 10098664, 226828, ...</td>\n",
       "      <td>[0.12169194, 0.04154425, 0.2388953, 0.03814739...</td>\n",
       "    </tr>\n",
       "    <tr>\n",
       "      <th>146120525</th>\n",
       "      <td>ARSM: Augment-REINFORCE-Swap-Merge Estimator f...</td>\n",
       "      <td>To address the challenge of backpropagating th...</td>\n",
       "      <td>For optimizing (1) for categorical z, the diff...</td>\n",
       "      <td>To address the challenge of backpropagating th...</td>\n",
       "      <td>[3535369, 5859948, 1758804, 10756562, 19115634...</td>\n",
       "      <td>[121929631, 4043645, 5859948, 7195970, 1075656...</td>\n",
       "      <td>[-0.8591176, 0.8032798, -0.012844058, 0.021643...</td>\n",
       "    </tr>\n",
       "  </tbody>\n",
       "</table>\n",
       "</div>"
      ],
      "text/plain": [
       "                                                       title  \\\n",
       "paper_id                                                       \n",
       "859921     Summarizing Reviews with Variable-length Synta...   \n",
       "129124     Can Document Selection Help Semi-supervised Le...   \n",
       "1345235    Optimizing Sparse Matrix–Vector Product Comput...   \n",
       "2624639    Enhanced Chosen-Ciphertext Security and Applic...   \n",
       "146120525  ARSM: Augment-REINFORCE-Swap-Merge Estimator f...   \n",
       "\n",
       "                                                    abstract  \\\n",
       "paper_id                                                       \n",
       "859921     Abstract. We present a novel summarization fra...   \n",
       "129124     Annotating training data for event extraction ...   \n",
       "1345235    Large-scale scientific applications frequently...   \n",
       "2624639    We introduce and study a new notion of enhance...   \n",
       "146120525  To address the challenge of backpropagating th...   \n",
       "\n",
       "                                            relatedwork_text  \\\n",
       "paper_id                                                       \n",
       "859921     We first look at how text excerpts are extract...   \n",
       "129124     Self-training has been applied to several natu...   \n",
       "1345235    A variety of different data and computation re...   \n",
       "2624639    ECCA is similar in spirit to coin-revealing se...   \n",
       "146120525  For optimizing (1) for categorical z, the diff...   \n",
       "\n",
       "                                                   main_text  \\\n",
       "paper_id                                                       \n",
       "859921     Abstract. We present a novel summarization fra...   \n",
       "129124     Annotating training data for event extraction ...   \n",
       "1345235    Large-scale scientific applications frequently...   \n",
       "2624639    We introduce and study a new notion of enhance...   \n",
       "146120525  To address the challenge of backpropagating th...   \n",
       "\n",
       "                                                rw_citations  \\\n",
       "paper_id                                                       \n",
       "859921          [5965756, 1599046, 3177797, 444032, 6884774]   \n",
       "129124     [1398439, 7419156, 11187670, 8336242, 15894892...   \n",
       "1345235    [1794629, 9580801, 120335238, 15090599, 208582...   \n",
       "2624639           [41204165, 19655, 235427, 226828, 3148885]   \n",
       "146120525  [3535369, 5859948, 1758804, 10756562, 19115634...   \n",
       "\n",
       "                                              full_citations  \\\n",
       "paper_id                                                       \n",
       "859921     [1599046, 11055565, 16393334, 2481864, 5965756...   \n",
       "129124     [1398439, 7419156, 7579604, 11187670, 8336242,...   \n",
       "1345235    [1794629, 9580801, 120335238, 15090599, 208582...   \n",
       "2624639    [443317, 41204165, 7113862, 10098664, 226828, ...   \n",
       "146120525  [121929631, 4043645, 5859948, 7195970, 1075656...   \n",
       "\n",
       "                                          SPECTER_embeddings  \n",
       "paper_id                                                      \n",
       "859921     [-0.7218136, 0.99761677, -0.27647057, 0.235195...  \n",
       "129124     [-0.46521527, 0.17172785, 0.27331015, 0.088347...  \n",
       "1345235    [-0.16910633, 0.8334114, 0.039647657, -0.09229...  \n",
       "2624639    [0.12169194, 0.04154425, 0.2388953, 0.03814739...  \n",
       "146120525  [-0.8591176, 0.8032798, -0.012844058, 0.021643...  "
      ]
     },
     "execution_count": 9,
     "metadata": {},
     "output_type": "execute_result"
    }
   ],
   "source": [
    "df.head()"
   ]
  },
  {
   "cell_type": "code",
   "execution_count": 10,
   "id": "302960b1",
   "metadata": {},
   "outputs": [
    {
     "data": {
      "text/plain": [
       "(27417, 7)"
      ]
     },
     "execution_count": 10,
     "metadata": {},
     "output_type": "execute_result"
    }
   ],
   "source": [
    "df.shape"
   ]
  },
  {
   "cell_type": "code",
   "execution_count": 11,
   "id": "8c0e87b8",
   "metadata": {},
   "outputs": [],
   "source": [
    "df.to_pickle('../dataset/SS/clean/SPECTER_embeddings.pkl')"
   ]
  }
 ],
 "metadata": {
  "kernelspec": {
   "display_name": "Python 3 (ipykernel)",
   "language": "python",
   "name": "python3"
  },
  "language_info": {
   "codemirror_mode": {
    "name": "ipython",
    "version": 3
   },
   "file_extension": ".py",
   "mimetype": "text/x-python",
   "name": "python",
   "nbconvert_exporter": "python",
   "pygments_lexer": "ipython3",
   "version": "3.8.8"
  }
 },
 "nbformat": 4,
 "nbformat_minor": 5
}
