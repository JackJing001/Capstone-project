{
 "cells": [
  {
   "cell_type": "markdown",
   "id": "8fc264b5",
   "metadata": {},
   "source": [
    "# Download the S2ORC Dataset"
   ]
  },
  {
   "cell_type": "markdown",
   "id": "b55e6890",
   "metadata": {},
   "source": [
    "This notebook processes the latest release (2020-07-05) of the [Semantic Scholar Open Research Corpus](https://www.aclweb.org/anthology/2020.acl-main.447). It is split into 100 uniformly shuffled shards. \n",
    "\n",
    "The script will download each shard, filter computer science papers from it and extract the required data, then delete the superfluous data files."
   ]
  },
  {
   "cell_type": "code",
   "execution_count": 1,
   "id": "54a18d0a",
   "metadata": {},
   "outputs": [],
   "source": [
    "import os\n",
    "import subprocess\n",
    "import urllib\n",
    "import gzip\n",
    "import io\n",
    "import json\n",
    "import re\n",
    "from tqdm import tqdm\n",
    "import pandas as pd\n",
    "import numpy as np"
   ]
  },
  {
   "cell_type": "code",
   "execution_count": 2,
   "id": "0c8eb66b",
   "metadata": {},
   "outputs": [],
   "source": [
    "# # Open raw file\n",
    "# with open(\"../dataset/full_urls.txt\") as f:\n",
    "#     lines = f.readlines()\n",
    "# \n",
    "# getlines = [line[:-1] for line in lines if line.startswith('wget')]\n",
    "# getlines = getlines[2:]\n",
    "# metalines = [str(line.split()[-1]) for line in getlines if line.find('meta') != -1]\n",
    "# metalines = [line[1:-1] for line in metalines]\n",
    "# pdflines = [str(line.split()[-1]) for line in getlines if line.find('meta') == -1]\n",
    "# pdflines = [line[1:-1] for line in pdflines]\n",
    "\n",
    "# df = pd.DataFrame(list(zip(metalines, pdflines)), columns=['metadata', 'pdf_parses'])\n",
    "# df.to_csv('../dataset/ss_urls.csv', index=None)\n",
    "# df.head()"
   ]
  },
  {
   "cell_type": "code",
   "execution_count": 3,
   "id": "60bad67c",
   "metadata": {},
   "outputs": [
    {
     "data": {
      "text/html": [
       "<div>\n",
       "<style scoped>\n",
       "    .dataframe tbody tr th:only-of-type {\n",
       "        vertical-align: middle;\n",
       "    }\n",
       "\n",
       "    .dataframe tbody tr th {\n",
       "        vertical-align: top;\n",
       "    }\n",
       "\n",
       "    .dataframe thead th {\n",
       "        text-align: right;\n",
       "    }\n",
       "</style>\n",
       "<table border=\"1\" class=\"dataframe\">\n",
       "  <thead>\n",
       "    <tr style=\"text-align: right;\">\n",
       "      <th></th>\n",
       "      <th>metadata</th>\n",
       "      <th>pdf_parses</th>\n",
       "    </tr>\n",
       "  </thead>\n",
       "  <tbody>\n",
       "    <tr>\n",
       "      <th>0</th>\n",
       "      <td>https://ai2-s2-s2orc.s3.amazonaws.com/20200705...</td>\n",
       "      <td>https://ai2-s2-s2orc.s3.amazonaws.com/20200705...</td>\n",
       "    </tr>\n",
       "    <tr>\n",
       "      <th>1</th>\n",
       "      <td>https://ai2-s2-s2orc.s3.amazonaws.com/20200705...</td>\n",
       "      <td>https://ai2-s2-s2orc.s3.amazonaws.com/20200705...</td>\n",
       "    </tr>\n",
       "    <tr>\n",
       "      <th>2</th>\n",
       "      <td>https://ai2-s2-s2orc.s3.amazonaws.com/20200705...</td>\n",
       "      <td>https://ai2-s2-s2orc.s3.amazonaws.com/20200705...</td>\n",
       "    </tr>\n",
       "    <tr>\n",
       "      <th>3</th>\n",
       "      <td>https://ai2-s2-s2orc.s3.amazonaws.com/20200705...</td>\n",
       "      <td>https://ai2-s2-s2orc.s3.amazonaws.com/20200705...</td>\n",
       "    </tr>\n",
       "    <tr>\n",
       "      <th>4</th>\n",
       "      <td>https://ai2-s2-s2orc.s3.amazonaws.com/20200705...</td>\n",
       "      <td>https://ai2-s2-s2orc.s3.amazonaws.com/20200705...</td>\n",
       "    </tr>\n",
       "  </tbody>\n",
       "</table>\n",
       "</div>"
      ],
      "text/plain": [
       "                                            metadata  \\\n",
       "0  https://ai2-s2-s2orc.s3.amazonaws.com/20200705...   \n",
       "1  https://ai2-s2-s2orc.s3.amazonaws.com/20200705...   \n",
       "2  https://ai2-s2-s2orc.s3.amazonaws.com/20200705...   \n",
       "3  https://ai2-s2-s2orc.s3.amazonaws.com/20200705...   \n",
       "4  https://ai2-s2-s2orc.s3.amazonaws.com/20200705...   \n",
       "\n",
       "                                          pdf_parses  \n",
       "0  https://ai2-s2-s2orc.s3.amazonaws.com/20200705...  \n",
       "1  https://ai2-s2-s2orc.s3.amazonaws.com/20200705...  \n",
       "2  https://ai2-s2-s2orc.s3.amazonaws.com/20200705...  \n",
       "3  https://ai2-s2-s2orc.s3.amazonaws.com/20200705...  \n",
       "4  https://ai2-s2-s2orc.s3.amazonaws.com/20200705...  "
      ]
     },
     "execution_count": 3,
     "metadata": {},
     "output_type": "execute_result"
    }
   ],
   "source": [
    "data_url = pd.read_csv(\"../dataset/ss_urls.csv\")\n",
    "data_url.head()"
   ]
  },
  {
   "cell_type": "code",
   "execution_count": 4,
   "id": "cd719582",
   "metadata": {},
   "outputs": [
    {
     "data": {
      "text/plain": [
       "100"
      ]
     },
     "execution_count": 4,
     "metadata": {},
     "output_type": "execute_result"
    }
   ],
   "source": [
    "len(data_url)"
   ]
  },
  {
   "cell_type": "markdown",
   "id": "13cfa204",
   "metadata": {},
   "source": [
    "### Download the data that we need"
   ]
  },
  {
   "cell_type": "markdown",
   "id": "3135cff8",
   "metadata": {},
   "source": [
    "This part of codes are from HESCapstone"
   ]
  },
  {
   "cell_type": "code",
   "execution_count": 9,
   "id": "ff7fde86",
   "metadata": {},
   "outputs": [],
   "source": [
    "# Create required folder structure\n",
    "ROOT = '../dataset'\n",
    "CLEAN_DATA = os.path.join(ROOT, 'SS/clean')\n",
    "METADATA_INPUT_DIR = os.path.join(ROOT,'SS/metadata/raw/') \n",
    "METADATA_OUTPUT_DIR = os.path.join(ROOT,'SS/metadata/business/')\n",
    "PDF_PARSES_INPUT_DIR = os.path.join(ROOT,'SS/pdf_parses/raw/')\n",
    "PDF_PARSES_OUTPUT_DIR = os.path.join(ROOT,'SS/pdf_parses/business/')\n",
    "\n",
    "os.makedirs(CLEAN_DATA, exist_ok=True)\n",
    "os.makedirs(METADATA_INPUT_DIR, exist_ok=True)\n",
    "os.makedirs(METADATA_OUTPUT_DIR, exist_ok=True)\n",
    "os.makedirs(PDF_PARSES_INPUT_DIR, exist_ok=True)\n",
    "os.makedirs(PDF_PARSES_OUTPUT_DIR, exist_ok=True)"
   ]
  },
  {
   "cell_type": "code",
   "execution_count": 6,
   "id": "a3ef0546",
   "metadata": {},
   "outputs": [],
   "source": [
    "class DownloadBatch:\n",
    "    \"\"\"Filter raw SS dataset to extract only the papers we need\"\"\"\n",
    "\n",
    "    field = \"Business\"\n",
    "\n",
    "    def __init__(self, df):\n",
    "        self.df = df\n",
    "\n",
    "    @staticmethod\n",
    "    def get_filename(url):\n",
    "        return os.path.basename(url.split(\"?\")[0])\n",
    "\n",
    "    def get_basename(self, url):\n",
    "        filename = self.get_filename(url).split(\".\")[0]\n",
    "        return filename\n",
    "    \n",
    "    \n",
    "    def create_batch(self, row):\n",
    "        \"\"\"Create links for each row.\"\"\"\n",
    "        input_metadata_url = row[1][\"metadata\"]\n",
    "        input_pdf_parses_url = row[1][\"pdf_parses\"]\n",
    "        batch = dict(\n",
    "            number=self.get_basename(input_metadata_url)[-1],\n",
    "            input_metadata_url=input_metadata_url,\n",
    "            input_metadata_path=os.path.join(\n",
    "                METADATA_INPUT_DIR, self.get_filename(input_metadata_url)\n",
    "            ),\n",
    "            output_metadata_path=os.path.join(\n",
    "                METADATA_OUTPUT_DIR, self.get_filename(input_metadata_url)\n",
    "            )[:-3],\n",
    "            input_pdf_parses_url=input_pdf_parses_url,\n",
    "            input_pdf_parses_path=os.path.join(\n",
    "                PDF_PARSES_INPUT_DIR, self.get_filename(input_pdf_parses_url)\n",
    "            ),\n",
    "            output_pdf_parses_path=os.path.join(\n",
    "                PDF_PARSES_OUTPUT_DIR,\n",
    "                self.get_filename(input_pdf_parses_url),\n",
    "            )[:-3],\n",
    "        )\n",
    "        return batch\n",
    "\n",
    "    def download_data(self, batch: dict):\n",
    "        \"\"\"Download the metadata and the pdf parses for the shard\"\"\"\n",
    "\n",
    "        # Download metadata\n",
    "        print(f\"Downloading raw data:\")\n",
    "        \n",
    "        if not os.path.isfile(batch[\"input_metadata_path\"]):\n",
    "            print('    Downloading metadata...')\n",
    "            urllib.request.urlretrieve(batch[\"input_metadata_url\"], batch[\"input_metadata_path\"])\n",
    "            print('    Done')\n",
    "        else:\n",
    "            print('    Metadata already downloaded')\n",
    "        \n",
    "        # Download pdf parse\n",
    "        if not os.path.isfile(batch[\"input_pdf_parses_path\"]):\n",
    "            print('    Downloading pdf parses...')\n",
    "            urllib.request.urlretrieve(batch[\"input_pdf_parses_url\"], batch[\"input_pdf_parses_path\"])\n",
    "            print('    Done')\n",
    "        else:\n",
    "            print('    PDF data already downloaded')\n",
    "        \n",
    "\n",
    "    def check_pdf_parse(self, metadata_dict):\n",
    "        \"\"\"Only keep files that have a corresponding pdf parse\"\"\"\n",
    "        if metadata_dict.get(\"has_pdf_parsed_body_text\"):\n",
    "            return True\n",
    "        return False\n",
    "\n",
    "    def find_topics(self, metadata_dict: dict):\n",
    "        \"\"\"Return papers that are in the field of interest\"\"\"\n",
    "        mag_field_of_study = metadata_dict[\"mag_field_of_study\"]\n",
    "        if mag_field_of_study and self.field in mag_field_of_study:\n",
    "            return True\n",
    "        return False\n",
    "\n",
    "    def filter_metadata(self, metadata_dict):\n",
    "        \"\"\"Filter papers of interest\"\"\"\n",
    "        # Filter papers with no pdf parse\n",
    "        if self.check_pdf_parse(metadata_dict):\n",
    "            # Filter to selected topic\n",
    "            if self.find_topics(metadata_dict):\n",
    "                return True    \n",
    "        return False\n",
    "\n",
    "    def filter_batch(self, batch: dict):\n",
    "        \"\"\"Download raw data and filter papers of interest\"\"\"\n",
    "        number = batch['number']\n",
    "        print(f'\\nProcessing shard {number}')\n",
    "        self.download_data(batch)\n",
    "\n",
    "        print(\"Filtering metadata:\")\n",
    "        paper_ids_to_keep = set()\n",
    "        with gzip.open(batch[\"input_metadata_path\"], \"rb\") as gz, open(batch[\"output_metadata_path\"], \"wb\") as f_out:\n",
    "            f = io.BufferedReader(gz)\n",
    "            for line in tqdm(f.readlines()):\n",
    "                metadata_dict = json.loads(line)\n",
    "                if self.filter_metadata(metadata_dict):\n",
    "                    paper_id = metadata_dict.get(\"paper_id\")\n",
    "                    paper_ids_to_keep.add(paper_id)\n",
    "                    f_out.write(line)                \n",
    "                \n",
    "        print(f'    {len(paper_ids_to_keep)} parsed papers found')\n",
    "        \n",
    "        print(\"Parsing pdfs:\")\n",
    "        with gzip.open(batch['input_pdf_parses_path'], 'rb') as gz, open(batch['output_pdf_parses_path'], 'wb') as f_out:\n",
    "            f = io.BufferedReader(gz)\n",
    "            for line in tqdm(f.readlines()):\n",
    "                metadata_dict = json.loads(line)\n",
    "                paper_id = metadata_dict['paper_id']\n",
    "                if paper_id in paper_ids_to_keep:\n",
    "                    f_out.write(line)\n",
    "        print('Done')\n",
    "                 \n",
    "    def cleanup(self, batch):\n",
    "        \"\"\"Delete the raw files to clear up space for other shards\"\"\"\n",
    "        os.remove(batch['input_metadata_path'])\n",
    "        os.remove(batch['input_pdf_parses_path'])\n",
    "\n",
    "    def __call__(self, cleanup=True):\n",
    "        for row in self.df.iterrows():\n",
    "            batch = self.create_batch(row)\n",
    "            self.filter_batch(batch)\n",
    "            if cleanup:\n",
    "                self.cleanup(batch)"
   ]
  },
  {
   "cell_type": "code",
   "execution_count": 10,
   "id": "69f4026d",
   "metadata": {},
   "outputs": [
    {
     "name": "stdout",
     "output_type": "stream",
     "text": [
      "\n",
      "Processing shard 0\n",
      "Downloading raw data:\n",
      "    Downloading metadata...\n",
      "    Done\n",
      "    Downloading pdf parses...\n",
      "    Done\n",
      "Filtering metadata:\n"
     ]
    },
    {
     "name": "stderr",
     "output_type": "stream",
     "text": [
      "100%|██████████| 1366661/1366661 [00:21<00:00, 62777.51it/s]\n"
     ]
    },
    {
     "name": "stdout",
     "output_type": "stream",
     "text": [
      "    1381 parsed papers found\n",
      "Parsing pdfs:\n"
     ]
    },
    {
     "name": "stderr",
     "output_type": "stream",
     "text": [
      "100%|██████████| 310736/310736 [00:58<00:00, 5329.10it/s]\n"
     ]
    },
    {
     "name": "stdout",
     "output_type": "stream",
     "text": [
      "Done\n",
      "\n",
      "Processing shard 1\n",
      "Downloading raw data:\n",
      "    Downloading metadata...\n",
      "    Done\n",
      "    Downloading pdf parses...\n",
      "    Done\n",
      "Filtering metadata:\n"
     ]
    },
    {
     "name": "stderr",
     "output_type": "stream",
     "text": [
      "100%|██████████| 1365929/1365929 [00:22<00:00, 61079.66it/s]\n"
     ]
    },
    {
     "name": "stdout",
     "output_type": "stream",
     "text": [
      "    1399 parsed papers found\n",
      "Parsing pdfs:\n"
     ]
    },
    {
     "name": "stderr",
     "output_type": "stream",
     "text": [
      "100%|██████████| 310316/310316 [00:59<00:00, 5253.98it/s]\n"
     ]
    },
    {
     "name": "stdout",
     "output_type": "stream",
     "text": [
      "Done\n",
      "\n",
      "Processing shard 0\n",
      "Downloading raw data:\n",
      "    Downloading metadata...\n",
      "    Done\n",
      "    Downloading pdf parses...\n",
      "    Done\n",
      "Filtering metadata:\n"
     ]
    },
    {
     "name": "stderr",
     "output_type": "stream",
     "text": [
      "100%|██████████| 1365724/1365724 [00:22<00:00, 60664.07it/s]\n"
     ]
    },
    {
     "name": "stdout",
     "output_type": "stream",
     "text": [
      "    1419 parsed papers found\n",
      "Parsing pdfs:\n"
     ]
    },
    {
     "name": "stderr",
     "output_type": "stream",
     "text": [
      "100%|██████████| 311205/311205 [00:58<00:00, 5362.62it/s]\n"
     ]
    },
    {
     "name": "stdout",
     "output_type": "stream",
     "text": [
      "Done\n",
      "\n",
      "Processing shard 1\n",
      "Downloading raw data:\n",
      "    Downloading metadata...\n",
      "    Done\n",
      "    Downloading pdf parses...\n",
      "    Done\n",
      "Filtering metadata:\n"
     ]
    },
    {
     "name": "stderr",
     "output_type": "stream",
     "text": [
      "100%|██████████| 1364981/1364981 [00:22<00:00, 60815.69it/s]\n"
     ]
    },
    {
     "name": "stdout",
     "output_type": "stream",
     "text": [
      "    1334 parsed papers found\n",
      "Parsing pdfs:\n"
     ]
    },
    {
     "name": "stderr",
     "output_type": "stream",
     "text": [
      "100%|██████████| 309634/309634 [00:58<00:00, 5330.71it/s]\n"
     ]
    },
    {
     "name": "stdout",
     "output_type": "stream",
     "text": [
      "Done\n",
      "\n",
      "Processing shard 2\n",
      "Downloading raw data:\n",
      "    Downloading metadata...\n",
      "    Done\n",
      "    Downloading pdf parses...\n",
      "    Done\n",
      "Filtering metadata:\n"
     ]
    },
    {
     "name": "stderr",
     "output_type": "stream",
     "text": [
      "100%|██████████| 1368337/1368337 [00:22<00:00, 61127.23it/s]\n"
     ]
    },
    {
     "name": "stdout",
     "output_type": "stream",
     "text": [
      "    1439 parsed papers found\n",
      "Parsing pdfs:\n"
     ]
    },
    {
     "name": "stderr",
     "output_type": "stream",
     "text": [
      "100%|██████████| 310881/310881 [00:58<00:00, 5340.99it/s]\n"
     ]
    },
    {
     "name": "stdout",
     "output_type": "stream",
     "text": [
      "Done\n",
      "\n",
      "Processing shard 3\n",
      "Downloading raw data:\n",
      "    Downloading metadata...\n",
      "    Done\n",
      "    Downloading pdf parses...\n",
      "    Done\n",
      "Filtering metadata:\n"
     ]
    },
    {
     "name": "stderr",
     "output_type": "stream",
     "text": [
      "100%|██████████| 1365293/1365293 [00:22<00:00, 60975.97it/s]\n"
     ]
    },
    {
     "name": "stdout",
     "output_type": "stream",
     "text": [
      "    1421 parsed papers found\n",
      "Parsing pdfs:\n"
     ]
    },
    {
     "name": "stderr",
     "output_type": "stream",
     "text": [
      "100%|██████████| 310782/310782 [00:58<00:00, 5337.40it/s]\n"
     ]
    },
    {
     "name": "stdout",
     "output_type": "stream",
     "text": [
      "Done\n",
      "\n",
      "Processing shard 4\n",
      "Downloading raw data:\n",
      "    Downloading metadata...\n",
      "    Done\n",
      "    Downloading pdf parses...\n",
      "    Done\n",
      "Filtering metadata:\n"
     ]
    },
    {
     "name": "stderr",
     "output_type": "stream",
     "text": [
      "100%|██████████| 1366174/1366174 [00:22<00:00, 61446.73it/s]\n"
     ]
    },
    {
     "name": "stdout",
     "output_type": "stream",
     "text": [
      "    1460 parsed papers found\n",
      "Parsing pdfs:\n"
     ]
    },
    {
     "name": "stderr",
     "output_type": "stream",
     "text": [
      "100%|██████████| 310864/310864 [00:58<00:00, 5338.84it/s]\n"
     ]
    },
    {
     "name": "stdout",
     "output_type": "stream",
     "text": [
      "Done\n",
      "\n",
      "Processing shard 5\n",
      "Downloading raw data:\n",
      "    Downloading metadata...\n",
      "    Done\n",
      "    Downloading pdf parses...\n",
      "    Done\n",
      "Filtering metadata:\n"
     ]
    },
    {
     "name": "stderr",
     "output_type": "stream",
     "text": [
      "100%|██████████| 1365392/1365392 [00:22<00:00, 61583.32it/s]\n"
     ]
    },
    {
     "name": "stdout",
     "output_type": "stream",
     "text": [
      "    1466 parsed papers found\n",
      "Parsing pdfs:\n"
     ]
    },
    {
     "name": "stderr",
     "output_type": "stream",
     "text": [
      "100%|██████████| 310734/310734 [00:58<00:00, 5346.75it/s]\n"
     ]
    },
    {
     "name": "stdout",
     "output_type": "stream",
     "text": [
      "Done\n",
      "\n",
      "Processing shard 6\n",
      "Downloading raw data:\n",
      "    Downloading metadata...\n",
      "    Done\n",
      "    Downloading pdf parses...\n",
      "    Done\n",
      "Filtering metadata:\n"
     ]
    },
    {
     "name": "stderr",
     "output_type": "stream",
     "text": [
      "100%|██████████| 1365591/1365591 [00:22<00:00, 60510.15it/s]\n"
     ]
    },
    {
     "name": "stdout",
     "output_type": "stream",
     "text": [
      "    1417 parsed papers found\n",
      "Parsing pdfs:\n"
     ]
    },
    {
     "name": "stderr",
     "output_type": "stream",
     "text": [
      "100%|██████████| 310129/310129 [00:58<00:00, 5343.74it/s]\n"
     ]
    },
    {
     "name": "stdout",
     "output_type": "stream",
     "text": [
      "Done\n",
      "\n",
      "Processing shard 7\n",
      "Downloading raw data:\n",
      "    Downloading metadata...\n",
      "    Done\n",
      "    Downloading pdf parses...\n",
      "    Done\n",
      "Filtering metadata:\n"
     ]
    },
    {
     "name": "stderr",
     "output_type": "stream",
     "text": [
      "100%|██████████| 1365273/1365273 [00:22<00:00, 61190.97it/s]\n"
     ]
    },
    {
     "name": "stdout",
     "output_type": "stream",
     "text": [
      "    1430 parsed papers found\n",
      "Parsing pdfs:\n"
     ]
    },
    {
     "name": "stderr",
     "output_type": "stream",
     "text": [
      "100%|██████████| 309474/309474 [00:57<00:00, 5338.77it/s]\n"
     ]
    },
    {
     "name": "stdout",
     "output_type": "stream",
     "text": [
      "Done\n",
      "\n",
      "Processing shard 8\n",
      "Downloading raw data:\n",
      "    Downloading metadata...\n",
      "    Done\n",
      "    Downloading pdf parses...\n",
      "    Done\n",
      "Filtering metadata:\n"
     ]
    },
    {
     "name": "stderr",
     "output_type": "stream",
     "text": [
      "100%|██████████| 1366666/1366666 [00:21<00:00, 62201.88it/s]\n"
     ]
    },
    {
     "name": "stdout",
     "output_type": "stream",
     "text": [
      "    1403 parsed papers found\n",
      "Parsing pdfs:\n"
     ]
    },
    {
     "name": "stderr",
     "output_type": "stream",
     "text": [
      "100%|██████████| 310604/310604 [00:58<00:00, 5354.49it/s]\n"
     ]
    },
    {
     "name": "stdout",
     "output_type": "stream",
     "text": [
      "Done\n",
      "\n",
      "Processing shard 9\n",
      "Downloading raw data:\n",
      "    Downloading metadata...\n",
      "    Done\n",
      "    Downloading pdf parses...\n",
      "    Done\n",
      "Filtering metadata:\n"
     ]
    },
    {
     "name": "stderr",
     "output_type": "stream",
     "text": [
      "100%|██████████| 1365681/1365681 [00:22<00:00, 60986.22it/s]\n"
     ]
    },
    {
     "name": "stdout",
     "output_type": "stream",
     "text": [
      "    1394 parsed papers found\n",
      "Parsing pdfs:\n"
     ]
    },
    {
     "name": "stderr",
     "output_type": "stream",
     "text": [
      "100%|██████████| 310565/310565 [00:58<00:00, 5280.76it/s]\n"
     ]
    },
    {
     "name": "stdout",
     "output_type": "stream",
     "text": [
      "Done\n",
      "\n",
      "Processing shard 2\n",
      "Downloading raw data:\n",
      "    Downloading metadata...\n",
      "    Done\n",
      "    Downloading pdf parses...\n",
      "    Done\n",
      "Filtering metadata:\n"
     ]
    },
    {
     "name": "stderr",
     "output_type": "stream",
     "text": [
      "100%|██████████| 1365718/1365718 [00:21<00:00, 62086.25it/s]\n"
     ]
    },
    {
     "name": "stdout",
     "output_type": "stream",
     "text": [
      "    1352 parsed papers found\n",
      "Parsing pdfs:\n"
     ]
    },
    {
     "name": "stderr",
     "output_type": "stream",
     "text": [
      "100%|██████████| 310539/310539 [00:58<00:00, 5326.51it/s]\n"
     ]
    },
    {
     "name": "stdout",
     "output_type": "stream",
     "text": [
      "Done\n",
      "\n",
      "Processing shard 0\n",
      "Downloading raw data:\n",
      "    Downloading metadata...\n",
      "    Done\n",
      "    Downloading pdf parses...\n",
      "    Done\n",
      "Filtering metadata:\n"
     ]
    },
    {
     "name": "stderr",
     "output_type": "stream",
     "text": [
      "100%|██████████| 1364615/1364615 [00:21<00:00, 62122.57it/s]\n"
     ]
    },
    {
     "name": "stdout",
     "output_type": "stream",
     "text": [
      "    1412 parsed papers found\n",
      "Parsing pdfs:\n"
     ]
    },
    {
     "name": "stderr",
     "output_type": "stream",
     "text": [
      "100%|██████████| 310218/310218 [00:58<00:00, 5342.81it/s]\n"
     ]
    },
    {
     "name": "stdout",
     "output_type": "stream",
     "text": [
      "Done\n",
      "\n",
      "Processing shard 1\n",
      "Downloading raw data:\n",
      "    Downloading metadata...\n",
      "    Done\n",
      "    Downloading pdf parses...\n",
      "    Done\n",
      "Filtering metadata:\n"
     ]
    },
    {
     "name": "stderr",
     "output_type": "stream",
     "text": [
      "100%|██████████| 1366657/1366657 [00:22<00:00, 61991.84it/s]\n"
     ]
    },
    {
     "name": "stdout",
     "output_type": "stream",
     "text": [
      "    1421 parsed papers found\n",
      "Parsing pdfs:\n"
     ]
    },
    {
     "name": "stderr",
     "output_type": "stream",
     "text": [
      "100%|██████████| 311241/311241 [00:58<00:00, 5328.73it/s]\n"
     ]
    },
    {
     "name": "stdout",
     "output_type": "stream",
     "text": [
      "Done\n",
      "\n",
      "Processing shard 2\n",
      "Downloading raw data:\n",
      "    Downloading metadata...\n",
      "    Done\n",
      "    Downloading pdf parses...\n",
      "    Done\n",
      "Filtering metadata:\n"
     ]
    },
    {
     "name": "stderr",
     "output_type": "stream",
     "text": [
      "100%|██████████| 1364853/1364853 [00:22<00:00, 61059.08it/s]\n"
     ]
    },
    {
     "name": "stdout",
     "output_type": "stream",
     "text": [
      "    1386 parsed papers found\n",
      "Parsing pdfs:\n"
     ]
    },
    {
     "name": "stderr",
     "output_type": "stream",
     "text": [
      "100%|██████████| 310683/310683 [00:58<00:00, 5350.52it/s]\n"
     ]
    },
    {
     "name": "stdout",
     "output_type": "stream",
     "text": [
      "Done\n",
      "\n",
      "Processing shard 3\n",
      "Downloading raw data:\n",
      "    Downloading metadata...\n",
      "    Done\n",
      "    Downloading pdf parses...\n",
      "    Done\n",
      "Filtering metadata:\n"
     ]
    },
    {
     "name": "stderr",
     "output_type": "stream",
     "text": [
      "100%|██████████| 1364882/1364882 [00:21<00:00, 62272.05it/s]\n"
     ]
    },
    {
     "name": "stdout",
     "output_type": "stream",
     "text": [
      "    1420 parsed papers found\n",
      "Parsing pdfs:\n"
     ]
    },
    {
     "name": "stderr",
     "output_type": "stream",
     "text": [
      "100%|██████████| 310258/310258 [00:58<00:00, 5346.83it/s]\n"
     ]
    },
    {
     "name": "stdout",
     "output_type": "stream",
     "text": [
      "Done\n",
      "\n",
      "Processing shard 4\n",
      "Downloading raw data:\n",
      "    Downloading metadata...\n",
      "    Done\n",
      "    Downloading pdf parses...\n",
      "    Done\n",
      "Filtering metadata:\n"
     ]
    },
    {
     "name": "stderr",
     "output_type": "stream",
     "text": [
      "100%|██████████| 1365496/1365496 [00:22<00:00, 61678.30it/s]\n"
     ]
    },
    {
     "name": "stdout",
     "output_type": "stream",
     "text": [
      "    1480 parsed papers found\n",
      "Parsing pdfs:\n"
     ]
    },
    {
     "name": "stderr",
     "output_type": "stream",
     "text": [
      "100%|██████████| 310260/310260 [00:58<00:00, 5332.68it/s]\n"
     ]
    },
    {
     "name": "stdout",
     "output_type": "stream",
     "text": [
      "Done\n",
      "\n",
      "Processing shard 5\n",
      "Downloading raw data:\n",
      "    Downloading metadata...\n",
      "    Done\n",
      "    Downloading pdf parses...\n",
      "    Done\n",
      "Filtering metadata:\n"
     ]
    },
    {
     "name": "stderr",
     "output_type": "stream",
     "text": [
      "100%|██████████| 1365958/1365958 [00:22<00:00, 61556.47it/s]\n"
     ]
    },
    {
     "name": "stdout",
     "output_type": "stream",
     "text": [
      "    1412 parsed papers found\n",
      "Parsing pdfs:\n"
     ]
    },
    {
     "name": "stderr",
     "output_type": "stream",
     "text": [
      "100%|██████████| 310222/310222 [00:58<00:00, 5322.30it/s]\n"
     ]
    },
    {
     "name": "stdout",
     "output_type": "stream",
     "text": [
      "Done\n",
      "\n",
      "Processing shard 6\n",
      "Downloading raw data:\n",
      "    Downloading metadata...\n",
      "    Done\n",
      "    Downloading pdf parses...\n",
      "    Done\n",
      "Filtering metadata:\n"
     ]
    },
    {
     "name": "stderr",
     "output_type": "stream",
     "text": [
      "100%|██████████| 1365290/1365290 [00:22<00:00, 61948.07it/s]\n"
     ]
    },
    {
     "name": "stdout",
     "output_type": "stream",
     "text": [
      "    1387 parsed papers found\n",
      "Parsing pdfs:\n"
     ]
    },
    {
     "name": "stderr",
     "output_type": "stream",
     "text": [
      "100%|██████████| 309829/309829 [01:00<00:00, 5101.00it/s]\n"
     ]
    },
    {
     "name": "stdout",
     "output_type": "stream",
     "text": [
      "Done\n"
     ]
    }
   ],
   "source": [
    "# Full dataset\n",
    "download = DownloadBatch(data_url[:20])\n",
    "download(cleanup=True)"
   ]
  },
  {
   "cell_type": "code",
   "execution_count": 11,
   "id": "a19f5e94",
   "metadata": {},
   "outputs": [
    {
     "name": "stdout",
     "output_type": "stream",
     "text": [
      "\n",
      "Processing shard 7\n",
      "Downloading raw data:\n",
      "    Downloading metadata...\n",
      "    Done\n",
      "    Downloading pdf parses...\n",
      "    Done\n",
      "Filtering metadata:\n"
     ]
    },
    {
     "name": "stderr",
     "output_type": "stream",
     "text": [
      "100%|██████████| 1365957/1365957 [00:22<00:00, 61075.93it/s]\n"
     ]
    },
    {
     "name": "stdout",
     "output_type": "stream",
     "text": [
      "    1451 parsed papers found\n",
      "Parsing pdfs:\n"
     ]
    },
    {
     "name": "stderr",
     "output_type": "stream",
     "text": [
      "100%|██████████| 310716/310716 [01:00<00:00, 5171.18it/s]\n"
     ]
    },
    {
     "name": "stdout",
     "output_type": "stream",
     "text": [
      "Done\n",
      "\n",
      "Processing shard 8\n",
      "Downloading raw data:\n",
      "    Downloading metadata...\n",
      "    Done\n",
      "    Downloading pdf parses...\n",
      "    Done\n",
      "Filtering metadata:\n"
     ]
    },
    {
     "name": "stderr",
     "output_type": "stream",
     "text": [
      "100%|██████████| 1367851/1367851 [00:22<00:00, 60313.98it/s]\n"
     ]
    },
    {
     "name": "stdout",
     "output_type": "stream",
     "text": [
      "    1435 parsed papers found\n",
      "Parsing pdfs:\n"
     ]
    },
    {
     "name": "stderr",
     "output_type": "stream",
     "text": [
      "100%|██████████| 311314/311314 [00:59<00:00, 5228.71it/s]\n"
     ]
    },
    {
     "name": "stdout",
     "output_type": "stream",
     "text": [
      "Done\n",
      "\n",
      "Processing shard 9\n",
      "Downloading raw data:\n",
      "    Downloading metadata...\n",
      "    Done\n",
      "    Downloading pdf parses...\n",
      "    Done\n",
      "Filtering metadata:\n"
     ]
    },
    {
     "name": "stderr",
     "output_type": "stream",
     "text": [
      "100%|██████████| 1364650/1364650 [00:22<00:00, 60713.15it/s]\n"
     ]
    },
    {
     "name": "stdout",
     "output_type": "stream",
     "text": [
      "    1448 parsed papers found\n",
      "Parsing pdfs:\n"
     ]
    },
    {
     "name": "stderr",
     "output_type": "stream",
     "text": [
      "100%|██████████| 311174/311174 [00:59<00:00, 5235.74it/s]\n"
     ]
    },
    {
     "name": "stdout",
     "output_type": "stream",
     "text": [
      "Done\n",
      "\n",
      "Processing shard 3\n",
      "Downloading raw data:\n",
      "    Downloading metadata...\n",
      "    Done\n",
      "    Downloading pdf parses...\n",
      "    Done\n",
      "Filtering metadata:\n"
     ]
    },
    {
     "name": "stderr",
     "output_type": "stream",
     "text": [
      "100%|██████████| 1365344/1365344 [00:23<00:00, 59092.41it/s]\n"
     ]
    },
    {
     "name": "stdout",
     "output_type": "stream",
     "text": [
      "    1429 parsed papers found\n",
      "Parsing pdfs:\n"
     ]
    },
    {
     "name": "stderr",
     "output_type": "stream",
     "text": [
      "100%|██████████| 309277/309277 [00:59<00:00, 5230.06it/s]\n"
     ]
    },
    {
     "name": "stdout",
     "output_type": "stream",
     "text": [
      "Done\n",
      "\n",
      "Processing shard 0\n",
      "Downloading raw data:\n",
      "    Downloading metadata...\n",
      "    Done\n",
      "    Downloading pdf parses...\n",
      "    Done\n",
      "Filtering metadata:\n"
     ]
    },
    {
     "name": "stderr",
     "output_type": "stream",
     "text": [
      "100%|██████████| 1366402/1366402 [00:22<00:00, 61013.72it/s]\n"
     ]
    },
    {
     "name": "stdout",
     "output_type": "stream",
     "text": [
      "    1435 parsed papers found\n",
      "Parsing pdfs:\n"
     ]
    },
    {
     "name": "stderr",
     "output_type": "stream",
     "text": [
      "100%|██████████| 310504/310504 [00:59<00:00, 5230.81it/s]\n"
     ]
    },
    {
     "name": "stdout",
     "output_type": "stream",
     "text": [
      "Done\n",
      "\n",
      "Processing shard 1\n",
      "Downloading raw data:\n",
      "    Downloading metadata...\n",
      "    Done\n",
      "    Downloading pdf parses...\n",
      "    Done\n",
      "Filtering metadata:\n"
     ]
    },
    {
     "name": "stderr",
     "output_type": "stream",
     "text": [
      "100%|██████████| 1364991/1364991 [00:22<00:00, 60789.31it/s]\n"
     ]
    },
    {
     "name": "stdout",
     "output_type": "stream",
     "text": [
      "    1433 parsed papers found\n",
      "Parsing pdfs:\n"
     ]
    },
    {
     "name": "stderr",
     "output_type": "stream",
     "text": [
      "100%|██████████| 309424/309424 [00:58<00:00, 5254.77it/s]\n"
     ]
    },
    {
     "name": "stdout",
     "output_type": "stream",
     "text": [
      "Done\n",
      "\n",
      "Processing shard 2\n",
      "Downloading raw data:\n",
      "    Downloading metadata...\n",
      "    Done\n",
      "    Downloading pdf parses...\n",
      "    Done\n",
      "Filtering metadata:\n"
     ]
    },
    {
     "name": "stderr",
     "output_type": "stream",
     "text": [
      "100%|██████████| 1366240/1366240 [00:22<00:00, 60790.07it/s]\n"
     ]
    },
    {
     "name": "stdout",
     "output_type": "stream",
     "text": [
      "    1398 parsed papers found\n",
      "Parsing pdfs:\n"
     ]
    },
    {
     "name": "stderr",
     "output_type": "stream",
     "text": [
      "100%|██████████| 311452/311452 [00:59<00:00, 5264.50it/s]\n"
     ]
    },
    {
     "name": "stdout",
     "output_type": "stream",
     "text": [
      "Done\n",
      "\n",
      "Processing shard 3\n",
      "Downloading raw data:\n",
      "    Downloading metadata...\n",
      "    Done\n",
      "    Downloading pdf parses...\n",
      "    Done\n",
      "Filtering metadata:\n"
     ]
    },
    {
     "name": "stderr",
     "output_type": "stream",
     "text": [
      "100%|██████████| 1364205/1364205 [00:23<00:00, 58132.07it/s]\n"
     ]
    },
    {
     "name": "stdout",
     "output_type": "stream",
     "text": [
      "    1436 parsed papers found\n",
      "Parsing pdfs:\n"
     ]
    },
    {
     "name": "stderr",
     "output_type": "stream",
     "text": [
      "100%|██████████| 309855/309855 [01:03<00:00, 4874.36it/s]\n"
     ]
    },
    {
     "name": "stdout",
     "output_type": "stream",
     "text": [
      "Done\n",
      "\n",
      "Processing shard 4\n",
      "Downloading raw data:\n",
      "    Downloading metadata...\n",
      "    Done\n",
      "    Downloading pdf parses...\n",
      "    Done\n",
      "Filtering metadata:\n"
     ]
    },
    {
     "name": "stderr",
     "output_type": "stream",
     "text": [
      "100%|██████████| 1366174/1366174 [00:23<00:00, 57111.68it/s]\n"
     ]
    },
    {
     "name": "stdout",
     "output_type": "stream",
     "text": [
      "    1468 parsed papers found\n",
      "Parsing pdfs:\n"
     ]
    },
    {
     "name": "stderr",
     "output_type": "stream",
     "text": [
      "100%|██████████| 310380/310380 [01:05<00:00, 4727.30it/s]\n"
     ]
    },
    {
     "name": "stdout",
     "output_type": "stream",
     "text": [
      "Done\n",
      "\n",
      "Processing shard 5\n",
      "Downloading raw data:\n",
      "    Downloading metadata...\n",
      "    Done\n",
      "    Downloading pdf parses...\n",
      "    Done\n",
      "Filtering metadata:\n"
     ]
    },
    {
     "name": "stderr",
     "output_type": "stream",
     "text": [
      "100%|██████████| 1365819/1365819 [00:24<00:00, 55408.40it/s]\n"
     ]
    },
    {
     "name": "stdout",
     "output_type": "stream",
     "text": [
      "    1449 parsed papers found\n",
      "Parsing pdfs:\n"
     ]
    },
    {
     "name": "stderr",
     "output_type": "stream",
     "text": [
      "100%|██████████| 310060/310060 [01:06<00:00, 4665.49it/s]\n"
     ]
    },
    {
     "name": "stdout",
     "output_type": "stream",
     "text": [
      "Done\n",
      "\n",
      "Processing shard 6\n",
      "Downloading raw data:\n",
      "    Downloading metadata...\n",
      "    Done\n",
      "    Downloading pdf parses...\n",
      "    Done\n",
      "Filtering metadata:\n"
     ]
    },
    {
     "name": "stderr",
     "output_type": "stream",
     "text": [
      "100%|██████████| 1364712/1364712 [00:24<00:00, 55124.33it/s]\n"
     ]
    },
    {
     "name": "stdout",
     "output_type": "stream",
     "text": [
      "    1414 parsed papers found\n",
      "Parsing pdfs:\n"
     ]
    },
    {
     "name": "stderr",
     "output_type": "stream",
     "text": [
      "100%|██████████| 309894/309894 [01:07<00:00, 4619.65it/s]\n"
     ]
    },
    {
     "name": "stdout",
     "output_type": "stream",
     "text": [
      "Done\n",
      "\n",
      "Processing shard 7\n",
      "Downloading raw data:\n",
      "    Downloading metadata...\n",
      "    Done\n",
      "    Downloading pdf parses...\n",
      "    Done\n",
      "Filtering metadata:\n"
     ]
    },
    {
     "name": "stderr",
     "output_type": "stream",
     "text": [
      "100%|██████████| 1366882/1366882 [00:25<00:00, 54173.55it/s]\n"
     ]
    },
    {
     "name": "stdout",
     "output_type": "stream",
     "text": [
      "    1442 parsed papers found\n",
      "Parsing pdfs:\n"
     ]
    },
    {
     "name": "stderr",
     "output_type": "stream",
     "text": [
      "100%|██████████| 311391/311391 [01:08<00:00, 4565.79it/s]\n"
     ]
    },
    {
     "name": "stdout",
     "output_type": "stream",
     "text": [
      "Done\n",
      "\n",
      "Processing shard 8\n",
      "Downloading raw data:\n",
      "    Downloading metadata...\n",
      "    Done\n",
      "    Downloading pdf parses...\n",
      "    Done\n",
      "Filtering metadata:\n"
     ]
    },
    {
     "name": "stderr",
     "output_type": "stream",
     "text": [
      "100%|██████████| 1366304/1366304 [00:25<00:00, 54092.83it/s]\n"
     ]
    },
    {
     "name": "stdout",
     "output_type": "stream",
     "text": [
      "    1414 parsed papers found\n",
      "Parsing pdfs:\n"
     ]
    },
    {
     "name": "stderr",
     "output_type": "stream",
     "text": [
      "100%|██████████| 310803/310803 [01:08<00:00, 4539.90it/s]\n"
     ]
    },
    {
     "name": "stdout",
     "output_type": "stream",
     "text": [
      "Done\n",
      "\n",
      "Processing shard 9\n",
      "Downloading raw data:\n",
      "    Downloading metadata...\n",
      "    Done\n",
      "    Downloading pdf parses...\n",
      "    Done\n",
      "Filtering metadata:\n"
     ]
    },
    {
     "name": "stderr",
     "output_type": "stream",
     "text": [
      "100%|██████████| 1365752/1365752 [00:25<00:00, 53545.14it/s]\n"
     ]
    },
    {
     "name": "stdout",
     "output_type": "stream",
     "text": [
      "    1524 parsed papers found\n",
      "Parsing pdfs:\n"
     ]
    },
    {
     "name": "stderr",
     "output_type": "stream",
     "text": [
      "100%|██████████| 310858/310858 [01:08<00:00, 4551.21it/s]\n"
     ]
    },
    {
     "name": "stdout",
     "output_type": "stream",
     "text": [
      "Done\n",
      "\n",
      "Processing shard 4\n",
      "Downloading raw data:\n",
      "    Downloading metadata...\n",
      "    Done\n",
      "    Downloading pdf parses...\n",
      "    Done\n",
      "Filtering metadata:\n"
     ]
    },
    {
     "name": "stderr",
     "output_type": "stream",
     "text": [
      "100%|██████████| 1365708/1365708 [00:23<00:00, 58346.50it/s]\n"
     ]
    },
    {
     "name": "stdout",
     "output_type": "stream",
     "text": [
      "    1346 parsed papers found\n",
      "Parsing pdfs:\n"
     ]
    },
    {
     "name": "stderr",
     "output_type": "stream",
     "text": [
      "100%|██████████| 309825/309825 [01:03<00:00, 4890.97it/s]\n"
     ]
    },
    {
     "name": "stdout",
     "output_type": "stream",
     "text": [
      "Done\n",
      "\n",
      "Processing shard 0\n",
      "Downloading raw data:\n",
      "    Downloading metadata...\n",
      "    Done\n",
      "    Downloading pdf parses...\n",
      "    Done\n",
      "Filtering metadata:\n"
     ]
    },
    {
     "name": "stderr",
     "output_type": "stream",
     "text": [
      "100%|██████████| 1366284/1366284 [00:23<00:00, 57037.70it/s]\n"
     ]
    },
    {
     "name": "stdout",
     "output_type": "stream",
     "text": [
      "    1449 parsed papers found\n",
      "Parsing pdfs:\n"
     ]
    },
    {
     "name": "stderr",
     "output_type": "stream",
     "text": [
      "100%|██████████| 311292/311292 [01:04<00:00, 4849.48it/s]\n"
     ]
    },
    {
     "name": "stdout",
     "output_type": "stream",
     "text": [
      "Done\n",
      "\n",
      "Processing shard 1\n",
      "Downloading raw data:\n",
      "    Downloading metadata...\n",
      "    Done\n",
      "    Downloading pdf parses...\n",
      "    Done\n",
      "Filtering metadata:\n"
     ]
    },
    {
     "name": "stderr",
     "output_type": "stream",
     "text": [
      "100%|██████████| 1365538/1365538 [00:24<00:00, 56641.53it/s]\n"
     ]
    },
    {
     "name": "stdout",
     "output_type": "stream",
     "text": [
      "    1453 parsed papers found\n",
      "Parsing pdfs:\n"
     ]
    },
    {
     "name": "stderr",
     "output_type": "stream",
     "text": [
      "100%|██████████| 309633/309633 [01:05<00:00, 4708.82it/s]\n"
     ]
    },
    {
     "name": "stdout",
     "output_type": "stream",
     "text": [
      "Done\n",
      "\n",
      "Processing shard 2\n",
      "Downloading raw data:\n",
      "    Downloading metadata...\n",
      "    Done\n",
      "    Downloading pdf parses...\n",
      "    Done\n",
      "Filtering metadata:\n"
     ]
    },
    {
     "name": "stderr",
     "output_type": "stream",
     "text": [
      "100%|██████████| 1366943/1366943 [00:24<00:00, 56891.10it/s]\n"
     ]
    },
    {
     "name": "stdout",
     "output_type": "stream",
     "text": [
      "    1388 parsed papers found\n",
      "Parsing pdfs:\n"
     ]
    },
    {
     "name": "stderr",
     "output_type": "stream",
     "text": [
      "100%|██████████| 312126/312126 [01:04<00:00, 4866.68it/s]\n"
     ]
    },
    {
     "name": "stdout",
     "output_type": "stream",
     "text": [
      "Done\n",
      "\n",
      "Processing shard 3\n",
      "Downloading raw data:\n",
      "    Downloading metadata...\n",
      "    Done\n",
      "    Downloading pdf parses...\n",
      "    Done\n",
      "Filtering metadata:\n"
     ]
    },
    {
     "name": "stderr",
     "output_type": "stream",
     "text": [
      "100%|██████████| 1364493/1364493 [00:24<00:00, 56195.70it/s]\n"
     ]
    },
    {
     "name": "stdout",
     "output_type": "stream",
     "text": [
      "    1395 parsed papers found\n",
      "Parsing pdfs:\n"
     ]
    },
    {
     "name": "stderr",
     "output_type": "stream",
     "text": [
      "100%|██████████| 309773/309773 [01:06<00:00, 4630.06it/s]\n"
     ]
    },
    {
     "name": "stdout",
     "output_type": "stream",
     "text": [
      "Done\n",
      "\n",
      "Processing shard 4\n",
      "Downloading raw data:\n",
      "    Downloading metadata...\n",
      "    Done\n",
      "    Downloading pdf parses...\n",
      "    Done\n",
      "Filtering metadata:\n"
     ]
    },
    {
     "name": "stderr",
     "output_type": "stream",
     "text": [
      "100%|██████████| 1368071/1368071 [00:23<00:00, 57116.18it/s]\n"
     ]
    },
    {
     "name": "stdout",
     "output_type": "stream",
     "text": [
      "    1457 parsed papers found\n",
      "Parsing pdfs:\n"
     ]
    },
    {
     "name": "stderr",
     "output_type": "stream",
     "text": [
      "100%|██████████| 310154/310154 [01:03<00:00, 4895.30it/s]\n"
     ]
    },
    {
     "name": "stdout",
     "output_type": "stream",
     "text": [
      "Done\n"
     ]
    }
   ],
   "source": [
    "# Full dataset\n",
    "download = DownloadBatch(data_url[20:40]) # For test, use data_url to get full dataset\n",
    "download(cleanup=True)"
   ]
  },
  {
   "cell_type": "code",
   "execution_count": 12,
   "id": "05a56bc8",
   "metadata": {},
   "outputs": [
    {
     "name": "stdout",
     "output_type": "stream",
     "text": [
      "\n",
      "Processing shard 5\n",
      "Downloading raw data:\n",
      "    Downloading metadata...\n",
      "    Done\n",
      "    Downloading pdf parses...\n",
      "    Done\n",
      "Filtering metadata:\n"
     ]
    },
    {
     "name": "stderr",
     "output_type": "stream",
     "text": [
      "100%|██████████| 1364806/1364806 [00:22<00:00, 60546.32it/s]\n"
     ]
    },
    {
     "name": "stdout",
     "output_type": "stream",
     "text": [
      "    1423 parsed papers found\n",
      "Parsing pdfs:\n"
     ]
    },
    {
     "name": "stderr",
     "output_type": "stream",
     "text": [
      "100%|██████████| 310657/310657 [01:02<00:00, 4957.74it/s]\n"
     ]
    },
    {
     "name": "stdout",
     "output_type": "stream",
     "text": [
      "Done\n",
      "\n",
      "Processing shard 6\n",
      "Downloading raw data:\n",
      "    Downloading metadata...\n",
      "    Done\n",
      "    Downloading pdf parses...\n",
      "    Done\n",
      "Filtering metadata:\n"
     ]
    },
    {
     "name": "stderr",
     "output_type": "stream",
     "text": [
      "100%|██████████| 1363787/1363787 [00:23<00:00, 58786.00it/s]\n"
     ]
    },
    {
     "name": "stdout",
     "output_type": "stream",
     "text": [
      "    1433 parsed papers found\n",
      "Parsing pdfs:\n"
     ]
    },
    {
     "name": "stderr",
     "output_type": "stream",
     "text": [
      "100%|██████████| 310226/310226 [01:01<00:00, 5020.80it/s]\n"
     ]
    },
    {
     "name": "stdout",
     "output_type": "stream",
     "text": [
      "Done\n",
      "\n",
      "Processing shard 7\n",
      "Downloading raw data:\n",
      "    Downloading metadata...\n",
      "    Done\n",
      "    Downloading pdf parses...\n",
      "    Done\n",
      "Filtering metadata:\n"
     ]
    },
    {
     "name": "stderr",
     "output_type": "stream",
     "text": [
      "100%|██████████| 1367766/1367766 [00:23<00:00, 58247.73it/s]\n"
     ]
    },
    {
     "name": "stdout",
     "output_type": "stream",
     "text": [
      "    1446 parsed papers found\n",
      "Parsing pdfs:\n"
     ]
    },
    {
     "name": "stderr",
     "output_type": "stream",
     "text": [
      "100%|██████████| 310199/310199 [01:04<00:00, 4784.79it/s]\n"
     ]
    },
    {
     "name": "stdout",
     "output_type": "stream",
     "text": [
      "Done\n",
      "\n",
      "Processing shard 8\n",
      "Downloading raw data:\n",
      "    Downloading metadata...\n",
      "    Done\n",
      "    Downloading pdf parses...\n",
      "    Done\n",
      "Filtering metadata:\n"
     ]
    },
    {
     "name": "stderr",
     "output_type": "stream",
     "text": [
      "100%|██████████| 1366701/1366701 [00:24<00:00, 56067.27it/s]\n"
     ]
    },
    {
     "name": "stdout",
     "output_type": "stream",
     "text": [
      "    1506 parsed papers found\n",
      "Parsing pdfs:\n"
     ]
    },
    {
     "name": "stderr",
     "output_type": "stream",
     "text": [
      "100%|██████████| 311127/311127 [01:05<00:00, 4752.50it/s]\n"
     ]
    },
    {
     "name": "stdout",
     "output_type": "stream",
     "text": [
      "Done\n",
      "\n",
      "Processing shard 9\n",
      "Downloading raw data:\n",
      "    Downloading metadata...\n",
      "    Done\n",
      "    Downloading pdf parses...\n",
      "    Done\n",
      "Filtering metadata:\n"
     ]
    },
    {
     "name": "stderr",
     "output_type": "stream",
     "text": [
      "100%|██████████| 1364986/1364986 [00:24<00:00, 54917.38it/s]\n"
     ]
    },
    {
     "name": "stdout",
     "output_type": "stream",
     "text": [
      "    1416 parsed papers found\n",
      "Parsing pdfs:\n"
     ]
    },
    {
     "name": "stderr",
     "output_type": "stream",
     "text": [
      "100%|██████████| 310460/310460 [01:06<00:00, 4685.36it/s]\n"
     ]
    },
    {
     "name": "stdout",
     "output_type": "stream",
     "text": [
      "Done\n",
      "\n",
      "Processing shard 5\n",
      "Downloading raw data:\n",
      "    Downloading metadata...\n",
      "    Done\n",
      "    Downloading pdf parses...\n",
      "    Done\n",
      "Filtering metadata:\n"
     ]
    },
    {
     "name": "stderr",
     "output_type": "stream",
     "text": [
      "100%|██████████| 1368101/1368101 [00:25<00:00, 54540.93it/s]\n"
     ]
    },
    {
     "name": "stdout",
     "output_type": "stream",
     "text": [
      "    1425 parsed papers found\n",
      "Parsing pdfs:\n"
     ]
    },
    {
     "name": "stderr",
     "output_type": "stream",
     "text": [
      "100%|██████████| 310763/310763 [01:07<00:00, 4612.79it/s]\n"
     ]
    },
    {
     "name": "stdout",
     "output_type": "stream",
     "text": [
      "Done\n",
      "\n",
      "Processing shard 0\n",
      "Downloading raw data:\n",
      "    Downloading metadata...\n",
      "    Done\n",
      "    Downloading pdf parses...\n",
      "    Done\n",
      "Filtering metadata:\n"
     ]
    },
    {
     "name": "stderr",
     "output_type": "stream",
     "text": [
      "100%|██████████| 1365328/1365328 [00:24<00:00, 56366.90it/s]\n"
     ]
    },
    {
     "name": "stdout",
     "output_type": "stream",
     "text": [
      "    1440 parsed papers found\n",
      "Parsing pdfs:\n"
     ]
    },
    {
     "name": "stderr",
     "output_type": "stream",
     "text": [
      "100%|██████████| 310409/310409 [01:06<00:00, 4660.19it/s]\n"
     ]
    },
    {
     "name": "stdout",
     "output_type": "stream",
     "text": [
      "Done\n",
      "\n",
      "Processing shard 1\n",
      "Downloading raw data:\n",
      "    Downloading metadata...\n",
      "    Done\n",
      "    Downloading pdf parses...\n",
      "    Done\n",
      "Filtering metadata:\n"
     ]
    },
    {
     "name": "stderr",
     "output_type": "stream",
     "text": [
      "100%|██████████| 1364619/1364619 [00:24<00:00, 54853.82it/s]\n"
     ]
    },
    {
     "name": "stdout",
     "output_type": "stream",
     "text": [
      "    1451 parsed papers found\n",
      "Parsing pdfs:\n"
     ]
    },
    {
     "name": "stderr",
     "output_type": "stream",
     "text": [
      "100%|██████████| 309849/309849 [01:06<00:00, 4666.40it/s]\n"
     ]
    },
    {
     "name": "stdout",
     "output_type": "stream",
     "text": [
      "Done\n",
      "\n",
      "Processing shard 2\n",
      "Downloading raw data:\n",
      "    Downloading metadata...\n",
      "    Done\n",
      "    Downloading pdf parses...\n",
      "    Done\n",
      "Filtering metadata:\n"
     ]
    },
    {
     "name": "stderr",
     "output_type": "stream",
     "text": [
      "100%|██████████| 1366986/1366986 [00:23<00:00, 58254.07it/s]\n"
     ]
    },
    {
     "name": "stdout",
     "output_type": "stream",
     "text": [
      "    1444 parsed papers found\n",
      "Parsing pdfs:\n"
     ]
    },
    {
     "name": "stderr",
     "output_type": "stream",
     "text": [
      "100%|██████████| 310533/310533 [01:04<00:00, 4831.81it/s]\n"
     ]
    },
    {
     "name": "stdout",
     "output_type": "stream",
     "text": [
      "Done\n",
      "\n",
      "Processing shard 3\n",
      "Downloading raw data:\n",
      "    Downloading metadata...\n",
      "    Done\n",
      "    Downloading pdf parses...\n",
      "    Done\n",
      "Filtering metadata:\n"
     ]
    },
    {
     "name": "stderr",
     "output_type": "stream",
     "text": [
      "100%|██████████| 1365501/1365501 [00:24<00:00, 56351.41it/s]\n"
     ]
    },
    {
     "name": "stdout",
     "output_type": "stream",
     "text": [
      "    1475 parsed papers found\n",
      "Parsing pdfs:\n"
     ]
    },
    {
     "name": "stderr",
     "output_type": "stream",
     "text": [
      "100%|██████████| 310481/310481 [01:03<00:00, 4881.87it/s]\n"
     ]
    },
    {
     "name": "stdout",
     "output_type": "stream",
     "text": [
      "Done\n",
      "\n",
      "Processing shard 4\n",
      "Downloading raw data:\n",
      "    Downloading metadata...\n",
      "    Done\n",
      "    Downloading pdf parses...\n",
      "    Done\n",
      "Filtering metadata:\n"
     ]
    },
    {
     "name": "stderr",
     "output_type": "stream",
     "text": [
      "100%|██████████| 1368897/1368897 [00:23<00:00, 57539.47it/s]\n"
     ]
    },
    {
     "name": "stdout",
     "output_type": "stream",
     "text": [
      "    1387 parsed papers found\n",
      "Parsing pdfs:\n"
     ]
    },
    {
     "name": "stderr",
     "output_type": "stream",
     "text": [
      "100%|██████████| 312397/312397 [01:02<00:00, 4981.78it/s]\n"
     ]
    },
    {
     "name": "stdout",
     "output_type": "stream",
     "text": [
      "Done\n",
      "\n",
      "Processing shard 5\n",
      "Downloading raw data:\n",
      "    Downloading metadata...\n",
      "    Done\n",
      "    Downloading pdf parses...\n",
      "    Done\n",
      "Filtering metadata:\n"
     ]
    },
    {
     "name": "stderr",
     "output_type": "stream",
     "text": [
      "100%|██████████| 1366229/1366229 [00:24<00:00, 56128.78it/s]\n"
     ]
    },
    {
     "name": "stdout",
     "output_type": "stream",
     "text": [
      "    1425 parsed papers found\n",
      "Parsing pdfs:\n"
     ]
    },
    {
     "name": "stderr",
     "output_type": "stream",
     "text": [
      "100%|██████████| 310917/310917 [01:02<00:00, 4939.88it/s]\n"
     ]
    },
    {
     "name": "stdout",
     "output_type": "stream",
     "text": [
      "Done\n",
      "\n",
      "Processing shard 6\n",
      "Downloading raw data:\n",
      "    Downloading metadata...\n",
      "    Done\n",
      "    Downloading pdf parses...\n",
      "    Done\n",
      "Filtering metadata:\n"
     ]
    },
    {
     "name": "stderr",
     "output_type": "stream",
     "text": [
      "100%|██████████| 1366634/1366634 [00:24<00:00, 56734.94it/s]\n"
     ]
    },
    {
     "name": "stdout",
     "output_type": "stream",
     "text": [
      "    1410 parsed papers found\n",
      "Parsing pdfs:\n"
     ]
    },
    {
     "name": "stderr",
     "output_type": "stream",
     "text": [
      "100%|██████████| 310667/310667 [01:03<00:00, 4854.52it/s]\n"
     ]
    },
    {
     "name": "stdout",
     "output_type": "stream",
     "text": [
      "Done\n",
      "\n",
      "Processing shard 7\n",
      "Downloading raw data:\n",
      "    Downloading metadata...\n",
      "    Done\n",
      "    Downloading pdf parses...\n",
      "    Done\n",
      "Filtering metadata:\n"
     ]
    },
    {
     "name": "stderr",
     "output_type": "stream",
     "text": [
      "100%|██████████| 1366568/1366568 [00:23<00:00, 58182.75it/s]\n"
     ]
    },
    {
     "name": "stdout",
     "output_type": "stream",
     "text": [
      "    1442 parsed papers found\n",
      "Parsing pdfs:\n"
     ]
    },
    {
     "name": "stderr",
     "output_type": "stream",
     "text": [
      "100%|██████████| 310224/310224 [01:03<00:00, 4913.09it/s]\n"
     ]
    },
    {
     "name": "stdout",
     "output_type": "stream",
     "text": [
      "Done\n",
      "\n",
      "Processing shard 8\n",
      "Downloading raw data:\n",
      "    Downloading metadata...\n",
      "    Done\n",
      "    Downloading pdf parses...\n",
      "    Done\n",
      "Filtering metadata:\n"
     ]
    },
    {
     "name": "stderr",
     "output_type": "stream",
     "text": [
      "100%|██████████| 1366043/1366043 [00:23<00:00, 57123.73it/s]\n"
     ]
    },
    {
     "name": "stdout",
     "output_type": "stream",
     "text": [
      "    1390 parsed papers found\n",
      "Parsing pdfs:\n"
     ]
    },
    {
     "name": "stderr",
     "output_type": "stream",
     "text": [
      "100%|██████████| 310018/310018 [01:05<00:00, 4761.82it/s]\n"
     ]
    },
    {
     "name": "stdout",
     "output_type": "stream",
     "text": [
      "Done\n",
      "\n",
      "Processing shard 9\n",
      "Downloading raw data:\n",
      "    Downloading metadata...\n",
      "    Done\n",
      "    Downloading pdf parses...\n",
      "    Done\n",
      "Filtering metadata:\n"
     ]
    },
    {
     "name": "stderr",
     "output_type": "stream",
     "text": [
      "100%|██████████| 1365926/1365926 [00:23<00:00, 58173.53it/s]\n"
     ]
    },
    {
     "name": "stdout",
     "output_type": "stream",
     "text": [
      "    1456 parsed papers found\n",
      "Parsing pdfs:\n"
     ]
    },
    {
     "name": "stderr",
     "output_type": "stream",
     "text": [
      "100%|██████████| 310333/310333 [01:06<00:00, 4677.05it/s]\n"
     ]
    },
    {
     "name": "stdout",
     "output_type": "stream",
     "text": [
      "Done\n",
      "\n",
      "Processing shard 6\n",
      "Downloading raw data:\n",
      "    Downloading metadata...\n",
      "    Done\n",
      "    Downloading pdf parses...\n",
      "    Done\n",
      "Filtering metadata:\n"
     ]
    },
    {
     "name": "stderr",
     "output_type": "stream",
     "text": [
      "100%|██████████| 1363968/1363968 [00:23<00:00, 57775.32it/s]\n"
     ]
    },
    {
     "name": "stdout",
     "output_type": "stream",
     "text": [
      "    1449 parsed papers found\n",
      "Parsing pdfs:\n"
     ]
    },
    {
     "name": "stderr",
     "output_type": "stream",
     "text": [
      "100%|██████████| 310014/310014 [01:06<00:00, 4666.36it/s]\n"
     ]
    },
    {
     "name": "stdout",
     "output_type": "stream",
     "text": [
      "Done\n",
      "\n",
      "Processing shard 0\n",
      "Downloading raw data:\n",
      "    Downloading metadata...\n",
      "    Done\n",
      "    Downloading pdf parses...\n",
      "    Done\n",
      "Filtering metadata:\n"
     ]
    },
    {
     "name": "stderr",
     "output_type": "stream",
     "text": [
      "100%|██████████| 1366304/1366304 [00:24<00:00, 55949.85it/s]\n"
     ]
    },
    {
     "name": "stdout",
     "output_type": "stream",
     "text": [
      "    1499 parsed papers found\n",
      "Parsing pdfs:\n"
     ]
    },
    {
     "name": "stderr",
     "output_type": "stream",
     "text": [
      "100%|██████████| 310793/310793 [01:06<00:00, 4688.69it/s]\n"
     ]
    },
    {
     "name": "stdout",
     "output_type": "stream",
     "text": [
      "Done\n",
      "\n",
      "Processing shard 1\n",
      "Downloading raw data:\n",
      "    Downloading metadata...\n",
      "    Done\n",
      "    Downloading pdf parses...\n",
      "    Done\n",
      "Filtering metadata:\n"
     ]
    },
    {
     "name": "stderr",
     "output_type": "stream",
     "text": [
      "100%|██████████| 1367750/1367750 [00:24<00:00, 55348.07it/s]\n"
     ]
    },
    {
     "name": "stdout",
     "output_type": "stream",
     "text": [
      "    1390 parsed papers found\n",
      "Parsing pdfs:\n"
     ]
    },
    {
     "name": "stderr",
     "output_type": "stream",
     "text": [
      "100%|██████████| 310838/310838 [01:06<00:00, 4665.42it/s]\n"
     ]
    },
    {
     "name": "stdout",
     "output_type": "stream",
     "text": [
      "Done\n",
      "\n",
      "Processing shard 2\n",
      "Downloading raw data:\n",
      "    Downloading metadata...\n",
      "    Done\n",
      "    Downloading pdf parses...\n",
      "    Done\n",
      "Filtering metadata:\n"
     ]
    },
    {
     "name": "stderr",
     "output_type": "stream",
     "text": [
      "100%|██████████| 1364545/1364545 [00:23<00:00, 57073.12it/s]\n"
     ]
    },
    {
     "name": "stdout",
     "output_type": "stream",
     "text": [
      "    1422 parsed papers found\n",
      "Parsing pdfs:\n"
     ]
    },
    {
     "name": "stderr",
     "output_type": "stream",
     "text": [
      "100%|██████████| 311346/311346 [01:04<00:00, 4845.81it/s]\n"
     ]
    },
    {
     "name": "stdout",
     "output_type": "stream",
     "text": [
      "Done\n"
     ]
    }
   ],
   "source": [
    "# Full dataset\n",
    "download = DownloadBatch(data_url[40:60]) # For test, use data_url to get full dataset\n",
    "download(cleanup=True)"
   ]
  },
  {
   "cell_type": "code",
   "execution_count": 13,
   "id": "a632fa53",
   "metadata": {},
   "outputs": [
    {
     "name": "stdout",
     "output_type": "stream",
     "text": [
      "\n",
      "Processing shard 3\n",
      "Downloading raw data:\n",
      "    Downloading metadata...\n",
      "    Done\n",
      "    Downloading pdf parses...\n",
      "    Done\n",
      "Filtering metadata:\n"
     ]
    },
    {
     "name": "stderr",
     "output_type": "stream",
     "text": [
      "100%|██████████| 1364259/1364259 [00:24<00:00, 54649.26it/s]\n"
     ]
    },
    {
     "name": "stdout",
     "output_type": "stream",
     "text": [
      "    1435 parsed papers found\n",
      "Parsing pdfs:\n"
     ]
    },
    {
     "name": "stderr",
     "output_type": "stream",
     "text": [
      "100%|██████████| 310521/310521 [01:05<00:00, 4759.90it/s]\n"
     ]
    },
    {
     "name": "stdout",
     "output_type": "stream",
     "text": [
      "Done\n",
      "\n",
      "Processing shard 4\n",
      "Downloading raw data:\n",
      "    Downloading metadata...\n",
      "    Done\n",
      "    Downloading pdf parses...\n",
      "    Done\n",
      "Filtering metadata:\n"
     ]
    },
    {
     "name": "stderr",
     "output_type": "stream",
     "text": [
      "100%|██████████| 1366142/1366142 [00:25<00:00, 54207.28it/s]\n"
     ]
    },
    {
     "name": "stdout",
     "output_type": "stream",
     "text": [
      "    1440 parsed papers found\n",
      "Parsing pdfs:\n"
     ]
    },
    {
     "name": "stderr",
     "output_type": "stream",
     "text": [
      "100%|██████████| 310379/310379 [01:07<00:00, 4585.15it/s]\n"
     ]
    },
    {
     "name": "stdout",
     "output_type": "stream",
     "text": [
      "Done\n",
      "\n",
      "Processing shard 5\n",
      "Downloading raw data:\n",
      "    Downloading metadata...\n",
      "    Done\n",
      "    Downloading pdf parses...\n",
      "    Done\n",
      "Filtering metadata:\n"
     ]
    },
    {
     "name": "stderr",
     "output_type": "stream",
     "text": [
      "100%|██████████| 1368220/1368220 [00:25<00:00, 53867.87it/s]\n"
     ]
    },
    {
     "name": "stdout",
     "output_type": "stream",
     "text": [
      "    1373 parsed papers found\n",
      "Parsing pdfs:\n"
     ]
    },
    {
     "name": "stderr",
     "output_type": "stream",
     "text": [
      "100%|██████████| 310904/310904 [01:09<00:00, 4447.12it/s]\n"
     ]
    },
    {
     "name": "stdout",
     "output_type": "stream",
     "text": [
      "Done\n",
      "\n",
      "Processing shard 6\n",
      "Downloading raw data:\n",
      "    Downloading metadata...\n",
      "    Done\n",
      "    Downloading pdf parses...\n",
      "    Done\n",
      "Filtering metadata:\n"
     ]
    },
    {
     "name": "stderr",
     "output_type": "stream",
     "text": [
      "100%|██████████| 1367162/1367162 [00:25<00:00, 52904.96it/s]\n"
     ]
    },
    {
     "name": "stdout",
     "output_type": "stream",
     "text": [
      "    1417 parsed papers found\n",
      "Parsing pdfs:\n"
     ]
    },
    {
     "name": "stderr",
     "output_type": "stream",
     "text": [
      "100%|██████████| 309975/309975 [01:05<00:00, 4750.50it/s]\n"
     ]
    },
    {
     "name": "stdout",
     "output_type": "stream",
     "text": [
      "Done\n",
      "\n",
      "Processing shard 7\n",
      "Downloading raw data:\n",
      "    Downloading metadata...\n",
      "    Done\n",
      "    Downloading pdf parses...\n",
      "    Done\n",
      "Filtering metadata:\n"
     ]
    },
    {
     "name": "stderr",
     "output_type": "stream",
     "text": [
      "100%|██████████| 1365948/1365948 [00:23<00:00, 57003.97it/s]\n"
     ]
    },
    {
     "name": "stdout",
     "output_type": "stream",
     "text": [
      "    1401 parsed papers found\n",
      "Parsing pdfs:\n"
     ]
    },
    {
     "name": "stderr",
     "output_type": "stream",
     "text": [
      "100%|██████████| 311073/311073 [01:06<00:00, 4704.92it/s]\n"
     ]
    },
    {
     "name": "stdout",
     "output_type": "stream",
     "text": [
      "Done\n",
      "\n",
      "Processing shard 8\n",
      "Downloading raw data:\n",
      "    Downloading metadata...\n",
      "    Done\n",
      "    Downloading pdf parses...\n",
      "    Done\n",
      "Filtering metadata:\n"
     ]
    },
    {
     "name": "stderr",
     "output_type": "stream",
     "text": [
      "100%|██████████| 1364858/1364858 [00:25<00:00, 53644.51it/s]\n"
     ]
    },
    {
     "name": "stdout",
     "output_type": "stream",
     "text": [
      "    1478 parsed papers found\n",
      "Parsing pdfs:\n"
     ]
    },
    {
     "name": "stderr",
     "output_type": "stream",
     "text": [
      "100%|██████████| 310443/310443 [01:09<00:00, 4435.99it/s]\n"
     ]
    },
    {
     "name": "stdout",
     "output_type": "stream",
     "text": [
      "Done\n",
      "\n",
      "Processing shard 9\n",
      "Downloading raw data:\n",
      "    Downloading metadata...\n",
      "    Done\n",
      "    Downloading pdf parses...\n",
      "    Done\n",
      "Filtering metadata:\n"
     ]
    },
    {
     "name": "stderr",
     "output_type": "stream",
     "text": [
      "100%|██████████| 1366646/1366646 [00:25<00:00, 53126.50it/s]\n"
     ]
    },
    {
     "name": "stdout",
     "output_type": "stream",
     "text": [
      "    1433 parsed papers found\n",
      "Parsing pdfs:\n"
     ]
    },
    {
     "name": "stderr",
     "output_type": "stream",
     "text": [
      "100%|██████████| 310376/310376 [01:09<00:00, 4465.97it/s]\n"
     ]
    },
    {
     "name": "stdout",
     "output_type": "stream",
     "text": [
      "Done\n",
      "\n",
      "Processing shard 7\n",
      "Downloading raw data:\n",
      "    Downloading metadata...\n",
      "    Done\n",
      "    Downloading pdf parses...\n",
      "    Done\n",
      "Filtering metadata:\n"
     ]
    },
    {
     "name": "stderr",
     "output_type": "stream",
     "text": [
      "100%|██████████| 1363902/1363902 [00:25<00:00, 52583.79it/s]\n"
     ]
    },
    {
     "name": "stdout",
     "output_type": "stream",
     "text": [
      "    1417 parsed papers found\n",
      "Parsing pdfs:\n"
     ]
    },
    {
     "name": "stderr",
     "output_type": "stream",
     "text": [
      "100%|██████████| 310371/310371 [01:03<00:00, 4925.63it/s]\n"
     ]
    },
    {
     "name": "stdout",
     "output_type": "stream",
     "text": [
      "Done\n",
      "\n",
      "Processing shard 0\n",
      "Downloading raw data:\n",
      "    Downloading metadata...\n",
      "    Done\n",
      "    Downloading pdf parses...\n",
      "    Done\n",
      "Filtering metadata:\n"
     ]
    },
    {
     "name": "stderr",
     "output_type": "stream",
     "text": [
      "100%|██████████| 1365028/1365028 [00:21<00:00, 62437.15it/s]\n"
     ]
    },
    {
     "name": "stdout",
     "output_type": "stream",
     "text": [
      "    1434 parsed papers found\n",
      "Parsing pdfs:\n"
     ]
    },
    {
     "name": "stderr",
     "output_type": "stream",
     "text": [
      "100%|██████████| 310230/310230 [00:58<00:00, 5332.62it/s]\n"
     ]
    },
    {
     "name": "stdout",
     "output_type": "stream",
     "text": [
      "Done\n",
      "\n",
      "Processing shard 1\n",
      "Downloading raw data:\n",
      "    Downloading metadata...\n",
      "    Done\n",
      "    Downloading pdf parses...\n",
      "    Done\n",
      "Filtering metadata:\n"
     ]
    },
    {
     "name": "stderr",
     "output_type": "stream",
     "text": [
      "100%|██████████| 1368314/1368314 [00:22<00:00, 60142.06it/s]\n"
     ]
    },
    {
     "name": "stdout",
     "output_type": "stream",
     "text": [
      "    1386 parsed papers found\n",
      "Parsing pdfs:\n"
     ]
    },
    {
     "name": "stderr",
     "output_type": "stream",
     "text": [
      "100%|██████████| 311580/311580 [00:58<00:00, 5350.58it/s]\n"
     ]
    },
    {
     "name": "stdout",
     "output_type": "stream",
     "text": [
      "Done\n",
      "\n",
      "Processing shard 2\n",
      "Downloading raw data:\n",
      "    Downloading metadata...\n",
      "    Done\n",
      "    Downloading pdf parses...\n",
      "    Done\n",
      "Filtering metadata:\n"
     ]
    },
    {
     "name": "stderr",
     "output_type": "stream",
     "text": [
      "100%|██████████| 1365873/1365873 [00:21<00:00, 62695.05it/s]\n"
     ]
    },
    {
     "name": "stdout",
     "output_type": "stream",
     "text": [
      "    1476 parsed papers found\n",
      "Parsing pdfs:\n"
     ]
    },
    {
     "name": "stderr",
     "output_type": "stream",
     "text": [
      "100%|██████████| 310252/310252 [00:57<00:00, 5382.73it/s]\n"
     ]
    },
    {
     "name": "stdout",
     "output_type": "stream",
     "text": [
      "Done\n",
      "\n",
      "Processing shard 3\n",
      "Downloading raw data:\n",
      "    Downloading metadata...\n",
      "    Done\n",
      "    Downloading pdf parses...\n",
      "    Done\n",
      "Filtering metadata:\n"
     ]
    },
    {
     "name": "stderr",
     "output_type": "stream",
     "text": [
      "100%|██████████| 1366562/1366562 [00:21<00:00, 62746.75it/s]\n"
     ]
    },
    {
     "name": "stdout",
     "output_type": "stream",
     "text": [
      "    1504 parsed papers found\n",
      "Parsing pdfs:\n"
     ]
    },
    {
     "name": "stderr",
     "output_type": "stream",
     "text": [
      "100%|██████████| 311205/311205 [00:57<00:00, 5376.90it/s]\n"
     ]
    },
    {
     "name": "stdout",
     "output_type": "stream",
     "text": [
      "Done\n",
      "\n",
      "Processing shard 4\n",
      "Downloading raw data:\n",
      "    Downloading metadata...\n",
      "    Done\n",
      "    Downloading pdf parses...\n",
      "    Done\n",
      "Filtering metadata:\n"
     ]
    },
    {
     "name": "stderr",
     "output_type": "stream",
     "text": [
      "100%|██████████| 1365774/1365774 [00:21<00:00, 62498.12it/s]\n"
     ]
    },
    {
     "name": "stdout",
     "output_type": "stream",
     "text": [
      "    1440 parsed papers found\n",
      "Parsing pdfs:\n"
     ]
    },
    {
     "name": "stderr",
     "output_type": "stream",
     "text": [
      "100%|██████████| 310169/310169 [00:59<00:00, 5237.63it/s]\n"
     ]
    },
    {
     "name": "stdout",
     "output_type": "stream",
     "text": [
      "Done\n",
      "\n",
      "Processing shard 5\n",
      "Downloading raw data:\n",
      "    Downloading metadata...\n",
      "    Done\n",
      "    Downloading pdf parses...\n",
      "    Done\n",
      "Filtering metadata:\n"
     ]
    },
    {
     "name": "stderr",
     "output_type": "stream",
     "text": [
      "100%|██████████| 1364113/1364113 [00:21<00:00, 62482.25it/s]\n"
     ]
    },
    {
     "name": "stdout",
     "output_type": "stream",
     "text": [
      "    1435 parsed papers found\n",
      "Parsing pdfs:\n"
     ]
    },
    {
     "name": "stderr",
     "output_type": "stream",
     "text": [
      "100%|██████████| 310368/310368 [00:57<00:00, 5393.96it/s]\n"
     ]
    },
    {
     "name": "stdout",
     "output_type": "stream",
     "text": [
      "Done\n",
      "\n",
      "Processing shard 6\n",
      "Downloading raw data:\n",
      "    Downloading metadata...\n",
      "    Done\n",
      "    Downloading pdf parses...\n",
      "    Done\n",
      "Filtering metadata:\n"
     ]
    },
    {
     "name": "stderr",
     "output_type": "stream",
     "text": [
      "100%|██████████| 1363330/1363330 [00:21<00:00, 62574.90it/s]\n"
     ]
    },
    {
     "name": "stdout",
     "output_type": "stream",
     "text": [
      "    1419 parsed papers found\n",
      "Parsing pdfs:\n"
     ]
    },
    {
     "name": "stderr",
     "output_type": "stream",
     "text": [
      "100%|██████████| 310117/310117 [00:57<00:00, 5404.77it/s]\n"
     ]
    },
    {
     "name": "stdout",
     "output_type": "stream",
     "text": [
      "Done\n",
      "\n",
      "Processing shard 7\n",
      "Downloading raw data:\n",
      "    Downloading metadata...\n",
      "    Done\n",
      "    Downloading pdf parses...\n",
      "    Done\n",
      "Filtering metadata:\n"
     ]
    },
    {
     "name": "stderr",
     "output_type": "stream",
     "text": [
      "100%|██████████| 1366721/1366721 [00:21<00:00, 63107.61it/s]\n"
     ]
    },
    {
     "name": "stdout",
     "output_type": "stream",
     "text": [
      "    1402 parsed papers found\n",
      "Parsing pdfs:\n"
     ]
    },
    {
     "name": "stderr",
     "output_type": "stream",
     "text": [
      "100%|██████████| 310957/310957 [00:57<00:00, 5408.45it/s]\n"
     ]
    },
    {
     "name": "stdout",
     "output_type": "stream",
     "text": [
      "Done\n",
      "\n",
      "Processing shard 8\n",
      "Downloading raw data:\n",
      "    Downloading metadata...\n",
      "    Done\n",
      "    Downloading pdf parses...\n",
      "    Done\n",
      "Filtering metadata:\n"
     ]
    },
    {
     "name": "stderr",
     "output_type": "stream",
     "text": [
      "100%|██████████| 1364952/1364952 [00:22<00:00, 62029.09it/s]\n"
     ]
    },
    {
     "name": "stdout",
     "output_type": "stream",
     "text": [
      "    1416 parsed papers found\n",
      "Parsing pdfs:\n"
     ]
    },
    {
     "name": "stderr",
     "output_type": "stream",
     "text": [
      "100%|██████████| 309261/309261 [00:57<00:00, 5388.50it/s]\n"
     ]
    },
    {
     "name": "stdout",
     "output_type": "stream",
     "text": [
      "Done\n",
      "\n",
      "Processing shard 9\n",
      "Downloading raw data:\n",
      "    Downloading metadata...\n",
      "    Done\n",
      "    Downloading pdf parses...\n",
      "    Done\n",
      "Filtering metadata:\n"
     ]
    },
    {
     "name": "stderr",
     "output_type": "stream",
     "text": [
      "100%|██████████| 1364563/1364563 [00:21<00:00, 62192.38it/s]\n"
     ]
    },
    {
     "name": "stdout",
     "output_type": "stream",
     "text": [
      "    1400 parsed papers found\n",
      "Parsing pdfs:\n"
     ]
    },
    {
     "name": "stderr",
     "output_type": "stream",
     "text": [
      "100%|██████████| 310149/310149 [00:57<00:00, 5367.68it/s]\n"
     ]
    },
    {
     "name": "stdout",
     "output_type": "stream",
     "text": [
      "Done\n",
      "\n",
      "Processing shard 8\n",
      "Downloading raw data:\n",
      "    Downloading metadata...\n",
      "    Done\n",
      "    Downloading pdf parses...\n",
      "    Done\n",
      "Filtering metadata:\n"
     ]
    },
    {
     "name": "stderr",
     "output_type": "stream",
     "text": [
      "100%|██████████| 1366518/1366518 [00:21<00:00, 62502.39it/s]\n"
     ]
    },
    {
     "name": "stdout",
     "output_type": "stream",
     "text": [
      "    1461 parsed papers found\n",
      "Parsing pdfs:\n"
     ]
    },
    {
     "name": "stderr",
     "output_type": "stream",
     "text": [
      "100%|██████████| 310043/310043 [00:57<00:00, 5394.57it/s]\n"
     ]
    },
    {
     "name": "stdout",
     "output_type": "stream",
     "text": [
      "Done\n",
      "\n",
      "Processing shard 0\n",
      "Downloading raw data:\n",
      "    Downloading metadata...\n",
      "    Done\n",
      "    Downloading pdf parses...\n",
      "    Done\n",
      "Filtering metadata:\n"
     ]
    },
    {
     "name": "stderr",
     "output_type": "stream",
     "text": [
      "100%|██████████| 1365523/1365523 [00:21<00:00, 62544.05it/s]\n"
     ]
    },
    {
     "name": "stdout",
     "output_type": "stream",
     "text": [
      "    1490 parsed papers found\n",
      "Parsing pdfs:\n"
     ]
    },
    {
     "name": "stderr",
     "output_type": "stream",
     "text": [
      "100%|██████████| 310695/310695 [00:57<00:00, 5359.14it/s]\n"
     ]
    },
    {
     "name": "stdout",
     "output_type": "stream",
     "text": [
      "Done\n"
     ]
    }
   ],
   "source": [
    "# Full dataset\n",
    "download = DownloadBatch(data_url[60:80]) # For test, use data_url to get full dataset\n",
    "download(cleanup=True)"
   ]
  },
  {
   "cell_type": "code",
   "execution_count": 14,
   "id": "1cad85dd",
   "metadata": {},
   "outputs": [
    {
     "name": "stdout",
     "output_type": "stream",
     "text": [
      "\n",
      "Processing shard 1\n",
      "Downloading raw data:\n",
      "    Downloading metadata...\n",
      "    Done\n",
      "    Downloading pdf parses...\n",
      "    Done\n",
      "Filtering metadata:\n"
     ]
    },
    {
     "name": "stderr",
     "output_type": "stream",
     "text": [
      "100%|██████████| 1365028/1365028 [00:21<00:00, 62725.94it/s]\n"
     ]
    },
    {
     "name": "stdout",
     "output_type": "stream",
     "text": [
      "    1359 parsed papers found\n",
      "Parsing pdfs:\n"
     ]
    },
    {
     "name": "stderr",
     "output_type": "stream",
     "text": [
      "100%|██████████| 309423/309423 [00:57<00:00, 5423.71it/s]\n"
     ]
    },
    {
     "name": "stdout",
     "output_type": "stream",
     "text": [
      "Done\n",
      "\n",
      "Processing shard 2\n",
      "Downloading raw data:\n",
      "    Downloading metadata...\n",
      "    Done\n",
      "    Downloading pdf parses...\n",
      "    Done\n",
      "Filtering metadata:\n"
     ]
    },
    {
     "name": "stderr",
     "output_type": "stream",
     "text": [
      "100%|██████████| 1366906/1366906 [00:21<00:00, 62219.67it/s]\n"
     ]
    },
    {
     "name": "stdout",
     "output_type": "stream",
     "text": [
      "    1413 parsed papers found\n",
      "Parsing pdfs:\n"
     ]
    },
    {
     "name": "stderr",
     "output_type": "stream",
     "text": [
      "100%|██████████| 312067/312067 [00:58<00:00, 5356.86it/s]\n"
     ]
    },
    {
     "name": "stdout",
     "output_type": "stream",
     "text": [
      "Done\n",
      "\n",
      "Processing shard 3\n",
      "Downloading raw data:\n",
      "    Downloading metadata...\n",
      "    Done\n",
      "    Downloading pdf parses...\n",
      "    Done\n",
      "Filtering metadata:\n"
     ]
    },
    {
     "name": "stderr",
     "output_type": "stream",
     "text": [
      "100%|██████████| 1367460/1367460 [00:21<00:00, 62404.05it/s]\n"
     ]
    },
    {
     "name": "stdout",
     "output_type": "stream",
     "text": [
      "    1481 parsed papers found\n",
      "Parsing pdfs:\n"
     ]
    },
    {
     "name": "stderr",
     "output_type": "stream",
     "text": [
      "100%|██████████| 310768/310768 [00:58<00:00, 5323.69it/s]\n"
     ]
    },
    {
     "name": "stdout",
     "output_type": "stream",
     "text": [
      "Done\n",
      "\n",
      "Processing shard 4\n",
      "Downloading raw data:\n",
      "    Downloading metadata...\n",
      "    Done\n",
      "    Downloading pdf parses...\n",
      "    Done\n",
      "Filtering metadata:\n"
     ]
    },
    {
     "name": "stderr",
     "output_type": "stream",
     "text": [
      "100%|██████████| 1366204/1366204 [00:21<00:00, 63276.84it/s]\n"
     ]
    },
    {
     "name": "stdout",
     "output_type": "stream",
     "text": [
      "    1395 parsed papers found\n",
      "Parsing pdfs:\n"
     ]
    },
    {
     "name": "stderr",
     "output_type": "stream",
     "text": [
      "100%|██████████| 310740/310740 [00:58<00:00, 5344.83it/s]\n"
     ]
    },
    {
     "name": "stdout",
     "output_type": "stream",
     "text": [
      "Done\n",
      "\n",
      "Processing shard 5\n",
      "Downloading raw data:\n",
      "    Downloading metadata...\n",
      "    Done\n",
      "    Downloading pdf parses...\n",
      "    Done\n",
      "Filtering metadata:\n"
     ]
    },
    {
     "name": "stderr",
     "output_type": "stream",
     "text": [
      "100%|██████████| 1363977/1363977 [00:21<00:00, 63153.19it/s]\n"
     ]
    },
    {
     "name": "stdout",
     "output_type": "stream",
     "text": [
      "    1414 parsed papers found\n",
      "Parsing pdfs:\n"
     ]
    },
    {
     "name": "stderr",
     "output_type": "stream",
     "text": [
      "100%|██████████| 310006/310006 [00:57<00:00, 5405.94it/s]\n"
     ]
    },
    {
     "name": "stdout",
     "output_type": "stream",
     "text": [
      "Done\n",
      "\n",
      "Processing shard 6\n",
      "Downloading raw data:\n",
      "    Downloading metadata...\n",
      "    Done\n",
      "    Downloading pdf parses...\n",
      "    Done\n",
      "Filtering metadata:\n"
     ]
    },
    {
     "name": "stderr",
     "output_type": "stream",
     "text": [
      "100%|██████████| 1368014/1368014 [00:21<00:00, 62516.37it/s]\n"
     ]
    },
    {
     "name": "stdout",
     "output_type": "stream",
     "text": [
      "    1447 parsed papers found\n",
      "Parsing pdfs:\n"
     ]
    },
    {
     "name": "stderr",
     "output_type": "stream",
     "text": [
      "100%|██████████| 310315/310315 [00:57<00:00, 5410.85it/s]\n"
     ]
    },
    {
     "name": "stdout",
     "output_type": "stream",
     "text": [
      "Done\n",
      "\n",
      "Processing shard 7\n",
      "Downloading raw data:\n",
      "    Downloading metadata...\n",
      "    Done\n",
      "    Downloading pdf parses...\n",
      "    Done\n",
      "Filtering metadata:\n"
     ]
    },
    {
     "name": "stderr",
     "output_type": "stream",
     "text": [
      "100%|██████████| 1364573/1364573 [00:21<00:00, 62776.58it/s]\n"
     ]
    },
    {
     "name": "stdout",
     "output_type": "stream",
     "text": [
      "    1432 parsed papers found\n",
      "Parsing pdfs:\n"
     ]
    },
    {
     "name": "stderr",
     "output_type": "stream",
     "text": [
      "100%|██████████| 310670/310670 [00:57<00:00, 5419.37it/s]\n"
     ]
    },
    {
     "name": "stdout",
     "output_type": "stream",
     "text": [
      "Done\n",
      "\n",
      "Processing shard 8\n",
      "Downloading raw data:\n",
      "    Downloading metadata...\n",
      "    Done\n",
      "    Downloading pdf parses...\n",
      "    Done\n",
      "Filtering metadata:\n"
     ]
    },
    {
     "name": "stderr",
     "output_type": "stream",
     "text": [
      "100%|██████████| 1366777/1366777 [00:21<00:00, 63272.73it/s]\n"
     ]
    },
    {
     "name": "stdout",
     "output_type": "stream",
     "text": [
      "    1518 parsed papers found\n",
      "Parsing pdfs:\n"
     ]
    },
    {
     "name": "stderr",
     "output_type": "stream",
     "text": [
      "100%|██████████| 310565/310565 [00:57<00:00, 5420.49it/s]\n"
     ]
    },
    {
     "name": "stdout",
     "output_type": "stream",
     "text": [
      "Done\n",
      "\n",
      "Processing shard 9\n",
      "Downloading raw data:\n",
      "    Downloading metadata...\n",
      "    Done\n",
      "    Downloading pdf parses...\n",
      "    Done\n",
      "Filtering metadata:\n"
     ]
    },
    {
     "name": "stderr",
     "output_type": "stream",
     "text": [
      "100%|██████████| 1366421/1366421 [00:21<00:00, 63407.26it/s]\n"
     ]
    },
    {
     "name": "stdout",
     "output_type": "stream",
     "text": [
      "    1456 parsed papers found\n",
      "Parsing pdfs:\n"
     ]
    },
    {
     "name": "stderr",
     "output_type": "stream",
     "text": [
      "100%|██████████| 310581/310581 [00:57<00:00, 5414.24it/s]\n"
     ]
    },
    {
     "name": "stdout",
     "output_type": "stream",
     "text": [
      "Done\n",
      "\n",
      "Processing shard 9\n",
      "Downloading raw data:\n",
      "    Downloading metadata...\n",
      "    Done\n",
      "    Downloading pdf parses...\n",
      "    Done\n",
      "Filtering metadata:\n"
     ]
    },
    {
     "name": "stderr",
     "output_type": "stream",
     "text": [
      "100%|██████████| 1366131/1366131 [00:21<00:00, 62956.23it/s]\n"
     ]
    },
    {
     "name": "stdout",
     "output_type": "stream",
     "text": [
      "    1450 parsed papers found\n",
      "Parsing pdfs:\n"
     ]
    },
    {
     "name": "stderr",
     "output_type": "stream",
     "text": [
      "100%|██████████| 310297/310297 [00:57<00:00, 5412.33it/s]\n"
     ]
    },
    {
     "name": "stdout",
     "output_type": "stream",
     "text": [
      "Done\n",
      "\n",
      "Processing shard 0\n",
      "Downloading raw data:\n",
      "    Downloading metadata...\n",
      "    Done\n",
      "    Downloading pdf parses...\n",
      "    Done\n",
      "Filtering metadata:\n"
     ]
    },
    {
     "name": "stderr",
     "output_type": "stream",
     "text": [
      "100%|██████████| 1365306/1365306 [00:22<00:00, 61818.70it/s]\n"
     ]
    },
    {
     "name": "stdout",
     "output_type": "stream",
     "text": [
      "    1410 parsed papers found\n",
      "Parsing pdfs:\n"
     ]
    },
    {
     "name": "stderr",
     "output_type": "stream",
     "text": [
      "100%|██████████| 310532/310532 [00:57<00:00, 5364.51it/s]\n"
     ]
    },
    {
     "name": "stdout",
     "output_type": "stream",
     "text": [
      "Done\n",
      "\n",
      "Processing shard 1\n",
      "Downloading raw data:\n",
      "    Downloading metadata...\n",
      "    Done\n",
      "    Downloading pdf parses...\n",
      "    Done\n",
      "Filtering metadata:\n"
     ]
    },
    {
     "name": "stderr",
     "output_type": "stream",
     "text": [
      "100%|██████████| 1365782/1365782 [00:21<00:00, 62936.59it/s]\n"
     ]
    },
    {
     "name": "stdout",
     "output_type": "stream",
     "text": [
      "    1500 parsed papers found\n",
      "Parsing pdfs:\n"
     ]
    },
    {
     "name": "stderr",
     "output_type": "stream",
     "text": [
      "100%|██████████| 309868/309868 [00:57<00:00, 5377.34it/s]\n"
     ]
    },
    {
     "name": "stdout",
     "output_type": "stream",
     "text": [
      "Done\n",
      "\n",
      "Processing shard 2\n",
      "Downloading raw data:\n",
      "    Downloading metadata...\n",
      "    Done\n",
      "    Downloading pdf parses...\n",
      "    Done\n",
      "Filtering metadata:\n"
     ]
    },
    {
     "name": "stderr",
     "output_type": "stream",
     "text": [
      "100%|██████████| 1367685/1367685 [00:21<00:00, 62850.48it/s]\n"
     ]
    },
    {
     "name": "stdout",
     "output_type": "stream",
     "text": [
      "    1417 parsed papers found\n",
      "Parsing pdfs:\n"
     ]
    },
    {
     "name": "stderr",
     "output_type": "stream",
     "text": [
      "100%|██████████| 310975/310975 [00:57<00:00, 5381.12it/s]\n"
     ]
    },
    {
     "name": "stdout",
     "output_type": "stream",
     "text": [
      "Done\n",
      "\n",
      "Processing shard 3\n",
      "Downloading raw data:\n",
      "    Downloading metadata...\n",
      "    Done\n",
      "    Downloading pdf parses...\n",
      "    Done\n",
      "Filtering metadata:\n"
     ]
    },
    {
     "name": "stderr",
     "output_type": "stream",
     "text": [
      "100%|██████████| 1365016/1365016 [00:21<00:00, 63034.78it/s]\n"
     ]
    },
    {
     "name": "stdout",
     "output_type": "stream",
     "text": [
      "    1486 parsed papers found\n",
      "Parsing pdfs:\n"
     ]
    },
    {
     "name": "stderr",
     "output_type": "stream",
     "text": [
      "100%|██████████| 309525/309525 [00:57<00:00, 5388.08it/s]\n"
     ]
    },
    {
     "name": "stdout",
     "output_type": "stream",
     "text": [
      "Done\n",
      "\n",
      "Processing shard 4\n",
      "Downloading raw data:\n",
      "    Downloading metadata...\n",
      "    Done\n",
      "    Downloading pdf parses...\n",
      "    Done\n",
      "Filtering metadata:\n"
     ]
    },
    {
     "name": "stderr",
     "output_type": "stream",
     "text": [
      "100%|██████████| 1366596/1366596 [00:21<00:00, 62873.86it/s]\n"
     ]
    },
    {
     "name": "stdout",
     "output_type": "stream",
     "text": [
      "    1436 parsed papers found\n",
      "Parsing pdfs:\n"
     ]
    },
    {
     "name": "stderr",
     "output_type": "stream",
     "text": [
      "100%|██████████| 310024/310024 [00:57<00:00, 5374.24it/s]\n"
     ]
    },
    {
     "name": "stdout",
     "output_type": "stream",
     "text": [
      "Done\n",
      "\n",
      "Processing shard 5\n",
      "Downloading raw data:\n",
      "    Downloading metadata...\n",
      "    Done\n",
      "    Downloading pdf parses...\n",
      "    Done\n",
      "Filtering metadata:\n"
     ]
    },
    {
     "name": "stderr",
     "output_type": "stream",
     "text": [
      "100%|██████████| 1369090/1369090 [00:21<00:00, 62822.60it/s]\n"
     ]
    },
    {
     "name": "stdout",
     "output_type": "stream",
     "text": [
      "    1413 parsed papers found\n",
      "Parsing pdfs:\n"
     ]
    },
    {
     "name": "stderr",
     "output_type": "stream",
     "text": [
      "100%|██████████| 311381/311381 [00:57<00:00, 5408.94it/s]\n"
     ]
    },
    {
     "name": "stdout",
     "output_type": "stream",
     "text": [
      "Done\n",
      "\n",
      "Processing shard 6\n",
      "Downloading raw data:\n",
      "    Downloading metadata...\n",
      "    Done\n",
      "    Downloading pdf parses...\n",
      "    Done\n",
      "Filtering metadata:\n"
     ]
    },
    {
     "name": "stderr",
     "output_type": "stream",
     "text": [
      "100%|██████████| 1366006/1366006 [00:21<00:00, 62771.86it/s]\n"
     ]
    },
    {
     "name": "stdout",
     "output_type": "stream",
     "text": [
      "    1415 parsed papers found\n",
      "Parsing pdfs:\n"
     ]
    },
    {
     "name": "stderr",
     "output_type": "stream",
     "text": [
      "100%|██████████| 310298/310298 [00:57<00:00, 5436.36it/s]\n"
     ]
    },
    {
     "name": "stdout",
     "output_type": "stream",
     "text": [
      "Done\n",
      "\n",
      "Processing shard 7\n",
      "Downloading raw data:\n",
      "    Downloading metadata...\n",
      "    Done\n",
      "    Downloading pdf parses...\n",
      "    Done\n",
      "Filtering metadata:\n"
     ]
    },
    {
     "name": "stderr",
     "output_type": "stream",
     "text": [
      "100%|██████████| 1364969/1364969 [00:21<00:00, 63571.43it/s]\n"
     ]
    },
    {
     "name": "stdout",
     "output_type": "stream",
     "text": [
      "    1418 parsed papers found\n",
      "Parsing pdfs:\n"
     ]
    },
    {
     "name": "stderr",
     "output_type": "stream",
     "text": [
      "100%|██████████| 309381/309381 [00:57<00:00, 5399.49it/s]\n"
     ]
    },
    {
     "name": "stdout",
     "output_type": "stream",
     "text": [
      "Done\n",
      "\n",
      "Processing shard 8\n",
      "Downloading raw data:\n",
      "    Downloading metadata...\n",
      "    Done\n",
      "    Downloading pdf parses...\n",
      "    Done\n",
      "Filtering metadata:\n"
     ]
    },
    {
     "name": "stderr",
     "output_type": "stream",
     "text": [
      "100%|██████████| 1367399/1367399 [00:21<00:00, 62845.80it/s]\n"
     ]
    },
    {
     "name": "stdout",
     "output_type": "stream",
     "text": [
      "    1430 parsed papers found\n",
      "Parsing pdfs:\n"
     ]
    },
    {
     "name": "stderr",
     "output_type": "stream",
     "text": [
      "100%|██████████| 310827/310827 [00:57<00:00, 5429.43it/s]\n"
     ]
    },
    {
     "name": "stdout",
     "output_type": "stream",
     "text": [
      "Done\n",
      "\n",
      "Processing shard 9\n",
      "Downloading raw data:\n",
      "    Downloading metadata...\n",
      "    Done\n",
      "    Downloading pdf parses...\n",
      "    Done\n",
      "Filtering metadata:\n"
     ]
    },
    {
     "name": "stderr",
     "output_type": "stream",
     "text": [
      "100%|██████████| 1367311/1367311 [00:21<00:00, 62922.92it/s]\n"
     ]
    },
    {
     "name": "stdout",
     "output_type": "stream",
     "text": [
      "    1462 parsed papers found\n",
      "Parsing pdfs:\n"
     ]
    },
    {
     "name": "stderr",
     "output_type": "stream",
     "text": [
      "100%|██████████| 311466/311466 [00:57<00:00, 5378.88it/s]\n"
     ]
    },
    {
     "name": "stdout",
     "output_type": "stream",
     "text": [
      "Done\n"
     ]
    }
   ],
   "source": [
    "# Full dataset\n",
    "download = DownloadBatch(data_url[80:]) # For test, use data_url to get full dataset\n",
    "download(cleanup=True)"
   ]
  }
 ],
 "metadata": {
  "kernelspec": {
   "display_name": "Python 3 (ipykernel)",
   "language": "python",
   "name": "python3"
  },
  "language_info": {
   "codemirror_mode": {
    "name": "ipython",
    "version": 3
   },
   "file_extension": ".py",
   "mimetype": "text/x-python",
   "name": "python",
   "nbconvert_exporter": "python",
   "pygments_lexer": "ipython3",
   "version": "3.8.11"
  }
 },
 "nbformat": 4,
 "nbformat_minor": 5
}
